{
 "cells": [
  {
   "cell_type": "code",
   "execution_count": 1,
   "metadata": {
    "_cell_guid": "b1076dfc-b9ad-4769-8c92-a6c4dae69d19",
    "_uuid": "8f2839f25d086af736a60e9eeb907d3b93b6e0e5",
    "execution": {
     "iopub.execute_input": "2020-12-10T16:16:40.484541Z",
     "iopub.status.busy": "2020-12-10T16:16:40.483650Z",
     "iopub.status.idle": "2020-12-10T16:16:41.867846Z",
     "shell.execute_reply": "2020-12-10T16:16:41.867076Z"
    },
    "papermill": {
     "duration": 1.422436,
     "end_time": "2020-12-10T16:16:41.867992",
     "exception": false,
     "start_time": "2020-12-10T16:16:40.445556",
     "status": "completed"
    },
    "tags": []
   },
   "outputs": [
    {
     "data": {
      "text/html": [
       "        <script type=\"text/javascript\">\n",
       "        window.PlotlyConfig = {MathJaxConfig: 'local'};\n",
       "        if (window.MathJax) {MathJax.Hub.Config({SVG: {font: \"STIX-Web\"}});}\n",
       "        if (typeof require !== 'undefined') {\n",
       "        require.undef(\"plotly\");\n",
       "        requirejs.config({\n",
       "            paths: {\n",
       "                'plotly': ['https://cdn.plot.ly/plotly-latest.min']\n",
       "            }\n",
       "        });\n",
       "        require(['plotly'], function(Plotly) {\n",
       "            window._Plotly = Plotly;\n",
       "        });\n",
       "        }\n",
       "        </script>\n",
       "        "
      ]
     },
     "metadata": {},
     "output_type": "display_data"
    },
    {
     "name": "stdout",
     "output_type": "stream",
     "text": [
      "/kaggle/input/countries-of-the-world/countries of the world.csv\n"
     ]
    }
   ],
   "source": [
    "# This Python 3 environment comes with many helpful analytics libraries installed\n",
    "# It is defined by the kaggle/python Docker image: https://github.com/kaggle/docker-python\n",
    "# For example, here's several helpful packages to load\n",
    "\n",
    "import numpy as np # linear algebra\n",
    "import pandas as pd # data processing, CSV file I/O (e.g. pd.read_csv)\n",
    "\n",
    "# Input data files are available in the read-only \"../input/\" directory\n",
    "# For example, running this (by clicking run or pressing Shift+Enter) will list all files under the input directory\n",
    "\n",
    "import plotly as py\n",
    "from plotly.offline import init_notebook_mode, iplot\n",
    "init_notebook_mode(connected=True)\n",
    "import plotly.graph_objs as go\n",
    "import plotly.express as px\n",
    "# word cloud library\n",
    "from wordcloud import WordCloud\n",
    "\n",
    "# matplotlib\n",
    "import matplotlib.pyplot as plt\n",
    "\n",
    "import os\n",
    "for dirname, _, filenames in os.walk('/kaggle/input'):\n",
    "    for filename in filenames:\n",
    "        print(os.path.join(dirname, filename))\n",
    "\n",
    "# You can write up to 5GB to the current directory (/kaggle/working/) that gets preserved as output when you create a version using \"Save & Run All\" \n",
    "# You can also write temporary files to /kaggle/temp/, but they won't be saved outside of the current session"
   ]
  },
  {
   "cell_type": "code",
   "execution_count": 2,
   "metadata": {
    "_cell_guid": "79c7e3d0-c299-4dcb-8224-4455121ee9b0",
    "_uuid": "d629ff2d2480ee46fbb7e2d37f6b5fab8052498a",
    "execution": {
     "iopub.execute_input": "2020-12-10T16:16:41.927128Z",
     "iopub.status.busy": "2020-12-10T16:16:41.926377Z",
     "iopub.status.idle": "2020-12-10T16:16:41.958064Z",
     "shell.execute_reply": "2020-12-10T16:16:41.958765Z"
    },
    "papermill": {
     "duration": 0.064321,
     "end_time": "2020-12-10T16:16:41.958933",
     "exception": false,
     "start_time": "2020-12-10T16:16:41.894612",
     "status": "completed"
    },
    "tags": []
   },
   "outputs": [],
   "source": [
    "dataCountries=pd.read_csv('../input/countries-of-the-world/countries of the world.csv')"
   ]
  },
  {
   "cell_type": "code",
   "execution_count": 3,
   "metadata": {
    "execution": {
     "iopub.execute_input": "2020-12-10T16:16:42.037216Z",
     "iopub.status.busy": "2020-12-10T16:16:42.019183Z",
     "iopub.status.idle": "2020-12-10T16:16:42.056894Z",
     "shell.execute_reply": "2020-12-10T16:16:42.056088Z"
    },
    "papermill": {
     "duration": 0.071764,
     "end_time": "2020-12-10T16:16:42.057030",
     "exception": false,
     "start_time": "2020-12-10T16:16:41.985266",
     "status": "completed"
    },
    "tags": []
   },
   "outputs": [
    {
     "data": {
      "text/html": [
       "<div>\n",
       "<style scoped>\n",
       "    .dataframe tbody tr th:only-of-type {\n",
       "        vertical-align: middle;\n",
       "    }\n",
       "\n",
       "    .dataframe tbody tr th {\n",
       "        vertical-align: top;\n",
       "    }\n",
       "\n",
       "    .dataframe thead th {\n",
       "        text-align: right;\n",
       "    }\n",
       "</style>\n",
       "<table border=\"1\" class=\"dataframe\">\n",
       "  <thead>\n",
       "    <tr style=\"text-align: right;\">\n",
       "      <th></th>\n",
       "      <th>Country</th>\n",
       "      <th>Region</th>\n",
       "      <th>Population</th>\n",
       "      <th>Area (sq. mi.)</th>\n",
       "      <th>Pop. Density (per sq. mi.)</th>\n",
       "      <th>Coastline (coast/area ratio)</th>\n",
       "      <th>Net migration</th>\n",
       "      <th>Infant mortality (per 1000 births)</th>\n",
       "      <th>GDP ($ per capita)</th>\n",
       "      <th>Literacy (%)</th>\n",
       "      <th>Phones (per 1000)</th>\n",
       "      <th>Arable (%)</th>\n",
       "      <th>Crops (%)</th>\n",
       "      <th>Other (%)</th>\n",
       "      <th>Climate</th>\n",
       "      <th>Birthrate</th>\n",
       "      <th>Deathrate</th>\n",
       "      <th>Agriculture</th>\n",
       "      <th>Industry</th>\n",
       "      <th>Service</th>\n",
       "    </tr>\n",
       "  </thead>\n",
       "  <tbody>\n",
       "    <tr>\n",
       "      <th>0</th>\n",
       "      <td>Afghanistan</td>\n",
       "      <td>ASIA (EX. NEAR EAST)</td>\n",
       "      <td>31056997</td>\n",
       "      <td>647500</td>\n",
       "      <td>48,0</td>\n",
       "      <td>0,00</td>\n",
       "      <td>23,06</td>\n",
       "      <td>163,07</td>\n",
       "      <td>700.0</td>\n",
       "      <td>36,0</td>\n",
       "      <td>3,2</td>\n",
       "      <td>12,13</td>\n",
       "      <td>0,22</td>\n",
       "      <td>87,65</td>\n",
       "      <td>1</td>\n",
       "      <td>46,6</td>\n",
       "      <td>20,34</td>\n",
       "      <td>0,38</td>\n",
       "      <td>0,24</td>\n",
       "      <td>0,38</td>\n",
       "    </tr>\n",
       "    <tr>\n",
       "      <th>1</th>\n",
       "      <td>Albania</td>\n",
       "      <td>EASTERN EUROPE</td>\n",
       "      <td>3581655</td>\n",
       "      <td>28748</td>\n",
       "      <td>124,6</td>\n",
       "      <td>1,26</td>\n",
       "      <td>-4,93</td>\n",
       "      <td>21,52</td>\n",
       "      <td>4500.0</td>\n",
       "      <td>86,5</td>\n",
       "      <td>71,2</td>\n",
       "      <td>21,09</td>\n",
       "      <td>4,42</td>\n",
       "      <td>74,49</td>\n",
       "      <td>3</td>\n",
       "      <td>15,11</td>\n",
       "      <td>5,22</td>\n",
       "      <td>0,232</td>\n",
       "      <td>0,188</td>\n",
       "      <td>0,579</td>\n",
       "    </tr>\n",
       "    <tr>\n",
       "      <th>2</th>\n",
       "      <td>Algeria</td>\n",
       "      <td>NORTHERN AFRICA</td>\n",
       "      <td>32930091</td>\n",
       "      <td>2381740</td>\n",
       "      <td>13,8</td>\n",
       "      <td>0,04</td>\n",
       "      <td>-0,39</td>\n",
       "      <td>31</td>\n",
       "      <td>6000.0</td>\n",
       "      <td>70,0</td>\n",
       "      <td>78,1</td>\n",
       "      <td>3,22</td>\n",
       "      <td>0,25</td>\n",
       "      <td>96,53</td>\n",
       "      <td>1</td>\n",
       "      <td>17,14</td>\n",
       "      <td>4,61</td>\n",
       "      <td>0,101</td>\n",
       "      <td>0,6</td>\n",
       "      <td>0,298</td>\n",
       "    </tr>\n",
       "    <tr>\n",
       "      <th>3</th>\n",
       "      <td>American Samoa</td>\n",
       "      <td>OCEANIA</td>\n",
       "      <td>57794</td>\n",
       "      <td>199</td>\n",
       "      <td>290,4</td>\n",
       "      <td>58,29</td>\n",
       "      <td>-20,71</td>\n",
       "      <td>9,27</td>\n",
       "      <td>8000.0</td>\n",
       "      <td>97,0</td>\n",
       "      <td>259,5</td>\n",
       "      <td>10</td>\n",
       "      <td>15</td>\n",
       "      <td>75</td>\n",
       "      <td>2</td>\n",
       "      <td>22,46</td>\n",
       "      <td>3,27</td>\n",
       "      <td>NaN</td>\n",
       "      <td>NaN</td>\n",
       "      <td>NaN</td>\n",
       "    </tr>\n",
       "    <tr>\n",
       "      <th>4</th>\n",
       "      <td>Andorra</td>\n",
       "      <td>WESTERN EUROPE</td>\n",
       "      <td>71201</td>\n",
       "      <td>468</td>\n",
       "      <td>152,1</td>\n",
       "      <td>0,00</td>\n",
       "      <td>6,6</td>\n",
       "      <td>4,05</td>\n",
       "      <td>19000.0</td>\n",
       "      <td>100,0</td>\n",
       "      <td>497,2</td>\n",
       "      <td>2,22</td>\n",
       "      <td>0</td>\n",
       "      <td>97,78</td>\n",
       "      <td>3</td>\n",
       "      <td>8,71</td>\n",
       "      <td>6,25</td>\n",
       "      <td>NaN</td>\n",
       "      <td>NaN</td>\n",
       "      <td>NaN</td>\n",
       "    </tr>\n",
       "  </tbody>\n",
       "</table>\n",
       "</div>"
      ],
      "text/plain": [
       "           Country                               Region  Population  \\\n",
       "0     Afghanistan         ASIA (EX. NEAR EAST)             31056997   \n",
       "1         Albania   EASTERN EUROPE                          3581655   \n",
       "2         Algeria   NORTHERN AFRICA                        32930091   \n",
       "3  American Samoa   OCEANIA                                   57794   \n",
       "4         Andorra   WESTERN EUROPE                            71201   \n",
       "\n",
       "   Area (sq. mi.) Pop. Density (per sq. mi.) Coastline (coast/area ratio)  \\\n",
       "0          647500                       48,0                         0,00   \n",
       "1           28748                      124,6                         1,26   \n",
       "2         2381740                       13,8                         0,04   \n",
       "3             199                      290,4                        58,29   \n",
       "4             468                      152,1                         0,00   \n",
       "\n",
       "  Net migration Infant mortality (per 1000 births)  GDP ($ per capita)  \\\n",
       "0         23,06                             163,07               700.0   \n",
       "1         -4,93                              21,52              4500.0   \n",
       "2         -0,39                                 31              6000.0   \n",
       "3        -20,71                               9,27              8000.0   \n",
       "4           6,6                               4,05             19000.0   \n",
       "\n",
       "  Literacy (%) Phones (per 1000) Arable (%) Crops (%) Other (%) Climate  \\\n",
       "0         36,0               3,2      12,13      0,22     87,65       1   \n",
       "1         86,5              71,2      21,09      4,42     74,49       3   \n",
       "2         70,0              78,1       3,22      0,25     96,53       1   \n",
       "3         97,0             259,5         10        15        75       2   \n",
       "4        100,0             497,2       2,22         0     97,78       3   \n",
       "\n",
       "  Birthrate Deathrate Agriculture Industry Service  \n",
       "0      46,6     20,34        0,38     0,24    0,38  \n",
       "1     15,11      5,22       0,232    0,188   0,579  \n",
       "2     17,14      4,61       0,101      0,6   0,298  \n",
       "3     22,46      3,27         NaN      NaN     NaN  \n",
       "4      8,71      6,25         NaN      NaN     NaN  "
      ]
     },
     "execution_count": 3,
     "metadata": {},
     "output_type": "execute_result"
    }
   ],
   "source": [
    "dataCountries.head()"
   ]
  },
  {
   "cell_type": "code",
   "execution_count": 4,
   "metadata": {
    "execution": {
     "iopub.execute_input": "2020-12-10T16:16:42.131136Z",
     "iopub.status.busy": "2020-12-10T16:16:42.119798Z",
     "iopub.status.idle": "2020-12-10T16:16:42.137353Z",
     "shell.execute_reply": "2020-12-10T16:16:42.136380Z"
    },
    "papermill": {
     "duration": 0.054445,
     "end_time": "2020-12-10T16:16:42.137547",
     "exception": false,
     "start_time": "2020-12-10T16:16:42.083102",
     "status": "completed"
    },
    "tags": []
   },
   "outputs": [
    {
     "name": "stdout",
     "output_type": "stream",
     "text": [
      "<class 'pandas.core.frame.DataFrame'>\n",
      "RangeIndex: 227 entries, 0 to 226\n",
      "Data columns (total 20 columns):\n",
      " #   Column                              Non-Null Count  Dtype  \n",
      "---  ------                              --------------  -----  \n",
      " 0   Country                             227 non-null    object \n",
      " 1   Region                              227 non-null    object \n",
      " 2   Population                          227 non-null    int64  \n",
      " 3   Area (sq. mi.)                      227 non-null    int64  \n",
      " 4   Pop. Density (per sq. mi.)          227 non-null    object \n",
      " 5   Coastline (coast/area ratio)        227 non-null    object \n",
      " 6   Net migration                       224 non-null    object \n",
      " 7   Infant mortality (per 1000 births)  224 non-null    object \n",
      " 8   GDP ($ per capita)                  226 non-null    float64\n",
      " 9   Literacy (%)                        209 non-null    object \n",
      " 10  Phones (per 1000)                   223 non-null    object \n",
      " 11  Arable (%)                          225 non-null    object \n",
      " 12  Crops (%)                           225 non-null    object \n",
      " 13  Other (%)                           225 non-null    object \n",
      " 14  Climate                             205 non-null    object \n",
      " 15  Birthrate                           224 non-null    object \n",
      " 16  Deathrate                           223 non-null    object \n",
      " 17  Agriculture                         212 non-null    object \n",
      " 18  Industry                            211 non-null    object \n",
      " 19  Service                             212 non-null    object \n",
      "dtypes: float64(1), int64(2), object(17)\n",
      "memory usage: 35.6+ KB\n"
     ]
    }
   ],
   "source": [
    "dataCountries.info()"
   ]
  },
  {
   "cell_type": "markdown",
   "metadata": {
    "papermill": {
     "duration": 0.027423,
     "end_time": "2020-12-10T16:16:42.192348",
     "exception": false,
     "start_time": "2020-12-10T16:16:42.164925",
     "status": "completed"
    },
    "tags": []
   },
   "source": [
    "# Introduce\n",
    "\n",
    "\n",
    "**The following data were visualized with this study:**\n",
    "\n",
    "1-) Population by Regions\n",
    "\n",
    "2-) Population Density by Regions\n",
    "\n",
    "3-) Distribution of World Population by Regions\n",
    "\n",
    "4-) Population by Country\n",
    "\n",
    "5-) Top 10 Countries with the Most Population\n",
    "\n",
    "6-) Population Density by Country\n",
    "\n",
    "7-) Infant Mortality Rates by Country\n",
    "\n",
    "8-) Top 10 Countries with Highest Infant Mortality Rates\n",
    "\n",
    "9-) Birth and Death Rates of Countries\n",
    "\n",
    "10-) Top 10 Countries with the Highest Literacy Rate\n",
    "\n",
    "11-) Sectoral Distribution by Country\n",
    "\n",
    "12-) Countries' GDP Values (USA dollar per capita) and Leading Sectors\n",
    "\n",
    "13-) Top 10 Most Arable(%) Countries"
   ]
  },
  {
   "cell_type": "markdown",
   "metadata": {
    "papermill": {
     "duration": 0.026636,
     "end_time": "2020-12-10T16:16:42.245264",
     "exception": false,
     "start_time": "2020-12-10T16:16:42.218628",
     "status": "completed"
    },
    "tags": []
   },
   "source": [
    "# Population by Regions"
   ]
  },
  {
   "cell_type": "code",
   "execution_count": 5,
   "metadata": {
    "execution": {
     "iopub.execute_input": "2020-12-10T16:16:42.311182Z",
     "iopub.status.busy": "2020-12-10T16:16:42.310393Z",
     "iopub.status.idle": "2020-12-10T16:16:42.330823Z",
     "shell.execute_reply": "2020-12-10T16:16:42.329978Z"
    },
    "papermill": {
     "duration": 0.059452,
     "end_time": "2020-12-10T16:16:42.330964",
     "exception": false,
     "start_time": "2020-12-10T16:16:42.271512",
     "status": "completed"
    },
    "tags": []
   },
   "outputs": [],
   "source": [
    "regions=dataCountries.Region.unique()\n",
    "dataCountries['Pop. Density (per sq. mi.)']=([float(each.replace(',','.')) for each in dataCountries['Pop. Density (per sq. mi.)']])\n",
    "population=[]\n",
    "pop_density=[]\n",
    "for i in regions:\n",
    "    x=dataCountries[dataCountries.Region==i]\n",
    "    population.append(sum(x.Population))\n",
    "    pop_density.append(sum(x['Pop. Density (per sq. mi.)']))\n",
    "pop_reg=pd.DataFrame({\"Regions\":regions,\n",
    "                    \"Population\":population,\n",
    "                    \"PopulationDensity\":pop_density})\n",
    "pop_reg.sort_values(by=['Population'],inplace=True,ascending=False)\n"
   ]
  },
  {
   "cell_type": "code",
   "execution_count": 6,
   "metadata": {
    "execution": {
     "iopub.execute_input": "2020-12-10T16:16:42.397850Z",
     "iopub.status.busy": "2020-12-10T16:16:42.396615Z",
     "iopub.status.idle": "2020-12-10T16:16:43.529211Z",
     "shell.execute_reply": "2020-12-10T16:16:43.528480Z"
    },
    "papermill": {
     "duration": 1.171641,
     "end_time": "2020-12-10T16:16:43.529378",
     "exception": false,
     "start_time": "2020-12-10T16:16:42.357737",
     "status": "completed"
    },
    "tags": []
   },
   "outputs": [
    {
     "data": {
      "application/vnd.plotly.v1+json": {
       "config": {
        "linkText": "Export to plot.ly",
        "plotlyServerURL": "https://plot.ly",
        "showLink": false
       },
       "data": [
        {
         "marker": {
          "color": "rgba(50, 134, 55, 0.5)",
          "line": {
           "color": "rgb(0,0,0)",
           "width": 1.5
          }
         },
         "name": "Population",
         "text": [
          "ASIA (EX. NEAR EAST)         ",
          "SUB-SAHARAN AFRICA                 ",
          "LATIN AMER. & CARIB    ",
          "WESTERN EUROPE                     ",
          "NORTHERN AMERICA                   ",
          "C.W. OF IND. STATES ",
          "NEAR EAST                          ",
          "NORTHERN AFRICA                    ",
          "EASTERN EUROPE                     ",
          "OCEANIA                            ",
          "BALTICS                            "
         ],
         "type": "bar",
         "x": [
          "ASIA (EX. NEAR EAST)         ",
          "SUB-SAHARAN AFRICA                 ",
          "LATIN AMER. & CARIB    ",
          "WESTERN EUROPE                     ",
          "NORTHERN AMERICA                   ",
          "C.W. OF IND. STATES ",
          "NEAR EAST                          ",
          "NORTHERN AFRICA                    ",
          "EASTERN EUROPE                     ",
          "OCEANIA                            ",
          "BALTICS                            "
         ],
         "y": [
          3687982236,
          749437000,
          561824599,
          396339998,
          331672307,
          280081548,
          195068377,
          161407133,
          119914717,
          33131662,
          7184974
         ]
        }
       ],
       "layout": {
        "template": {
         "data": {
          "bar": [
           {
            "error_x": {
             "color": "#2a3f5f"
            },
            "error_y": {
             "color": "#2a3f5f"
            },
            "marker": {
             "line": {
              "color": "#E5ECF6",
              "width": 0.5
             }
            },
            "type": "bar"
           }
          ],
          "barpolar": [
           {
            "marker": {
             "line": {
              "color": "#E5ECF6",
              "width": 0.5
             }
            },
            "type": "barpolar"
           }
          ],
          "carpet": [
           {
            "aaxis": {
             "endlinecolor": "#2a3f5f",
             "gridcolor": "white",
             "linecolor": "white",
             "minorgridcolor": "white",
             "startlinecolor": "#2a3f5f"
            },
            "baxis": {
             "endlinecolor": "#2a3f5f",
             "gridcolor": "white",
             "linecolor": "white",
             "minorgridcolor": "white",
             "startlinecolor": "#2a3f5f"
            },
            "type": "carpet"
           }
          ],
          "choropleth": [
           {
            "colorbar": {
             "outlinewidth": 0,
             "ticks": ""
            },
            "type": "choropleth"
           }
          ],
          "contour": [
           {
            "colorbar": {
             "outlinewidth": 0,
             "ticks": ""
            },
            "colorscale": [
             [
              0.0,
              "#0d0887"
             ],
             [
              0.1111111111111111,
              "#46039f"
             ],
             [
              0.2222222222222222,
              "#7201a8"
             ],
             [
              0.3333333333333333,
              "#9c179e"
             ],
             [
              0.4444444444444444,
              "#bd3786"
             ],
             [
              0.5555555555555556,
              "#d8576b"
             ],
             [
              0.6666666666666666,
              "#ed7953"
             ],
             [
              0.7777777777777778,
              "#fb9f3a"
             ],
             [
              0.8888888888888888,
              "#fdca26"
             ],
             [
              1.0,
              "#f0f921"
             ]
            ],
            "type": "contour"
           }
          ],
          "contourcarpet": [
           {
            "colorbar": {
             "outlinewidth": 0,
             "ticks": ""
            },
            "type": "contourcarpet"
           }
          ],
          "heatmap": [
           {
            "colorbar": {
             "outlinewidth": 0,
             "ticks": ""
            },
            "colorscale": [
             [
              0.0,
              "#0d0887"
             ],
             [
              0.1111111111111111,
              "#46039f"
             ],
             [
              0.2222222222222222,
              "#7201a8"
             ],
             [
              0.3333333333333333,
              "#9c179e"
             ],
             [
              0.4444444444444444,
              "#bd3786"
             ],
             [
              0.5555555555555556,
              "#d8576b"
             ],
             [
              0.6666666666666666,
              "#ed7953"
             ],
             [
              0.7777777777777778,
              "#fb9f3a"
             ],
             [
              0.8888888888888888,
              "#fdca26"
             ],
             [
              1.0,
              "#f0f921"
             ]
            ],
            "type": "heatmap"
           }
          ],
          "heatmapgl": [
           {
            "colorbar": {
             "outlinewidth": 0,
             "ticks": ""
            },
            "colorscale": [
             [
              0.0,
              "#0d0887"
             ],
             [
              0.1111111111111111,
              "#46039f"
             ],
             [
              0.2222222222222222,
              "#7201a8"
             ],
             [
              0.3333333333333333,
              "#9c179e"
             ],
             [
              0.4444444444444444,
              "#bd3786"
             ],
             [
              0.5555555555555556,
              "#d8576b"
             ],
             [
              0.6666666666666666,
              "#ed7953"
             ],
             [
              0.7777777777777778,
              "#fb9f3a"
             ],
             [
              0.8888888888888888,
              "#fdca26"
             ],
             [
              1.0,
              "#f0f921"
             ]
            ],
            "type": "heatmapgl"
           }
          ],
          "histogram": [
           {
            "marker": {
             "colorbar": {
              "outlinewidth": 0,
              "ticks": ""
             }
            },
            "type": "histogram"
           }
          ],
          "histogram2d": [
           {
            "colorbar": {
             "outlinewidth": 0,
             "ticks": ""
            },
            "colorscale": [
             [
              0.0,
              "#0d0887"
             ],
             [
              0.1111111111111111,
              "#46039f"
             ],
             [
              0.2222222222222222,
              "#7201a8"
             ],
             [
              0.3333333333333333,
              "#9c179e"
             ],
             [
              0.4444444444444444,
              "#bd3786"
             ],
             [
              0.5555555555555556,
              "#d8576b"
             ],
             [
              0.6666666666666666,
              "#ed7953"
             ],
             [
              0.7777777777777778,
              "#fb9f3a"
             ],
             [
              0.8888888888888888,
              "#fdca26"
             ],
             [
              1.0,
              "#f0f921"
             ]
            ],
            "type": "histogram2d"
           }
          ],
          "histogram2dcontour": [
           {
            "colorbar": {
             "outlinewidth": 0,
             "ticks": ""
            },
            "colorscale": [
             [
              0.0,
              "#0d0887"
             ],
             [
              0.1111111111111111,
              "#46039f"
             ],
             [
              0.2222222222222222,
              "#7201a8"
             ],
             [
              0.3333333333333333,
              "#9c179e"
             ],
             [
              0.4444444444444444,
              "#bd3786"
             ],
             [
              0.5555555555555556,
              "#d8576b"
             ],
             [
              0.6666666666666666,
              "#ed7953"
             ],
             [
              0.7777777777777778,
              "#fb9f3a"
             ],
             [
              0.8888888888888888,
              "#fdca26"
             ],
             [
              1.0,
              "#f0f921"
             ]
            ],
            "type": "histogram2dcontour"
           }
          ],
          "mesh3d": [
           {
            "colorbar": {
             "outlinewidth": 0,
             "ticks": ""
            },
            "type": "mesh3d"
           }
          ],
          "parcoords": [
           {
            "line": {
             "colorbar": {
              "outlinewidth": 0,
              "ticks": ""
             }
            },
            "type": "parcoords"
           }
          ],
          "pie": [
           {
            "automargin": true,
            "type": "pie"
           }
          ],
          "scatter": [
           {
            "marker": {
             "colorbar": {
              "outlinewidth": 0,
              "ticks": ""
             }
            },
            "type": "scatter"
           }
          ],
          "scatter3d": [
           {
            "line": {
             "colorbar": {
              "outlinewidth": 0,
              "ticks": ""
             }
            },
            "marker": {
             "colorbar": {
              "outlinewidth": 0,
              "ticks": ""
             }
            },
            "type": "scatter3d"
           }
          ],
          "scattercarpet": [
           {
            "marker": {
             "colorbar": {
              "outlinewidth": 0,
              "ticks": ""
             }
            },
            "type": "scattercarpet"
           }
          ],
          "scattergeo": [
           {
            "marker": {
             "colorbar": {
              "outlinewidth": 0,
              "ticks": ""
             }
            },
            "type": "scattergeo"
           }
          ],
          "scattergl": [
           {
            "marker": {
             "colorbar": {
              "outlinewidth": 0,
              "ticks": ""
             }
            },
            "type": "scattergl"
           }
          ],
          "scattermapbox": [
           {
            "marker": {
             "colorbar": {
              "outlinewidth": 0,
              "ticks": ""
             }
            },
            "type": "scattermapbox"
           }
          ],
          "scatterpolar": [
           {
            "marker": {
             "colorbar": {
              "outlinewidth": 0,
              "ticks": ""
             }
            },
            "type": "scatterpolar"
           }
          ],
          "scatterpolargl": [
           {
            "marker": {
             "colorbar": {
              "outlinewidth": 0,
              "ticks": ""
             }
            },
            "type": "scatterpolargl"
           }
          ],
          "scatterternary": [
           {
            "marker": {
             "colorbar": {
              "outlinewidth": 0,
              "ticks": ""
             }
            },
            "type": "scatterternary"
           }
          ],
          "surface": [
           {
            "colorbar": {
             "outlinewidth": 0,
             "ticks": ""
            },
            "colorscale": [
             [
              0.0,
              "#0d0887"
             ],
             [
              0.1111111111111111,
              "#46039f"
             ],
             [
              0.2222222222222222,
              "#7201a8"
             ],
             [
              0.3333333333333333,
              "#9c179e"
             ],
             [
              0.4444444444444444,
              "#bd3786"
             ],
             [
              0.5555555555555556,
              "#d8576b"
             ],
             [
              0.6666666666666666,
              "#ed7953"
             ],
             [
              0.7777777777777778,
              "#fb9f3a"
             ],
             [
              0.8888888888888888,
              "#fdca26"
             ],
             [
              1.0,
              "#f0f921"
             ]
            ],
            "type": "surface"
           }
          ],
          "table": [
           {
            "cells": {
             "fill": {
              "color": "#EBF0F8"
             },
             "line": {
              "color": "white"
             }
            },
            "header": {
             "fill": {
              "color": "#C8D4E3"
             },
             "line": {
              "color": "white"
             }
            },
            "type": "table"
           }
          ]
         },
         "layout": {
          "annotationdefaults": {
           "arrowcolor": "#2a3f5f",
           "arrowhead": 0,
           "arrowwidth": 1
          },
          "coloraxis": {
           "colorbar": {
            "outlinewidth": 0,
            "ticks": ""
           }
          },
          "colorscale": {
           "diverging": [
            [
             0,
             "#8e0152"
            ],
            [
             0.1,
             "#c51b7d"
            ],
            [
             0.2,
             "#de77ae"
            ],
            [
             0.3,
             "#f1b6da"
            ],
            [
             0.4,
             "#fde0ef"
            ],
            [
             0.5,
             "#f7f7f7"
            ],
            [
             0.6,
             "#e6f5d0"
            ],
            [
             0.7,
             "#b8e186"
            ],
            [
             0.8,
             "#7fbc41"
            ],
            [
             0.9,
             "#4d9221"
            ],
            [
             1,
             "#276419"
            ]
           ],
           "sequential": [
            [
             0.0,
             "#0d0887"
            ],
            [
             0.1111111111111111,
             "#46039f"
            ],
            [
             0.2222222222222222,
             "#7201a8"
            ],
            [
             0.3333333333333333,
             "#9c179e"
            ],
            [
             0.4444444444444444,
             "#bd3786"
            ],
            [
             0.5555555555555556,
             "#d8576b"
            ],
            [
             0.6666666666666666,
             "#ed7953"
            ],
            [
             0.7777777777777778,
             "#fb9f3a"
            ],
            [
             0.8888888888888888,
             "#fdca26"
            ],
            [
             1.0,
             "#f0f921"
            ]
           ],
           "sequentialminus": [
            [
             0.0,
             "#0d0887"
            ],
            [
             0.1111111111111111,
             "#46039f"
            ],
            [
             0.2222222222222222,
             "#7201a8"
            ],
            [
             0.3333333333333333,
             "#9c179e"
            ],
            [
             0.4444444444444444,
             "#bd3786"
            ],
            [
             0.5555555555555556,
             "#d8576b"
            ],
            [
             0.6666666666666666,
             "#ed7953"
            ],
            [
             0.7777777777777778,
             "#fb9f3a"
            ],
            [
             0.8888888888888888,
             "#fdca26"
            ],
            [
             1.0,
             "#f0f921"
            ]
           ]
          },
          "colorway": [
           "#636efa",
           "#EF553B",
           "#00cc96",
           "#ab63fa",
           "#FFA15A",
           "#19d3f3",
           "#FF6692",
           "#B6E880",
           "#FF97FF",
           "#FECB52"
          ],
          "font": {
           "color": "#2a3f5f"
          },
          "geo": {
           "bgcolor": "white",
           "lakecolor": "white",
           "landcolor": "#E5ECF6",
           "showlakes": true,
           "showland": true,
           "subunitcolor": "white"
          },
          "hoverlabel": {
           "align": "left"
          },
          "hovermode": "closest",
          "mapbox": {
           "style": "light"
          },
          "paper_bgcolor": "white",
          "plot_bgcolor": "#E5ECF6",
          "polar": {
           "angularaxis": {
            "gridcolor": "white",
            "linecolor": "white",
            "ticks": ""
           },
           "bgcolor": "#E5ECF6",
           "radialaxis": {
            "gridcolor": "white",
            "linecolor": "white",
            "ticks": ""
           }
          },
          "scene": {
           "xaxis": {
            "backgroundcolor": "#E5ECF6",
            "gridcolor": "white",
            "gridwidth": 2,
            "linecolor": "white",
            "showbackground": true,
            "ticks": "",
            "zerolinecolor": "white"
           },
           "yaxis": {
            "backgroundcolor": "#E5ECF6",
            "gridcolor": "white",
            "gridwidth": 2,
            "linecolor": "white",
            "showbackground": true,
            "ticks": "",
            "zerolinecolor": "white"
           },
           "zaxis": {
            "backgroundcolor": "#E5ECF6",
            "gridcolor": "white",
            "gridwidth": 2,
            "linecolor": "white",
            "showbackground": true,
            "ticks": "",
            "zerolinecolor": "white"
           }
          },
          "shapedefaults": {
           "line": {
            "color": "#2a3f5f"
           }
          },
          "ternary": {
           "aaxis": {
            "gridcolor": "white",
            "linecolor": "white",
            "ticks": ""
           },
           "baxis": {
            "gridcolor": "white",
            "linecolor": "white",
            "ticks": ""
           },
           "bgcolor": "#E5ECF6",
           "caxis": {
            "gridcolor": "white",
            "linecolor": "white",
            "ticks": ""
           }
          },
          "title": {
           "x": 0.05
          },
          "xaxis": {
           "automargin": true,
           "gridcolor": "white",
           "linecolor": "white",
           "ticks": "",
           "title": {
            "standoff": 15
           },
           "zerolinecolor": "white",
           "zerolinewidth": 2
          },
          "yaxis": {
           "automargin": true,
           "gridcolor": "white",
           "linecolor": "white",
           "ticks": "",
           "title": {
            "standoff": 15
           },
           "zerolinecolor": "white",
           "zerolinewidth": 2
          }
         }
        },
        "title": {
         "text": "Population by Regions"
        }
       }
      },
      "text/html": [
       "<div>\n",
       "        \n",
       "        \n",
       "            <div id=\"cfa9cf85-dc60-4764-a395-0d32cf6f4b2b\" class=\"plotly-graph-div\" style=\"height:525px; width:100%;\"></div>\n",
       "            <script type=\"text/javascript\">\n",
       "                require([\"plotly\"], function(Plotly) {\n",
       "                    window.PLOTLYENV=window.PLOTLYENV || {};\n",
       "                    \n",
       "                if (document.getElementById(\"cfa9cf85-dc60-4764-a395-0d32cf6f4b2b\")) {\n",
       "                    Plotly.newPlot(\n",
       "                        'cfa9cf85-dc60-4764-a395-0d32cf6f4b2b',\n",
       "                        [{\"marker\": {\"color\": \"rgba(50, 134, 55, 0.5)\", \"line\": {\"color\": \"rgb(0,0,0)\", \"width\": 1.5}}, \"name\": \"Population\", \"text\": [\"ASIA (EX. NEAR EAST)         \", \"SUB-SAHARAN AFRICA                 \", \"LATIN AMER. & CARIB    \", \"WESTERN EUROPE                     \", \"NORTHERN AMERICA                   \", \"C.W. OF IND. STATES \", \"NEAR EAST                          \", \"NORTHERN AFRICA                    \", \"EASTERN EUROPE                     \", \"OCEANIA                            \", \"BALTICS                            \"], \"type\": \"bar\", \"x\": [\"ASIA (EX. NEAR EAST)         \", \"SUB-SAHARAN AFRICA                 \", \"LATIN AMER. & CARIB    \", \"WESTERN EUROPE                     \", \"NORTHERN AMERICA                   \", \"C.W. OF IND. STATES \", \"NEAR EAST                          \", \"NORTHERN AFRICA                    \", \"EASTERN EUROPE                     \", \"OCEANIA                            \", \"BALTICS                            \"], \"y\": [3687982236, 749437000, 561824599, 396339998, 331672307, 280081548, 195068377, 161407133, 119914717, 33131662, 7184974]}],\n",
       "                        {\"template\": {\"data\": {\"bar\": [{\"error_x\": {\"color\": \"#2a3f5f\"}, \"error_y\": {\"color\": \"#2a3f5f\"}, \"marker\": {\"line\": {\"color\": \"#E5ECF6\", \"width\": 0.5}}, \"type\": \"bar\"}], \"barpolar\": [{\"marker\": {\"line\": {\"color\": \"#E5ECF6\", \"width\": 0.5}}, \"type\": \"barpolar\"}], \"carpet\": [{\"aaxis\": {\"endlinecolor\": \"#2a3f5f\", \"gridcolor\": \"white\", \"linecolor\": \"white\", \"minorgridcolor\": \"white\", \"startlinecolor\": \"#2a3f5f\"}, \"baxis\": {\"endlinecolor\": \"#2a3f5f\", \"gridcolor\": \"white\", \"linecolor\": \"white\", \"minorgridcolor\": \"white\", \"startlinecolor\": \"#2a3f5f\"}, \"type\": \"carpet\"}], \"choropleth\": [{\"colorbar\": {\"outlinewidth\": 0, \"ticks\": \"\"}, \"type\": \"choropleth\"}], \"contour\": [{\"colorbar\": {\"outlinewidth\": 0, \"ticks\": \"\"}, \"colorscale\": [[0.0, \"#0d0887\"], [0.1111111111111111, \"#46039f\"], [0.2222222222222222, \"#7201a8\"], [0.3333333333333333, \"#9c179e\"], [0.4444444444444444, \"#bd3786\"], [0.5555555555555556, \"#d8576b\"], [0.6666666666666666, \"#ed7953\"], [0.7777777777777778, \"#fb9f3a\"], [0.8888888888888888, \"#fdca26\"], [1.0, \"#f0f921\"]], \"type\": \"contour\"}], \"contourcarpet\": [{\"colorbar\": {\"outlinewidth\": 0, \"ticks\": \"\"}, \"type\": \"contourcarpet\"}], \"heatmap\": [{\"colorbar\": {\"outlinewidth\": 0, \"ticks\": \"\"}, \"colorscale\": [[0.0, \"#0d0887\"], [0.1111111111111111, \"#46039f\"], [0.2222222222222222, \"#7201a8\"], [0.3333333333333333, \"#9c179e\"], [0.4444444444444444, \"#bd3786\"], [0.5555555555555556, \"#d8576b\"], [0.6666666666666666, \"#ed7953\"], [0.7777777777777778, \"#fb9f3a\"], [0.8888888888888888, \"#fdca26\"], [1.0, \"#f0f921\"]], \"type\": \"heatmap\"}], \"heatmapgl\": [{\"colorbar\": {\"outlinewidth\": 0, \"ticks\": \"\"}, \"colorscale\": [[0.0, \"#0d0887\"], [0.1111111111111111, \"#46039f\"], [0.2222222222222222, \"#7201a8\"], [0.3333333333333333, \"#9c179e\"], [0.4444444444444444, \"#bd3786\"], [0.5555555555555556, \"#d8576b\"], [0.6666666666666666, \"#ed7953\"], [0.7777777777777778, \"#fb9f3a\"], [0.8888888888888888, \"#fdca26\"], [1.0, \"#f0f921\"]], \"type\": \"heatmapgl\"}], \"histogram\": [{\"marker\": {\"colorbar\": {\"outlinewidth\": 0, \"ticks\": \"\"}}, \"type\": \"histogram\"}], \"histogram2d\": [{\"colorbar\": {\"outlinewidth\": 0, \"ticks\": \"\"}, \"colorscale\": [[0.0, \"#0d0887\"], [0.1111111111111111, \"#46039f\"], [0.2222222222222222, \"#7201a8\"], [0.3333333333333333, \"#9c179e\"], [0.4444444444444444, \"#bd3786\"], [0.5555555555555556, \"#d8576b\"], [0.6666666666666666, \"#ed7953\"], [0.7777777777777778, \"#fb9f3a\"], [0.8888888888888888, \"#fdca26\"], [1.0, \"#f0f921\"]], \"type\": \"histogram2d\"}], \"histogram2dcontour\": [{\"colorbar\": {\"outlinewidth\": 0, \"ticks\": \"\"}, \"colorscale\": [[0.0, \"#0d0887\"], [0.1111111111111111, \"#46039f\"], [0.2222222222222222, \"#7201a8\"], [0.3333333333333333, \"#9c179e\"], [0.4444444444444444, \"#bd3786\"], [0.5555555555555556, \"#d8576b\"], [0.6666666666666666, \"#ed7953\"], [0.7777777777777778, \"#fb9f3a\"], [0.8888888888888888, \"#fdca26\"], [1.0, \"#f0f921\"]], \"type\": \"histogram2dcontour\"}], \"mesh3d\": [{\"colorbar\": {\"outlinewidth\": 0, \"ticks\": \"\"}, \"type\": \"mesh3d\"}], \"parcoords\": [{\"line\": {\"colorbar\": {\"outlinewidth\": 0, \"ticks\": \"\"}}, \"type\": \"parcoords\"}], \"pie\": [{\"automargin\": true, \"type\": \"pie\"}], \"scatter\": [{\"marker\": {\"colorbar\": {\"outlinewidth\": 0, \"ticks\": \"\"}}, \"type\": \"scatter\"}], \"scatter3d\": [{\"line\": {\"colorbar\": {\"outlinewidth\": 0, \"ticks\": \"\"}}, \"marker\": {\"colorbar\": {\"outlinewidth\": 0, \"ticks\": \"\"}}, \"type\": \"scatter3d\"}], \"scattercarpet\": [{\"marker\": {\"colorbar\": {\"outlinewidth\": 0, \"ticks\": \"\"}}, \"type\": \"scattercarpet\"}], \"scattergeo\": [{\"marker\": {\"colorbar\": {\"outlinewidth\": 0, \"ticks\": \"\"}}, \"type\": \"scattergeo\"}], \"scattergl\": [{\"marker\": {\"colorbar\": {\"outlinewidth\": 0, \"ticks\": \"\"}}, \"type\": \"scattergl\"}], \"scattermapbox\": [{\"marker\": {\"colorbar\": {\"outlinewidth\": 0, \"ticks\": \"\"}}, \"type\": \"scattermapbox\"}], \"scatterpolar\": [{\"marker\": {\"colorbar\": {\"outlinewidth\": 0, \"ticks\": \"\"}}, \"type\": \"scatterpolar\"}], \"scatterpolargl\": [{\"marker\": {\"colorbar\": {\"outlinewidth\": 0, \"ticks\": \"\"}}, \"type\": \"scatterpolargl\"}], \"scatterternary\": [{\"marker\": {\"colorbar\": {\"outlinewidth\": 0, \"ticks\": \"\"}}, \"type\": \"scatterternary\"}], \"surface\": [{\"colorbar\": {\"outlinewidth\": 0, \"ticks\": \"\"}, \"colorscale\": [[0.0, \"#0d0887\"], [0.1111111111111111, \"#46039f\"], [0.2222222222222222, \"#7201a8\"], [0.3333333333333333, \"#9c179e\"], [0.4444444444444444, \"#bd3786\"], [0.5555555555555556, \"#d8576b\"], [0.6666666666666666, \"#ed7953\"], [0.7777777777777778, \"#fb9f3a\"], [0.8888888888888888, \"#fdca26\"], [1.0, \"#f0f921\"]], \"type\": \"surface\"}], \"table\": [{\"cells\": {\"fill\": {\"color\": \"#EBF0F8\"}, \"line\": {\"color\": \"white\"}}, \"header\": {\"fill\": {\"color\": \"#C8D4E3\"}, \"line\": {\"color\": \"white\"}}, \"type\": \"table\"}]}, \"layout\": {\"annotationdefaults\": {\"arrowcolor\": \"#2a3f5f\", \"arrowhead\": 0, \"arrowwidth\": 1}, \"coloraxis\": {\"colorbar\": {\"outlinewidth\": 0, \"ticks\": \"\"}}, \"colorscale\": {\"diverging\": [[0, \"#8e0152\"], [0.1, \"#c51b7d\"], [0.2, \"#de77ae\"], [0.3, \"#f1b6da\"], [0.4, \"#fde0ef\"], [0.5, \"#f7f7f7\"], [0.6, \"#e6f5d0\"], [0.7, \"#b8e186\"], [0.8, \"#7fbc41\"], [0.9, \"#4d9221\"], [1, \"#276419\"]], \"sequential\": [[0.0, \"#0d0887\"], [0.1111111111111111, \"#46039f\"], [0.2222222222222222, \"#7201a8\"], [0.3333333333333333, \"#9c179e\"], [0.4444444444444444, \"#bd3786\"], [0.5555555555555556, \"#d8576b\"], [0.6666666666666666, \"#ed7953\"], [0.7777777777777778, \"#fb9f3a\"], [0.8888888888888888, \"#fdca26\"], [1.0, \"#f0f921\"]], \"sequentialminus\": [[0.0, \"#0d0887\"], [0.1111111111111111, \"#46039f\"], [0.2222222222222222, \"#7201a8\"], [0.3333333333333333, \"#9c179e\"], [0.4444444444444444, \"#bd3786\"], [0.5555555555555556, \"#d8576b\"], [0.6666666666666666, \"#ed7953\"], [0.7777777777777778, \"#fb9f3a\"], [0.8888888888888888, \"#fdca26\"], [1.0, \"#f0f921\"]]}, \"colorway\": [\"#636efa\", \"#EF553B\", \"#00cc96\", \"#ab63fa\", \"#FFA15A\", \"#19d3f3\", \"#FF6692\", \"#B6E880\", \"#FF97FF\", \"#FECB52\"], \"font\": {\"color\": \"#2a3f5f\"}, \"geo\": {\"bgcolor\": \"white\", \"lakecolor\": \"white\", \"landcolor\": \"#E5ECF6\", \"showlakes\": true, \"showland\": true, \"subunitcolor\": \"white\"}, \"hoverlabel\": {\"align\": \"left\"}, \"hovermode\": \"closest\", \"mapbox\": {\"style\": \"light\"}, \"paper_bgcolor\": \"white\", \"plot_bgcolor\": \"#E5ECF6\", \"polar\": {\"angularaxis\": {\"gridcolor\": \"white\", \"linecolor\": \"white\", \"ticks\": \"\"}, \"bgcolor\": \"#E5ECF6\", \"radialaxis\": {\"gridcolor\": \"white\", \"linecolor\": \"white\", \"ticks\": \"\"}}, \"scene\": {\"xaxis\": {\"backgroundcolor\": \"#E5ECF6\", \"gridcolor\": \"white\", \"gridwidth\": 2, \"linecolor\": \"white\", \"showbackground\": true, \"ticks\": \"\", \"zerolinecolor\": \"white\"}, \"yaxis\": {\"backgroundcolor\": \"#E5ECF6\", \"gridcolor\": \"white\", \"gridwidth\": 2, \"linecolor\": \"white\", \"showbackground\": true, \"ticks\": \"\", \"zerolinecolor\": \"white\"}, \"zaxis\": {\"backgroundcolor\": \"#E5ECF6\", \"gridcolor\": \"white\", \"gridwidth\": 2, \"linecolor\": \"white\", \"showbackground\": true, \"ticks\": \"\", \"zerolinecolor\": \"white\"}}, \"shapedefaults\": {\"line\": {\"color\": \"#2a3f5f\"}}, \"ternary\": {\"aaxis\": {\"gridcolor\": \"white\", \"linecolor\": \"white\", \"ticks\": \"\"}, \"baxis\": {\"gridcolor\": \"white\", \"linecolor\": \"white\", \"ticks\": \"\"}, \"bgcolor\": \"#E5ECF6\", \"caxis\": {\"gridcolor\": \"white\", \"linecolor\": \"white\", \"ticks\": \"\"}}, \"title\": {\"x\": 0.05}, \"xaxis\": {\"automargin\": true, \"gridcolor\": \"white\", \"linecolor\": \"white\", \"ticks\": \"\", \"title\": {\"standoff\": 15}, \"zerolinecolor\": \"white\", \"zerolinewidth\": 2}, \"yaxis\": {\"automargin\": true, \"gridcolor\": \"white\", \"linecolor\": \"white\", \"ticks\": \"\", \"title\": {\"standoff\": 15}, \"zerolinecolor\": \"white\", \"zerolinewidth\": 2}}}, \"title\": {\"text\": \"Population by Regions\"}},\n",
       "                        {\"responsive\": true}\n",
       "                    ).then(function(){\n",
       "                            \n",
       "var gd = document.getElementById('cfa9cf85-dc60-4764-a395-0d32cf6f4b2b');\n",
       "var x = new MutationObserver(function (mutations, observer) {{\n",
       "        var display = window.getComputedStyle(gd).display;\n",
       "        if (!display || display === 'none') {{\n",
       "            console.log([gd, 'removed!']);\n",
       "            Plotly.purge(gd);\n",
       "            observer.disconnect();\n",
       "        }}\n",
       "}});\n",
       "\n",
       "// Listen for the removal of the full notebook cells\n",
       "var notebookContainer = gd.closest('#notebook-container');\n",
       "if (notebookContainer) {{\n",
       "    x.observe(notebookContainer, {childList: true});\n",
       "}}\n",
       "\n",
       "// Listen for the clearing of the current output cell\n",
       "var outputEl = gd.closest('.output');\n",
       "if (outputEl) {{\n",
       "    x.observe(outputEl, {childList: true});\n",
       "}}\n",
       "\n",
       "                        })\n",
       "                };\n",
       "                });\n",
       "            </script>\n",
       "        </div>"
      ]
     },
     "metadata": {},
     "output_type": "display_data"
    }
   ],
   "source": [
    "population_bar=go.Bar(x=pop_reg.Regions,\n",
    "                      y=pop_reg.Population,\n",
    "                     name=\"Population\",\n",
    "                     marker = dict(color = 'rgba(50, 134, 55, 0.5)',\n",
    "                     line=dict(color='rgb(0,0,0)',width=1.5)),\n",
    "                     text=pop_reg.Regions,\n",
    "                     )\n",
    "layout=go.Layout(title='Population by Regions',)\n",
    "fig=go.Figure(data=population_bar,layout=layout)\n",
    "iplot(fig)"
   ]
  },
  {
   "cell_type": "markdown",
   "metadata": {
    "papermill": {
     "duration": 0.035494,
     "end_time": "2020-12-10T16:16:43.600932",
     "exception": false,
     "start_time": "2020-12-10T16:16:43.565438",
     "status": "completed"
    },
    "tags": []
   },
   "source": [
    "# Population Density by Regions"
   ]
  },
  {
   "cell_type": "code",
   "execution_count": 7,
   "metadata": {
    "execution": {
     "iopub.execute_input": "2020-12-10T16:16:43.725553Z",
     "iopub.status.busy": "2020-12-10T16:16:43.724372Z",
     "iopub.status.idle": "2020-12-10T16:16:43.736141Z",
     "shell.execute_reply": "2020-12-10T16:16:43.735369Z"
    },
    "papermill": {
     "duration": 0.100011,
     "end_time": "2020-12-10T16:16:43.736276",
     "exception": false,
     "start_time": "2020-12-10T16:16:43.636265",
     "status": "completed"
    },
    "tags": []
   },
   "outputs": [
    {
     "data": {
      "application/vnd.plotly.v1+json": {
       "config": {
        "linkText": "Export to plot.ly",
        "plotlyServerURL": "https://plot.ly",
        "showLink": false
       },
       "data": [
        {
         "marker": {
          "color": "rgba(50, 134, 55, 0.5)",
          "line": {
           "color": "rgb(0,0,0)",
           "width": 1.5
          }
         },
         "name": "Population Density",
         "text": [
          "ASIA (EX. NEAR EAST)         ",
          "WESTERN EUROPE                     ",
          "NEAR EAST                          ",
          "LATIN AMER. & CARIB    ",
          "SUB-SAHARAN AFRICA                 ",
          "OCEANIA                            ",
          "NORTHERN AMERICA                   ",
          "EASTERN EUROPE                     ",
          "C.W. OF IND. STATES ",
          "NORTHERN AFRICA                    ",
          "BALTICS                            "
         ],
         "type": "bar",
         "x": [
          "ASIA (EX. NEAR EAST)         ",
          "WESTERN EUROPE                     ",
          "NEAR EAST                          ",
          "LATIN AMER. & CARIB    ",
          "SUB-SAHARAN AFRICA                 ",
          "OCEANIA                            ",
          "NORTHERN AMERICA                   ",
          "EASTERN EUROPE                     ",
          "C.W. OF IND. STATES ",
          "NORTHERN AFRICA                    ",
          "BALTICS                            "
         ],
         "y": [
          35415.1,
          26657.199999999997,
          6833.3,
          6129.099999999999,
          4705.499999999999,
          2754.8,
          1304.3,
          1210.8,
          680.5,
          233.60000000000002,
          119.5
         ]
        }
       ],
       "layout": {
        "template": {
         "data": {
          "bar": [
           {
            "error_x": {
             "color": "#2a3f5f"
            },
            "error_y": {
             "color": "#2a3f5f"
            },
            "marker": {
             "line": {
              "color": "#E5ECF6",
              "width": 0.5
             }
            },
            "type": "bar"
           }
          ],
          "barpolar": [
           {
            "marker": {
             "line": {
              "color": "#E5ECF6",
              "width": 0.5
             }
            },
            "type": "barpolar"
           }
          ],
          "carpet": [
           {
            "aaxis": {
             "endlinecolor": "#2a3f5f",
             "gridcolor": "white",
             "linecolor": "white",
             "minorgridcolor": "white",
             "startlinecolor": "#2a3f5f"
            },
            "baxis": {
             "endlinecolor": "#2a3f5f",
             "gridcolor": "white",
             "linecolor": "white",
             "minorgridcolor": "white",
             "startlinecolor": "#2a3f5f"
            },
            "type": "carpet"
           }
          ],
          "choropleth": [
           {
            "colorbar": {
             "outlinewidth": 0,
             "ticks": ""
            },
            "type": "choropleth"
           }
          ],
          "contour": [
           {
            "colorbar": {
             "outlinewidth": 0,
             "ticks": ""
            },
            "colorscale": [
             [
              0.0,
              "#0d0887"
             ],
             [
              0.1111111111111111,
              "#46039f"
             ],
             [
              0.2222222222222222,
              "#7201a8"
             ],
             [
              0.3333333333333333,
              "#9c179e"
             ],
             [
              0.4444444444444444,
              "#bd3786"
             ],
             [
              0.5555555555555556,
              "#d8576b"
             ],
             [
              0.6666666666666666,
              "#ed7953"
             ],
             [
              0.7777777777777778,
              "#fb9f3a"
             ],
             [
              0.8888888888888888,
              "#fdca26"
             ],
             [
              1.0,
              "#f0f921"
             ]
            ],
            "type": "contour"
           }
          ],
          "contourcarpet": [
           {
            "colorbar": {
             "outlinewidth": 0,
             "ticks": ""
            },
            "type": "contourcarpet"
           }
          ],
          "heatmap": [
           {
            "colorbar": {
             "outlinewidth": 0,
             "ticks": ""
            },
            "colorscale": [
             [
              0.0,
              "#0d0887"
             ],
             [
              0.1111111111111111,
              "#46039f"
             ],
             [
              0.2222222222222222,
              "#7201a8"
             ],
             [
              0.3333333333333333,
              "#9c179e"
             ],
             [
              0.4444444444444444,
              "#bd3786"
             ],
             [
              0.5555555555555556,
              "#d8576b"
             ],
             [
              0.6666666666666666,
              "#ed7953"
             ],
             [
              0.7777777777777778,
              "#fb9f3a"
             ],
             [
              0.8888888888888888,
              "#fdca26"
             ],
             [
              1.0,
              "#f0f921"
             ]
            ],
            "type": "heatmap"
           }
          ],
          "heatmapgl": [
           {
            "colorbar": {
             "outlinewidth": 0,
             "ticks": ""
            },
            "colorscale": [
             [
              0.0,
              "#0d0887"
             ],
             [
              0.1111111111111111,
              "#46039f"
             ],
             [
              0.2222222222222222,
              "#7201a8"
             ],
             [
              0.3333333333333333,
              "#9c179e"
             ],
             [
              0.4444444444444444,
              "#bd3786"
             ],
             [
              0.5555555555555556,
              "#d8576b"
             ],
             [
              0.6666666666666666,
              "#ed7953"
             ],
             [
              0.7777777777777778,
              "#fb9f3a"
             ],
             [
              0.8888888888888888,
              "#fdca26"
             ],
             [
              1.0,
              "#f0f921"
             ]
            ],
            "type": "heatmapgl"
           }
          ],
          "histogram": [
           {
            "marker": {
             "colorbar": {
              "outlinewidth": 0,
              "ticks": ""
             }
            },
            "type": "histogram"
           }
          ],
          "histogram2d": [
           {
            "colorbar": {
             "outlinewidth": 0,
             "ticks": ""
            },
            "colorscale": [
             [
              0.0,
              "#0d0887"
             ],
             [
              0.1111111111111111,
              "#46039f"
             ],
             [
              0.2222222222222222,
              "#7201a8"
             ],
             [
              0.3333333333333333,
              "#9c179e"
             ],
             [
              0.4444444444444444,
              "#bd3786"
             ],
             [
              0.5555555555555556,
              "#d8576b"
             ],
             [
              0.6666666666666666,
              "#ed7953"
             ],
             [
              0.7777777777777778,
              "#fb9f3a"
             ],
             [
              0.8888888888888888,
              "#fdca26"
             ],
             [
              1.0,
              "#f0f921"
             ]
            ],
            "type": "histogram2d"
           }
          ],
          "histogram2dcontour": [
           {
            "colorbar": {
             "outlinewidth": 0,
             "ticks": ""
            },
            "colorscale": [
             [
              0.0,
              "#0d0887"
             ],
             [
              0.1111111111111111,
              "#46039f"
             ],
             [
              0.2222222222222222,
              "#7201a8"
             ],
             [
              0.3333333333333333,
              "#9c179e"
             ],
             [
              0.4444444444444444,
              "#bd3786"
             ],
             [
              0.5555555555555556,
              "#d8576b"
             ],
             [
              0.6666666666666666,
              "#ed7953"
             ],
             [
              0.7777777777777778,
              "#fb9f3a"
             ],
             [
              0.8888888888888888,
              "#fdca26"
             ],
             [
              1.0,
              "#f0f921"
             ]
            ],
            "type": "histogram2dcontour"
           }
          ],
          "mesh3d": [
           {
            "colorbar": {
             "outlinewidth": 0,
             "ticks": ""
            },
            "type": "mesh3d"
           }
          ],
          "parcoords": [
           {
            "line": {
             "colorbar": {
              "outlinewidth": 0,
              "ticks": ""
             }
            },
            "type": "parcoords"
           }
          ],
          "pie": [
           {
            "automargin": true,
            "type": "pie"
           }
          ],
          "scatter": [
           {
            "marker": {
             "colorbar": {
              "outlinewidth": 0,
              "ticks": ""
             }
            },
            "type": "scatter"
           }
          ],
          "scatter3d": [
           {
            "line": {
             "colorbar": {
              "outlinewidth": 0,
              "ticks": ""
             }
            },
            "marker": {
             "colorbar": {
              "outlinewidth": 0,
              "ticks": ""
             }
            },
            "type": "scatter3d"
           }
          ],
          "scattercarpet": [
           {
            "marker": {
             "colorbar": {
              "outlinewidth": 0,
              "ticks": ""
             }
            },
            "type": "scattercarpet"
           }
          ],
          "scattergeo": [
           {
            "marker": {
             "colorbar": {
              "outlinewidth": 0,
              "ticks": ""
             }
            },
            "type": "scattergeo"
           }
          ],
          "scattergl": [
           {
            "marker": {
             "colorbar": {
              "outlinewidth": 0,
              "ticks": ""
             }
            },
            "type": "scattergl"
           }
          ],
          "scattermapbox": [
           {
            "marker": {
             "colorbar": {
              "outlinewidth": 0,
              "ticks": ""
             }
            },
            "type": "scattermapbox"
           }
          ],
          "scatterpolar": [
           {
            "marker": {
             "colorbar": {
              "outlinewidth": 0,
              "ticks": ""
             }
            },
            "type": "scatterpolar"
           }
          ],
          "scatterpolargl": [
           {
            "marker": {
             "colorbar": {
              "outlinewidth": 0,
              "ticks": ""
             }
            },
            "type": "scatterpolargl"
           }
          ],
          "scatterternary": [
           {
            "marker": {
             "colorbar": {
              "outlinewidth": 0,
              "ticks": ""
             }
            },
            "type": "scatterternary"
           }
          ],
          "surface": [
           {
            "colorbar": {
             "outlinewidth": 0,
             "ticks": ""
            },
            "colorscale": [
             [
              0.0,
              "#0d0887"
             ],
             [
              0.1111111111111111,
              "#46039f"
             ],
             [
              0.2222222222222222,
              "#7201a8"
             ],
             [
              0.3333333333333333,
              "#9c179e"
             ],
             [
              0.4444444444444444,
              "#bd3786"
             ],
             [
              0.5555555555555556,
              "#d8576b"
             ],
             [
              0.6666666666666666,
              "#ed7953"
             ],
             [
              0.7777777777777778,
              "#fb9f3a"
             ],
             [
              0.8888888888888888,
              "#fdca26"
             ],
             [
              1.0,
              "#f0f921"
             ]
            ],
            "type": "surface"
           }
          ],
          "table": [
           {
            "cells": {
             "fill": {
              "color": "#EBF0F8"
             },
             "line": {
              "color": "white"
             }
            },
            "header": {
             "fill": {
              "color": "#C8D4E3"
             },
             "line": {
              "color": "white"
             }
            },
            "type": "table"
           }
          ]
         },
         "layout": {
          "annotationdefaults": {
           "arrowcolor": "#2a3f5f",
           "arrowhead": 0,
           "arrowwidth": 1
          },
          "coloraxis": {
           "colorbar": {
            "outlinewidth": 0,
            "ticks": ""
           }
          },
          "colorscale": {
           "diverging": [
            [
             0,
             "#8e0152"
            ],
            [
             0.1,
             "#c51b7d"
            ],
            [
             0.2,
             "#de77ae"
            ],
            [
             0.3,
             "#f1b6da"
            ],
            [
             0.4,
             "#fde0ef"
            ],
            [
             0.5,
             "#f7f7f7"
            ],
            [
             0.6,
             "#e6f5d0"
            ],
            [
             0.7,
             "#b8e186"
            ],
            [
             0.8,
             "#7fbc41"
            ],
            [
             0.9,
             "#4d9221"
            ],
            [
             1,
             "#276419"
            ]
           ],
           "sequential": [
            [
             0.0,
             "#0d0887"
            ],
            [
             0.1111111111111111,
             "#46039f"
            ],
            [
             0.2222222222222222,
             "#7201a8"
            ],
            [
             0.3333333333333333,
             "#9c179e"
            ],
            [
             0.4444444444444444,
             "#bd3786"
            ],
            [
             0.5555555555555556,
             "#d8576b"
            ],
            [
             0.6666666666666666,
             "#ed7953"
            ],
            [
             0.7777777777777778,
             "#fb9f3a"
            ],
            [
             0.8888888888888888,
             "#fdca26"
            ],
            [
             1.0,
             "#f0f921"
            ]
           ],
           "sequentialminus": [
            [
             0.0,
             "#0d0887"
            ],
            [
             0.1111111111111111,
             "#46039f"
            ],
            [
             0.2222222222222222,
             "#7201a8"
            ],
            [
             0.3333333333333333,
             "#9c179e"
            ],
            [
             0.4444444444444444,
             "#bd3786"
            ],
            [
             0.5555555555555556,
             "#d8576b"
            ],
            [
             0.6666666666666666,
             "#ed7953"
            ],
            [
             0.7777777777777778,
             "#fb9f3a"
            ],
            [
             0.8888888888888888,
             "#fdca26"
            ],
            [
             1.0,
             "#f0f921"
            ]
           ]
          },
          "colorway": [
           "#636efa",
           "#EF553B",
           "#00cc96",
           "#ab63fa",
           "#FFA15A",
           "#19d3f3",
           "#FF6692",
           "#B6E880",
           "#FF97FF",
           "#FECB52"
          ],
          "font": {
           "color": "#2a3f5f"
          },
          "geo": {
           "bgcolor": "white",
           "lakecolor": "white",
           "landcolor": "#E5ECF6",
           "showlakes": true,
           "showland": true,
           "subunitcolor": "white"
          },
          "hoverlabel": {
           "align": "left"
          },
          "hovermode": "closest",
          "mapbox": {
           "style": "light"
          },
          "paper_bgcolor": "white",
          "plot_bgcolor": "#E5ECF6",
          "polar": {
           "angularaxis": {
            "gridcolor": "white",
            "linecolor": "white",
            "ticks": ""
           },
           "bgcolor": "#E5ECF6",
           "radialaxis": {
            "gridcolor": "white",
            "linecolor": "white",
            "ticks": ""
           }
          },
          "scene": {
           "xaxis": {
            "backgroundcolor": "#E5ECF6",
            "gridcolor": "white",
            "gridwidth": 2,
            "linecolor": "white",
            "showbackground": true,
            "ticks": "",
            "zerolinecolor": "white"
           },
           "yaxis": {
            "backgroundcolor": "#E5ECF6",
            "gridcolor": "white",
            "gridwidth": 2,
            "linecolor": "white",
            "showbackground": true,
            "ticks": "",
            "zerolinecolor": "white"
           },
           "zaxis": {
            "backgroundcolor": "#E5ECF6",
            "gridcolor": "white",
            "gridwidth": 2,
            "linecolor": "white",
            "showbackground": true,
            "ticks": "",
            "zerolinecolor": "white"
           }
          },
          "shapedefaults": {
           "line": {
            "color": "#2a3f5f"
           }
          },
          "ternary": {
           "aaxis": {
            "gridcolor": "white",
            "linecolor": "white",
            "ticks": ""
           },
           "baxis": {
            "gridcolor": "white",
            "linecolor": "white",
            "ticks": ""
           },
           "bgcolor": "#E5ECF6",
           "caxis": {
            "gridcolor": "white",
            "linecolor": "white",
            "ticks": ""
           }
          },
          "title": {
           "x": 0.05
          },
          "xaxis": {
           "automargin": true,
           "gridcolor": "white",
           "linecolor": "white",
           "ticks": "",
           "title": {
            "standoff": 15
           },
           "zerolinecolor": "white",
           "zerolinewidth": 2
          },
          "yaxis": {
           "automargin": true,
           "gridcolor": "white",
           "linecolor": "white",
           "ticks": "",
           "title": {
            "standoff": 15
           },
           "zerolinecolor": "white",
           "zerolinewidth": 2
          }
         }
        },
        "title": {
         "text": "Population Density by Regions (per sq. mi.)"
        }
       }
      },
      "text/html": [
       "<div>\n",
       "        \n",
       "        \n",
       "            <div id=\"1924f202-9dec-4c4f-9577-f1d8aa67603a\" class=\"plotly-graph-div\" style=\"height:525px; width:100%;\"></div>\n",
       "            <script type=\"text/javascript\">\n",
       "                require([\"plotly\"], function(Plotly) {\n",
       "                    window.PLOTLYENV=window.PLOTLYENV || {};\n",
       "                    \n",
       "                if (document.getElementById(\"1924f202-9dec-4c4f-9577-f1d8aa67603a\")) {\n",
       "                    Plotly.newPlot(\n",
       "                        '1924f202-9dec-4c4f-9577-f1d8aa67603a',\n",
       "                        [{\"marker\": {\"color\": \"rgba(50, 134, 55, 0.5)\", \"line\": {\"color\": \"rgb(0,0,0)\", \"width\": 1.5}}, \"name\": \"Population Density\", \"text\": [\"ASIA (EX. NEAR EAST)         \", \"WESTERN EUROPE                     \", \"NEAR EAST                          \", \"LATIN AMER. & CARIB    \", \"SUB-SAHARAN AFRICA                 \", \"OCEANIA                            \", \"NORTHERN AMERICA                   \", \"EASTERN EUROPE                     \", \"C.W. OF IND. STATES \", \"NORTHERN AFRICA                    \", \"BALTICS                            \"], \"type\": \"bar\", \"x\": [\"ASIA (EX. NEAR EAST)         \", \"WESTERN EUROPE                     \", \"NEAR EAST                          \", \"LATIN AMER. & CARIB    \", \"SUB-SAHARAN AFRICA                 \", \"OCEANIA                            \", \"NORTHERN AMERICA                   \", \"EASTERN EUROPE                     \", \"C.W. OF IND. STATES \", \"NORTHERN AFRICA                    \", \"BALTICS                            \"], \"y\": [35415.1, 26657.199999999997, 6833.3, 6129.099999999999, 4705.499999999999, 2754.8, 1304.3, 1210.8, 680.5, 233.60000000000002, 119.5]}],\n",
       "                        {\"template\": {\"data\": {\"bar\": [{\"error_x\": {\"color\": \"#2a3f5f\"}, \"error_y\": {\"color\": \"#2a3f5f\"}, \"marker\": {\"line\": {\"color\": \"#E5ECF6\", \"width\": 0.5}}, \"type\": \"bar\"}], \"barpolar\": [{\"marker\": {\"line\": {\"color\": \"#E5ECF6\", \"width\": 0.5}}, \"type\": \"barpolar\"}], \"carpet\": [{\"aaxis\": {\"endlinecolor\": \"#2a3f5f\", \"gridcolor\": \"white\", \"linecolor\": \"white\", \"minorgridcolor\": \"white\", \"startlinecolor\": \"#2a3f5f\"}, \"baxis\": {\"endlinecolor\": \"#2a3f5f\", \"gridcolor\": \"white\", \"linecolor\": \"white\", \"minorgridcolor\": \"white\", \"startlinecolor\": \"#2a3f5f\"}, \"type\": \"carpet\"}], \"choropleth\": [{\"colorbar\": {\"outlinewidth\": 0, \"ticks\": \"\"}, \"type\": \"choropleth\"}], \"contour\": [{\"colorbar\": {\"outlinewidth\": 0, \"ticks\": \"\"}, \"colorscale\": [[0.0, \"#0d0887\"], [0.1111111111111111, \"#46039f\"], [0.2222222222222222, \"#7201a8\"], [0.3333333333333333, \"#9c179e\"], [0.4444444444444444, \"#bd3786\"], [0.5555555555555556, \"#d8576b\"], [0.6666666666666666, \"#ed7953\"], [0.7777777777777778, \"#fb9f3a\"], [0.8888888888888888, \"#fdca26\"], [1.0, \"#f0f921\"]], \"type\": \"contour\"}], \"contourcarpet\": [{\"colorbar\": {\"outlinewidth\": 0, \"ticks\": \"\"}, \"type\": \"contourcarpet\"}], \"heatmap\": [{\"colorbar\": {\"outlinewidth\": 0, \"ticks\": \"\"}, \"colorscale\": [[0.0, \"#0d0887\"], [0.1111111111111111, \"#46039f\"], [0.2222222222222222, \"#7201a8\"], [0.3333333333333333, \"#9c179e\"], [0.4444444444444444, \"#bd3786\"], [0.5555555555555556, \"#d8576b\"], [0.6666666666666666, \"#ed7953\"], [0.7777777777777778, \"#fb9f3a\"], [0.8888888888888888, \"#fdca26\"], [1.0, \"#f0f921\"]], \"type\": \"heatmap\"}], \"heatmapgl\": [{\"colorbar\": {\"outlinewidth\": 0, \"ticks\": \"\"}, \"colorscale\": [[0.0, \"#0d0887\"], [0.1111111111111111, \"#46039f\"], [0.2222222222222222, \"#7201a8\"], [0.3333333333333333, \"#9c179e\"], [0.4444444444444444, \"#bd3786\"], [0.5555555555555556, \"#d8576b\"], [0.6666666666666666, \"#ed7953\"], [0.7777777777777778, \"#fb9f3a\"], [0.8888888888888888, \"#fdca26\"], [1.0, \"#f0f921\"]], \"type\": \"heatmapgl\"}], \"histogram\": [{\"marker\": {\"colorbar\": {\"outlinewidth\": 0, \"ticks\": \"\"}}, \"type\": \"histogram\"}], \"histogram2d\": [{\"colorbar\": {\"outlinewidth\": 0, \"ticks\": \"\"}, \"colorscale\": [[0.0, \"#0d0887\"], [0.1111111111111111, \"#46039f\"], [0.2222222222222222, \"#7201a8\"], [0.3333333333333333, \"#9c179e\"], [0.4444444444444444, \"#bd3786\"], [0.5555555555555556, \"#d8576b\"], [0.6666666666666666, \"#ed7953\"], [0.7777777777777778, \"#fb9f3a\"], [0.8888888888888888, \"#fdca26\"], [1.0, \"#f0f921\"]], \"type\": \"histogram2d\"}], \"histogram2dcontour\": [{\"colorbar\": {\"outlinewidth\": 0, \"ticks\": \"\"}, \"colorscale\": [[0.0, \"#0d0887\"], [0.1111111111111111, \"#46039f\"], [0.2222222222222222, \"#7201a8\"], [0.3333333333333333, \"#9c179e\"], [0.4444444444444444, \"#bd3786\"], [0.5555555555555556, \"#d8576b\"], [0.6666666666666666, \"#ed7953\"], [0.7777777777777778, \"#fb9f3a\"], [0.8888888888888888, \"#fdca26\"], [1.0, \"#f0f921\"]], \"type\": \"histogram2dcontour\"}], \"mesh3d\": [{\"colorbar\": {\"outlinewidth\": 0, \"ticks\": \"\"}, \"type\": \"mesh3d\"}], \"parcoords\": [{\"line\": {\"colorbar\": {\"outlinewidth\": 0, \"ticks\": \"\"}}, \"type\": \"parcoords\"}], \"pie\": [{\"automargin\": true, \"type\": \"pie\"}], \"scatter\": [{\"marker\": {\"colorbar\": {\"outlinewidth\": 0, \"ticks\": \"\"}}, \"type\": \"scatter\"}], \"scatter3d\": [{\"line\": {\"colorbar\": {\"outlinewidth\": 0, \"ticks\": \"\"}}, \"marker\": {\"colorbar\": {\"outlinewidth\": 0, \"ticks\": \"\"}}, \"type\": \"scatter3d\"}], \"scattercarpet\": [{\"marker\": {\"colorbar\": {\"outlinewidth\": 0, \"ticks\": \"\"}}, \"type\": \"scattercarpet\"}], \"scattergeo\": [{\"marker\": {\"colorbar\": {\"outlinewidth\": 0, \"ticks\": \"\"}}, \"type\": \"scattergeo\"}], \"scattergl\": [{\"marker\": {\"colorbar\": {\"outlinewidth\": 0, \"ticks\": \"\"}}, \"type\": \"scattergl\"}], \"scattermapbox\": [{\"marker\": {\"colorbar\": {\"outlinewidth\": 0, \"ticks\": \"\"}}, \"type\": \"scattermapbox\"}], \"scatterpolar\": [{\"marker\": {\"colorbar\": {\"outlinewidth\": 0, \"ticks\": \"\"}}, \"type\": \"scatterpolar\"}], \"scatterpolargl\": [{\"marker\": {\"colorbar\": {\"outlinewidth\": 0, \"ticks\": \"\"}}, \"type\": \"scatterpolargl\"}], \"scatterternary\": [{\"marker\": {\"colorbar\": {\"outlinewidth\": 0, \"ticks\": \"\"}}, \"type\": \"scatterternary\"}], \"surface\": [{\"colorbar\": {\"outlinewidth\": 0, \"ticks\": \"\"}, \"colorscale\": [[0.0, \"#0d0887\"], [0.1111111111111111, \"#46039f\"], [0.2222222222222222, \"#7201a8\"], [0.3333333333333333, \"#9c179e\"], [0.4444444444444444, \"#bd3786\"], [0.5555555555555556, \"#d8576b\"], [0.6666666666666666, \"#ed7953\"], [0.7777777777777778, \"#fb9f3a\"], [0.8888888888888888, \"#fdca26\"], [1.0, \"#f0f921\"]], \"type\": \"surface\"}], \"table\": [{\"cells\": {\"fill\": {\"color\": \"#EBF0F8\"}, \"line\": {\"color\": \"white\"}}, \"header\": {\"fill\": {\"color\": \"#C8D4E3\"}, \"line\": {\"color\": \"white\"}}, \"type\": \"table\"}]}, \"layout\": {\"annotationdefaults\": {\"arrowcolor\": \"#2a3f5f\", \"arrowhead\": 0, \"arrowwidth\": 1}, \"coloraxis\": {\"colorbar\": {\"outlinewidth\": 0, \"ticks\": \"\"}}, \"colorscale\": {\"diverging\": [[0, \"#8e0152\"], [0.1, \"#c51b7d\"], [0.2, \"#de77ae\"], [0.3, \"#f1b6da\"], [0.4, \"#fde0ef\"], [0.5, \"#f7f7f7\"], [0.6, \"#e6f5d0\"], [0.7, \"#b8e186\"], [0.8, \"#7fbc41\"], [0.9, \"#4d9221\"], [1, \"#276419\"]], \"sequential\": [[0.0, \"#0d0887\"], [0.1111111111111111, \"#46039f\"], [0.2222222222222222, \"#7201a8\"], [0.3333333333333333, \"#9c179e\"], [0.4444444444444444, \"#bd3786\"], [0.5555555555555556, \"#d8576b\"], [0.6666666666666666, \"#ed7953\"], [0.7777777777777778, \"#fb9f3a\"], [0.8888888888888888, \"#fdca26\"], [1.0, \"#f0f921\"]], \"sequentialminus\": [[0.0, \"#0d0887\"], [0.1111111111111111, \"#46039f\"], [0.2222222222222222, \"#7201a8\"], [0.3333333333333333, \"#9c179e\"], [0.4444444444444444, \"#bd3786\"], [0.5555555555555556, \"#d8576b\"], [0.6666666666666666, \"#ed7953\"], [0.7777777777777778, \"#fb9f3a\"], [0.8888888888888888, \"#fdca26\"], [1.0, \"#f0f921\"]]}, \"colorway\": [\"#636efa\", \"#EF553B\", \"#00cc96\", \"#ab63fa\", \"#FFA15A\", \"#19d3f3\", \"#FF6692\", \"#B6E880\", \"#FF97FF\", \"#FECB52\"], \"font\": {\"color\": \"#2a3f5f\"}, \"geo\": {\"bgcolor\": \"white\", \"lakecolor\": \"white\", \"landcolor\": \"#E5ECF6\", \"showlakes\": true, \"showland\": true, \"subunitcolor\": \"white\"}, \"hoverlabel\": {\"align\": \"left\"}, \"hovermode\": \"closest\", \"mapbox\": {\"style\": \"light\"}, \"paper_bgcolor\": \"white\", \"plot_bgcolor\": \"#E5ECF6\", \"polar\": {\"angularaxis\": {\"gridcolor\": \"white\", \"linecolor\": \"white\", \"ticks\": \"\"}, \"bgcolor\": \"#E5ECF6\", \"radialaxis\": {\"gridcolor\": \"white\", \"linecolor\": \"white\", \"ticks\": \"\"}}, \"scene\": {\"xaxis\": {\"backgroundcolor\": \"#E5ECF6\", \"gridcolor\": \"white\", \"gridwidth\": 2, \"linecolor\": \"white\", \"showbackground\": true, \"ticks\": \"\", \"zerolinecolor\": \"white\"}, \"yaxis\": {\"backgroundcolor\": \"#E5ECF6\", \"gridcolor\": \"white\", \"gridwidth\": 2, \"linecolor\": \"white\", \"showbackground\": true, \"ticks\": \"\", \"zerolinecolor\": \"white\"}, \"zaxis\": {\"backgroundcolor\": \"#E5ECF6\", \"gridcolor\": \"white\", \"gridwidth\": 2, \"linecolor\": \"white\", \"showbackground\": true, \"ticks\": \"\", \"zerolinecolor\": \"white\"}}, \"shapedefaults\": {\"line\": {\"color\": \"#2a3f5f\"}}, \"ternary\": {\"aaxis\": {\"gridcolor\": \"white\", \"linecolor\": \"white\", \"ticks\": \"\"}, \"baxis\": {\"gridcolor\": \"white\", \"linecolor\": \"white\", \"ticks\": \"\"}, \"bgcolor\": \"#E5ECF6\", \"caxis\": {\"gridcolor\": \"white\", \"linecolor\": \"white\", \"ticks\": \"\"}}, \"title\": {\"x\": 0.05}, \"xaxis\": {\"automargin\": true, \"gridcolor\": \"white\", \"linecolor\": \"white\", \"ticks\": \"\", \"title\": {\"standoff\": 15}, \"zerolinecolor\": \"white\", \"zerolinewidth\": 2}, \"yaxis\": {\"automargin\": true, \"gridcolor\": \"white\", \"linecolor\": \"white\", \"ticks\": \"\", \"title\": {\"standoff\": 15}, \"zerolinecolor\": \"white\", \"zerolinewidth\": 2}}}, \"title\": {\"text\": \"Population Density by Regions (per sq. mi.)\"}},\n",
       "                        {\"responsive\": true}\n",
       "                    ).then(function(){\n",
       "                            \n",
       "var gd = document.getElementById('1924f202-9dec-4c4f-9577-f1d8aa67603a');\n",
       "var x = new MutationObserver(function (mutations, observer) {{\n",
       "        var display = window.getComputedStyle(gd).display;\n",
       "        if (!display || display === 'none') {{\n",
       "            console.log([gd, 'removed!']);\n",
       "            Plotly.purge(gd);\n",
       "            observer.disconnect();\n",
       "        }}\n",
       "}});\n",
       "\n",
       "// Listen for the removal of the full notebook cells\n",
       "var notebookContainer = gd.closest('#notebook-container');\n",
       "if (notebookContainer) {{\n",
       "    x.observe(notebookContainer, {childList: true});\n",
       "}}\n",
       "\n",
       "// Listen for the clearing of the current output cell\n",
       "var outputEl = gd.closest('.output');\n",
       "if (outputEl) {{\n",
       "    x.observe(outputEl, {childList: true});\n",
       "}}\n",
       "\n",
       "                        })\n",
       "                };\n",
       "                });\n",
       "            </script>\n",
       "        </div>"
      ]
     },
     "metadata": {},
     "output_type": "display_data"
    }
   ],
   "source": [
    "pop_den=pop_reg.sort_values(by=['PopulationDensity'],ascending=False)\n",
    "pop_density_bar=go.Bar(x=pop_den.Regions,\n",
    "                      y=pop_den.PopulationDensity,\n",
    "                     name=\"Population Density\",\n",
    "                     marker = dict(color = 'rgba(50, 134, 55, 0.5)',\n",
    "                     line=dict(color='rgb(0,0,0)',width=1.5)),\n",
    "                     text=pop_den.Regions,\n",
    "                     )\n",
    "layout=go.Layout(title='Population Density by Regions (per sq. mi.)',)\n",
    "fig=go.Figure(data=pop_density_bar,layout=layout)\n",
    "iplot(fig)"
   ]
  },
  {
   "cell_type": "markdown",
   "metadata": {
    "papermill": {
     "duration": 0.042673,
     "end_time": "2020-12-10T16:16:43.821823",
     "exception": false,
     "start_time": "2020-12-10T16:16:43.779150",
     "status": "completed"
    },
    "tags": []
   },
   "source": [
    "# Distribution of World Population by Regions"
   ]
  },
  {
   "cell_type": "code",
   "execution_count": 8,
   "metadata": {
    "execution": {
     "iopub.execute_input": "2020-12-10T16:16:43.918896Z",
     "iopub.status.busy": "2020-12-10T16:16:43.918055Z",
     "iopub.status.idle": "2020-12-10T16:16:44.007153Z",
     "shell.execute_reply": "2020-12-10T16:16:44.008019Z"
    },
    "papermill": {
     "duration": 0.143546,
     "end_time": "2020-12-10T16:16:44.008237",
     "exception": false,
     "start_time": "2020-12-10T16:16:43.864691",
     "status": "completed"
    },
    "tags": []
   },
   "outputs": [
    {
     "data": {
      "application/vnd.plotly.v1+json": {
       "config": {
        "linkText": "Export to plot.ly",
        "plotlyServerURL": "https://plot.ly",
        "showLink": false
       },
       "data": [
        {
         "domain": {
          "x": [
           0,
           0.8
          ],
          "y": [
           0,
           0.8
          ]
         },
         "hole": 0.2,
         "hoverinfo": "label+percent+name",
         "labels": [
          "ASIA (EX. NEAR EAST)         ",
          "SUB-SAHARAN AFRICA                 ",
          "LATIN AMER. & CARIB    ",
          "WESTERN EUROPE                     ",
          "NORTHERN AMERICA                   ",
          "C.W. OF IND. STATES ",
          "NEAR EAST                          ",
          "NORTHERN AFRICA                    ",
          "EASTERN EUROPE                     ",
          "OCEANIA                            ",
          "BALTICS                            "
         ],
         "name": "Population Rate of Regions",
         "type": "pie",
         "values": [
          3687982236,
          749437000,
          561824599,
          396339998,
          331672307,
          280081548,
          195068377,
          161407133,
          119914717,
          33131662,
          7184974
         ]
        }
       ],
       "layout": {
        "annotations": [
         {
          "font": {
           "size": 20
          },
          "showarrow": false,
          "text": "Population Rate of Regions",
          "x": 0.27,
          "y": 1
         }
        ],
        "template": {
         "data": {
          "bar": [
           {
            "error_x": {
             "color": "#2a3f5f"
            },
            "error_y": {
             "color": "#2a3f5f"
            },
            "marker": {
             "line": {
              "color": "#E5ECF6",
              "width": 0.5
             }
            },
            "type": "bar"
           }
          ],
          "barpolar": [
           {
            "marker": {
             "line": {
              "color": "#E5ECF6",
              "width": 0.5
             }
            },
            "type": "barpolar"
           }
          ],
          "carpet": [
           {
            "aaxis": {
             "endlinecolor": "#2a3f5f",
             "gridcolor": "white",
             "linecolor": "white",
             "minorgridcolor": "white",
             "startlinecolor": "#2a3f5f"
            },
            "baxis": {
             "endlinecolor": "#2a3f5f",
             "gridcolor": "white",
             "linecolor": "white",
             "minorgridcolor": "white",
             "startlinecolor": "#2a3f5f"
            },
            "type": "carpet"
           }
          ],
          "choropleth": [
           {
            "colorbar": {
             "outlinewidth": 0,
             "ticks": ""
            },
            "type": "choropleth"
           }
          ],
          "contour": [
           {
            "colorbar": {
             "outlinewidth": 0,
             "ticks": ""
            },
            "colorscale": [
             [
              0.0,
              "#0d0887"
             ],
             [
              0.1111111111111111,
              "#46039f"
             ],
             [
              0.2222222222222222,
              "#7201a8"
             ],
             [
              0.3333333333333333,
              "#9c179e"
             ],
             [
              0.4444444444444444,
              "#bd3786"
             ],
             [
              0.5555555555555556,
              "#d8576b"
             ],
             [
              0.6666666666666666,
              "#ed7953"
             ],
             [
              0.7777777777777778,
              "#fb9f3a"
             ],
             [
              0.8888888888888888,
              "#fdca26"
             ],
             [
              1.0,
              "#f0f921"
             ]
            ],
            "type": "contour"
           }
          ],
          "contourcarpet": [
           {
            "colorbar": {
             "outlinewidth": 0,
             "ticks": ""
            },
            "type": "contourcarpet"
           }
          ],
          "heatmap": [
           {
            "colorbar": {
             "outlinewidth": 0,
             "ticks": ""
            },
            "colorscale": [
             [
              0.0,
              "#0d0887"
             ],
             [
              0.1111111111111111,
              "#46039f"
             ],
             [
              0.2222222222222222,
              "#7201a8"
             ],
             [
              0.3333333333333333,
              "#9c179e"
             ],
             [
              0.4444444444444444,
              "#bd3786"
             ],
             [
              0.5555555555555556,
              "#d8576b"
             ],
             [
              0.6666666666666666,
              "#ed7953"
             ],
             [
              0.7777777777777778,
              "#fb9f3a"
             ],
             [
              0.8888888888888888,
              "#fdca26"
             ],
             [
              1.0,
              "#f0f921"
             ]
            ],
            "type": "heatmap"
           }
          ],
          "heatmapgl": [
           {
            "colorbar": {
             "outlinewidth": 0,
             "ticks": ""
            },
            "colorscale": [
             [
              0.0,
              "#0d0887"
             ],
             [
              0.1111111111111111,
              "#46039f"
             ],
             [
              0.2222222222222222,
              "#7201a8"
             ],
             [
              0.3333333333333333,
              "#9c179e"
             ],
             [
              0.4444444444444444,
              "#bd3786"
             ],
             [
              0.5555555555555556,
              "#d8576b"
             ],
             [
              0.6666666666666666,
              "#ed7953"
             ],
             [
              0.7777777777777778,
              "#fb9f3a"
             ],
             [
              0.8888888888888888,
              "#fdca26"
             ],
             [
              1.0,
              "#f0f921"
             ]
            ],
            "type": "heatmapgl"
           }
          ],
          "histogram": [
           {
            "marker": {
             "colorbar": {
              "outlinewidth": 0,
              "ticks": ""
             }
            },
            "type": "histogram"
           }
          ],
          "histogram2d": [
           {
            "colorbar": {
             "outlinewidth": 0,
             "ticks": ""
            },
            "colorscale": [
             [
              0.0,
              "#0d0887"
             ],
             [
              0.1111111111111111,
              "#46039f"
             ],
             [
              0.2222222222222222,
              "#7201a8"
             ],
             [
              0.3333333333333333,
              "#9c179e"
             ],
             [
              0.4444444444444444,
              "#bd3786"
             ],
             [
              0.5555555555555556,
              "#d8576b"
             ],
             [
              0.6666666666666666,
              "#ed7953"
             ],
             [
              0.7777777777777778,
              "#fb9f3a"
             ],
             [
              0.8888888888888888,
              "#fdca26"
             ],
             [
              1.0,
              "#f0f921"
             ]
            ],
            "type": "histogram2d"
           }
          ],
          "histogram2dcontour": [
           {
            "colorbar": {
             "outlinewidth": 0,
             "ticks": ""
            },
            "colorscale": [
             [
              0.0,
              "#0d0887"
             ],
             [
              0.1111111111111111,
              "#46039f"
             ],
             [
              0.2222222222222222,
              "#7201a8"
             ],
             [
              0.3333333333333333,
              "#9c179e"
             ],
             [
              0.4444444444444444,
              "#bd3786"
             ],
             [
              0.5555555555555556,
              "#d8576b"
             ],
             [
              0.6666666666666666,
              "#ed7953"
             ],
             [
              0.7777777777777778,
              "#fb9f3a"
             ],
             [
              0.8888888888888888,
              "#fdca26"
             ],
             [
              1.0,
              "#f0f921"
             ]
            ],
            "type": "histogram2dcontour"
           }
          ],
          "mesh3d": [
           {
            "colorbar": {
             "outlinewidth": 0,
             "ticks": ""
            },
            "type": "mesh3d"
           }
          ],
          "parcoords": [
           {
            "line": {
             "colorbar": {
              "outlinewidth": 0,
              "ticks": ""
             }
            },
            "type": "parcoords"
           }
          ],
          "pie": [
           {
            "automargin": true,
            "type": "pie"
           }
          ],
          "scatter": [
           {
            "marker": {
             "colorbar": {
              "outlinewidth": 0,
              "ticks": ""
             }
            },
            "type": "scatter"
           }
          ],
          "scatter3d": [
           {
            "line": {
             "colorbar": {
              "outlinewidth": 0,
              "ticks": ""
             }
            },
            "marker": {
             "colorbar": {
              "outlinewidth": 0,
              "ticks": ""
             }
            },
            "type": "scatter3d"
           }
          ],
          "scattercarpet": [
           {
            "marker": {
             "colorbar": {
              "outlinewidth": 0,
              "ticks": ""
             }
            },
            "type": "scattercarpet"
           }
          ],
          "scattergeo": [
           {
            "marker": {
             "colorbar": {
              "outlinewidth": 0,
              "ticks": ""
             }
            },
            "type": "scattergeo"
           }
          ],
          "scattergl": [
           {
            "marker": {
             "colorbar": {
              "outlinewidth": 0,
              "ticks": ""
             }
            },
            "type": "scattergl"
           }
          ],
          "scattermapbox": [
           {
            "marker": {
             "colorbar": {
              "outlinewidth": 0,
              "ticks": ""
             }
            },
            "type": "scattermapbox"
           }
          ],
          "scatterpolar": [
           {
            "marker": {
             "colorbar": {
              "outlinewidth": 0,
              "ticks": ""
             }
            },
            "type": "scatterpolar"
           }
          ],
          "scatterpolargl": [
           {
            "marker": {
             "colorbar": {
              "outlinewidth": 0,
              "ticks": ""
             }
            },
            "type": "scatterpolargl"
           }
          ],
          "scatterternary": [
           {
            "marker": {
             "colorbar": {
              "outlinewidth": 0,
              "ticks": ""
             }
            },
            "type": "scatterternary"
           }
          ],
          "surface": [
           {
            "colorbar": {
             "outlinewidth": 0,
             "ticks": ""
            },
            "colorscale": [
             [
              0.0,
              "#0d0887"
             ],
             [
              0.1111111111111111,
              "#46039f"
             ],
             [
              0.2222222222222222,
              "#7201a8"
             ],
             [
              0.3333333333333333,
              "#9c179e"
             ],
             [
              0.4444444444444444,
              "#bd3786"
             ],
             [
              0.5555555555555556,
              "#d8576b"
             ],
             [
              0.6666666666666666,
              "#ed7953"
             ],
             [
              0.7777777777777778,
              "#fb9f3a"
             ],
             [
              0.8888888888888888,
              "#fdca26"
             ],
             [
              1.0,
              "#f0f921"
             ]
            ],
            "type": "surface"
           }
          ],
          "table": [
           {
            "cells": {
             "fill": {
              "color": "#EBF0F8"
             },
             "line": {
              "color": "white"
             }
            },
            "header": {
             "fill": {
              "color": "#C8D4E3"
             },
             "line": {
              "color": "white"
             }
            },
            "type": "table"
           }
          ]
         },
         "layout": {
          "annotationdefaults": {
           "arrowcolor": "#2a3f5f",
           "arrowhead": 0,
           "arrowwidth": 1
          },
          "coloraxis": {
           "colorbar": {
            "outlinewidth": 0,
            "ticks": ""
           }
          },
          "colorscale": {
           "diverging": [
            [
             0,
             "#8e0152"
            ],
            [
             0.1,
             "#c51b7d"
            ],
            [
             0.2,
             "#de77ae"
            ],
            [
             0.3,
             "#f1b6da"
            ],
            [
             0.4,
             "#fde0ef"
            ],
            [
             0.5,
             "#f7f7f7"
            ],
            [
             0.6,
             "#e6f5d0"
            ],
            [
             0.7,
             "#b8e186"
            ],
            [
             0.8,
             "#7fbc41"
            ],
            [
             0.9,
             "#4d9221"
            ],
            [
             1,
             "#276419"
            ]
           ],
           "sequential": [
            [
             0.0,
             "#0d0887"
            ],
            [
             0.1111111111111111,
             "#46039f"
            ],
            [
             0.2222222222222222,
             "#7201a8"
            ],
            [
             0.3333333333333333,
             "#9c179e"
            ],
            [
             0.4444444444444444,
             "#bd3786"
            ],
            [
             0.5555555555555556,
             "#d8576b"
            ],
            [
             0.6666666666666666,
             "#ed7953"
            ],
            [
             0.7777777777777778,
             "#fb9f3a"
            ],
            [
             0.8888888888888888,
             "#fdca26"
            ],
            [
             1.0,
             "#f0f921"
            ]
           ],
           "sequentialminus": [
            [
             0.0,
             "#0d0887"
            ],
            [
             0.1111111111111111,
             "#46039f"
            ],
            [
             0.2222222222222222,
             "#7201a8"
            ],
            [
             0.3333333333333333,
             "#9c179e"
            ],
            [
             0.4444444444444444,
             "#bd3786"
            ],
            [
             0.5555555555555556,
             "#d8576b"
            ],
            [
             0.6666666666666666,
             "#ed7953"
            ],
            [
             0.7777777777777778,
             "#fb9f3a"
            ],
            [
             0.8888888888888888,
             "#fdca26"
            ],
            [
             1.0,
             "#f0f921"
            ]
           ]
          },
          "colorway": [
           "#636efa",
           "#EF553B",
           "#00cc96",
           "#ab63fa",
           "#FFA15A",
           "#19d3f3",
           "#FF6692",
           "#B6E880",
           "#FF97FF",
           "#FECB52"
          ],
          "font": {
           "color": "#2a3f5f"
          },
          "geo": {
           "bgcolor": "white",
           "lakecolor": "white",
           "landcolor": "#E5ECF6",
           "showlakes": true,
           "showland": true,
           "subunitcolor": "white"
          },
          "hoverlabel": {
           "align": "left"
          },
          "hovermode": "closest",
          "mapbox": {
           "style": "light"
          },
          "paper_bgcolor": "white",
          "plot_bgcolor": "#E5ECF6",
          "polar": {
           "angularaxis": {
            "gridcolor": "white",
            "linecolor": "white",
            "ticks": ""
           },
           "bgcolor": "#E5ECF6",
           "radialaxis": {
            "gridcolor": "white",
            "linecolor": "white",
            "ticks": ""
           }
          },
          "scene": {
           "xaxis": {
            "backgroundcolor": "#E5ECF6",
            "gridcolor": "white",
            "gridwidth": 2,
            "linecolor": "white",
            "showbackground": true,
            "ticks": "",
            "zerolinecolor": "white"
           },
           "yaxis": {
            "backgroundcolor": "#E5ECF6",
            "gridcolor": "white",
            "gridwidth": 2,
            "linecolor": "white",
            "showbackground": true,
            "ticks": "",
            "zerolinecolor": "white"
           },
           "zaxis": {
            "backgroundcolor": "#E5ECF6",
            "gridcolor": "white",
            "gridwidth": 2,
            "linecolor": "white",
            "showbackground": true,
            "ticks": "",
            "zerolinecolor": "white"
           }
          },
          "shapedefaults": {
           "line": {
            "color": "#2a3f5f"
           }
          },
          "ternary": {
           "aaxis": {
            "gridcolor": "white",
            "linecolor": "white",
            "ticks": ""
           },
           "baxis": {
            "gridcolor": "white",
            "linecolor": "white",
            "ticks": ""
           },
           "bgcolor": "#E5ECF6",
           "caxis": {
            "gridcolor": "white",
            "linecolor": "white",
            "ticks": ""
           }
          },
          "title": {
           "x": 0.05
          },
          "xaxis": {
           "automargin": true,
           "gridcolor": "white",
           "linecolor": "white",
           "ticks": "",
           "title": {
            "standoff": 15
           },
           "zerolinecolor": "white",
           "zerolinewidth": 2
          },
          "yaxis": {
           "automargin": true,
           "gridcolor": "white",
           "linecolor": "white",
           "ticks": "",
           "title": {
            "standoff": 15
           },
           "zerolinecolor": "white",
           "zerolinewidth": 2
          }
         }
        },
        "title": {
         "text": "Population Rate of Regions"
        }
       }
      },
      "text/html": [
       "<div>\n",
       "        \n",
       "        \n",
       "            <div id=\"c452660c-f4df-4ce3-b797-7c1958801926\" class=\"plotly-graph-div\" style=\"height:525px; width:100%;\"></div>\n",
       "            <script type=\"text/javascript\">\n",
       "                require([\"plotly\"], function(Plotly) {\n",
       "                    window.PLOTLYENV=window.PLOTLYENV || {};\n",
       "                    \n",
       "                if (document.getElementById(\"c452660c-f4df-4ce3-b797-7c1958801926\")) {\n",
       "                    Plotly.newPlot(\n",
       "                        'c452660c-f4df-4ce3-b797-7c1958801926',\n",
       "                        [{\"domain\": {\"x\": [0, 0.8], \"y\": [0, 0.8]}, \"hole\": 0.2, \"hoverinfo\": \"label+percent+name\", \"labels\": [\"ASIA (EX. NEAR EAST)         \", \"SUB-SAHARAN AFRICA                 \", \"LATIN AMER. & CARIB    \", \"WESTERN EUROPE                     \", \"NORTHERN AMERICA                   \", \"C.W. OF IND. STATES \", \"NEAR EAST                          \", \"NORTHERN AFRICA                    \", \"EASTERN EUROPE                     \", \"OCEANIA                            \", \"BALTICS                            \"], \"name\": \"Population Rate of Regions\", \"type\": \"pie\", \"values\": [3687982236, 749437000, 561824599, 396339998, 331672307, 280081548, 195068377, 161407133, 119914717, 33131662, 7184974]}],\n",
       "                        {\"annotations\": [{\"font\": {\"size\": 20}, \"showarrow\": false, \"text\": \"Population Rate of Regions\", \"x\": 0.27, \"y\": 1}], \"template\": {\"data\": {\"bar\": [{\"error_x\": {\"color\": \"#2a3f5f\"}, \"error_y\": {\"color\": \"#2a3f5f\"}, \"marker\": {\"line\": {\"color\": \"#E5ECF6\", \"width\": 0.5}}, \"type\": \"bar\"}], \"barpolar\": [{\"marker\": {\"line\": {\"color\": \"#E5ECF6\", \"width\": 0.5}}, \"type\": \"barpolar\"}], \"carpet\": [{\"aaxis\": {\"endlinecolor\": \"#2a3f5f\", \"gridcolor\": \"white\", \"linecolor\": \"white\", \"minorgridcolor\": \"white\", \"startlinecolor\": \"#2a3f5f\"}, \"baxis\": {\"endlinecolor\": \"#2a3f5f\", \"gridcolor\": \"white\", \"linecolor\": \"white\", \"minorgridcolor\": \"white\", \"startlinecolor\": \"#2a3f5f\"}, \"type\": \"carpet\"}], \"choropleth\": [{\"colorbar\": {\"outlinewidth\": 0, \"ticks\": \"\"}, \"type\": \"choropleth\"}], \"contour\": [{\"colorbar\": {\"outlinewidth\": 0, \"ticks\": \"\"}, \"colorscale\": [[0.0, \"#0d0887\"], [0.1111111111111111, \"#46039f\"], [0.2222222222222222, \"#7201a8\"], [0.3333333333333333, \"#9c179e\"], [0.4444444444444444, \"#bd3786\"], [0.5555555555555556, \"#d8576b\"], [0.6666666666666666, \"#ed7953\"], [0.7777777777777778, \"#fb9f3a\"], [0.8888888888888888, \"#fdca26\"], [1.0, \"#f0f921\"]], \"type\": \"contour\"}], \"contourcarpet\": [{\"colorbar\": {\"outlinewidth\": 0, \"ticks\": \"\"}, \"type\": \"contourcarpet\"}], \"heatmap\": [{\"colorbar\": {\"outlinewidth\": 0, \"ticks\": \"\"}, \"colorscale\": [[0.0, \"#0d0887\"], [0.1111111111111111, \"#46039f\"], [0.2222222222222222, \"#7201a8\"], [0.3333333333333333, \"#9c179e\"], [0.4444444444444444, \"#bd3786\"], [0.5555555555555556, \"#d8576b\"], [0.6666666666666666, \"#ed7953\"], [0.7777777777777778, \"#fb9f3a\"], [0.8888888888888888, \"#fdca26\"], [1.0, \"#f0f921\"]], \"type\": \"heatmap\"}], \"heatmapgl\": [{\"colorbar\": {\"outlinewidth\": 0, \"ticks\": \"\"}, \"colorscale\": [[0.0, \"#0d0887\"], [0.1111111111111111, \"#46039f\"], [0.2222222222222222, \"#7201a8\"], [0.3333333333333333, \"#9c179e\"], [0.4444444444444444, \"#bd3786\"], [0.5555555555555556, \"#d8576b\"], [0.6666666666666666, \"#ed7953\"], [0.7777777777777778, \"#fb9f3a\"], [0.8888888888888888, \"#fdca26\"], [1.0, \"#f0f921\"]], \"type\": \"heatmapgl\"}], \"histogram\": [{\"marker\": {\"colorbar\": {\"outlinewidth\": 0, \"ticks\": \"\"}}, \"type\": \"histogram\"}], \"histogram2d\": [{\"colorbar\": {\"outlinewidth\": 0, \"ticks\": \"\"}, \"colorscale\": [[0.0, \"#0d0887\"], [0.1111111111111111, \"#46039f\"], [0.2222222222222222, \"#7201a8\"], [0.3333333333333333, \"#9c179e\"], [0.4444444444444444, \"#bd3786\"], [0.5555555555555556, \"#d8576b\"], [0.6666666666666666, \"#ed7953\"], [0.7777777777777778, \"#fb9f3a\"], [0.8888888888888888, \"#fdca26\"], [1.0, \"#f0f921\"]], \"type\": \"histogram2d\"}], \"histogram2dcontour\": [{\"colorbar\": {\"outlinewidth\": 0, \"ticks\": \"\"}, \"colorscale\": [[0.0, \"#0d0887\"], [0.1111111111111111, \"#46039f\"], [0.2222222222222222, \"#7201a8\"], [0.3333333333333333, \"#9c179e\"], [0.4444444444444444, \"#bd3786\"], [0.5555555555555556, \"#d8576b\"], [0.6666666666666666, \"#ed7953\"], [0.7777777777777778, \"#fb9f3a\"], [0.8888888888888888, \"#fdca26\"], [1.0, \"#f0f921\"]], \"type\": \"histogram2dcontour\"}], \"mesh3d\": [{\"colorbar\": {\"outlinewidth\": 0, \"ticks\": \"\"}, \"type\": \"mesh3d\"}], \"parcoords\": [{\"line\": {\"colorbar\": {\"outlinewidth\": 0, \"ticks\": \"\"}}, \"type\": \"parcoords\"}], \"pie\": [{\"automargin\": true, \"type\": \"pie\"}], \"scatter\": [{\"marker\": {\"colorbar\": {\"outlinewidth\": 0, \"ticks\": \"\"}}, \"type\": \"scatter\"}], \"scatter3d\": [{\"line\": {\"colorbar\": {\"outlinewidth\": 0, \"ticks\": \"\"}}, \"marker\": {\"colorbar\": {\"outlinewidth\": 0, \"ticks\": \"\"}}, \"type\": \"scatter3d\"}], \"scattercarpet\": [{\"marker\": {\"colorbar\": {\"outlinewidth\": 0, \"ticks\": \"\"}}, \"type\": \"scattercarpet\"}], \"scattergeo\": [{\"marker\": {\"colorbar\": {\"outlinewidth\": 0, \"ticks\": \"\"}}, \"type\": \"scattergeo\"}], \"scattergl\": [{\"marker\": {\"colorbar\": {\"outlinewidth\": 0, \"ticks\": \"\"}}, \"type\": \"scattergl\"}], \"scattermapbox\": [{\"marker\": {\"colorbar\": {\"outlinewidth\": 0, \"ticks\": \"\"}}, \"type\": \"scattermapbox\"}], \"scatterpolar\": [{\"marker\": {\"colorbar\": {\"outlinewidth\": 0, \"ticks\": \"\"}}, \"type\": \"scatterpolar\"}], \"scatterpolargl\": [{\"marker\": {\"colorbar\": {\"outlinewidth\": 0, \"ticks\": \"\"}}, \"type\": \"scatterpolargl\"}], \"scatterternary\": [{\"marker\": {\"colorbar\": {\"outlinewidth\": 0, \"ticks\": \"\"}}, \"type\": \"scatterternary\"}], \"surface\": [{\"colorbar\": {\"outlinewidth\": 0, \"ticks\": \"\"}, \"colorscale\": [[0.0, \"#0d0887\"], [0.1111111111111111, \"#46039f\"], [0.2222222222222222, \"#7201a8\"], [0.3333333333333333, \"#9c179e\"], [0.4444444444444444, \"#bd3786\"], [0.5555555555555556, \"#d8576b\"], [0.6666666666666666, \"#ed7953\"], [0.7777777777777778, \"#fb9f3a\"], [0.8888888888888888, \"#fdca26\"], [1.0, \"#f0f921\"]], \"type\": \"surface\"}], \"table\": [{\"cells\": {\"fill\": {\"color\": \"#EBF0F8\"}, \"line\": {\"color\": \"white\"}}, \"header\": {\"fill\": {\"color\": \"#C8D4E3\"}, \"line\": {\"color\": \"white\"}}, \"type\": \"table\"}]}, \"layout\": {\"annotationdefaults\": {\"arrowcolor\": \"#2a3f5f\", \"arrowhead\": 0, \"arrowwidth\": 1}, \"coloraxis\": {\"colorbar\": {\"outlinewidth\": 0, \"ticks\": \"\"}}, \"colorscale\": {\"diverging\": [[0, \"#8e0152\"], [0.1, \"#c51b7d\"], [0.2, \"#de77ae\"], [0.3, \"#f1b6da\"], [0.4, \"#fde0ef\"], [0.5, \"#f7f7f7\"], [0.6, \"#e6f5d0\"], [0.7, \"#b8e186\"], [0.8, \"#7fbc41\"], [0.9, \"#4d9221\"], [1, \"#276419\"]], \"sequential\": [[0.0, \"#0d0887\"], [0.1111111111111111, \"#46039f\"], [0.2222222222222222, \"#7201a8\"], [0.3333333333333333, \"#9c179e\"], [0.4444444444444444, \"#bd3786\"], [0.5555555555555556, \"#d8576b\"], [0.6666666666666666, \"#ed7953\"], [0.7777777777777778, \"#fb9f3a\"], [0.8888888888888888, \"#fdca26\"], [1.0, \"#f0f921\"]], \"sequentialminus\": [[0.0, \"#0d0887\"], [0.1111111111111111, \"#46039f\"], [0.2222222222222222, \"#7201a8\"], [0.3333333333333333, \"#9c179e\"], [0.4444444444444444, \"#bd3786\"], [0.5555555555555556, \"#d8576b\"], [0.6666666666666666, \"#ed7953\"], [0.7777777777777778, \"#fb9f3a\"], [0.8888888888888888, \"#fdca26\"], [1.0, \"#f0f921\"]]}, \"colorway\": [\"#636efa\", \"#EF553B\", \"#00cc96\", \"#ab63fa\", \"#FFA15A\", \"#19d3f3\", \"#FF6692\", \"#B6E880\", \"#FF97FF\", \"#FECB52\"], \"font\": {\"color\": \"#2a3f5f\"}, \"geo\": {\"bgcolor\": \"white\", \"lakecolor\": \"white\", \"landcolor\": \"#E5ECF6\", \"showlakes\": true, \"showland\": true, \"subunitcolor\": \"white\"}, \"hoverlabel\": {\"align\": \"left\"}, \"hovermode\": \"closest\", \"mapbox\": {\"style\": \"light\"}, \"paper_bgcolor\": \"white\", \"plot_bgcolor\": \"#E5ECF6\", \"polar\": {\"angularaxis\": {\"gridcolor\": \"white\", \"linecolor\": \"white\", \"ticks\": \"\"}, \"bgcolor\": \"#E5ECF6\", \"radialaxis\": {\"gridcolor\": \"white\", \"linecolor\": \"white\", \"ticks\": \"\"}}, \"scene\": {\"xaxis\": {\"backgroundcolor\": \"#E5ECF6\", \"gridcolor\": \"white\", \"gridwidth\": 2, \"linecolor\": \"white\", \"showbackground\": true, \"ticks\": \"\", \"zerolinecolor\": \"white\"}, \"yaxis\": {\"backgroundcolor\": \"#E5ECF6\", \"gridcolor\": \"white\", \"gridwidth\": 2, \"linecolor\": \"white\", \"showbackground\": true, \"ticks\": \"\", \"zerolinecolor\": \"white\"}, \"zaxis\": {\"backgroundcolor\": \"#E5ECF6\", \"gridcolor\": \"white\", \"gridwidth\": 2, \"linecolor\": \"white\", \"showbackground\": true, \"ticks\": \"\", \"zerolinecolor\": \"white\"}}, \"shapedefaults\": {\"line\": {\"color\": \"#2a3f5f\"}}, \"ternary\": {\"aaxis\": {\"gridcolor\": \"white\", \"linecolor\": \"white\", \"ticks\": \"\"}, \"baxis\": {\"gridcolor\": \"white\", \"linecolor\": \"white\", \"ticks\": \"\"}, \"bgcolor\": \"#E5ECF6\", \"caxis\": {\"gridcolor\": \"white\", \"linecolor\": \"white\", \"ticks\": \"\"}}, \"title\": {\"x\": 0.05}, \"xaxis\": {\"automargin\": true, \"gridcolor\": \"white\", \"linecolor\": \"white\", \"ticks\": \"\", \"title\": {\"standoff\": 15}, \"zerolinecolor\": \"white\", \"zerolinewidth\": 2}, \"yaxis\": {\"automargin\": true, \"gridcolor\": \"white\", \"linecolor\": \"white\", \"ticks\": \"\", \"title\": {\"standoff\": 15}, \"zerolinecolor\": \"white\", \"zerolinewidth\": 2}}}, \"title\": {\"text\": \"Population Rate of Regions\"}},\n",
       "                        {\"responsive\": true}\n",
       "                    ).then(function(){\n",
       "                            \n",
       "var gd = document.getElementById('c452660c-f4df-4ce3-b797-7c1958801926');\n",
       "var x = new MutationObserver(function (mutations, observer) {{\n",
       "        var display = window.getComputedStyle(gd).display;\n",
       "        if (!display || display === 'none') {{\n",
       "            console.log([gd, 'removed!']);\n",
       "            Plotly.purge(gd);\n",
       "            observer.disconnect();\n",
       "        }}\n",
       "}});\n",
       "\n",
       "// Listen for the removal of the full notebook cells\n",
       "var notebookContainer = gd.closest('#notebook-container');\n",
       "if (notebookContainer) {{\n",
       "    x.observe(notebookContainer, {childList: true});\n",
       "}}\n",
       "\n",
       "// Listen for the clearing of the current output cell\n",
       "var outputEl = gd.closest('.output');\n",
       "if (outputEl) {{\n",
       "    x.observe(outputEl, {childList: true});\n",
       "}}\n",
       "\n",
       "                        })\n",
       "                };\n",
       "                });\n",
       "            </script>\n",
       "        </div>"
      ]
     },
     "metadata": {},
     "output_type": "display_data"
    }
   ],
   "source": [
    "population_pie={\n",
    "  \"data\": [\n",
    "    {\n",
    "      \"values\": pop_reg.Population,\n",
    "      \"labels\": pop_reg.Regions,\n",
    "      \"domain\": {\"x\": [0, .8],\n",
    "                \"y\": [0, .8]},\n",
    "      \"name\": \"Population Rate of Regions\",\n",
    "      \"hoverinfo\":\"label+percent+name\",\n",
    "      \"hole\": .2,\n",
    "      \"type\": \"pie\"\n",
    "    },],\n",
    "  \"layout\": {\n",
    "        \"title\":\"Population Rate of Regions\",\n",
    "        \"annotations\": [\n",
    "            { \"font\": { \"size\": 20},\n",
    "              \"showarrow\": False,\n",
    "              \"text\": \"Population Rate of Regions\",\n",
    "                \"x\": 0.27,\n",
    "                \"y\": 1\n",
    "            },\n",
    "        ]\n",
    "    }\n",
    "}\n",
    "    \n",
    "iplot(population_pie)\n",
    "\n"
   ]
  },
  {
   "cell_type": "markdown",
   "metadata": {
    "papermill": {
     "duration": 0.061421,
     "end_time": "2020-12-10T16:16:44.128907",
     "exception": false,
     "start_time": "2020-12-10T16:16:44.067486",
     "status": "completed"
    },
    "tags": []
   },
   "source": [
    "# Population by Country"
   ]
  },
  {
   "cell_type": "code",
   "execution_count": 9,
   "metadata": {
    "execution": {
     "iopub.execute_input": "2020-12-10T16:16:44.255473Z",
     "iopub.status.busy": "2020-12-10T16:16:44.254593Z",
     "iopub.status.idle": "2020-12-10T16:16:44.324010Z",
     "shell.execute_reply": "2020-12-10T16:16:44.324702Z"
    },
    "papermill": {
     "duration": 0.130924,
     "end_time": "2020-12-10T16:16:44.324890",
     "exception": false,
     "start_time": "2020-12-10T16:16:44.193966",
     "status": "completed"
    },
    "tags": []
   },
   "outputs": [
    {
     "data": {
      "application/vnd.plotly.v1+json": {
       "config": {
        "linkText": "Export to plot.ly",
        "plotlyServerURL": "https://plot.ly",
        "showLink": false
       },
       "data": [
        {
         "marker": {
          "color": "rgba(80, 26, 255, 0.8)"
         },
         "mode": "lines+markers",
         "name": "Population",
         "text": [
          "Afghanistan ",
          "Albania ",
          "Algeria ",
          "American Samoa ",
          "Andorra ",
          "Angola ",
          "Anguilla ",
          "Antigua & Barbuda ",
          "Argentina ",
          "Armenia ",
          "Aruba ",
          "Australia ",
          "Austria ",
          "Azerbaijan ",
          "Bahamas, The ",
          "Bahrain ",
          "Bangladesh ",
          "Barbados ",
          "Belarus ",
          "Belgium ",
          "Belize ",
          "Benin ",
          "Bermuda ",
          "Bhutan ",
          "Bolivia ",
          "Bosnia & Herzegovina ",
          "Botswana ",
          "Brazil ",
          "British Virgin Is. ",
          "Brunei ",
          "Bulgaria ",
          "Burkina Faso ",
          "Burma ",
          "Burundi ",
          "Cambodia ",
          "Cameroon ",
          "Canada ",
          "Cape Verde ",
          "Cayman Islands ",
          "Central African Rep. ",
          "Chad ",
          "Chile ",
          "China ",
          "Colombia ",
          "Comoros ",
          "Congo, Dem. Rep. ",
          "Congo, Repub. of the ",
          "Cook Islands ",
          "Costa Rica ",
          "Cote d'Ivoire ",
          "Croatia ",
          "Cuba ",
          "Cyprus ",
          "Czech Republic ",
          "Denmark ",
          "Djibouti ",
          "Dominica ",
          "Dominican Republic ",
          "East Timor ",
          "Ecuador ",
          "Egypt ",
          "El Salvador ",
          "Equatorial Guinea ",
          "Eritrea ",
          "Estonia ",
          "Ethiopia ",
          "Faroe Islands ",
          "Fiji ",
          "Finland ",
          "France ",
          "French Guiana ",
          "French Polynesia ",
          "Gabon ",
          "Gambia, The ",
          "Gaza Strip ",
          "Georgia ",
          "Germany ",
          "Ghana ",
          "Gibraltar ",
          "Greece ",
          "Greenland ",
          "Grenada ",
          "Guadeloupe ",
          "Guam ",
          "Guatemala ",
          "Guernsey ",
          "Guinea ",
          "Guinea-Bissau ",
          "Guyana ",
          "Haiti ",
          "Honduras ",
          "Hong Kong ",
          "Hungary ",
          "Iceland ",
          "India ",
          "Indonesia ",
          "Iran ",
          "Iraq ",
          "Ireland ",
          "Isle of Man ",
          "Israel ",
          "Italy ",
          "Jamaica ",
          "Japan ",
          "Jersey ",
          "Jordan ",
          "Kazakhstan ",
          "Kenya ",
          "Kiribati ",
          "Korea, North ",
          "Korea, South ",
          "Kuwait ",
          "Kyrgyzstan ",
          "Laos ",
          "Latvia ",
          "Lebanon ",
          "Lesotho ",
          "Liberia ",
          "Libya ",
          "Liechtenstein ",
          "Lithuania ",
          "Luxembourg ",
          "Macau ",
          "Macedonia ",
          "Madagascar ",
          "Malawi ",
          "Malaysia ",
          "Maldives ",
          "Mali ",
          "Malta ",
          "Marshall Islands ",
          "Martinique ",
          "Mauritania ",
          "Mauritius ",
          "Mayotte ",
          "Mexico ",
          "Micronesia, Fed. St. ",
          "Moldova ",
          "Monaco ",
          "Mongolia ",
          "Montserrat ",
          "Morocco ",
          "Mozambique ",
          "Namibia ",
          "Nauru ",
          "Nepal ",
          "Netherlands ",
          "Netherlands Antilles ",
          "New Caledonia ",
          "New Zealand ",
          "Nicaragua ",
          "Niger ",
          "Nigeria ",
          "N. Mariana Islands ",
          "Norway ",
          "Oman ",
          "Pakistan ",
          "Palau ",
          "Panama ",
          "Papua New Guinea ",
          "Paraguay ",
          "Peru ",
          "Philippines ",
          "Poland ",
          "Portugal ",
          "Puerto Rico ",
          "Qatar ",
          "Reunion ",
          "Romania ",
          "Russia ",
          "Rwanda ",
          "Saint Helena ",
          "Saint Kitts & Nevis ",
          "Saint Lucia ",
          "St Pierre & Miquelon ",
          "Saint Vincent and the Grenadines ",
          "Samoa ",
          "San Marino ",
          "Sao Tome & Principe ",
          "Saudi Arabia ",
          "Senegal ",
          "Serbia ",
          "Seychelles ",
          "Sierra Leone ",
          "Singapore ",
          "Slovakia ",
          "Slovenia ",
          "Solomon Islands ",
          "Somalia ",
          "South Africa ",
          "Spain ",
          "Sri Lanka ",
          "Sudan ",
          "Suriname ",
          "Swaziland ",
          "Sweden ",
          "Switzerland ",
          "Syria ",
          "Taiwan ",
          "Tajikistan ",
          "Tanzania ",
          "Thailand ",
          "Togo ",
          "Tonga ",
          "Trinidad & Tobago ",
          "Tunisia ",
          "Turkey ",
          "Turkmenistan ",
          "Turks & Caicos Is ",
          "Tuvalu ",
          "Uganda ",
          "Ukraine ",
          "United Arab Emirates ",
          "United Kingdom ",
          "United States ",
          "Uruguay ",
          "Uzbekistan ",
          "Vanuatu ",
          "Venezuela ",
          "Vietnam ",
          "Virgin Islands ",
          "Wallis and Futuna ",
          "West Bank ",
          "Western Sahara ",
          "Yemen ",
          "Zambia ",
          "Zimbabwe "
         ],
         "type": "scatter",
         "x": [
          "Afghanistan ",
          "Albania ",
          "Algeria ",
          "American Samoa ",
          "Andorra ",
          "Angola ",
          "Anguilla ",
          "Antigua & Barbuda ",
          "Argentina ",
          "Armenia ",
          "Aruba ",
          "Australia ",
          "Austria ",
          "Azerbaijan ",
          "Bahamas, The ",
          "Bahrain ",
          "Bangladesh ",
          "Barbados ",
          "Belarus ",
          "Belgium ",
          "Belize ",
          "Benin ",
          "Bermuda ",
          "Bhutan ",
          "Bolivia ",
          "Bosnia & Herzegovina ",
          "Botswana ",
          "Brazil ",
          "British Virgin Is. ",
          "Brunei ",
          "Bulgaria ",
          "Burkina Faso ",
          "Burma ",
          "Burundi ",
          "Cambodia ",
          "Cameroon ",
          "Canada ",
          "Cape Verde ",
          "Cayman Islands ",
          "Central African Rep. ",
          "Chad ",
          "Chile ",
          "China ",
          "Colombia ",
          "Comoros ",
          "Congo, Dem. Rep. ",
          "Congo, Repub. of the ",
          "Cook Islands ",
          "Costa Rica ",
          "Cote d'Ivoire ",
          "Croatia ",
          "Cuba ",
          "Cyprus ",
          "Czech Republic ",
          "Denmark ",
          "Djibouti ",
          "Dominica ",
          "Dominican Republic ",
          "East Timor ",
          "Ecuador ",
          "Egypt ",
          "El Salvador ",
          "Equatorial Guinea ",
          "Eritrea ",
          "Estonia ",
          "Ethiopia ",
          "Faroe Islands ",
          "Fiji ",
          "Finland ",
          "France ",
          "French Guiana ",
          "French Polynesia ",
          "Gabon ",
          "Gambia, The ",
          "Gaza Strip ",
          "Georgia ",
          "Germany ",
          "Ghana ",
          "Gibraltar ",
          "Greece ",
          "Greenland ",
          "Grenada ",
          "Guadeloupe ",
          "Guam ",
          "Guatemala ",
          "Guernsey ",
          "Guinea ",
          "Guinea-Bissau ",
          "Guyana ",
          "Haiti ",
          "Honduras ",
          "Hong Kong ",
          "Hungary ",
          "Iceland ",
          "India ",
          "Indonesia ",
          "Iran ",
          "Iraq ",
          "Ireland ",
          "Isle of Man ",
          "Israel ",
          "Italy ",
          "Jamaica ",
          "Japan ",
          "Jersey ",
          "Jordan ",
          "Kazakhstan ",
          "Kenya ",
          "Kiribati ",
          "Korea, North ",
          "Korea, South ",
          "Kuwait ",
          "Kyrgyzstan ",
          "Laos ",
          "Latvia ",
          "Lebanon ",
          "Lesotho ",
          "Liberia ",
          "Libya ",
          "Liechtenstein ",
          "Lithuania ",
          "Luxembourg ",
          "Macau ",
          "Macedonia ",
          "Madagascar ",
          "Malawi ",
          "Malaysia ",
          "Maldives ",
          "Mali ",
          "Malta ",
          "Marshall Islands ",
          "Martinique ",
          "Mauritania ",
          "Mauritius ",
          "Mayotte ",
          "Mexico ",
          "Micronesia, Fed. St. ",
          "Moldova ",
          "Monaco ",
          "Mongolia ",
          "Montserrat ",
          "Morocco ",
          "Mozambique ",
          "Namibia ",
          "Nauru ",
          "Nepal ",
          "Netherlands ",
          "Netherlands Antilles ",
          "New Caledonia ",
          "New Zealand ",
          "Nicaragua ",
          "Niger ",
          "Nigeria ",
          "N. Mariana Islands ",
          "Norway ",
          "Oman ",
          "Pakistan ",
          "Palau ",
          "Panama ",
          "Papua New Guinea ",
          "Paraguay ",
          "Peru ",
          "Philippines ",
          "Poland ",
          "Portugal ",
          "Puerto Rico ",
          "Qatar ",
          "Reunion ",
          "Romania ",
          "Russia ",
          "Rwanda ",
          "Saint Helena ",
          "Saint Kitts & Nevis ",
          "Saint Lucia ",
          "St Pierre & Miquelon ",
          "Saint Vincent and the Grenadines ",
          "Samoa ",
          "San Marino ",
          "Sao Tome & Principe ",
          "Saudi Arabia ",
          "Senegal ",
          "Serbia ",
          "Seychelles ",
          "Sierra Leone ",
          "Singapore ",
          "Slovakia ",
          "Slovenia ",
          "Solomon Islands ",
          "Somalia ",
          "South Africa ",
          "Spain ",
          "Sri Lanka ",
          "Sudan ",
          "Suriname ",
          "Swaziland ",
          "Sweden ",
          "Switzerland ",
          "Syria ",
          "Taiwan ",
          "Tajikistan ",
          "Tanzania ",
          "Thailand ",
          "Togo ",
          "Tonga ",
          "Trinidad & Tobago ",
          "Tunisia ",
          "Turkey ",
          "Turkmenistan ",
          "Turks & Caicos Is ",
          "Tuvalu ",
          "Uganda ",
          "Ukraine ",
          "United Arab Emirates ",
          "United Kingdom ",
          "United States ",
          "Uruguay ",
          "Uzbekistan ",
          "Vanuatu ",
          "Venezuela ",
          "Vietnam ",
          "Virgin Islands ",
          "Wallis and Futuna ",
          "West Bank ",
          "Western Sahara ",
          "Yemen ",
          "Zambia ",
          "Zimbabwe "
         ],
         "y": [
          31056997,
          3581655,
          32930091,
          57794,
          71201,
          12127071,
          13477,
          69108,
          39921833,
          2976372,
          71891,
          20264082,
          8192880,
          7961619,
          303770,
          698585,
          147365352,
          279912,
          10293011,
          10379067,
          287730,
          7862944,
          65773,
          2279723,
          8989046,
          4498976,
          1639833,
          188078227,
          23098,
          379444,
          7385367,
          13902972,
          47382633,
          8090068,
          13881427,
          17340702,
          33098932,
          420979,
          45436,
          4303356,
          9944201,
          16134219,
          1313973713,
          43593035,
          690948,
          62660551,
          3702314,
          21388,
          4075261,
          17654843,
          4494749,
          11382820,
          784301,
          10235455,
          5450661,
          486530,
          68910,
          9183984,
          1062777,
          13547510,
          78887007,
          6822378,
          540109,
          4786994,
          1324333,
          74777981,
          47246,
          905949,
          5231372,
          60876136,
          199509,
          274578,
          1424906,
          1641564,
          1428757,
          4661473,
          82422299,
          22409572,
          27928,
          10688058,
          56361,
          89703,
          452776,
          171019,
          12293545,
          65409,
          9690222,
          1442029,
          767245,
          8308504,
          7326496,
          6940432,
          9981334,
          299388,
          1095351995,
          245452739,
          68688433,
          26783383,
          4062235,
          75441,
          6352117,
          58133509,
          2758124,
          127463611,
          91084,
          5906760,
          15233244,
          34707817,
          105432,
          23113019,
          48846823,
          2418393,
          5213898,
          6368481,
          2274735,
          3874050,
          2022331,
          3042004,
          5900754,
          33987,
          3585906,
          474413,
          453125,
          2050554,
          18595469,
          13013926,
          24385858,
          359008,
          11716829,
          400214,
          60422,
          436131,
          3177388,
          1240827,
          201234,
          107449525,
          108004,
          4466706,
          32543,
          2832224,
          9439,
          33241259,
          19686505,
          2044147,
          13287,
          28287147,
          16491461,
          221736,
          219246,
          4076140,
          5570129,
          12525094,
          131859731,
          82459,
          4610820,
          3102229,
          165803560,
          20579,
          3191319,
          5670544,
          6506464,
          28302603,
          89468677,
          38536869,
          10605870,
          3927188,
          885359,
          787584,
          22303552,
          142893540,
          8648248,
          7502,
          39129,
          168458,
          7026,
          117848,
          176908,
          29251,
          193413,
          27019731,
          11987121,
          9396411,
          81541,
          6005250,
          4492150,
          5439448,
          2010347,
          552438,
          8863338,
          44187637,
          40397842,
          20222240,
          41236378,
          439117,
          1136334,
          9016596,
          7523934,
          18881361,
          23036087,
          7320815,
          37445392,
          64631595,
          5548702,
          114689,
          1065842,
          10175014,
          70413958,
          5042920,
          21152,
          11810,
          28195754,
          46710816,
          2602713,
          60609153,
          298444215,
          3431932,
          27307134,
          208869,
          25730435,
          84402966,
          108605,
          16025,
          2460492,
          273008,
          21456188,
          11502010,
          12236805
         ]
        }
       ],
       "layout": {
        "template": {
         "data": {
          "bar": [
           {
            "error_x": {
             "color": "#2a3f5f"
            },
            "error_y": {
             "color": "#2a3f5f"
            },
            "marker": {
             "line": {
              "color": "#E5ECF6",
              "width": 0.5
             }
            },
            "type": "bar"
           }
          ],
          "barpolar": [
           {
            "marker": {
             "line": {
              "color": "#E5ECF6",
              "width": 0.5
             }
            },
            "type": "barpolar"
           }
          ],
          "carpet": [
           {
            "aaxis": {
             "endlinecolor": "#2a3f5f",
             "gridcolor": "white",
             "linecolor": "white",
             "minorgridcolor": "white",
             "startlinecolor": "#2a3f5f"
            },
            "baxis": {
             "endlinecolor": "#2a3f5f",
             "gridcolor": "white",
             "linecolor": "white",
             "minorgridcolor": "white",
             "startlinecolor": "#2a3f5f"
            },
            "type": "carpet"
           }
          ],
          "choropleth": [
           {
            "colorbar": {
             "outlinewidth": 0,
             "ticks": ""
            },
            "type": "choropleth"
           }
          ],
          "contour": [
           {
            "colorbar": {
             "outlinewidth": 0,
             "ticks": ""
            },
            "colorscale": [
             [
              0.0,
              "#0d0887"
             ],
             [
              0.1111111111111111,
              "#46039f"
             ],
             [
              0.2222222222222222,
              "#7201a8"
             ],
             [
              0.3333333333333333,
              "#9c179e"
             ],
             [
              0.4444444444444444,
              "#bd3786"
             ],
             [
              0.5555555555555556,
              "#d8576b"
             ],
             [
              0.6666666666666666,
              "#ed7953"
             ],
             [
              0.7777777777777778,
              "#fb9f3a"
             ],
             [
              0.8888888888888888,
              "#fdca26"
             ],
             [
              1.0,
              "#f0f921"
             ]
            ],
            "type": "contour"
           }
          ],
          "contourcarpet": [
           {
            "colorbar": {
             "outlinewidth": 0,
             "ticks": ""
            },
            "type": "contourcarpet"
           }
          ],
          "heatmap": [
           {
            "colorbar": {
             "outlinewidth": 0,
             "ticks": ""
            },
            "colorscale": [
             [
              0.0,
              "#0d0887"
             ],
             [
              0.1111111111111111,
              "#46039f"
             ],
             [
              0.2222222222222222,
              "#7201a8"
             ],
             [
              0.3333333333333333,
              "#9c179e"
             ],
             [
              0.4444444444444444,
              "#bd3786"
             ],
             [
              0.5555555555555556,
              "#d8576b"
             ],
             [
              0.6666666666666666,
              "#ed7953"
             ],
             [
              0.7777777777777778,
              "#fb9f3a"
             ],
             [
              0.8888888888888888,
              "#fdca26"
             ],
             [
              1.0,
              "#f0f921"
             ]
            ],
            "type": "heatmap"
           }
          ],
          "heatmapgl": [
           {
            "colorbar": {
             "outlinewidth": 0,
             "ticks": ""
            },
            "colorscale": [
             [
              0.0,
              "#0d0887"
             ],
             [
              0.1111111111111111,
              "#46039f"
             ],
             [
              0.2222222222222222,
              "#7201a8"
             ],
             [
              0.3333333333333333,
              "#9c179e"
             ],
             [
              0.4444444444444444,
              "#bd3786"
             ],
             [
              0.5555555555555556,
              "#d8576b"
             ],
             [
              0.6666666666666666,
              "#ed7953"
             ],
             [
              0.7777777777777778,
              "#fb9f3a"
             ],
             [
              0.8888888888888888,
              "#fdca26"
             ],
             [
              1.0,
              "#f0f921"
             ]
            ],
            "type": "heatmapgl"
           }
          ],
          "histogram": [
           {
            "marker": {
             "colorbar": {
              "outlinewidth": 0,
              "ticks": ""
             }
            },
            "type": "histogram"
           }
          ],
          "histogram2d": [
           {
            "colorbar": {
             "outlinewidth": 0,
             "ticks": ""
            },
            "colorscale": [
             [
              0.0,
              "#0d0887"
             ],
             [
              0.1111111111111111,
              "#46039f"
             ],
             [
              0.2222222222222222,
              "#7201a8"
             ],
             [
              0.3333333333333333,
              "#9c179e"
             ],
             [
              0.4444444444444444,
              "#bd3786"
             ],
             [
              0.5555555555555556,
              "#d8576b"
             ],
             [
              0.6666666666666666,
              "#ed7953"
             ],
             [
              0.7777777777777778,
              "#fb9f3a"
             ],
             [
              0.8888888888888888,
              "#fdca26"
             ],
             [
              1.0,
              "#f0f921"
             ]
            ],
            "type": "histogram2d"
           }
          ],
          "histogram2dcontour": [
           {
            "colorbar": {
             "outlinewidth": 0,
             "ticks": ""
            },
            "colorscale": [
             [
              0.0,
              "#0d0887"
             ],
             [
              0.1111111111111111,
              "#46039f"
             ],
             [
              0.2222222222222222,
              "#7201a8"
             ],
             [
              0.3333333333333333,
              "#9c179e"
             ],
             [
              0.4444444444444444,
              "#bd3786"
             ],
             [
              0.5555555555555556,
              "#d8576b"
             ],
             [
              0.6666666666666666,
              "#ed7953"
             ],
             [
              0.7777777777777778,
              "#fb9f3a"
             ],
             [
              0.8888888888888888,
              "#fdca26"
             ],
             [
              1.0,
              "#f0f921"
             ]
            ],
            "type": "histogram2dcontour"
           }
          ],
          "mesh3d": [
           {
            "colorbar": {
             "outlinewidth": 0,
             "ticks": ""
            },
            "type": "mesh3d"
           }
          ],
          "parcoords": [
           {
            "line": {
             "colorbar": {
              "outlinewidth": 0,
              "ticks": ""
             }
            },
            "type": "parcoords"
           }
          ],
          "pie": [
           {
            "automargin": true,
            "type": "pie"
           }
          ],
          "scatter": [
           {
            "marker": {
             "colorbar": {
              "outlinewidth": 0,
              "ticks": ""
             }
            },
            "type": "scatter"
           }
          ],
          "scatter3d": [
           {
            "line": {
             "colorbar": {
              "outlinewidth": 0,
              "ticks": ""
             }
            },
            "marker": {
             "colorbar": {
              "outlinewidth": 0,
              "ticks": ""
             }
            },
            "type": "scatter3d"
           }
          ],
          "scattercarpet": [
           {
            "marker": {
             "colorbar": {
              "outlinewidth": 0,
              "ticks": ""
             }
            },
            "type": "scattercarpet"
           }
          ],
          "scattergeo": [
           {
            "marker": {
             "colorbar": {
              "outlinewidth": 0,
              "ticks": ""
             }
            },
            "type": "scattergeo"
           }
          ],
          "scattergl": [
           {
            "marker": {
             "colorbar": {
              "outlinewidth": 0,
              "ticks": ""
             }
            },
            "type": "scattergl"
           }
          ],
          "scattermapbox": [
           {
            "marker": {
             "colorbar": {
              "outlinewidth": 0,
              "ticks": ""
             }
            },
            "type": "scattermapbox"
           }
          ],
          "scatterpolar": [
           {
            "marker": {
             "colorbar": {
              "outlinewidth": 0,
              "ticks": ""
             }
            },
            "type": "scatterpolar"
           }
          ],
          "scatterpolargl": [
           {
            "marker": {
             "colorbar": {
              "outlinewidth": 0,
              "ticks": ""
             }
            },
            "type": "scatterpolargl"
           }
          ],
          "scatterternary": [
           {
            "marker": {
             "colorbar": {
              "outlinewidth": 0,
              "ticks": ""
             }
            },
            "type": "scatterternary"
           }
          ],
          "surface": [
           {
            "colorbar": {
             "outlinewidth": 0,
             "ticks": ""
            },
            "colorscale": [
             [
              0.0,
              "#0d0887"
             ],
             [
              0.1111111111111111,
              "#46039f"
             ],
             [
              0.2222222222222222,
              "#7201a8"
             ],
             [
              0.3333333333333333,
              "#9c179e"
             ],
             [
              0.4444444444444444,
              "#bd3786"
             ],
             [
              0.5555555555555556,
              "#d8576b"
             ],
             [
              0.6666666666666666,
              "#ed7953"
             ],
             [
              0.7777777777777778,
              "#fb9f3a"
             ],
             [
              0.8888888888888888,
              "#fdca26"
             ],
             [
              1.0,
              "#f0f921"
             ]
            ],
            "type": "surface"
           }
          ],
          "table": [
           {
            "cells": {
             "fill": {
              "color": "#EBF0F8"
             },
             "line": {
              "color": "white"
             }
            },
            "header": {
             "fill": {
              "color": "#C8D4E3"
             },
             "line": {
              "color": "white"
             }
            },
            "type": "table"
           }
          ]
         },
         "layout": {
          "annotationdefaults": {
           "arrowcolor": "#2a3f5f",
           "arrowhead": 0,
           "arrowwidth": 1
          },
          "coloraxis": {
           "colorbar": {
            "outlinewidth": 0,
            "ticks": ""
           }
          },
          "colorscale": {
           "diverging": [
            [
             0,
             "#8e0152"
            ],
            [
             0.1,
             "#c51b7d"
            ],
            [
             0.2,
             "#de77ae"
            ],
            [
             0.3,
             "#f1b6da"
            ],
            [
             0.4,
             "#fde0ef"
            ],
            [
             0.5,
             "#f7f7f7"
            ],
            [
             0.6,
             "#e6f5d0"
            ],
            [
             0.7,
             "#b8e186"
            ],
            [
             0.8,
             "#7fbc41"
            ],
            [
             0.9,
             "#4d9221"
            ],
            [
             1,
             "#276419"
            ]
           ],
           "sequential": [
            [
             0.0,
             "#0d0887"
            ],
            [
             0.1111111111111111,
             "#46039f"
            ],
            [
             0.2222222222222222,
             "#7201a8"
            ],
            [
             0.3333333333333333,
             "#9c179e"
            ],
            [
             0.4444444444444444,
             "#bd3786"
            ],
            [
             0.5555555555555556,
             "#d8576b"
            ],
            [
             0.6666666666666666,
             "#ed7953"
            ],
            [
             0.7777777777777778,
             "#fb9f3a"
            ],
            [
             0.8888888888888888,
             "#fdca26"
            ],
            [
             1.0,
             "#f0f921"
            ]
           ],
           "sequentialminus": [
            [
             0.0,
             "#0d0887"
            ],
            [
             0.1111111111111111,
             "#46039f"
            ],
            [
             0.2222222222222222,
             "#7201a8"
            ],
            [
             0.3333333333333333,
             "#9c179e"
            ],
            [
             0.4444444444444444,
             "#bd3786"
            ],
            [
             0.5555555555555556,
             "#d8576b"
            ],
            [
             0.6666666666666666,
             "#ed7953"
            ],
            [
             0.7777777777777778,
             "#fb9f3a"
            ],
            [
             0.8888888888888888,
             "#fdca26"
            ],
            [
             1.0,
             "#f0f921"
            ]
           ]
          },
          "colorway": [
           "#636efa",
           "#EF553B",
           "#00cc96",
           "#ab63fa",
           "#FFA15A",
           "#19d3f3",
           "#FF6692",
           "#B6E880",
           "#FF97FF",
           "#FECB52"
          ],
          "font": {
           "color": "#2a3f5f"
          },
          "geo": {
           "bgcolor": "white",
           "lakecolor": "white",
           "landcolor": "#E5ECF6",
           "showlakes": true,
           "showland": true,
           "subunitcolor": "white"
          },
          "hoverlabel": {
           "align": "left"
          },
          "hovermode": "closest",
          "mapbox": {
           "style": "light"
          },
          "paper_bgcolor": "white",
          "plot_bgcolor": "#E5ECF6",
          "polar": {
           "angularaxis": {
            "gridcolor": "white",
            "linecolor": "white",
            "ticks": ""
           },
           "bgcolor": "#E5ECF6",
           "radialaxis": {
            "gridcolor": "white",
            "linecolor": "white",
            "ticks": ""
           }
          },
          "scene": {
           "xaxis": {
            "backgroundcolor": "#E5ECF6",
            "gridcolor": "white",
            "gridwidth": 2,
            "linecolor": "white",
            "showbackground": true,
            "ticks": "",
            "zerolinecolor": "white"
           },
           "yaxis": {
            "backgroundcolor": "#E5ECF6",
            "gridcolor": "white",
            "gridwidth": 2,
            "linecolor": "white",
            "showbackground": true,
            "ticks": "",
            "zerolinecolor": "white"
           },
           "zaxis": {
            "backgroundcolor": "#E5ECF6",
            "gridcolor": "white",
            "gridwidth": 2,
            "linecolor": "white",
            "showbackground": true,
            "ticks": "",
            "zerolinecolor": "white"
           }
          },
          "shapedefaults": {
           "line": {
            "color": "#2a3f5f"
           }
          },
          "ternary": {
           "aaxis": {
            "gridcolor": "white",
            "linecolor": "white",
            "ticks": ""
           },
           "baxis": {
            "gridcolor": "white",
            "linecolor": "white",
            "ticks": ""
           },
           "bgcolor": "#E5ECF6",
           "caxis": {
            "gridcolor": "white",
            "linecolor": "white",
            "ticks": ""
           }
          },
          "title": {
           "x": 0.05
          },
          "xaxis": {
           "automargin": true,
           "gridcolor": "white",
           "linecolor": "white",
           "ticks": "",
           "title": {
            "standoff": 15
           },
           "zerolinecolor": "white",
           "zerolinewidth": 2
          },
          "yaxis": {
           "automargin": true,
           "gridcolor": "white",
           "linecolor": "white",
           "ticks": "",
           "title": {
            "standoff": 15
           },
           "zerolinecolor": "white",
           "zerolinewidth": 2
          }
         }
        },
        "title": {
         "text": "Population by Country"
        },
        "xaxis": {
         "ticklen": 5,
         "title": {
          "text": "Country"
         },
         "zeroline": false
        }
       }
      },
      "text/html": [
       "<div>\n",
       "        \n",
       "        \n",
       "            <div id=\"adc56b80-15b7-4fef-9b1a-79e7ab4e88e2\" class=\"plotly-graph-div\" style=\"height:525px; width:100%;\"></div>\n",
       "            <script type=\"text/javascript\">\n",
       "                require([\"plotly\"], function(Plotly) {\n",
       "                    window.PLOTLYENV=window.PLOTLYENV || {};\n",
       "                    \n",
       "                if (document.getElementById(\"adc56b80-15b7-4fef-9b1a-79e7ab4e88e2\")) {\n",
       "                    Plotly.newPlot(\n",
       "                        'adc56b80-15b7-4fef-9b1a-79e7ab4e88e2',\n",
       "                        [{\"marker\": {\"color\": \"rgba(80, 26, 255, 0.8)\"}, \"mode\": \"lines+markers\", \"name\": \"Population\", \"text\": [\"Afghanistan \", \"Albania \", \"Algeria \", \"American Samoa \", \"Andorra \", \"Angola \", \"Anguilla \", \"Antigua & Barbuda \", \"Argentina \", \"Armenia \", \"Aruba \", \"Australia \", \"Austria \", \"Azerbaijan \", \"Bahamas, The \", \"Bahrain \", \"Bangladesh \", \"Barbados \", \"Belarus \", \"Belgium \", \"Belize \", \"Benin \", \"Bermuda \", \"Bhutan \", \"Bolivia \", \"Bosnia & Herzegovina \", \"Botswana \", \"Brazil \", \"British Virgin Is. \", \"Brunei \", \"Bulgaria \", \"Burkina Faso \", \"Burma \", \"Burundi \", \"Cambodia \", \"Cameroon \", \"Canada \", \"Cape Verde \", \"Cayman Islands \", \"Central African Rep. \", \"Chad \", \"Chile \", \"China \", \"Colombia \", \"Comoros \", \"Congo, Dem. Rep. \", \"Congo, Repub. of the \", \"Cook Islands \", \"Costa Rica \", \"Cote d'Ivoire \", \"Croatia \", \"Cuba \", \"Cyprus \", \"Czech Republic \", \"Denmark \", \"Djibouti \", \"Dominica \", \"Dominican Republic \", \"East Timor \", \"Ecuador \", \"Egypt \", \"El Salvador \", \"Equatorial Guinea \", \"Eritrea \", \"Estonia \", \"Ethiopia \", \"Faroe Islands \", \"Fiji \", \"Finland \", \"France \", \"French Guiana \", \"French Polynesia \", \"Gabon \", \"Gambia, The \", \"Gaza Strip \", \"Georgia \", \"Germany \", \"Ghana \", \"Gibraltar \", \"Greece \", \"Greenland \", \"Grenada \", \"Guadeloupe \", \"Guam \", \"Guatemala \", \"Guernsey \", \"Guinea \", \"Guinea-Bissau \", \"Guyana \", \"Haiti \", \"Honduras \", \"Hong Kong \", \"Hungary \", \"Iceland \", \"India \", \"Indonesia \", \"Iran \", \"Iraq \", \"Ireland \", \"Isle of Man \", \"Israel \", \"Italy \", \"Jamaica \", \"Japan \", \"Jersey \", \"Jordan \", \"Kazakhstan \", \"Kenya \", \"Kiribati \", \"Korea, North \", \"Korea, South \", \"Kuwait \", \"Kyrgyzstan \", \"Laos \", \"Latvia \", \"Lebanon \", \"Lesotho \", \"Liberia \", \"Libya \", \"Liechtenstein \", \"Lithuania \", \"Luxembourg \", \"Macau \", \"Macedonia \", \"Madagascar \", \"Malawi \", \"Malaysia \", \"Maldives \", \"Mali \", \"Malta \", \"Marshall Islands \", \"Martinique \", \"Mauritania \", \"Mauritius \", \"Mayotte \", \"Mexico \", \"Micronesia, Fed. St. \", \"Moldova \", \"Monaco \", \"Mongolia \", \"Montserrat \", \"Morocco \", \"Mozambique \", \"Namibia \", \"Nauru \", \"Nepal \", \"Netherlands \", \"Netherlands Antilles \", \"New Caledonia \", \"New Zealand \", \"Nicaragua \", \"Niger \", \"Nigeria \", \"N. Mariana Islands \", \"Norway \", \"Oman \", \"Pakistan \", \"Palau \", \"Panama \", \"Papua New Guinea \", \"Paraguay \", \"Peru \", \"Philippines \", \"Poland \", \"Portugal \", \"Puerto Rico \", \"Qatar \", \"Reunion \", \"Romania \", \"Russia \", \"Rwanda \", \"Saint Helena \", \"Saint Kitts & Nevis \", \"Saint Lucia \", \"St Pierre & Miquelon \", \"Saint Vincent and the Grenadines \", \"Samoa \", \"San Marino \", \"Sao Tome & Principe \", \"Saudi Arabia \", \"Senegal \", \"Serbia \", \"Seychelles \", \"Sierra Leone \", \"Singapore \", \"Slovakia \", \"Slovenia \", \"Solomon Islands \", \"Somalia \", \"South Africa \", \"Spain \", \"Sri Lanka \", \"Sudan \", \"Suriname \", \"Swaziland \", \"Sweden \", \"Switzerland \", \"Syria \", \"Taiwan \", \"Tajikistan \", \"Tanzania \", \"Thailand \", \"Togo \", \"Tonga \", \"Trinidad & Tobago \", \"Tunisia \", \"Turkey \", \"Turkmenistan \", \"Turks & Caicos Is \", \"Tuvalu \", \"Uganda \", \"Ukraine \", \"United Arab Emirates \", \"United Kingdom \", \"United States \", \"Uruguay \", \"Uzbekistan \", \"Vanuatu \", \"Venezuela \", \"Vietnam \", \"Virgin Islands \", \"Wallis and Futuna \", \"West Bank \", \"Western Sahara \", \"Yemen \", \"Zambia \", \"Zimbabwe \"], \"type\": \"scatter\", \"x\": [\"Afghanistan \", \"Albania \", \"Algeria \", \"American Samoa \", \"Andorra \", \"Angola \", \"Anguilla \", \"Antigua & Barbuda \", \"Argentina \", \"Armenia \", \"Aruba \", \"Australia \", \"Austria \", \"Azerbaijan \", \"Bahamas, The \", \"Bahrain \", \"Bangladesh \", \"Barbados \", \"Belarus \", \"Belgium \", \"Belize \", \"Benin \", \"Bermuda \", \"Bhutan \", \"Bolivia \", \"Bosnia & Herzegovina \", \"Botswana \", \"Brazil \", \"British Virgin Is. \", \"Brunei \", \"Bulgaria \", \"Burkina Faso \", \"Burma \", \"Burundi \", \"Cambodia \", \"Cameroon \", \"Canada \", \"Cape Verde \", \"Cayman Islands \", \"Central African Rep. \", \"Chad \", \"Chile \", \"China \", \"Colombia \", \"Comoros \", \"Congo, Dem. Rep. \", \"Congo, Repub. of the \", \"Cook Islands \", \"Costa Rica \", \"Cote d'Ivoire \", \"Croatia \", \"Cuba \", \"Cyprus \", \"Czech Republic \", \"Denmark \", \"Djibouti \", \"Dominica \", \"Dominican Republic \", \"East Timor \", \"Ecuador \", \"Egypt \", \"El Salvador \", \"Equatorial Guinea \", \"Eritrea \", \"Estonia \", \"Ethiopia \", \"Faroe Islands \", \"Fiji \", \"Finland \", \"France \", \"French Guiana \", \"French Polynesia \", \"Gabon \", \"Gambia, The \", \"Gaza Strip \", \"Georgia \", \"Germany \", \"Ghana \", \"Gibraltar \", \"Greece \", \"Greenland \", \"Grenada \", \"Guadeloupe \", \"Guam \", \"Guatemala \", \"Guernsey \", \"Guinea \", \"Guinea-Bissau \", \"Guyana \", \"Haiti \", \"Honduras \", \"Hong Kong \", \"Hungary \", \"Iceland \", \"India \", \"Indonesia \", \"Iran \", \"Iraq \", \"Ireland \", \"Isle of Man \", \"Israel \", \"Italy \", \"Jamaica \", \"Japan \", \"Jersey \", \"Jordan \", \"Kazakhstan \", \"Kenya \", \"Kiribati \", \"Korea, North \", \"Korea, South \", \"Kuwait \", \"Kyrgyzstan \", \"Laos \", \"Latvia \", \"Lebanon \", \"Lesotho \", \"Liberia \", \"Libya \", \"Liechtenstein \", \"Lithuania \", \"Luxembourg \", \"Macau \", \"Macedonia \", \"Madagascar \", \"Malawi \", \"Malaysia \", \"Maldives \", \"Mali \", \"Malta \", \"Marshall Islands \", \"Martinique \", \"Mauritania \", \"Mauritius \", \"Mayotte \", \"Mexico \", \"Micronesia, Fed. St. \", \"Moldova \", \"Monaco \", \"Mongolia \", \"Montserrat \", \"Morocco \", \"Mozambique \", \"Namibia \", \"Nauru \", \"Nepal \", \"Netherlands \", \"Netherlands Antilles \", \"New Caledonia \", \"New Zealand \", \"Nicaragua \", \"Niger \", \"Nigeria \", \"N. Mariana Islands \", \"Norway \", \"Oman \", \"Pakistan \", \"Palau \", \"Panama \", \"Papua New Guinea \", \"Paraguay \", \"Peru \", \"Philippines \", \"Poland \", \"Portugal \", \"Puerto Rico \", \"Qatar \", \"Reunion \", \"Romania \", \"Russia \", \"Rwanda \", \"Saint Helena \", \"Saint Kitts & Nevis \", \"Saint Lucia \", \"St Pierre & Miquelon \", \"Saint Vincent and the Grenadines \", \"Samoa \", \"San Marino \", \"Sao Tome & Principe \", \"Saudi Arabia \", \"Senegal \", \"Serbia \", \"Seychelles \", \"Sierra Leone \", \"Singapore \", \"Slovakia \", \"Slovenia \", \"Solomon Islands \", \"Somalia \", \"South Africa \", \"Spain \", \"Sri Lanka \", \"Sudan \", \"Suriname \", \"Swaziland \", \"Sweden \", \"Switzerland \", \"Syria \", \"Taiwan \", \"Tajikistan \", \"Tanzania \", \"Thailand \", \"Togo \", \"Tonga \", \"Trinidad & Tobago \", \"Tunisia \", \"Turkey \", \"Turkmenistan \", \"Turks & Caicos Is \", \"Tuvalu \", \"Uganda \", \"Ukraine \", \"United Arab Emirates \", \"United Kingdom \", \"United States \", \"Uruguay \", \"Uzbekistan \", \"Vanuatu \", \"Venezuela \", \"Vietnam \", \"Virgin Islands \", \"Wallis and Futuna \", \"West Bank \", \"Western Sahara \", \"Yemen \", \"Zambia \", \"Zimbabwe \"], \"y\": [31056997, 3581655, 32930091, 57794, 71201, 12127071, 13477, 69108, 39921833, 2976372, 71891, 20264082, 8192880, 7961619, 303770, 698585, 147365352, 279912, 10293011, 10379067, 287730, 7862944, 65773, 2279723, 8989046, 4498976, 1639833, 188078227, 23098, 379444, 7385367, 13902972, 47382633, 8090068, 13881427, 17340702, 33098932, 420979, 45436, 4303356, 9944201, 16134219, 1313973713, 43593035, 690948, 62660551, 3702314, 21388, 4075261, 17654843, 4494749, 11382820, 784301, 10235455, 5450661, 486530, 68910, 9183984, 1062777, 13547510, 78887007, 6822378, 540109, 4786994, 1324333, 74777981, 47246, 905949, 5231372, 60876136, 199509, 274578, 1424906, 1641564, 1428757, 4661473, 82422299, 22409572, 27928, 10688058, 56361, 89703, 452776, 171019, 12293545, 65409, 9690222, 1442029, 767245, 8308504, 7326496, 6940432, 9981334, 299388, 1095351995, 245452739, 68688433, 26783383, 4062235, 75441, 6352117, 58133509, 2758124, 127463611, 91084, 5906760, 15233244, 34707817, 105432, 23113019, 48846823, 2418393, 5213898, 6368481, 2274735, 3874050, 2022331, 3042004, 5900754, 33987, 3585906, 474413, 453125, 2050554, 18595469, 13013926, 24385858, 359008, 11716829, 400214, 60422, 436131, 3177388, 1240827, 201234, 107449525, 108004, 4466706, 32543, 2832224, 9439, 33241259, 19686505, 2044147, 13287, 28287147, 16491461, 221736, 219246, 4076140, 5570129, 12525094, 131859731, 82459, 4610820, 3102229, 165803560, 20579, 3191319, 5670544, 6506464, 28302603, 89468677, 38536869, 10605870, 3927188, 885359, 787584, 22303552, 142893540, 8648248, 7502, 39129, 168458, 7026, 117848, 176908, 29251, 193413, 27019731, 11987121, 9396411, 81541, 6005250, 4492150, 5439448, 2010347, 552438, 8863338, 44187637, 40397842, 20222240, 41236378, 439117, 1136334, 9016596, 7523934, 18881361, 23036087, 7320815, 37445392, 64631595, 5548702, 114689, 1065842, 10175014, 70413958, 5042920, 21152, 11810, 28195754, 46710816, 2602713, 60609153, 298444215, 3431932, 27307134, 208869, 25730435, 84402966, 108605, 16025, 2460492, 273008, 21456188, 11502010, 12236805]}],\n",
       "                        {\"template\": {\"data\": {\"bar\": [{\"error_x\": {\"color\": \"#2a3f5f\"}, \"error_y\": {\"color\": \"#2a3f5f\"}, \"marker\": {\"line\": {\"color\": \"#E5ECF6\", \"width\": 0.5}}, \"type\": \"bar\"}], \"barpolar\": [{\"marker\": {\"line\": {\"color\": \"#E5ECF6\", \"width\": 0.5}}, \"type\": \"barpolar\"}], \"carpet\": [{\"aaxis\": {\"endlinecolor\": \"#2a3f5f\", \"gridcolor\": \"white\", \"linecolor\": \"white\", \"minorgridcolor\": \"white\", \"startlinecolor\": \"#2a3f5f\"}, \"baxis\": {\"endlinecolor\": \"#2a3f5f\", \"gridcolor\": \"white\", \"linecolor\": \"white\", \"minorgridcolor\": \"white\", \"startlinecolor\": \"#2a3f5f\"}, \"type\": \"carpet\"}], \"choropleth\": [{\"colorbar\": {\"outlinewidth\": 0, \"ticks\": \"\"}, \"type\": \"choropleth\"}], \"contour\": [{\"colorbar\": {\"outlinewidth\": 0, \"ticks\": \"\"}, \"colorscale\": [[0.0, \"#0d0887\"], [0.1111111111111111, \"#46039f\"], [0.2222222222222222, \"#7201a8\"], [0.3333333333333333, \"#9c179e\"], [0.4444444444444444, \"#bd3786\"], [0.5555555555555556, \"#d8576b\"], [0.6666666666666666, \"#ed7953\"], [0.7777777777777778, \"#fb9f3a\"], [0.8888888888888888, \"#fdca26\"], [1.0, \"#f0f921\"]], \"type\": \"contour\"}], \"contourcarpet\": [{\"colorbar\": {\"outlinewidth\": 0, \"ticks\": \"\"}, \"type\": \"contourcarpet\"}], \"heatmap\": [{\"colorbar\": {\"outlinewidth\": 0, \"ticks\": \"\"}, \"colorscale\": [[0.0, \"#0d0887\"], [0.1111111111111111, \"#46039f\"], [0.2222222222222222, \"#7201a8\"], [0.3333333333333333, \"#9c179e\"], [0.4444444444444444, \"#bd3786\"], [0.5555555555555556, \"#d8576b\"], [0.6666666666666666, \"#ed7953\"], [0.7777777777777778, \"#fb9f3a\"], [0.8888888888888888, \"#fdca26\"], [1.0, \"#f0f921\"]], \"type\": \"heatmap\"}], \"heatmapgl\": [{\"colorbar\": {\"outlinewidth\": 0, \"ticks\": \"\"}, \"colorscale\": [[0.0, \"#0d0887\"], [0.1111111111111111, \"#46039f\"], [0.2222222222222222, \"#7201a8\"], [0.3333333333333333, \"#9c179e\"], [0.4444444444444444, \"#bd3786\"], [0.5555555555555556, \"#d8576b\"], [0.6666666666666666, \"#ed7953\"], [0.7777777777777778, \"#fb9f3a\"], [0.8888888888888888, \"#fdca26\"], [1.0, \"#f0f921\"]], \"type\": \"heatmapgl\"}], \"histogram\": [{\"marker\": {\"colorbar\": {\"outlinewidth\": 0, \"ticks\": \"\"}}, \"type\": \"histogram\"}], \"histogram2d\": [{\"colorbar\": {\"outlinewidth\": 0, \"ticks\": \"\"}, \"colorscale\": [[0.0, \"#0d0887\"], [0.1111111111111111, \"#46039f\"], [0.2222222222222222, \"#7201a8\"], [0.3333333333333333, \"#9c179e\"], [0.4444444444444444, \"#bd3786\"], [0.5555555555555556, \"#d8576b\"], [0.6666666666666666, \"#ed7953\"], [0.7777777777777778, \"#fb9f3a\"], [0.8888888888888888, \"#fdca26\"], [1.0, \"#f0f921\"]], \"type\": \"histogram2d\"}], \"histogram2dcontour\": [{\"colorbar\": {\"outlinewidth\": 0, \"ticks\": \"\"}, \"colorscale\": [[0.0, \"#0d0887\"], [0.1111111111111111, \"#46039f\"], [0.2222222222222222, \"#7201a8\"], [0.3333333333333333, \"#9c179e\"], [0.4444444444444444, \"#bd3786\"], [0.5555555555555556, \"#d8576b\"], [0.6666666666666666, \"#ed7953\"], [0.7777777777777778, \"#fb9f3a\"], [0.8888888888888888, \"#fdca26\"], [1.0, \"#f0f921\"]], \"type\": \"histogram2dcontour\"}], \"mesh3d\": [{\"colorbar\": {\"outlinewidth\": 0, \"ticks\": \"\"}, \"type\": \"mesh3d\"}], \"parcoords\": [{\"line\": {\"colorbar\": {\"outlinewidth\": 0, \"ticks\": \"\"}}, \"type\": \"parcoords\"}], \"pie\": [{\"automargin\": true, \"type\": \"pie\"}], \"scatter\": [{\"marker\": {\"colorbar\": {\"outlinewidth\": 0, \"ticks\": \"\"}}, \"type\": \"scatter\"}], \"scatter3d\": [{\"line\": {\"colorbar\": {\"outlinewidth\": 0, \"ticks\": \"\"}}, \"marker\": {\"colorbar\": {\"outlinewidth\": 0, \"ticks\": \"\"}}, \"type\": \"scatter3d\"}], \"scattercarpet\": [{\"marker\": {\"colorbar\": {\"outlinewidth\": 0, \"ticks\": \"\"}}, \"type\": \"scattercarpet\"}], \"scattergeo\": [{\"marker\": {\"colorbar\": {\"outlinewidth\": 0, \"ticks\": \"\"}}, \"type\": \"scattergeo\"}], \"scattergl\": [{\"marker\": {\"colorbar\": {\"outlinewidth\": 0, \"ticks\": \"\"}}, \"type\": \"scattergl\"}], \"scattermapbox\": [{\"marker\": {\"colorbar\": {\"outlinewidth\": 0, \"ticks\": \"\"}}, \"type\": \"scattermapbox\"}], \"scatterpolar\": [{\"marker\": {\"colorbar\": {\"outlinewidth\": 0, \"ticks\": \"\"}}, \"type\": \"scatterpolar\"}], \"scatterpolargl\": [{\"marker\": {\"colorbar\": {\"outlinewidth\": 0, \"ticks\": \"\"}}, \"type\": \"scatterpolargl\"}], \"scatterternary\": [{\"marker\": {\"colorbar\": {\"outlinewidth\": 0, \"ticks\": \"\"}}, \"type\": \"scatterternary\"}], \"surface\": [{\"colorbar\": {\"outlinewidth\": 0, \"ticks\": \"\"}, \"colorscale\": [[0.0, \"#0d0887\"], [0.1111111111111111, \"#46039f\"], [0.2222222222222222, \"#7201a8\"], [0.3333333333333333, \"#9c179e\"], [0.4444444444444444, \"#bd3786\"], [0.5555555555555556, \"#d8576b\"], [0.6666666666666666, \"#ed7953\"], [0.7777777777777778, \"#fb9f3a\"], [0.8888888888888888, \"#fdca26\"], [1.0, \"#f0f921\"]], \"type\": \"surface\"}], \"table\": [{\"cells\": {\"fill\": {\"color\": \"#EBF0F8\"}, \"line\": {\"color\": \"white\"}}, \"header\": {\"fill\": {\"color\": \"#C8D4E3\"}, \"line\": {\"color\": \"white\"}}, \"type\": \"table\"}]}, \"layout\": {\"annotationdefaults\": {\"arrowcolor\": \"#2a3f5f\", \"arrowhead\": 0, \"arrowwidth\": 1}, \"coloraxis\": {\"colorbar\": {\"outlinewidth\": 0, \"ticks\": \"\"}}, \"colorscale\": {\"diverging\": [[0, \"#8e0152\"], [0.1, \"#c51b7d\"], [0.2, \"#de77ae\"], [0.3, \"#f1b6da\"], [0.4, \"#fde0ef\"], [0.5, \"#f7f7f7\"], [0.6, \"#e6f5d0\"], [0.7, \"#b8e186\"], [0.8, \"#7fbc41\"], [0.9, \"#4d9221\"], [1, \"#276419\"]], \"sequential\": [[0.0, \"#0d0887\"], [0.1111111111111111, \"#46039f\"], [0.2222222222222222, \"#7201a8\"], [0.3333333333333333, \"#9c179e\"], [0.4444444444444444, \"#bd3786\"], [0.5555555555555556, \"#d8576b\"], [0.6666666666666666, \"#ed7953\"], [0.7777777777777778, \"#fb9f3a\"], [0.8888888888888888, \"#fdca26\"], [1.0, \"#f0f921\"]], \"sequentialminus\": [[0.0, \"#0d0887\"], [0.1111111111111111, \"#46039f\"], [0.2222222222222222, \"#7201a8\"], [0.3333333333333333, \"#9c179e\"], [0.4444444444444444, \"#bd3786\"], [0.5555555555555556, \"#d8576b\"], [0.6666666666666666, \"#ed7953\"], [0.7777777777777778, \"#fb9f3a\"], [0.8888888888888888, \"#fdca26\"], [1.0, \"#f0f921\"]]}, \"colorway\": [\"#636efa\", \"#EF553B\", \"#00cc96\", \"#ab63fa\", \"#FFA15A\", \"#19d3f3\", \"#FF6692\", \"#B6E880\", \"#FF97FF\", \"#FECB52\"], \"font\": {\"color\": \"#2a3f5f\"}, \"geo\": {\"bgcolor\": \"white\", \"lakecolor\": \"white\", \"landcolor\": \"#E5ECF6\", \"showlakes\": true, \"showland\": true, \"subunitcolor\": \"white\"}, \"hoverlabel\": {\"align\": \"left\"}, \"hovermode\": \"closest\", \"mapbox\": {\"style\": \"light\"}, \"paper_bgcolor\": \"white\", \"plot_bgcolor\": \"#E5ECF6\", \"polar\": {\"angularaxis\": {\"gridcolor\": \"white\", \"linecolor\": \"white\", \"ticks\": \"\"}, \"bgcolor\": \"#E5ECF6\", \"radialaxis\": {\"gridcolor\": \"white\", \"linecolor\": \"white\", \"ticks\": \"\"}}, \"scene\": {\"xaxis\": {\"backgroundcolor\": \"#E5ECF6\", \"gridcolor\": \"white\", \"gridwidth\": 2, \"linecolor\": \"white\", \"showbackground\": true, \"ticks\": \"\", \"zerolinecolor\": \"white\"}, \"yaxis\": {\"backgroundcolor\": \"#E5ECF6\", \"gridcolor\": \"white\", \"gridwidth\": 2, \"linecolor\": \"white\", \"showbackground\": true, \"ticks\": \"\", \"zerolinecolor\": \"white\"}, \"zaxis\": {\"backgroundcolor\": \"#E5ECF6\", \"gridcolor\": \"white\", \"gridwidth\": 2, \"linecolor\": \"white\", \"showbackground\": true, \"ticks\": \"\", \"zerolinecolor\": \"white\"}}, \"shapedefaults\": {\"line\": {\"color\": \"#2a3f5f\"}}, \"ternary\": {\"aaxis\": {\"gridcolor\": \"white\", \"linecolor\": \"white\", \"ticks\": \"\"}, \"baxis\": {\"gridcolor\": \"white\", \"linecolor\": \"white\", \"ticks\": \"\"}, \"bgcolor\": \"#E5ECF6\", \"caxis\": {\"gridcolor\": \"white\", \"linecolor\": \"white\", \"ticks\": \"\"}}, \"title\": {\"x\": 0.05}, \"xaxis\": {\"automargin\": true, \"gridcolor\": \"white\", \"linecolor\": \"white\", \"ticks\": \"\", \"title\": {\"standoff\": 15}, \"zerolinecolor\": \"white\", \"zerolinewidth\": 2}, \"yaxis\": {\"automargin\": true, \"gridcolor\": \"white\", \"linecolor\": \"white\", \"ticks\": \"\", \"title\": {\"standoff\": 15}, \"zerolinecolor\": \"white\", \"zerolinewidth\": 2}}}, \"title\": {\"text\": \"Population by Country\"}, \"xaxis\": {\"ticklen\": 5, \"title\": {\"text\": \"Country\"}, \"zeroline\": false}},\n",
       "                        {\"responsive\": true}\n",
       "                    ).then(function(){\n",
       "                            \n",
       "var gd = document.getElementById('adc56b80-15b7-4fef-9b1a-79e7ab4e88e2');\n",
       "var x = new MutationObserver(function (mutations, observer) {{\n",
       "        var display = window.getComputedStyle(gd).display;\n",
       "        if (!display || display === 'none') {{\n",
       "            console.log([gd, 'removed!']);\n",
       "            Plotly.purge(gd);\n",
       "            observer.disconnect();\n",
       "        }}\n",
       "}});\n",
       "\n",
       "// Listen for the removal of the full notebook cells\n",
       "var notebookContainer = gd.closest('#notebook-container');\n",
       "if (notebookContainer) {{\n",
       "    x.observe(notebookContainer, {childList: true});\n",
       "}}\n",
       "\n",
       "// Listen for the clearing of the current output cell\n",
       "var outputEl = gd.closest('.output');\n",
       "if (outputEl) {{\n",
       "    x.observe(outputEl, {childList: true});\n",
       "}}\n",
       "\n",
       "                        })\n",
       "                };\n",
       "                });\n",
       "            </script>\n",
       "        </div>"
      ]
     },
     "metadata": {},
     "output_type": "display_data"
    }
   ],
   "source": [
    "pop= go.Scatter(\n",
    "                    x = dataCountries.Country,\n",
    "                    y = dataCountries.Population,\n",
    "                    mode = \"lines+markers\",\n",
    "                    name = \"Population\",\n",
    "                    marker = dict(color = 'rgba(80, 26, 255, 0.8)'),\n",
    "                    text= dataCountries.Country)\n",
    "data = [pop]\n",
    "layout = dict(title = 'Population by Country',\n",
    "              xaxis= dict(title= 'Country',ticklen= 5,zeroline= False)\n",
    "             )\n",
    "fig = dict(data = data, layout = layout)\n",
    "iplot(fig)"
   ]
  },
  {
   "cell_type": "markdown",
   "metadata": {
    "papermill": {
     "duration": 0.064929,
     "end_time": "2020-12-10T16:16:44.452600",
     "exception": false,
     "start_time": "2020-12-10T16:16:44.387671",
     "status": "completed"
    },
    "tags": []
   },
   "source": [
    "# Top 10 Countries with the Most Population"
   ]
  },
  {
   "cell_type": "code",
   "execution_count": 10,
   "metadata": {
    "execution": {
     "iopub.execute_input": "2020-12-10T16:16:44.596020Z",
     "iopub.status.busy": "2020-12-10T16:16:44.595116Z",
     "iopub.status.idle": "2020-12-10T16:16:44.707496Z",
     "shell.execute_reply": "2020-12-10T16:16:44.708132Z"
    },
    "papermill": {
     "duration": 0.192087,
     "end_time": "2020-12-10T16:16:44.708339",
     "exception": false,
     "start_time": "2020-12-10T16:16:44.516252",
     "status": "completed"
    },
    "tags": []
   },
   "outputs": [
    {
     "data": {
      "application/vnd.plotly.v1+json": {
       "config": {
        "plotlyServerURL": "https://plot.ly"
       },
       "data": [
        {
         "alignmentgroup": "True",
         "hovertemplate": "Country=%{x}<br>Population=%{y}<extra></extra>",
         "legendgroup": "",
         "marker": {
          "color": "#636efa"
         },
         "name": "",
         "offsetgroup": "",
         "orientation": "v",
         "showlegend": false,
         "textposition": "auto",
         "type": "bar",
         "x": [
          "China ",
          "India ",
          "United States ",
          "Indonesia ",
          "Brazil ",
          "Pakistan ",
          "Bangladesh ",
          "Russia ",
          "Nigeria ",
          "Japan "
         ],
         "xaxis": "x",
         "y": [
          1313973713,
          1095351995,
          298444215,
          245452739,
          188078227,
          165803560,
          147365352,
          142893540,
          131859731,
          127463611
         ],
         "yaxis": "y"
        }
       ],
       "layout": {
        "barmode": "relative",
        "legend": {
         "tracegroupgap": 0
        },
        "template": {
         "data": {
          "bar": [
           {
            "error_x": {
             "color": "#2a3f5f"
            },
            "error_y": {
             "color": "#2a3f5f"
            },
            "marker": {
             "line": {
              "color": "#E5ECF6",
              "width": 0.5
             }
            },
            "type": "bar"
           }
          ],
          "barpolar": [
           {
            "marker": {
             "line": {
              "color": "#E5ECF6",
              "width": 0.5
             }
            },
            "type": "barpolar"
           }
          ],
          "carpet": [
           {
            "aaxis": {
             "endlinecolor": "#2a3f5f",
             "gridcolor": "white",
             "linecolor": "white",
             "minorgridcolor": "white",
             "startlinecolor": "#2a3f5f"
            },
            "baxis": {
             "endlinecolor": "#2a3f5f",
             "gridcolor": "white",
             "linecolor": "white",
             "minorgridcolor": "white",
             "startlinecolor": "#2a3f5f"
            },
            "type": "carpet"
           }
          ],
          "choropleth": [
           {
            "colorbar": {
             "outlinewidth": 0,
             "ticks": ""
            },
            "type": "choropleth"
           }
          ],
          "contour": [
           {
            "colorbar": {
             "outlinewidth": 0,
             "ticks": ""
            },
            "colorscale": [
             [
              0.0,
              "#0d0887"
             ],
             [
              0.1111111111111111,
              "#46039f"
             ],
             [
              0.2222222222222222,
              "#7201a8"
             ],
             [
              0.3333333333333333,
              "#9c179e"
             ],
             [
              0.4444444444444444,
              "#bd3786"
             ],
             [
              0.5555555555555556,
              "#d8576b"
             ],
             [
              0.6666666666666666,
              "#ed7953"
             ],
             [
              0.7777777777777778,
              "#fb9f3a"
             ],
             [
              0.8888888888888888,
              "#fdca26"
             ],
             [
              1.0,
              "#f0f921"
             ]
            ],
            "type": "contour"
           }
          ],
          "contourcarpet": [
           {
            "colorbar": {
             "outlinewidth": 0,
             "ticks": ""
            },
            "type": "contourcarpet"
           }
          ],
          "heatmap": [
           {
            "colorbar": {
             "outlinewidth": 0,
             "ticks": ""
            },
            "colorscale": [
             [
              0.0,
              "#0d0887"
             ],
             [
              0.1111111111111111,
              "#46039f"
             ],
             [
              0.2222222222222222,
              "#7201a8"
             ],
             [
              0.3333333333333333,
              "#9c179e"
             ],
             [
              0.4444444444444444,
              "#bd3786"
             ],
             [
              0.5555555555555556,
              "#d8576b"
             ],
             [
              0.6666666666666666,
              "#ed7953"
             ],
             [
              0.7777777777777778,
              "#fb9f3a"
             ],
             [
              0.8888888888888888,
              "#fdca26"
             ],
             [
              1.0,
              "#f0f921"
             ]
            ],
            "type": "heatmap"
           }
          ],
          "heatmapgl": [
           {
            "colorbar": {
             "outlinewidth": 0,
             "ticks": ""
            },
            "colorscale": [
             [
              0.0,
              "#0d0887"
             ],
             [
              0.1111111111111111,
              "#46039f"
             ],
             [
              0.2222222222222222,
              "#7201a8"
             ],
             [
              0.3333333333333333,
              "#9c179e"
             ],
             [
              0.4444444444444444,
              "#bd3786"
             ],
             [
              0.5555555555555556,
              "#d8576b"
             ],
             [
              0.6666666666666666,
              "#ed7953"
             ],
             [
              0.7777777777777778,
              "#fb9f3a"
             ],
             [
              0.8888888888888888,
              "#fdca26"
             ],
             [
              1.0,
              "#f0f921"
             ]
            ],
            "type": "heatmapgl"
           }
          ],
          "histogram": [
           {
            "marker": {
             "colorbar": {
              "outlinewidth": 0,
              "ticks": ""
             }
            },
            "type": "histogram"
           }
          ],
          "histogram2d": [
           {
            "colorbar": {
             "outlinewidth": 0,
             "ticks": ""
            },
            "colorscale": [
             [
              0.0,
              "#0d0887"
             ],
             [
              0.1111111111111111,
              "#46039f"
             ],
             [
              0.2222222222222222,
              "#7201a8"
             ],
             [
              0.3333333333333333,
              "#9c179e"
             ],
             [
              0.4444444444444444,
              "#bd3786"
             ],
             [
              0.5555555555555556,
              "#d8576b"
             ],
             [
              0.6666666666666666,
              "#ed7953"
             ],
             [
              0.7777777777777778,
              "#fb9f3a"
             ],
             [
              0.8888888888888888,
              "#fdca26"
             ],
             [
              1.0,
              "#f0f921"
             ]
            ],
            "type": "histogram2d"
           }
          ],
          "histogram2dcontour": [
           {
            "colorbar": {
             "outlinewidth": 0,
             "ticks": ""
            },
            "colorscale": [
             [
              0.0,
              "#0d0887"
             ],
             [
              0.1111111111111111,
              "#46039f"
             ],
             [
              0.2222222222222222,
              "#7201a8"
             ],
             [
              0.3333333333333333,
              "#9c179e"
             ],
             [
              0.4444444444444444,
              "#bd3786"
             ],
             [
              0.5555555555555556,
              "#d8576b"
             ],
             [
              0.6666666666666666,
              "#ed7953"
             ],
             [
              0.7777777777777778,
              "#fb9f3a"
             ],
             [
              0.8888888888888888,
              "#fdca26"
             ],
             [
              1.0,
              "#f0f921"
             ]
            ],
            "type": "histogram2dcontour"
           }
          ],
          "mesh3d": [
           {
            "colorbar": {
             "outlinewidth": 0,
             "ticks": ""
            },
            "type": "mesh3d"
           }
          ],
          "parcoords": [
           {
            "line": {
             "colorbar": {
              "outlinewidth": 0,
              "ticks": ""
             }
            },
            "type": "parcoords"
           }
          ],
          "pie": [
           {
            "automargin": true,
            "type": "pie"
           }
          ],
          "scatter": [
           {
            "marker": {
             "colorbar": {
              "outlinewidth": 0,
              "ticks": ""
             }
            },
            "type": "scatter"
           }
          ],
          "scatter3d": [
           {
            "line": {
             "colorbar": {
              "outlinewidth": 0,
              "ticks": ""
             }
            },
            "marker": {
             "colorbar": {
              "outlinewidth": 0,
              "ticks": ""
             }
            },
            "type": "scatter3d"
           }
          ],
          "scattercarpet": [
           {
            "marker": {
             "colorbar": {
              "outlinewidth": 0,
              "ticks": ""
             }
            },
            "type": "scattercarpet"
           }
          ],
          "scattergeo": [
           {
            "marker": {
             "colorbar": {
              "outlinewidth": 0,
              "ticks": ""
             }
            },
            "type": "scattergeo"
           }
          ],
          "scattergl": [
           {
            "marker": {
             "colorbar": {
              "outlinewidth": 0,
              "ticks": ""
             }
            },
            "type": "scattergl"
           }
          ],
          "scattermapbox": [
           {
            "marker": {
             "colorbar": {
              "outlinewidth": 0,
              "ticks": ""
             }
            },
            "type": "scattermapbox"
           }
          ],
          "scatterpolar": [
           {
            "marker": {
             "colorbar": {
              "outlinewidth": 0,
              "ticks": ""
             }
            },
            "type": "scatterpolar"
           }
          ],
          "scatterpolargl": [
           {
            "marker": {
             "colorbar": {
              "outlinewidth": 0,
              "ticks": ""
             }
            },
            "type": "scatterpolargl"
           }
          ],
          "scatterternary": [
           {
            "marker": {
             "colorbar": {
              "outlinewidth": 0,
              "ticks": ""
             }
            },
            "type": "scatterternary"
           }
          ],
          "surface": [
           {
            "colorbar": {
             "outlinewidth": 0,
             "ticks": ""
            },
            "colorscale": [
             [
              0.0,
              "#0d0887"
             ],
             [
              0.1111111111111111,
              "#46039f"
             ],
             [
              0.2222222222222222,
              "#7201a8"
             ],
             [
              0.3333333333333333,
              "#9c179e"
             ],
             [
              0.4444444444444444,
              "#bd3786"
             ],
             [
              0.5555555555555556,
              "#d8576b"
             ],
             [
              0.6666666666666666,
              "#ed7953"
             ],
             [
              0.7777777777777778,
              "#fb9f3a"
             ],
             [
              0.8888888888888888,
              "#fdca26"
             ],
             [
              1.0,
              "#f0f921"
             ]
            ],
            "type": "surface"
           }
          ],
          "table": [
           {
            "cells": {
             "fill": {
              "color": "#EBF0F8"
             },
             "line": {
              "color": "white"
             }
            },
            "header": {
             "fill": {
              "color": "#C8D4E3"
             },
             "line": {
              "color": "white"
             }
            },
            "type": "table"
           }
          ]
         },
         "layout": {
          "annotationdefaults": {
           "arrowcolor": "#2a3f5f",
           "arrowhead": 0,
           "arrowwidth": 1
          },
          "coloraxis": {
           "colorbar": {
            "outlinewidth": 0,
            "ticks": ""
           }
          },
          "colorscale": {
           "diverging": [
            [
             0,
             "#8e0152"
            ],
            [
             0.1,
             "#c51b7d"
            ],
            [
             0.2,
             "#de77ae"
            ],
            [
             0.3,
             "#f1b6da"
            ],
            [
             0.4,
             "#fde0ef"
            ],
            [
             0.5,
             "#f7f7f7"
            ],
            [
             0.6,
             "#e6f5d0"
            ],
            [
             0.7,
             "#b8e186"
            ],
            [
             0.8,
             "#7fbc41"
            ],
            [
             0.9,
             "#4d9221"
            ],
            [
             1,
             "#276419"
            ]
           ],
           "sequential": [
            [
             0.0,
             "#0d0887"
            ],
            [
             0.1111111111111111,
             "#46039f"
            ],
            [
             0.2222222222222222,
             "#7201a8"
            ],
            [
             0.3333333333333333,
             "#9c179e"
            ],
            [
             0.4444444444444444,
             "#bd3786"
            ],
            [
             0.5555555555555556,
             "#d8576b"
            ],
            [
             0.6666666666666666,
             "#ed7953"
            ],
            [
             0.7777777777777778,
             "#fb9f3a"
            ],
            [
             0.8888888888888888,
             "#fdca26"
            ],
            [
             1.0,
             "#f0f921"
            ]
           ],
           "sequentialminus": [
            [
             0.0,
             "#0d0887"
            ],
            [
             0.1111111111111111,
             "#46039f"
            ],
            [
             0.2222222222222222,
             "#7201a8"
            ],
            [
             0.3333333333333333,
             "#9c179e"
            ],
            [
             0.4444444444444444,
             "#bd3786"
            ],
            [
             0.5555555555555556,
             "#d8576b"
            ],
            [
             0.6666666666666666,
             "#ed7953"
            ],
            [
             0.7777777777777778,
             "#fb9f3a"
            ],
            [
             0.8888888888888888,
             "#fdca26"
            ],
            [
             1.0,
             "#f0f921"
            ]
           ]
          },
          "colorway": [
           "#636efa",
           "#EF553B",
           "#00cc96",
           "#ab63fa",
           "#FFA15A",
           "#19d3f3",
           "#FF6692",
           "#B6E880",
           "#FF97FF",
           "#FECB52"
          ],
          "font": {
           "color": "#2a3f5f"
          },
          "geo": {
           "bgcolor": "white",
           "lakecolor": "white",
           "landcolor": "#E5ECF6",
           "showlakes": true,
           "showland": true,
           "subunitcolor": "white"
          },
          "hoverlabel": {
           "align": "left"
          },
          "hovermode": "closest",
          "mapbox": {
           "style": "light"
          },
          "paper_bgcolor": "white",
          "plot_bgcolor": "#E5ECF6",
          "polar": {
           "angularaxis": {
            "gridcolor": "white",
            "linecolor": "white",
            "ticks": ""
           },
           "bgcolor": "#E5ECF6",
           "radialaxis": {
            "gridcolor": "white",
            "linecolor": "white",
            "ticks": ""
           }
          },
          "scene": {
           "xaxis": {
            "backgroundcolor": "#E5ECF6",
            "gridcolor": "white",
            "gridwidth": 2,
            "linecolor": "white",
            "showbackground": true,
            "ticks": "",
            "zerolinecolor": "white"
           },
           "yaxis": {
            "backgroundcolor": "#E5ECF6",
            "gridcolor": "white",
            "gridwidth": 2,
            "linecolor": "white",
            "showbackground": true,
            "ticks": "",
            "zerolinecolor": "white"
           },
           "zaxis": {
            "backgroundcolor": "#E5ECF6",
            "gridcolor": "white",
            "gridwidth": 2,
            "linecolor": "white",
            "showbackground": true,
            "ticks": "",
            "zerolinecolor": "white"
           }
          },
          "shapedefaults": {
           "line": {
            "color": "#2a3f5f"
           }
          },
          "ternary": {
           "aaxis": {
            "gridcolor": "white",
            "linecolor": "white",
            "ticks": ""
           },
           "baxis": {
            "gridcolor": "white",
            "linecolor": "white",
            "ticks": ""
           },
           "bgcolor": "#E5ECF6",
           "caxis": {
            "gridcolor": "white",
            "linecolor": "white",
            "ticks": ""
           }
          },
          "title": {
           "x": 0.05
          },
          "xaxis": {
           "automargin": true,
           "gridcolor": "white",
           "linecolor": "white",
           "ticks": "",
           "title": {
            "standoff": 15
           },
           "zerolinecolor": "white",
           "zerolinewidth": 2
          },
          "yaxis": {
           "automargin": true,
           "gridcolor": "white",
           "linecolor": "white",
           "ticks": "",
           "title": {
            "standoff": 15
           },
           "zerolinecolor": "white",
           "zerolinewidth": 2
          }
         }
        },
        "title": {
         "text": "Top 10 Countries with the Most Population"
        },
        "xaxis": {
         "anchor": "y",
         "domain": [
          0.0,
          1.0
         ],
         "title": {
          "text": "Country"
         }
        },
        "yaxis": {
         "anchor": "x",
         "domain": [
          0.0,
          1.0
         ],
         "title": {
          "text": "Population"
         }
        }
       }
      },
      "text/html": [
       "<div>\n",
       "        \n",
       "        \n",
       "            <div id=\"eb303fad-51d7-4321-87db-f179f86ec188\" class=\"plotly-graph-div\" style=\"height:525px; width:100%;\"></div>\n",
       "            <script type=\"text/javascript\">\n",
       "                require([\"plotly\"], function(Plotly) {\n",
       "                    window.PLOTLYENV=window.PLOTLYENV || {};\n",
       "                    \n",
       "                if (document.getElementById(\"eb303fad-51d7-4321-87db-f179f86ec188\")) {\n",
       "                    Plotly.newPlot(\n",
       "                        'eb303fad-51d7-4321-87db-f179f86ec188',\n",
       "                        [{\"alignmentgroup\": \"True\", \"hovertemplate\": \"Country=%{x}<br>Population=%{y}<extra></extra>\", \"legendgroup\": \"\", \"marker\": {\"color\": \"#636efa\"}, \"name\": \"\", \"offsetgroup\": \"\", \"orientation\": \"v\", \"showlegend\": false, \"textposition\": \"auto\", \"type\": \"bar\", \"x\": [\"China \", \"India \", \"United States \", \"Indonesia \", \"Brazil \", \"Pakistan \", \"Bangladesh \", \"Russia \", \"Nigeria \", \"Japan \"], \"xaxis\": \"x\", \"y\": [1313973713, 1095351995, 298444215, 245452739, 188078227, 165803560, 147365352, 142893540, 131859731, 127463611], \"yaxis\": \"y\"}],\n",
       "                        {\"barmode\": \"relative\", \"legend\": {\"tracegroupgap\": 0}, \"template\": {\"data\": {\"bar\": [{\"error_x\": {\"color\": \"#2a3f5f\"}, \"error_y\": {\"color\": \"#2a3f5f\"}, \"marker\": {\"line\": {\"color\": \"#E5ECF6\", \"width\": 0.5}}, \"type\": \"bar\"}], \"barpolar\": [{\"marker\": {\"line\": {\"color\": \"#E5ECF6\", \"width\": 0.5}}, \"type\": \"barpolar\"}], \"carpet\": [{\"aaxis\": {\"endlinecolor\": \"#2a3f5f\", \"gridcolor\": \"white\", \"linecolor\": \"white\", \"minorgridcolor\": \"white\", \"startlinecolor\": \"#2a3f5f\"}, \"baxis\": {\"endlinecolor\": \"#2a3f5f\", \"gridcolor\": \"white\", \"linecolor\": \"white\", \"minorgridcolor\": \"white\", \"startlinecolor\": \"#2a3f5f\"}, \"type\": \"carpet\"}], \"choropleth\": [{\"colorbar\": {\"outlinewidth\": 0, \"ticks\": \"\"}, \"type\": \"choropleth\"}], \"contour\": [{\"colorbar\": {\"outlinewidth\": 0, \"ticks\": \"\"}, \"colorscale\": [[0.0, \"#0d0887\"], [0.1111111111111111, \"#46039f\"], [0.2222222222222222, \"#7201a8\"], [0.3333333333333333, \"#9c179e\"], [0.4444444444444444, \"#bd3786\"], [0.5555555555555556, \"#d8576b\"], [0.6666666666666666, \"#ed7953\"], [0.7777777777777778, \"#fb9f3a\"], [0.8888888888888888, \"#fdca26\"], [1.0, \"#f0f921\"]], \"type\": \"contour\"}], \"contourcarpet\": [{\"colorbar\": {\"outlinewidth\": 0, \"ticks\": \"\"}, \"type\": \"contourcarpet\"}], \"heatmap\": [{\"colorbar\": {\"outlinewidth\": 0, \"ticks\": \"\"}, \"colorscale\": [[0.0, \"#0d0887\"], [0.1111111111111111, \"#46039f\"], [0.2222222222222222, \"#7201a8\"], [0.3333333333333333, \"#9c179e\"], [0.4444444444444444, \"#bd3786\"], [0.5555555555555556, \"#d8576b\"], [0.6666666666666666, \"#ed7953\"], [0.7777777777777778, \"#fb9f3a\"], [0.8888888888888888, \"#fdca26\"], [1.0, \"#f0f921\"]], \"type\": \"heatmap\"}], \"heatmapgl\": [{\"colorbar\": {\"outlinewidth\": 0, \"ticks\": \"\"}, \"colorscale\": [[0.0, \"#0d0887\"], [0.1111111111111111, \"#46039f\"], [0.2222222222222222, \"#7201a8\"], [0.3333333333333333, \"#9c179e\"], [0.4444444444444444, \"#bd3786\"], [0.5555555555555556, \"#d8576b\"], [0.6666666666666666, \"#ed7953\"], [0.7777777777777778, \"#fb9f3a\"], [0.8888888888888888, \"#fdca26\"], [1.0, \"#f0f921\"]], \"type\": \"heatmapgl\"}], \"histogram\": [{\"marker\": {\"colorbar\": {\"outlinewidth\": 0, \"ticks\": \"\"}}, \"type\": \"histogram\"}], \"histogram2d\": [{\"colorbar\": {\"outlinewidth\": 0, \"ticks\": \"\"}, \"colorscale\": [[0.0, \"#0d0887\"], [0.1111111111111111, \"#46039f\"], [0.2222222222222222, \"#7201a8\"], [0.3333333333333333, \"#9c179e\"], [0.4444444444444444, \"#bd3786\"], [0.5555555555555556, \"#d8576b\"], [0.6666666666666666, \"#ed7953\"], [0.7777777777777778, \"#fb9f3a\"], [0.8888888888888888, \"#fdca26\"], [1.0, \"#f0f921\"]], \"type\": \"histogram2d\"}], \"histogram2dcontour\": [{\"colorbar\": {\"outlinewidth\": 0, \"ticks\": \"\"}, \"colorscale\": [[0.0, \"#0d0887\"], [0.1111111111111111, \"#46039f\"], [0.2222222222222222, \"#7201a8\"], [0.3333333333333333, \"#9c179e\"], [0.4444444444444444, \"#bd3786\"], [0.5555555555555556, \"#d8576b\"], [0.6666666666666666, \"#ed7953\"], [0.7777777777777778, \"#fb9f3a\"], [0.8888888888888888, \"#fdca26\"], [1.0, \"#f0f921\"]], \"type\": \"histogram2dcontour\"}], \"mesh3d\": [{\"colorbar\": {\"outlinewidth\": 0, \"ticks\": \"\"}, \"type\": \"mesh3d\"}], \"parcoords\": [{\"line\": {\"colorbar\": {\"outlinewidth\": 0, \"ticks\": \"\"}}, \"type\": \"parcoords\"}], \"pie\": [{\"automargin\": true, \"type\": \"pie\"}], \"scatter\": [{\"marker\": {\"colorbar\": {\"outlinewidth\": 0, \"ticks\": \"\"}}, \"type\": \"scatter\"}], \"scatter3d\": [{\"line\": {\"colorbar\": {\"outlinewidth\": 0, \"ticks\": \"\"}}, \"marker\": {\"colorbar\": {\"outlinewidth\": 0, \"ticks\": \"\"}}, \"type\": \"scatter3d\"}], \"scattercarpet\": [{\"marker\": {\"colorbar\": {\"outlinewidth\": 0, \"ticks\": \"\"}}, \"type\": \"scattercarpet\"}], \"scattergeo\": [{\"marker\": {\"colorbar\": {\"outlinewidth\": 0, \"ticks\": \"\"}}, \"type\": \"scattergeo\"}], \"scattergl\": [{\"marker\": {\"colorbar\": {\"outlinewidth\": 0, \"ticks\": \"\"}}, \"type\": \"scattergl\"}], \"scattermapbox\": [{\"marker\": {\"colorbar\": {\"outlinewidth\": 0, \"ticks\": \"\"}}, \"type\": \"scattermapbox\"}], \"scatterpolar\": [{\"marker\": {\"colorbar\": {\"outlinewidth\": 0, \"ticks\": \"\"}}, \"type\": \"scatterpolar\"}], \"scatterpolargl\": [{\"marker\": {\"colorbar\": {\"outlinewidth\": 0, \"ticks\": \"\"}}, \"type\": \"scatterpolargl\"}], \"scatterternary\": [{\"marker\": {\"colorbar\": {\"outlinewidth\": 0, \"ticks\": \"\"}}, \"type\": \"scatterternary\"}], \"surface\": [{\"colorbar\": {\"outlinewidth\": 0, \"ticks\": \"\"}, \"colorscale\": [[0.0, \"#0d0887\"], [0.1111111111111111, \"#46039f\"], [0.2222222222222222, \"#7201a8\"], [0.3333333333333333, \"#9c179e\"], [0.4444444444444444, \"#bd3786\"], [0.5555555555555556, \"#d8576b\"], [0.6666666666666666, \"#ed7953\"], [0.7777777777777778, \"#fb9f3a\"], [0.8888888888888888, \"#fdca26\"], [1.0, \"#f0f921\"]], \"type\": \"surface\"}], \"table\": [{\"cells\": {\"fill\": {\"color\": \"#EBF0F8\"}, \"line\": {\"color\": \"white\"}}, \"header\": {\"fill\": {\"color\": \"#C8D4E3\"}, \"line\": {\"color\": \"white\"}}, \"type\": \"table\"}]}, \"layout\": {\"annotationdefaults\": {\"arrowcolor\": \"#2a3f5f\", \"arrowhead\": 0, \"arrowwidth\": 1}, \"coloraxis\": {\"colorbar\": {\"outlinewidth\": 0, \"ticks\": \"\"}}, \"colorscale\": {\"diverging\": [[0, \"#8e0152\"], [0.1, \"#c51b7d\"], [0.2, \"#de77ae\"], [0.3, \"#f1b6da\"], [0.4, \"#fde0ef\"], [0.5, \"#f7f7f7\"], [0.6, \"#e6f5d0\"], [0.7, \"#b8e186\"], [0.8, \"#7fbc41\"], [0.9, \"#4d9221\"], [1, \"#276419\"]], \"sequential\": [[0.0, \"#0d0887\"], [0.1111111111111111, \"#46039f\"], [0.2222222222222222, \"#7201a8\"], [0.3333333333333333, \"#9c179e\"], [0.4444444444444444, \"#bd3786\"], [0.5555555555555556, \"#d8576b\"], [0.6666666666666666, \"#ed7953\"], [0.7777777777777778, \"#fb9f3a\"], [0.8888888888888888, \"#fdca26\"], [1.0, \"#f0f921\"]], \"sequentialminus\": [[0.0, \"#0d0887\"], [0.1111111111111111, \"#46039f\"], [0.2222222222222222, \"#7201a8\"], [0.3333333333333333, \"#9c179e\"], [0.4444444444444444, \"#bd3786\"], [0.5555555555555556, \"#d8576b\"], [0.6666666666666666, \"#ed7953\"], [0.7777777777777778, \"#fb9f3a\"], [0.8888888888888888, \"#fdca26\"], [1.0, \"#f0f921\"]]}, \"colorway\": [\"#636efa\", \"#EF553B\", \"#00cc96\", \"#ab63fa\", \"#FFA15A\", \"#19d3f3\", \"#FF6692\", \"#B6E880\", \"#FF97FF\", \"#FECB52\"], \"font\": {\"color\": \"#2a3f5f\"}, \"geo\": {\"bgcolor\": \"white\", \"lakecolor\": \"white\", \"landcolor\": \"#E5ECF6\", \"showlakes\": true, \"showland\": true, \"subunitcolor\": \"white\"}, \"hoverlabel\": {\"align\": \"left\"}, \"hovermode\": \"closest\", \"mapbox\": {\"style\": \"light\"}, \"paper_bgcolor\": \"white\", \"plot_bgcolor\": \"#E5ECF6\", \"polar\": {\"angularaxis\": {\"gridcolor\": \"white\", \"linecolor\": \"white\", \"ticks\": \"\"}, \"bgcolor\": \"#E5ECF6\", \"radialaxis\": {\"gridcolor\": \"white\", \"linecolor\": \"white\", \"ticks\": \"\"}}, \"scene\": {\"xaxis\": {\"backgroundcolor\": \"#E5ECF6\", \"gridcolor\": \"white\", \"gridwidth\": 2, \"linecolor\": \"white\", \"showbackground\": true, \"ticks\": \"\", \"zerolinecolor\": \"white\"}, \"yaxis\": {\"backgroundcolor\": \"#E5ECF6\", \"gridcolor\": \"white\", \"gridwidth\": 2, \"linecolor\": \"white\", \"showbackground\": true, \"ticks\": \"\", \"zerolinecolor\": \"white\"}, \"zaxis\": {\"backgroundcolor\": \"#E5ECF6\", \"gridcolor\": \"white\", \"gridwidth\": 2, \"linecolor\": \"white\", \"showbackground\": true, \"ticks\": \"\", \"zerolinecolor\": \"white\"}}, \"shapedefaults\": {\"line\": {\"color\": \"#2a3f5f\"}}, \"ternary\": {\"aaxis\": {\"gridcolor\": \"white\", \"linecolor\": \"white\", \"ticks\": \"\"}, \"baxis\": {\"gridcolor\": \"white\", \"linecolor\": \"white\", \"ticks\": \"\"}, \"bgcolor\": \"#E5ECF6\", \"caxis\": {\"gridcolor\": \"white\", \"linecolor\": \"white\", \"ticks\": \"\"}}, \"title\": {\"x\": 0.05}, \"xaxis\": {\"automargin\": true, \"gridcolor\": \"white\", \"linecolor\": \"white\", \"ticks\": \"\", \"title\": {\"standoff\": 15}, \"zerolinecolor\": \"white\", \"zerolinewidth\": 2}, \"yaxis\": {\"automargin\": true, \"gridcolor\": \"white\", \"linecolor\": \"white\", \"ticks\": \"\", \"title\": {\"standoff\": 15}, \"zerolinecolor\": \"white\", \"zerolinewidth\": 2}}}, \"title\": {\"text\": \"Top 10 Countries with the Most Population\"}, \"xaxis\": {\"anchor\": \"y\", \"domain\": [0.0, 1.0], \"title\": {\"text\": \"Country\"}}, \"yaxis\": {\"anchor\": \"x\", \"domain\": [0.0, 1.0], \"title\": {\"text\": \"Population\"}}},\n",
       "                        {\"responsive\": true}\n",
       "                    ).then(function(){\n",
       "                            \n",
       "var gd = document.getElementById('eb303fad-51d7-4321-87db-f179f86ec188');\n",
       "var x = new MutationObserver(function (mutations, observer) {{\n",
       "        var display = window.getComputedStyle(gd).display;\n",
       "        if (!display || display === 'none') {{\n",
       "            console.log([gd, 'removed!']);\n",
       "            Plotly.purge(gd);\n",
       "            observer.disconnect();\n",
       "        }}\n",
       "}});\n",
       "\n",
       "// Listen for the removal of the full notebook cells\n",
       "var notebookContainer = gd.closest('#notebook-container');\n",
       "if (notebookContainer) {{\n",
       "    x.observe(notebookContainer, {childList: true});\n",
       "}}\n",
       "\n",
       "// Listen for the clearing of the current output cell\n",
       "var outputEl = gd.closest('.output');\n",
       "if (outputEl) {{\n",
       "    x.observe(outputEl, {childList: true});\n",
       "}}\n",
       "\n",
       "                        })\n",
       "                };\n",
       "                });\n",
       "            </script>\n",
       "        </div>"
      ]
     },
     "metadata": {},
     "output_type": "display_data"
    }
   ],
   "source": [
    "data_pop=dataCountries.loc[:,['Country','Population']]\n",
    "data_pop.sort_values(by=['Population'],inplace=True,ascending=False)\n",
    "pop_bar=px.bar(data_pop[:10],x='Country',y='Population',title=\"Top 10 Countries with the Most Population\")\n",
    "pop_bar.show()"
   ]
  },
  {
   "cell_type": "markdown",
   "metadata": {
    "papermill": {
     "duration": 0.06976,
     "end_time": "2020-12-10T16:16:44.847893",
     "exception": false,
     "start_time": "2020-12-10T16:16:44.778133",
     "status": "completed"
    },
    "tags": []
   },
   "source": [
    "# Population Density by Country"
   ]
  },
  {
   "cell_type": "code",
   "execution_count": 11,
   "metadata": {
    "execution": {
     "iopub.execute_input": "2020-12-10T16:16:45.044049Z",
     "iopub.status.busy": "2020-12-10T16:16:45.043255Z",
     "iopub.status.idle": "2020-12-10T16:16:45.057513Z",
     "shell.execute_reply": "2020-12-10T16:16:45.058142Z"
    },
    "papermill": {
     "duration": 0.14064,
     "end_time": "2020-12-10T16:16:45.058347",
     "exception": false,
     "start_time": "2020-12-10T16:16:44.917707",
     "status": "completed"
    },
    "tags": []
   },
   "outputs": [
    {
     "data": {
      "application/vnd.plotly.v1+json": {
       "config": {
        "linkText": "Export to plot.ly",
        "plotlyServerURL": "https://plot.ly",
        "showLink": false
       },
       "data": [
        {
         "marker": {
          "color": "rgba(80, 26, 255, 0.8)"
         },
         "mode": "lines+markers",
         "name": "Population Density",
         "text": [
          "Afghanistan ",
          "Albania ",
          "Algeria ",
          "American Samoa ",
          "Andorra ",
          "Angola ",
          "Anguilla ",
          "Antigua & Barbuda ",
          "Argentina ",
          "Armenia ",
          "Aruba ",
          "Australia ",
          "Austria ",
          "Azerbaijan ",
          "Bahamas, The ",
          "Bahrain ",
          "Bangladesh ",
          "Barbados ",
          "Belarus ",
          "Belgium ",
          "Belize ",
          "Benin ",
          "Bermuda ",
          "Bhutan ",
          "Bolivia ",
          "Bosnia & Herzegovina ",
          "Botswana ",
          "Brazil ",
          "British Virgin Is. ",
          "Brunei ",
          "Bulgaria ",
          "Burkina Faso ",
          "Burma ",
          "Burundi ",
          "Cambodia ",
          "Cameroon ",
          "Canada ",
          "Cape Verde ",
          "Cayman Islands ",
          "Central African Rep. ",
          "Chad ",
          "Chile ",
          "China ",
          "Colombia ",
          "Comoros ",
          "Congo, Dem. Rep. ",
          "Congo, Repub. of the ",
          "Cook Islands ",
          "Costa Rica ",
          "Cote d'Ivoire ",
          "Croatia ",
          "Cuba ",
          "Cyprus ",
          "Czech Republic ",
          "Denmark ",
          "Djibouti ",
          "Dominica ",
          "Dominican Republic ",
          "East Timor ",
          "Ecuador ",
          "Egypt ",
          "El Salvador ",
          "Equatorial Guinea ",
          "Eritrea ",
          "Estonia ",
          "Ethiopia ",
          "Faroe Islands ",
          "Fiji ",
          "Finland ",
          "France ",
          "French Guiana ",
          "French Polynesia ",
          "Gabon ",
          "Gambia, The ",
          "Gaza Strip ",
          "Georgia ",
          "Germany ",
          "Ghana ",
          "Gibraltar ",
          "Greece ",
          "Greenland ",
          "Grenada ",
          "Guadeloupe ",
          "Guam ",
          "Guatemala ",
          "Guernsey ",
          "Guinea ",
          "Guinea-Bissau ",
          "Guyana ",
          "Haiti ",
          "Honduras ",
          "Hong Kong ",
          "Hungary ",
          "Iceland ",
          "India ",
          "Indonesia ",
          "Iran ",
          "Iraq ",
          "Ireland ",
          "Isle of Man ",
          "Israel ",
          "Italy ",
          "Jamaica ",
          "Japan ",
          "Jersey ",
          "Jordan ",
          "Kazakhstan ",
          "Kenya ",
          "Kiribati ",
          "Korea, North ",
          "Korea, South ",
          "Kuwait ",
          "Kyrgyzstan ",
          "Laos ",
          "Latvia ",
          "Lebanon ",
          "Lesotho ",
          "Liberia ",
          "Libya ",
          "Liechtenstein ",
          "Lithuania ",
          "Luxembourg ",
          "Macau ",
          "Macedonia ",
          "Madagascar ",
          "Malawi ",
          "Malaysia ",
          "Maldives ",
          "Mali ",
          "Malta ",
          "Marshall Islands ",
          "Martinique ",
          "Mauritania ",
          "Mauritius ",
          "Mayotte ",
          "Mexico ",
          "Micronesia, Fed. St. ",
          "Moldova ",
          "Monaco ",
          "Mongolia ",
          "Montserrat ",
          "Morocco ",
          "Mozambique ",
          "Namibia ",
          "Nauru ",
          "Nepal ",
          "Netherlands ",
          "Netherlands Antilles ",
          "New Caledonia ",
          "New Zealand ",
          "Nicaragua ",
          "Niger ",
          "Nigeria ",
          "N. Mariana Islands ",
          "Norway ",
          "Oman ",
          "Pakistan ",
          "Palau ",
          "Panama ",
          "Papua New Guinea ",
          "Paraguay ",
          "Peru ",
          "Philippines ",
          "Poland ",
          "Portugal ",
          "Puerto Rico ",
          "Qatar ",
          "Reunion ",
          "Romania ",
          "Russia ",
          "Rwanda ",
          "Saint Helena ",
          "Saint Kitts & Nevis ",
          "Saint Lucia ",
          "St Pierre & Miquelon ",
          "Saint Vincent and the Grenadines ",
          "Samoa ",
          "San Marino ",
          "Sao Tome & Principe ",
          "Saudi Arabia ",
          "Senegal ",
          "Serbia ",
          "Seychelles ",
          "Sierra Leone ",
          "Singapore ",
          "Slovakia ",
          "Slovenia ",
          "Solomon Islands ",
          "Somalia ",
          "South Africa ",
          "Spain ",
          "Sri Lanka ",
          "Sudan ",
          "Suriname ",
          "Swaziland ",
          "Sweden ",
          "Switzerland ",
          "Syria ",
          "Taiwan ",
          "Tajikistan ",
          "Tanzania ",
          "Thailand ",
          "Togo ",
          "Tonga ",
          "Trinidad & Tobago ",
          "Tunisia ",
          "Turkey ",
          "Turkmenistan ",
          "Turks & Caicos Is ",
          "Tuvalu ",
          "Uganda ",
          "Ukraine ",
          "United Arab Emirates ",
          "United Kingdom ",
          "United States ",
          "Uruguay ",
          "Uzbekistan ",
          "Vanuatu ",
          "Venezuela ",
          "Vietnam ",
          "Virgin Islands ",
          "Wallis and Futuna ",
          "West Bank ",
          "Western Sahara ",
          "Yemen ",
          "Zambia ",
          "Zimbabwe "
         ],
         "type": "scatter",
         "x": [
          "Afghanistan ",
          "Albania ",
          "Algeria ",
          "American Samoa ",
          "Andorra ",
          "Angola ",
          "Anguilla ",
          "Antigua & Barbuda ",
          "Argentina ",
          "Armenia ",
          "Aruba ",
          "Australia ",
          "Austria ",
          "Azerbaijan ",
          "Bahamas, The ",
          "Bahrain ",
          "Bangladesh ",
          "Barbados ",
          "Belarus ",
          "Belgium ",
          "Belize ",
          "Benin ",
          "Bermuda ",
          "Bhutan ",
          "Bolivia ",
          "Bosnia & Herzegovina ",
          "Botswana ",
          "Brazil ",
          "British Virgin Is. ",
          "Brunei ",
          "Bulgaria ",
          "Burkina Faso ",
          "Burma ",
          "Burundi ",
          "Cambodia ",
          "Cameroon ",
          "Canada ",
          "Cape Verde ",
          "Cayman Islands ",
          "Central African Rep. ",
          "Chad ",
          "Chile ",
          "China ",
          "Colombia ",
          "Comoros ",
          "Congo, Dem. Rep. ",
          "Congo, Repub. of the ",
          "Cook Islands ",
          "Costa Rica ",
          "Cote d'Ivoire ",
          "Croatia ",
          "Cuba ",
          "Cyprus ",
          "Czech Republic ",
          "Denmark ",
          "Djibouti ",
          "Dominica ",
          "Dominican Republic ",
          "East Timor ",
          "Ecuador ",
          "Egypt ",
          "El Salvador ",
          "Equatorial Guinea ",
          "Eritrea ",
          "Estonia ",
          "Ethiopia ",
          "Faroe Islands ",
          "Fiji ",
          "Finland ",
          "France ",
          "French Guiana ",
          "French Polynesia ",
          "Gabon ",
          "Gambia, The ",
          "Gaza Strip ",
          "Georgia ",
          "Germany ",
          "Ghana ",
          "Gibraltar ",
          "Greece ",
          "Greenland ",
          "Grenada ",
          "Guadeloupe ",
          "Guam ",
          "Guatemala ",
          "Guernsey ",
          "Guinea ",
          "Guinea-Bissau ",
          "Guyana ",
          "Haiti ",
          "Honduras ",
          "Hong Kong ",
          "Hungary ",
          "Iceland ",
          "India ",
          "Indonesia ",
          "Iran ",
          "Iraq ",
          "Ireland ",
          "Isle of Man ",
          "Israel ",
          "Italy ",
          "Jamaica ",
          "Japan ",
          "Jersey ",
          "Jordan ",
          "Kazakhstan ",
          "Kenya ",
          "Kiribati ",
          "Korea, North ",
          "Korea, South ",
          "Kuwait ",
          "Kyrgyzstan ",
          "Laos ",
          "Latvia ",
          "Lebanon ",
          "Lesotho ",
          "Liberia ",
          "Libya ",
          "Liechtenstein ",
          "Lithuania ",
          "Luxembourg ",
          "Macau ",
          "Macedonia ",
          "Madagascar ",
          "Malawi ",
          "Malaysia ",
          "Maldives ",
          "Mali ",
          "Malta ",
          "Marshall Islands ",
          "Martinique ",
          "Mauritania ",
          "Mauritius ",
          "Mayotte ",
          "Mexico ",
          "Micronesia, Fed. St. ",
          "Moldova ",
          "Monaco ",
          "Mongolia ",
          "Montserrat ",
          "Morocco ",
          "Mozambique ",
          "Namibia ",
          "Nauru ",
          "Nepal ",
          "Netherlands ",
          "Netherlands Antilles ",
          "New Caledonia ",
          "New Zealand ",
          "Nicaragua ",
          "Niger ",
          "Nigeria ",
          "N. Mariana Islands ",
          "Norway ",
          "Oman ",
          "Pakistan ",
          "Palau ",
          "Panama ",
          "Papua New Guinea ",
          "Paraguay ",
          "Peru ",
          "Philippines ",
          "Poland ",
          "Portugal ",
          "Puerto Rico ",
          "Qatar ",
          "Reunion ",
          "Romania ",
          "Russia ",
          "Rwanda ",
          "Saint Helena ",
          "Saint Kitts & Nevis ",
          "Saint Lucia ",
          "St Pierre & Miquelon ",
          "Saint Vincent and the Grenadines ",
          "Samoa ",
          "San Marino ",
          "Sao Tome & Principe ",
          "Saudi Arabia ",
          "Senegal ",
          "Serbia ",
          "Seychelles ",
          "Sierra Leone ",
          "Singapore ",
          "Slovakia ",
          "Slovenia ",
          "Solomon Islands ",
          "Somalia ",
          "South Africa ",
          "Spain ",
          "Sri Lanka ",
          "Sudan ",
          "Suriname ",
          "Swaziland ",
          "Sweden ",
          "Switzerland ",
          "Syria ",
          "Taiwan ",
          "Tajikistan ",
          "Tanzania ",
          "Thailand ",
          "Togo ",
          "Tonga ",
          "Trinidad & Tobago ",
          "Tunisia ",
          "Turkey ",
          "Turkmenistan ",
          "Turks & Caicos Is ",
          "Tuvalu ",
          "Uganda ",
          "Ukraine ",
          "United Arab Emirates ",
          "United Kingdom ",
          "United States ",
          "Uruguay ",
          "Uzbekistan ",
          "Vanuatu ",
          "Venezuela ",
          "Vietnam ",
          "Virgin Islands ",
          "Wallis and Futuna ",
          "West Bank ",
          "Western Sahara ",
          "Yemen ",
          "Zambia ",
          "Zimbabwe "
         ],
         "y": [
          48.0,
          124.6,
          13.8,
          290.4,
          152.1,
          9.7,
          132.1,
          156.0,
          14.4,
          99.9,
          372.5,
          2.6,
          97.7,
          91.9,
          21.8,
          1050.5,
          1023.4,
          649.5,
          49.6,
          340.0,
          12.5,
          69.8,
          1241.0,
          48.5,
          8.2,
          88.0,
          2.7,
          22.1,
          151.0,
          65.8,
          66.6,
          50.7,
          69.8,
          290.7,
          76.7,
          36.5,
          3.3,
          104.4,
          173.4,
          6.9,
          7.7,
          21.3,
          136.9,
          38.3,
          318.4,
          26.7,
          10.8,
          89.1,
          79.8,
          54.8,
          79.5,
          102.7,
          84.8,
          129.8,
          126.5,
          21.2,
          91.4,
          188.5,
          70.8,
          47.8,
          78.8,
          324.3,
          19.3,
          39.5,
          29.3,
          66.3,
          33.8,
          49.6,
          15.5,
          111.3,
          2.2,
          65.9,
          5.3,
          145.3,
          3968.8,
          66.9,
          230.9,
          93.6,
          3989.7,
          81.0,
          0.0,
          260.8,
          254.4,
          316.1,
          112.9,
          838.6,
          39.4,
          39.9,
          3.6,
          299.4,
          65.4,
          6355.7,
          107.3,
          2.9,
          333.2,
          127.9,
          41.7,
          61.3,
          57.8,
          131.9,
          305.8,
          193.0,
          250.9,
          337.4,
          785.2,
          64.0,
          5.6,
          59.6,
          130.0,
          191.8,
          496.0,
          135.7,
          26.3,
          26.9,
          35.2,
          372.5,
          66.6,
          27.3,
          3.4,
          212.4,
          55.0,
          183.5,
          16183.0,
          80.9,
          31.7,
          109.8,
          74.0,
          1196.7,
          9.5,
          1266.5,
          5.1,
          396.5,
          3.1,
          608.3,
          538.1,
          54.5,
          153.9,
          132.0,
          16271.5,
          1.8,
          92.5,
          74.4,
          24.6,
          2.5,
          632.7,
          192.2,
          397.1,
          231.0,
          11.5,
          15.2,
          43.0,
          9.9,
          142.7,
          172.9,
          14.2,
          14.6,
          206.2,
          44.9,
          40.8,
          12.3,
          16.0,
          22.0,
          298.2,
          123.3,
          114.8,
          284.8,
          77.4,
          312.9,
          93.9,
          8.4,
          328.4,
          18.2,
          149.9,
          273.5,
          29.0,
          303.0,
          60.1,
          479.5,
          193.2,
          13.8,
          61.1,
          106.3,
          179.2,
          83.7,
          6482.2,
          111.4,
          99.2,
          19.4,
          13.9,
          36.2,
          80.0,
          308.2,
          16.5,
          2.7,
          65.5,
          20.0,
          182.2,
          102.0,
          640.3,
          51.2,
          39.6,
          125.7,
          97.7,
          153.3,
          207.9,
          62.2,
          90.2,
          10.3,
          49.2,
          454.2,
          119.5,
          77.4,
          31.4,
          247.6,
          31.0,
          19.5,
          61.0,
          17.1,
          28.2,
          256.1,
          56.9,
          58.5,
          419.9,
          1.0,
          40.6,
          15.3,
          31.3
         ]
        }
       ],
       "layout": {
        "template": {
         "data": {
          "bar": [
           {
            "error_x": {
             "color": "#2a3f5f"
            },
            "error_y": {
             "color": "#2a3f5f"
            },
            "marker": {
             "line": {
              "color": "#E5ECF6",
              "width": 0.5
             }
            },
            "type": "bar"
           }
          ],
          "barpolar": [
           {
            "marker": {
             "line": {
              "color": "#E5ECF6",
              "width": 0.5
             }
            },
            "type": "barpolar"
           }
          ],
          "carpet": [
           {
            "aaxis": {
             "endlinecolor": "#2a3f5f",
             "gridcolor": "white",
             "linecolor": "white",
             "minorgridcolor": "white",
             "startlinecolor": "#2a3f5f"
            },
            "baxis": {
             "endlinecolor": "#2a3f5f",
             "gridcolor": "white",
             "linecolor": "white",
             "minorgridcolor": "white",
             "startlinecolor": "#2a3f5f"
            },
            "type": "carpet"
           }
          ],
          "choropleth": [
           {
            "colorbar": {
             "outlinewidth": 0,
             "ticks": ""
            },
            "type": "choropleth"
           }
          ],
          "contour": [
           {
            "colorbar": {
             "outlinewidth": 0,
             "ticks": ""
            },
            "colorscale": [
             [
              0.0,
              "#0d0887"
             ],
             [
              0.1111111111111111,
              "#46039f"
             ],
             [
              0.2222222222222222,
              "#7201a8"
             ],
             [
              0.3333333333333333,
              "#9c179e"
             ],
             [
              0.4444444444444444,
              "#bd3786"
             ],
             [
              0.5555555555555556,
              "#d8576b"
             ],
             [
              0.6666666666666666,
              "#ed7953"
             ],
             [
              0.7777777777777778,
              "#fb9f3a"
             ],
             [
              0.8888888888888888,
              "#fdca26"
             ],
             [
              1.0,
              "#f0f921"
             ]
            ],
            "type": "contour"
           }
          ],
          "contourcarpet": [
           {
            "colorbar": {
             "outlinewidth": 0,
             "ticks": ""
            },
            "type": "contourcarpet"
           }
          ],
          "heatmap": [
           {
            "colorbar": {
             "outlinewidth": 0,
             "ticks": ""
            },
            "colorscale": [
             [
              0.0,
              "#0d0887"
             ],
             [
              0.1111111111111111,
              "#46039f"
             ],
             [
              0.2222222222222222,
              "#7201a8"
             ],
             [
              0.3333333333333333,
              "#9c179e"
             ],
             [
              0.4444444444444444,
              "#bd3786"
             ],
             [
              0.5555555555555556,
              "#d8576b"
             ],
             [
              0.6666666666666666,
              "#ed7953"
             ],
             [
              0.7777777777777778,
              "#fb9f3a"
             ],
             [
              0.8888888888888888,
              "#fdca26"
             ],
             [
              1.0,
              "#f0f921"
             ]
            ],
            "type": "heatmap"
           }
          ],
          "heatmapgl": [
           {
            "colorbar": {
             "outlinewidth": 0,
             "ticks": ""
            },
            "colorscale": [
             [
              0.0,
              "#0d0887"
             ],
             [
              0.1111111111111111,
              "#46039f"
             ],
             [
              0.2222222222222222,
              "#7201a8"
             ],
             [
              0.3333333333333333,
              "#9c179e"
             ],
             [
              0.4444444444444444,
              "#bd3786"
             ],
             [
              0.5555555555555556,
              "#d8576b"
             ],
             [
              0.6666666666666666,
              "#ed7953"
             ],
             [
              0.7777777777777778,
              "#fb9f3a"
             ],
             [
              0.8888888888888888,
              "#fdca26"
             ],
             [
              1.0,
              "#f0f921"
             ]
            ],
            "type": "heatmapgl"
           }
          ],
          "histogram": [
           {
            "marker": {
             "colorbar": {
              "outlinewidth": 0,
              "ticks": ""
             }
            },
            "type": "histogram"
           }
          ],
          "histogram2d": [
           {
            "colorbar": {
             "outlinewidth": 0,
             "ticks": ""
            },
            "colorscale": [
             [
              0.0,
              "#0d0887"
             ],
             [
              0.1111111111111111,
              "#46039f"
             ],
             [
              0.2222222222222222,
              "#7201a8"
             ],
             [
              0.3333333333333333,
              "#9c179e"
             ],
             [
              0.4444444444444444,
              "#bd3786"
             ],
             [
              0.5555555555555556,
              "#d8576b"
             ],
             [
              0.6666666666666666,
              "#ed7953"
             ],
             [
              0.7777777777777778,
              "#fb9f3a"
             ],
             [
              0.8888888888888888,
              "#fdca26"
             ],
             [
              1.0,
              "#f0f921"
             ]
            ],
            "type": "histogram2d"
           }
          ],
          "histogram2dcontour": [
           {
            "colorbar": {
             "outlinewidth": 0,
             "ticks": ""
            },
            "colorscale": [
             [
              0.0,
              "#0d0887"
             ],
             [
              0.1111111111111111,
              "#46039f"
             ],
             [
              0.2222222222222222,
              "#7201a8"
             ],
             [
              0.3333333333333333,
              "#9c179e"
             ],
             [
              0.4444444444444444,
              "#bd3786"
             ],
             [
              0.5555555555555556,
              "#d8576b"
             ],
             [
              0.6666666666666666,
              "#ed7953"
             ],
             [
              0.7777777777777778,
              "#fb9f3a"
             ],
             [
              0.8888888888888888,
              "#fdca26"
             ],
             [
              1.0,
              "#f0f921"
             ]
            ],
            "type": "histogram2dcontour"
           }
          ],
          "mesh3d": [
           {
            "colorbar": {
             "outlinewidth": 0,
             "ticks": ""
            },
            "type": "mesh3d"
           }
          ],
          "parcoords": [
           {
            "line": {
             "colorbar": {
              "outlinewidth": 0,
              "ticks": ""
             }
            },
            "type": "parcoords"
           }
          ],
          "pie": [
           {
            "automargin": true,
            "type": "pie"
           }
          ],
          "scatter": [
           {
            "marker": {
             "colorbar": {
              "outlinewidth": 0,
              "ticks": ""
             }
            },
            "type": "scatter"
           }
          ],
          "scatter3d": [
           {
            "line": {
             "colorbar": {
              "outlinewidth": 0,
              "ticks": ""
             }
            },
            "marker": {
             "colorbar": {
              "outlinewidth": 0,
              "ticks": ""
             }
            },
            "type": "scatter3d"
           }
          ],
          "scattercarpet": [
           {
            "marker": {
             "colorbar": {
              "outlinewidth": 0,
              "ticks": ""
             }
            },
            "type": "scattercarpet"
           }
          ],
          "scattergeo": [
           {
            "marker": {
             "colorbar": {
              "outlinewidth": 0,
              "ticks": ""
             }
            },
            "type": "scattergeo"
           }
          ],
          "scattergl": [
           {
            "marker": {
             "colorbar": {
              "outlinewidth": 0,
              "ticks": ""
             }
            },
            "type": "scattergl"
           }
          ],
          "scattermapbox": [
           {
            "marker": {
             "colorbar": {
              "outlinewidth": 0,
              "ticks": ""
             }
            },
            "type": "scattermapbox"
           }
          ],
          "scatterpolar": [
           {
            "marker": {
             "colorbar": {
              "outlinewidth": 0,
              "ticks": ""
             }
            },
            "type": "scatterpolar"
           }
          ],
          "scatterpolargl": [
           {
            "marker": {
             "colorbar": {
              "outlinewidth": 0,
              "ticks": ""
             }
            },
            "type": "scatterpolargl"
           }
          ],
          "scatterternary": [
           {
            "marker": {
             "colorbar": {
              "outlinewidth": 0,
              "ticks": ""
             }
            },
            "type": "scatterternary"
           }
          ],
          "surface": [
           {
            "colorbar": {
             "outlinewidth": 0,
             "ticks": ""
            },
            "colorscale": [
             [
              0.0,
              "#0d0887"
             ],
             [
              0.1111111111111111,
              "#46039f"
             ],
             [
              0.2222222222222222,
              "#7201a8"
             ],
             [
              0.3333333333333333,
              "#9c179e"
             ],
             [
              0.4444444444444444,
              "#bd3786"
             ],
             [
              0.5555555555555556,
              "#d8576b"
             ],
             [
              0.6666666666666666,
              "#ed7953"
             ],
             [
              0.7777777777777778,
              "#fb9f3a"
             ],
             [
              0.8888888888888888,
              "#fdca26"
             ],
             [
              1.0,
              "#f0f921"
             ]
            ],
            "type": "surface"
           }
          ],
          "table": [
           {
            "cells": {
             "fill": {
              "color": "#EBF0F8"
             },
             "line": {
              "color": "white"
             }
            },
            "header": {
             "fill": {
              "color": "#C8D4E3"
             },
             "line": {
              "color": "white"
             }
            },
            "type": "table"
           }
          ]
         },
         "layout": {
          "annotationdefaults": {
           "arrowcolor": "#2a3f5f",
           "arrowhead": 0,
           "arrowwidth": 1
          },
          "coloraxis": {
           "colorbar": {
            "outlinewidth": 0,
            "ticks": ""
           }
          },
          "colorscale": {
           "diverging": [
            [
             0,
             "#8e0152"
            ],
            [
             0.1,
             "#c51b7d"
            ],
            [
             0.2,
             "#de77ae"
            ],
            [
             0.3,
             "#f1b6da"
            ],
            [
             0.4,
             "#fde0ef"
            ],
            [
             0.5,
             "#f7f7f7"
            ],
            [
             0.6,
             "#e6f5d0"
            ],
            [
             0.7,
             "#b8e186"
            ],
            [
             0.8,
             "#7fbc41"
            ],
            [
             0.9,
             "#4d9221"
            ],
            [
             1,
             "#276419"
            ]
           ],
           "sequential": [
            [
             0.0,
             "#0d0887"
            ],
            [
             0.1111111111111111,
             "#46039f"
            ],
            [
             0.2222222222222222,
             "#7201a8"
            ],
            [
             0.3333333333333333,
             "#9c179e"
            ],
            [
             0.4444444444444444,
             "#bd3786"
            ],
            [
             0.5555555555555556,
             "#d8576b"
            ],
            [
             0.6666666666666666,
             "#ed7953"
            ],
            [
             0.7777777777777778,
             "#fb9f3a"
            ],
            [
             0.8888888888888888,
             "#fdca26"
            ],
            [
             1.0,
             "#f0f921"
            ]
           ],
           "sequentialminus": [
            [
             0.0,
             "#0d0887"
            ],
            [
             0.1111111111111111,
             "#46039f"
            ],
            [
             0.2222222222222222,
             "#7201a8"
            ],
            [
             0.3333333333333333,
             "#9c179e"
            ],
            [
             0.4444444444444444,
             "#bd3786"
            ],
            [
             0.5555555555555556,
             "#d8576b"
            ],
            [
             0.6666666666666666,
             "#ed7953"
            ],
            [
             0.7777777777777778,
             "#fb9f3a"
            ],
            [
             0.8888888888888888,
             "#fdca26"
            ],
            [
             1.0,
             "#f0f921"
            ]
           ]
          },
          "colorway": [
           "#636efa",
           "#EF553B",
           "#00cc96",
           "#ab63fa",
           "#FFA15A",
           "#19d3f3",
           "#FF6692",
           "#B6E880",
           "#FF97FF",
           "#FECB52"
          ],
          "font": {
           "color": "#2a3f5f"
          },
          "geo": {
           "bgcolor": "white",
           "lakecolor": "white",
           "landcolor": "#E5ECF6",
           "showlakes": true,
           "showland": true,
           "subunitcolor": "white"
          },
          "hoverlabel": {
           "align": "left"
          },
          "hovermode": "closest",
          "mapbox": {
           "style": "light"
          },
          "paper_bgcolor": "white",
          "plot_bgcolor": "#E5ECF6",
          "polar": {
           "angularaxis": {
            "gridcolor": "white",
            "linecolor": "white",
            "ticks": ""
           },
           "bgcolor": "#E5ECF6",
           "radialaxis": {
            "gridcolor": "white",
            "linecolor": "white",
            "ticks": ""
           }
          },
          "scene": {
           "xaxis": {
            "backgroundcolor": "#E5ECF6",
            "gridcolor": "white",
            "gridwidth": 2,
            "linecolor": "white",
            "showbackground": true,
            "ticks": "",
            "zerolinecolor": "white"
           },
           "yaxis": {
            "backgroundcolor": "#E5ECF6",
            "gridcolor": "white",
            "gridwidth": 2,
            "linecolor": "white",
            "showbackground": true,
            "ticks": "",
            "zerolinecolor": "white"
           },
           "zaxis": {
            "backgroundcolor": "#E5ECF6",
            "gridcolor": "white",
            "gridwidth": 2,
            "linecolor": "white",
            "showbackground": true,
            "ticks": "",
            "zerolinecolor": "white"
           }
          },
          "shapedefaults": {
           "line": {
            "color": "#2a3f5f"
           }
          },
          "ternary": {
           "aaxis": {
            "gridcolor": "white",
            "linecolor": "white",
            "ticks": ""
           },
           "baxis": {
            "gridcolor": "white",
            "linecolor": "white",
            "ticks": ""
           },
           "bgcolor": "#E5ECF6",
           "caxis": {
            "gridcolor": "white",
            "linecolor": "white",
            "ticks": ""
           }
          },
          "title": {
           "x": 0.05
          },
          "xaxis": {
           "automargin": true,
           "gridcolor": "white",
           "linecolor": "white",
           "ticks": "",
           "title": {
            "standoff": 15
           },
           "zerolinecolor": "white",
           "zerolinewidth": 2
          },
          "yaxis": {
           "automargin": true,
           "gridcolor": "white",
           "linecolor": "white",
           "ticks": "",
           "title": {
            "standoff": 15
           },
           "zerolinecolor": "white",
           "zerolinewidth": 2
          }
         }
        },
        "title": {
         "text": "Population Density (per sq. mi.)  by Country"
        },
        "xaxis": {
         "ticklen": 5,
         "title": {
          "text": "Country"
         },
         "zeroline": false
        }
       }
      },
      "text/html": [
       "<div>\n",
       "        \n",
       "        \n",
       "            <div id=\"9703a61b-962f-45e1-8895-8fe314f19610\" class=\"plotly-graph-div\" style=\"height:525px; width:100%;\"></div>\n",
       "            <script type=\"text/javascript\">\n",
       "                require([\"plotly\"], function(Plotly) {\n",
       "                    window.PLOTLYENV=window.PLOTLYENV || {};\n",
       "                    \n",
       "                if (document.getElementById(\"9703a61b-962f-45e1-8895-8fe314f19610\")) {\n",
       "                    Plotly.newPlot(\n",
       "                        '9703a61b-962f-45e1-8895-8fe314f19610',\n",
       "                        [{\"marker\": {\"color\": \"rgba(80, 26, 255, 0.8)\"}, \"mode\": \"lines+markers\", \"name\": \"Population Density\", \"text\": [\"Afghanistan \", \"Albania \", \"Algeria \", \"American Samoa \", \"Andorra \", \"Angola \", \"Anguilla \", \"Antigua & Barbuda \", \"Argentina \", \"Armenia \", \"Aruba \", \"Australia \", \"Austria \", \"Azerbaijan \", \"Bahamas, The \", \"Bahrain \", \"Bangladesh \", \"Barbados \", \"Belarus \", \"Belgium \", \"Belize \", \"Benin \", \"Bermuda \", \"Bhutan \", \"Bolivia \", \"Bosnia & Herzegovina \", \"Botswana \", \"Brazil \", \"British Virgin Is. \", \"Brunei \", \"Bulgaria \", \"Burkina Faso \", \"Burma \", \"Burundi \", \"Cambodia \", \"Cameroon \", \"Canada \", \"Cape Verde \", \"Cayman Islands \", \"Central African Rep. \", \"Chad \", \"Chile \", \"China \", \"Colombia \", \"Comoros \", \"Congo, Dem. Rep. \", \"Congo, Repub. of the \", \"Cook Islands \", \"Costa Rica \", \"Cote d'Ivoire \", \"Croatia \", \"Cuba \", \"Cyprus \", \"Czech Republic \", \"Denmark \", \"Djibouti \", \"Dominica \", \"Dominican Republic \", \"East Timor \", \"Ecuador \", \"Egypt \", \"El Salvador \", \"Equatorial Guinea \", \"Eritrea \", \"Estonia \", \"Ethiopia \", \"Faroe Islands \", \"Fiji \", \"Finland \", \"France \", \"French Guiana \", \"French Polynesia \", \"Gabon \", \"Gambia, The \", \"Gaza Strip \", \"Georgia \", \"Germany \", \"Ghana \", \"Gibraltar \", \"Greece \", \"Greenland \", \"Grenada \", \"Guadeloupe \", \"Guam \", \"Guatemala \", \"Guernsey \", \"Guinea \", \"Guinea-Bissau \", \"Guyana \", \"Haiti \", \"Honduras \", \"Hong Kong \", \"Hungary \", \"Iceland \", \"India \", \"Indonesia \", \"Iran \", \"Iraq \", \"Ireland \", \"Isle of Man \", \"Israel \", \"Italy \", \"Jamaica \", \"Japan \", \"Jersey \", \"Jordan \", \"Kazakhstan \", \"Kenya \", \"Kiribati \", \"Korea, North \", \"Korea, South \", \"Kuwait \", \"Kyrgyzstan \", \"Laos \", \"Latvia \", \"Lebanon \", \"Lesotho \", \"Liberia \", \"Libya \", \"Liechtenstein \", \"Lithuania \", \"Luxembourg \", \"Macau \", \"Macedonia \", \"Madagascar \", \"Malawi \", \"Malaysia \", \"Maldives \", \"Mali \", \"Malta \", \"Marshall Islands \", \"Martinique \", \"Mauritania \", \"Mauritius \", \"Mayotte \", \"Mexico \", \"Micronesia, Fed. St. \", \"Moldova \", \"Monaco \", \"Mongolia \", \"Montserrat \", \"Morocco \", \"Mozambique \", \"Namibia \", \"Nauru \", \"Nepal \", \"Netherlands \", \"Netherlands Antilles \", \"New Caledonia \", \"New Zealand \", \"Nicaragua \", \"Niger \", \"Nigeria \", \"N. Mariana Islands \", \"Norway \", \"Oman \", \"Pakistan \", \"Palau \", \"Panama \", \"Papua New Guinea \", \"Paraguay \", \"Peru \", \"Philippines \", \"Poland \", \"Portugal \", \"Puerto Rico \", \"Qatar \", \"Reunion \", \"Romania \", \"Russia \", \"Rwanda \", \"Saint Helena \", \"Saint Kitts & Nevis \", \"Saint Lucia \", \"St Pierre & Miquelon \", \"Saint Vincent and the Grenadines \", \"Samoa \", \"San Marino \", \"Sao Tome & Principe \", \"Saudi Arabia \", \"Senegal \", \"Serbia \", \"Seychelles \", \"Sierra Leone \", \"Singapore \", \"Slovakia \", \"Slovenia \", \"Solomon Islands \", \"Somalia \", \"South Africa \", \"Spain \", \"Sri Lanka \", \"Sudan \", \"Suriname \", \"Swaziland \", \"Sweden \", \"Switzerland \", \"Syria \", \"Taiwan \", \"Tajikistan \", \"Tanzania \", \"Thailand \", \"Togo \", \"Tonga \", \"Trinidad & Tobago \", \"Tunisia \", \"Turkey \", \"Turkmenistan \", \"Turks & Caicos Is \", \"Tuvalu \", \"Uganda \", \"Ukraine \", \"United Arab Emirates \", \"United Kingdom \", \"United States \", \"Uruguay \", \"Uzbekistan \", \"Vanuatu \", \"Venezuela \", \"Vietnam \", \"Virgin Islands \", \"Wallis and Futuna \", \"West Bank \", \"Western Sahara \", \"Yemen \", \"Zambia \", \"Zimbabwe \"], \"type\": \"scatter\", \"x\": [\"Afghanistan \", \"Albania \", \"Algeria \", \"American Samoa \", \"Andorra \", \"Angola \", \"Anguilla \", \"Antigua & Barbuda \", \"Argentina \", \"Armenia \", \"Aruba \", \"Australia \", \"Austria \", \"Azerbaijan \", \"Bahamas, The \", \"Bahrain \", \"Bangladesh \", \"Barbados \", \"Belarus \", \"Belgium \", \"Belize \", \"Benin \", \"Bermuda \", \"Bhutan \", \"Bolivia \", \"Bosnia & Herzegovina \", \"Botswana \", \"Brazil \", \"British Virgin Is. \", \"Brunei \", \"Bulgaria \", \"Burkina Faso \", \"Burma \", \"Burundi \", \"Cambodia \", \"Cameroon \", \"Canada \", \"Cape Verde \", \"Cayman Islands \", \"Central African Rep. \", \"Chad \", \"Chile \", \"China \", \"Colombia \", \"Comoros \", \"Congo, Dem. Rep. \", \"Congo, Repub. of the \", \"Cook Islands \", \"Costa Rica \", \"Cote d'Ivoire \", \"Croatia \", \"Cuba \", \"Cyprus \", \"Czech Republic \", \"Denmark \", \"Djibouti \", \"Dominica \", \"Dominican Republic \", \"East Timor \", \"Ecuador \", \"Egypt \", \"El Salvador \", \"Equatorial Guinea \", \"Eritrea \", \"Estonia \", \"Ethiopia \", \"Faroe Islands \", \"Fiji \", \"Finland \", \"France \", \"French Guiana \", \"French Polynesia \", \"Gabon \", \"Gambia, The \", \"Gaza Strip \", \"Georgia \", \"Germany \", \"Ghana \", \"Gibraltar \", \"Greece \", \"Greenland \", \"Grenada \", \"Guadeloupe \", \"Guam \", \"Guatemala \", \"Guernsey \", \"Guinea \", \"Guinea-Bissau \", \"Guyana \", \"Haiti \", \"Honduras \", \"Hong Kong \", \"Hungary \", \"Iceland \", \"India \", \"Indonesia \", \"Iran \", \"Iraq \", \"Ireland \", \"Isle of Man \", \"Israel \", \"Italy \", \"Jamaica \", \"Japan \", \"Jersey \", \"Jordan \", \"Kazakhstan \", \"Kenya \", \"Kiribati \", \"Korea, North \", \"Korea, South \", \"Kuwait \", \"Kyrgyzstan \", \"Laos \", \"Latvia \", \"Lebanon \", \"Lesotho \", \"Liberia \", \"Libya \", \"Liechtenstein \", \"Lithuania \", \"Luxembourg \", \"Macau \", \"Macedonia \", \"Madagascar \", \"Malawi \", \"Malaysia \", \"Maldives \", \"Mali \", \"Malta \", \"Marshall Islands \", \"Martinique \", \"Mauritania \", \"Mauritius \", \"Mayotte \", \"Mexico \", \"Micronesia, Fed. St. \", \"Moldova \", \"Monaco \", \"Mongolia \", \"Montserrat \", \"Morocco \", \"Mozambique \", \"Namibia \", \"Nauru \", \"Nepal \", \"Netherlands \", \"Netherlands Antilles \", \"New Caledonia \", \"New Zealand \", \"Nicaragua \", \"Niger \", \"Nigeria \", \"N. Mariana Islands \", \"Norway \", \"Oman \", \"Pakistan \", \"Palau \", \"Panama \", \"Papua New Guinea \", \"Paraguay \", \"Peru \", \"Philippines \", \"Poland \", \"Portugal \", \"Puerto Rico \", \"Qatar \", \"Reunion \", \"Romania \", \"Russia \", \"Rwanda \", \"Saint Helena \", \"Saint Kitts & Nevis \", \"Saint Lucia \", \"St Pierre & Miquelon \", \"Saint Vincent and the Grenadines \", \"Samoa \", \"San Marino \", \"Sao Tome & Principe \", \"Saudi Arabia \", \"Senegal \", \"Serbia \", \"Seychelles \", \"Sierra Leone \", \"Singapore \", \"Slovakia \", \"Slovenia \", \"Solomon Islands \", \"Somalia \", \"South Africa \", \"Spain \", \"Sri Lanka \", \"Sudan \", \"Suriname \", \"Swaziland \", \"Sweden \", \"Switzerland \", \"Syria \", \"Taiwan \", \"Tajikistan \", \"Tanzania \", \"Thailand \", \"Togo \", \"Tonga \", \"Trinidad & Tobago \", \"Tunisia \", \"Turkey \", \"Turkmenistan \", \"Turks & Caicos Is \", \"Tuvalu \", \"Uganda \", \"Ukraine \", \"United Arab Emirates \", \"United Kingdom \", \"United States \", \"Uruguay \", \"Uzbekistan \", \"Vanuatu \", \"Venezuela \", \"Vietnam \", \"Virgin Islands \", \"Wallis and Futuna \", \"West Bank \", \"Western Sahara \", \"Yemen \", \"Zambia \", \"Zimbabwe \"], \"y\": [48.0, 124.6, 13.8, 290.4, 152.1, 9.7, 132.1, 156.0, 14.4, 99.9, 372.5, 2.6, 97.7, 91.9, 21.8, 1050.5, 1023.4, 649.5, 49.6, 340.0, 12.5, 69.8, 1241.0, 48.5, 8.2, 88.0, 2.7, 22.1, 151.0, 65.8, 66.6, 50.7, 69.8, 290.7, 76.7, 36.5, 3.3, 104.4, 173.4, 6.9, 7.7, 21.3, 136.9, 38.3, 318.4, 26.7, 10.8, 89.1, 79.8, 54.8, 79.5, 102.7, 84.8, 129.8, 126.5, 21.2, 91.4, 188.5, 70.8, 47.8, 78.8, 324.3, 19.3, 39.5, 29.3, 66.3, 33.8, 49.6, 15.5, 111.3, 2.2, 65.9, 5.3, 145.3, 3968.8, 66.9, 230.9, 93.6, 3989.7, 81.0, 0.0, 260.8, 254.4, 316.1, 112.9, 838.6, 39.4, 39.9, 3.6, 299.4, 65.4, 6355.7, 107.3, 2.9, 333.2, 127.9, 41.7, 61.3, 57.8, 131.9, 305.8, 193.0, 250.9, 337.4, 785.2, 64.0, 5.6, 59.6, 130.0, 191.8, 496.0, 135.7, 26.3, 26.9, 35.2, 372.5, 66.6, 27.3, 3.4, 212.4, 55.0, 183.5, 16183.0, 80.9, 31.7, 109.8, 74.0, 1196.7, 9.5, 1266.5, 5.1, 396.5, 3.1, 608.3, 538.1, 54.5, 153.9, 132.0, 16271.5, 1.8, 92.5, 74.4, 24.6, 2.5, 632.7, 192.2, 397.1, 231.0, 11.5, 15.2, 43.0, 9.9, 142.7, 172.9, 14.2, 14.6, 206.2, 44.9, 40.8, 12.3, 16.0, 22.0, 298.2, 123.3, 114.8, 284.8, 77.4, 312.9, 93.9, 8.4, 328.4, 18.2, 149.9, 273.5, 29.0, 303.0, 60.1, 479.5, 193.2, 13.8, 61.1, 106.3, 179.2, 83.7, 6482.2, 111.4, 99.2, 19.4, 13.9, 36.2, 80.0, 308.2, 16.5, 2.7, 65.5, 20.0, 182.2, 102.0, 640.3, 51.2, 39.6, 125.7, 97.7, 153.3, 207.9, 62.2, 90.2, 10.3, 49.2, 454.2, 119.5, 77.4, 31.4, 247.6, 31.0, 19.5, 61.0, 17.1, 28.2, 256.1, 56.9, 58.5, 419.9, 1.0, 40.6, 15.3, 31.3]}],\n",
       "                        {\"template\": {\"data\": {\"bar\": [{\"error_x\": {\"color\": \"#2a3f5f\"}, \"error_y\": {\"color\": \"#2a3f5f\"}, \"marker\": {\"line\": {\"color\": \"#E5ECF6\", \"width\": 0.5}}, \"type\": \"bar\"}], \"barpolar\": [{\"marker\": {\"line\": {\"color\": \"#E5ECF6\", \"width\": 0.5}}, \"type\": \"barpolar\"}], \"carpet\": [{\"aaxis\": {\"endlinecolor\": \"#2a3f5f\", \"gridcolor\": \"white\", \"linecolor\": \"white\", \"minorgridcolor\": \"white\", \"startlinecolor\": \"#2a3f5f\"}, \"baxis\": {\"endlinecolor\": \"#2a3f5f\", \"gridcolor\": \"white\", \"linecolor\": \"white\", \"minorgridcolor\": \"white\", \"startlinecolor\": \"#2a3f5f\"}, \"type\": \"carpet\"}], \"choropleth\": [{\"colorbar\": {\"outlinewidth\": 0, \"ticks\": \"\"}, \"type\": \"choropleth\"}], \"contour\": [{\"colorbar\": {\"outlinewidth\": 0, \"ticks\": \"\"}, \"colorscale\": [[0.0, \"#0d0887\"], [0.1111111111111111, \"#46039f\"], [0.2222222222222222, \"#7201a8\"], [0.3333333333333333, \"#9c179e\"], [0.4444444444444444, \"#bd3786\"], [0.5555555555555556, \"#d8576b\"], [0.6666666666666666, \"#ed7953\"], [0.7777777777777778, \"#fb9f3a\"], [0.8888888888888888, \"#fdca26\"], [1.0, \"#f0f921\"]], \"type\": \"contour\"}], \"contourcarpet\": [{\"colorbar\": {\"outlinewidth\": 0, \"ticks\": \"\"}, \"type\": \"contourcarpet\"}], \"heatmap\": [{\"colorbar\": {\"outlinewidth\": 0, \"ticks\": \"\"}, \"colorscale\": [[0.0, \"#0d0887\"], [0.1111111111111111, \"#46039f\"], [0.2222222222222222, \"#7201a8\"], [0.3333333333333333, \"#9c179e\"], [0.4444444444444444, \"#bd3786\"], [0.5555555555555556, \"#d8576b\"], [0.6666666666666666, \"#ed7953\"], [0.7777777777777778, \"#fb9f3a\"], [0.8888888888888888, \"#fdca26\"], [1.0, \"#f0f921\"]], \"type\": \"heatmap\"}], \"heatmapgl\": [{\"colorbar\": {\"outlinewidth\": 0, \"ticks\": \"\"}, \"colorscale\": [[0.0, \"#0d0887\"], [0.1111111111111111, \"#46039f\"], [0.2222222222222222, \"#7201a8\"], [0.3333333333333333, \"#9c179e\"], [0.4444444444444444, \"#bd3786\"], [0.5555555555555556, \"#d8576b\"], [0.6666666666666666, \"#ed7953\"], [0.7777777777777778, \"#fb9f3a\"], [0.8888888888888888, \"#fdca26\"], [1.0, \"#f0f921\"]], \"type\": \"heatmapgl\"}], \"histogram\": [{\"marker\": {\"colorbar\": {\"outlinewidth\": 0, \"ticks\": \"\"}}, \"type\": \"histogram\"}], \"histogram2d\": [{\"colorbar\": {\"outlinewidth\": 0, \"ticks\": \"\"}, \"colorscale\": [[0.0, \"#0d0887\"], [0.1111111111111111, \"#46039f\"], [0.2222222222222222, \"#7201a8\"], [0.3333333333333333, \"#9c179e\"], [0.4444444444444444, \"#bd3786\"], [0.5555555555555556, \"#d8576b\"], [0.6666666666666666, \"#ed7953\"], [0.7777777777777778, \"#fb9f3a\"], [0.8888888888888888, \"#fdca26\"], [1.0, \"#f0f921\"]], \"type\": \"histogram2d\"}], \"histogram2dcontour\": [{\"colorbar\": {\"outlinewidth\": 0, \"ticks\": \"\"}, \"colorscale\": [[0.0, \"#0d0887\"], [0.1111111111111111, \"#46039f\"], [0.2222222222222222, \"#7201a8\"], [0.3333333333333333, \"#9c179e\"], [0.4444444444444444, \"#bd3786\"], [0.5555555555555556, \"#d8576b\"], [0.6666666666666666, \"#ed7953\"], [0.7777777777777778, \"#fb9f3a\"], [0.8888888888888888, \"#fdca26\"], [1.0, \"#f0f921\"]], \"type\": \"histogram2dcontour\"}], \"mesh3d\": [{\"colorbar\": {\"outlinewidth\": 0, \"ticks\": \"\"}, \"type\": \"mesh3d\"}], \"parcoords\": [{\"line\": {\"colorbar\": {\"outlinewidth\": 0, \"ticks\": \"\"}}, \"type\": \"parcoords\"}], \"pie\": [{\"automargin\": true, \"type\": \"pie\"}], \"scatter\": [{\"marker\": {\"colorbar\": {\"outlinewidth\": 0, \"ticks\": \"\"}}, \"type\": \"scatter\"}], \"scatter3d\": [{\"line\": {\"colorbar\": {\"outlinewidth\": 0, \"ticks\": \"\"}}, \"marker\": {\"colorbar\": {\"outlinewidth\": 0, \"ticks\": \"\"}}, \"type\": \"scatter3d\"}], \"scattercarpet\": [{\"marker\": {\"colorbar\": {\"outlinewidth\": 0, \"ticks\": \"\"}}, \"type\": \"scattercarpet\"}], \"scattergeo\": [{\"marker\": {\"colorbar\": {\"outlinewidth\": 0, \"ticks\": \"\"}}, \"type\": \"scattergeo\"}], \"scattergl\": [{\"marker\": {\"colorbar\": {\"outlinewidth\": 0, \"ticks\": \"\"}}, \"type\": \"scattergl\"}], \"scattermapbox\": [{\"marker\": {\"colorbar\": {\"outlinewidth\": 0, \"ticks\": \"\"}}, \"type\": \"scattermapbox\"}], \"scatterpolar\": [{\"marker\": {\"colorbar\": {\"outlinewidth\": 0, \"ticks\": \"\"}}, \"type\": \"scatterpolar\"}], \"scatterpolargl\": [{\"marker\": {\"colorbar\": {\"outlinewidth\": 0, \"ticks\": \"\"}}, \"type\": \"scatterpolargl\"}], \"scatterternary\": [{\"marker\": {\"colorbar\": {\"outlinewidth\": 0, \"ticks\": \"\"}}, \"type\": \"scatterternary\"}], \"surface\": [{\"colorbar\": {\"outlinewidth\": 0, \"ticks\": \"\"}, \"colorscale\": [[0.0, \"#0d0887\"], [0.1111111111111111, \"#46039f\"], [0.2222222222222222, \"#7201a8\"], [0.3333333333333333, \"#9c179e\"], [0.4444444444444444, \"#bd3786\"], [0.5555555555555556, \"#d8576b\"], [0.6666666666666666, \"#ed7953\"], [0.7777777777777778, \"#fb9f3a\"], [0.8888888888888888, \"#fdca26\"], [1.0, \"#f0f921\"]], \"type\": \"surface\"}], \"table\": [{\"cells\": {\"fill\": {\"color\": \"#EBF0F8\"}, \"line\": {\"color\": \"white\"}}, \"header\": {\"fill\": {\"color\": \"#C8D4E3\"}, \"line\": {\"color\": \"white\"}}, \"type\": \"table\"}]}, \"layout\": {\"annotationdefaults\": {\"arrowcolor\": \"#2a3f5f\", \"arrowhead\": 0, \"arrowwidth\": 1}, \"coloraxis\": {\"colorbar\": {\"outlinewidth\": 0, \"ticks\": \"\"}}, \"colorscale\": {\"diverging\": [[0, \"#8e0152\"], [0.1, \"#c51b7d\"], [0.2, \"#de77ae\"], [0.3, \"#f1b6da\"], [0.4, \"#fde0ef\"], [0.5, \"#f7f7f7\"], [0.6, \"#e6f5d0\"], [0.7, \"#b8e186\"], [0.8, \"#7fbc41\"], [0.9, \"#4d9221\"], [1, \"#276419\"]], \"sequential\": [[0.0, \"#0d0887\"], [0.1111111111111111, \"#46039f\"], [0.2222222222222222, \"#7201a8\"], [0.3333333333333333, \"#9c179e\"], [0.4444444444444444, \"#bd3786\"], [0.5555555555555556, \"#d8576b\"], [0.6666666666666666, \"#ed7953\"], [0.7777777777777778, \"#fb9f3a\"], [0.8888888888888888, \"#fdca26\"], [1.0, \"#f0f921\"]], \"sequentialminus\": [[0.0, \"#0d0887\"], [0.1111111111111111, \"#46039f\"], [0.2222222222222222, \"#7201a8\"], [0.3333333333333333, \"#9c179e\"], [0.4444444444444444, \"#bd3786\"], [0.5555555555555556, \"#d8576b\"], [0.6666666666666666, \"#ed7953\"], [0.7777777777777778, \"#fb9f3a\"], [0.8888888888888888, \"#fdca26\"], [1.0, \"#f0f921\"]]}, \"colorway\": [\"#636efa\", \"#EF553B\", \"#00cc96\", \"#ab63fa\", \"#FFA15A\", \"#19d3f3\", \"#FF6692\", \"#B6E880\", \"#FF97FF\", \"#FECB52\"], \"font\": {\"color\": \"#2a3f5f\"}, \"geo\": {\"bgcolor\": \"white\", \"lakecolor\": \"white\", \"landcolor\": \"#E5ECF6\", \"showlakes\": true, \"showland\": true, \"subunitcolor\": \"white\"}, \"hoverlabel\": {\"align\": \"left\"}, \"hovermode\": \"closest\", \"mapbox\": {\"style\": \"light\"}, \"paper_bgcolor\": \"white\", \"plot_bgcolor\": \"#E5ECF6\", \"polar\": {\"angularaxis\": {\"gridcolor\": \"white\", \"linecolor\": \"white\", \"ticks\": \"\"}, \"bgcolor\": \"#E5ECF6\", \"radialaxis\": {\"gridcolor\": \"white\", \"linecolor\": \"white\", \"ticks\": \"\"}}, \"scene\": {\"xaxis\": {\"backgroundcolor\": \"#E5ECF6\", \"gridcolor\": \"white\", \"gridwidth\": 2, \"linecolor\": \"white\", \"showbackground\": true, \"ticks\": \"\", \"zerolinecolor\": \"white\"}, \"yaxis\": {\"backgroundcolor\": \"#E5ECF6\", \"gridcolor\": \"white\", \"gridwidth\": 2, \"linecolor\": \"white\", \"showbackground\": true, \"ticks\": \"\", \"zerolinecolor\": \"white\"}, \"zaxis\": {\"backgroundcolor\": \"#E5ECF6\", \"gridcolor\": \"white\", \"gridwidth\": 2, \"linecolor\": \"white\", \"showbackground\": true, \"ticks\": \"\", \"zerolinecolor\": \"white\"}}, \"shapedefaults\": {\"line\": {\"color\": \"#2a3f5f\"}}, \"ternary\": {\"aaxis\": {\"gridcolor\": \"white\", \"linecolor\": \"white\", \"ticks\": \"\"}, \"baxis\": {\"gridcolor\": \"white\", \"linecolor\": \"white\", \"ticks\": \"\"}, \"bgcolor\": \"#E5ECF6\", \"caxis\": {\"gridcolor\": \"white\", \"linecolor\": \"white\", \"ticks\": \"\"}}, \"title\": {\"x\": 0.05}, \"xaxis\": {\"automargin\": true, \"gridcolor\": \"white\", \"linecolor\": \"white\", \"ticks\": \"\", \"title\": {\"standoff\": 15}, \"zerolinecolor\": \"white\", \"zerolinewidth\": 2}, \"yaxis\": {\"automargin\": true, \"gridcolor\": \"white\", \"linecolor\": \"white\", \"ticks\": \"\", \"title\": {\"standoff\": 15}, \"zerolinecolor\": \"white\", \"zerolinewidth\": 2}}}, \"title\": {\"text\": \"Population Density (per sq. mi.)  by Country\"}, \"xaxis\": {\"ticklen\": 5, \"title\": {\"text\": \"Country\"}, \"zeroline\": false}},\n",
       "                        {\"responsive\": true}\n",
       "                    ).then(function(){\n",
       "                            \n",
       "var gd = document.getElementById('9703a61b-962f-45e1-8895-8fe314f19610');\n",
       "var x = new MutationObserver(function (mutations, observer) {{\n",
       "        var display = window.getComputedStyle(gd).display;\n",
       "        if (!display || display === 'none') {{\n",
       "            console.log([gd, 'removed!']);\n",
       "            Plotly.purge(gd);\n",
       "            observer.disconnect();\n",
       "        }}\n",
       "}});\n",
       "\n",
       "// Listen for the removal of the full notebook cells\n",
       "var notebookContainer = gd.closest('#notebook-container');\n",
       "if (notebookContainer) {{\n",
       "    x.observe(notebookContainer, {childList: true});\n",
       "}}\n",
       "\n",
       "// Listen for the clearing of the current output cell\n",
       "var outputEl = gd.closest('.output');\n",
       "if (outputEl) {{\n",
       "    x.observe(outputEl, {childList: true});\n",
       "}}\n",
       "\n",
       "                        })\n",
       "                };\n",
       "                });\n",
       "            </script>\n",
       "        </div>"
      ]
     },
     "metadata": {},
     "output_type": "display_data"
    }
   ],
   "source": [
    "pop_den_con= go.Scatter(\n",
    "                    x = dataCountries.Country,\n",
    "                    y = dataCountries['Pop. Density (per sq. mi.)'],\n",
    "                    mode = \"lines+markers\",\n",
    "                    name = \"Population Density\",\n",
    "                    marker = dict(color = 'rgba(80, 26, 255, 0.8)'),\n",
    "                    text= dataCountries.Country)\n",
    "data = [pop_den_con]\n",
    "layout = dict(title = 'Population Density (per sq. mi.)  by Country',\n",
    "              xaxis= dict(title= 'Country',ticklen= 5,zeroline= False)\n",
    "             )\n",
    "fig = dict(data = data, layout = layout)\n",
    "iplot(fig)"
   ]
  },
  {
   "cell_type": "markdown",
   "metadata": {
    "papermill": {
     "duration": 0.078218,
     "end_time": "2020-12-10T16:16:45.218090",
     "exception": false,
     "start_time": "2020-12-10T16:16:45.139872",
     "status": "completed"
    },
    "tags": []
   },
   "source": [
    "# Infant Mortality Rates by Country"
   ]
  },
  {
   "cell_type": "code",
   "execution_count": 12,
   "metadata": {
    "execution": {
     "iopub.execute_input": "2020-12-10T16:16:45.387556Z",
     "iopub.status.busy": "2020-12-10T16:16:45.386557Z",
     "iopub.status.idle": "2020-12-10T16:16:45.411364Z",
     "shell.execute_reply": "2020-12-10T16:16:45.410559Z"
    },
    "papermill": {
     "duration": 0.113621,
     "end_time": "2020-12-10T16:16:45.411501",
     "exception": false,
     "start_time": "2020-12-10T16:16:45.297880",
     "status": "completed"
    },
    "tags": []
   },
   "outputs": [],
   "source": [
    "data_infant_morality=dataCountries.loc[:,['Country','Infant mortality (per 1000 births)']]\n",
    "data_infant_morality.dropna(inplace=True)\n",
    "data_infant_morality['Infant mortality (per 1000 births)']=[float(each.replace(',','.')) for each in data_infant_morality['Infant mortality (per 1000 births)']]"
   ]
  },
  {
   "cell_type": "code",
   "execution_count": 13,
   "metadata": {
    "execution": {
     "iopub.execute_input": "2020-12-10T16:16:45.595803Z",
     "iopub.status.busy": "2020-12-10T16:16:45.580499Z",
     "iopub.status.idle": "2020-12-10T16:16:45.636952Z",
     "shell.execute_reply": "2020-12-10T16:16:45.637696Z"
    },
    "papermill": {
     "duration": 0.146859,
     "end_time": "2020-12-10T16:16:45.637904",
     "exception": false,
     "start_time": "2020-12-10T16:16:45.491045",
     "status": "completed"
    },
    "tags": []
   },
   "outputs": [
    {
     "data": {
      "application/vnd.plotly.v1+json": {
       "config": {
        "linkText": "Export to plot.ly",
        "plotlyServerURL": "https://plot.ly",
        "showLink": false
       },
       "data": [
        {
         "marker": {
          "color": "rgba(80, 26, 255, 0.8)"
         },
         "mode": "lines+markers",
         "name": "Infant Mortality Rates",
         "text": [
          "Afghanistan ",
          "Albania ",
          "Algeria ",
          "American Samoa ",
          "Andorra ",
          "Angola ",
          "Anguilla ",
          "Antigua & Barbuda ",
          "Argentina ",
          "Armenia ",
          "Aruba ",
          "Australia ",
          "Austria ",
          "Azerbaijan ",
          "Bahamas, The ",
          "Bahrain ",
          "Bangladesh ",
          "Barbados ",
          "Belarus ",
          "Belgium ",
          "Belize ",
          "Benin ",
          "Bermuda ",
          "Bhutan ",
          "Bolivia ",
          "Bosnia & Herzegovina ",
          "Botswana ",
          "Brazil ",
          "British Virgin Is. ",
          "Brunei ",
          "Bulgaria ",
          "Burkina Faso ",
          "Burma ",
          "Burundi ",
          "Cambodia ",
          "Cameroon ",
          "Canada ",
          "Cape Verde ",
          "Cayman Islands ",
          "Central African Rep. ",
          "Chad ",
          "Chile ",
          "China ",
          "Colombia ",
          "Comoros ",
          "Congo, Dem. Rep. ",
          "Congo, Repub. of the ",
          "Costa Rica ",
          "Cote d'Ivoire ",
          "Croatia ",
          "Cuba ",
          "Cyprus ",
          "Czech Republic ",
          "Denmark ",
          "Djibouti ",
          "Dominica ",
          "Dominican Republic ",
          "East Timor ",
          "Ecuador ",
          "Egypt ",
          "El Salvador ",
          "Equatorial Guinea ",
          "Eritrea ",
          "Estonia ",
          "Ethiopia ",
          "Faroe Islands ",
          "Fiji ",
          "Finland ",
          "France ",
          "French Guiana ",
          "French Polynesia ",
          "Gabon ",
          "Gambia, The ",
          "Gaza Strip ",
          "Georgia ",
          "Germany ",
          "Ghana ",
          "Gibraltar ",
          "Greece ",
          "Greenland ",
          "Grenada ",
          "Guadeloupe ",
          "Guam ",
          "Guatemala ",
          "Guernsey ",
          "Guinea ",
          "Guinea-Bissau ",
          "Guyana ",
          "Haiti ",
          "Honduras ",
          "Hong Kong ",
          "Hungary ",
          "Iceland ",
          "India ",
          "Indonesia ",
          "Iran ",
          "Iraq ",
          "Ireland ",
          "Isle of Man ",
          "Israel ",
          "Italy ",
          "Jamaica ",
          "Japan ",
          "Jersey ",
          "Jordan ",
          "Kazakhstan ",
          "Kenya ",
          "Kiribati ",
          "Korea, North ",
          "Korea, South ",
          "Kuwait ",
          "Kyrgyzstan ",
          "Laos ",
          "Latvia ",
          "Lebanon ",
          "Lesotho ",
          "Liberia ",
          "Libya ",
          "Liechtenstein ",
          "Lithuania ",
          "Luxembourg ",
          "Macau ",
          "Macedonia ",
          "Madagascar ",
          "Malawi ",
          "Malaysia ",
          "Maldives ",
          "Mali ",
          "Malta ",
          "Marshall Islands ",
          "Martinique ",
          "Mauritania ",
          "Mauritius ",
          "Mayotte ",
          "Mexico ",
          "Micronesia, Fed. St. ",
          "Moldova ",
          "Monaco ",
          "Mongolia ",
          "Montserrat ",
          "Morocco ",
          "Mozambique ",
          "Namibia ",
          "Nauru ",
          "Nepal ",
          "Netherlands ",
          "Netherlands Antilles ",
          "New Caledonia ",
          "New Zealand ",
          "Nicaragua ",
          "Niger ",
          "Nigeria ",
          "N. Mariana Islands ",
          "Norway ",
          "Oman ",
          "Pakistan ",
          "Palau ",
          "Panama ",
          "Papua New Guinea ",
          "Paraguay ",
          "Peru ",
          "Philippines ",
          "Poland ",
          "Portugal ",
          "Puerto Rico ",
          "Qatar ",
          "Reunion ",
          "Romania ",
          "Russia ",
          "Rwanda ",
          "Saint Helena ",
          "Saint Kitts & Nevis ",
          "Saint Lucia ",
          "St Pierre & Miquelon ",
          "Saint Vincent and the Grenadines ",
          "Samoa ",
          "San Marino ",
          "Sao Tome & Principe ",
          "Saudi Arabia ",
          "Senegal ",
          "Serbia ",
          "Seychelles ",
          "Sierra Leone ",
          "Singapore ",
          "Slovakia ",
          "Slovenia ",
          "Solomon Islands ",
          "Somalia ",
          "South Africa ",
          "Spain ",
          "Sri Lanka ",
          "Sudan ",
          "Suriname ",
          "Swaziland ",
          "Sweden ",
          "Switzerland ",
          "Syria ",
          "Taiwan ",
          "Tajikistan ",
          "Tanzania ",
          "Thailand ",
          "Togo ",
          "Tonga ",
          "Trinidad & Tobago ",
          "Tunisia ",
          "Turkey ",
          "Turkmenistan ",
          "Turks & Caicos Is ",
          "Tuvalu ",
          "Uganda ",
          "Ukraine ",
          "United Arab Emirates ",
          "United Kingdom ",
          "United States ",
          "Uruguay ",
          "Uzbekistan ",
          "Vanuatu ",
          "Venezuela ",
          "Vietnam ",
          "Virgin Islands ",
          "West Bank ",
          "Yemen ",
          "Zambia ",
          "Zimbabwe "
         ],
         "type": "scatter",
         "x": [
          "Afghanistan ",
          "Albania ",
          "Algeria ",
          "American Samoa ",
          "Andorra ",
          "Angola ",
          "Anguilla ",
          "Antigua & Barbuda ",
          "Argentina ",
          "Armenia ",
          "Aruba ",
          "Australia ",
          "Austria ",
          "Azerbaijan ",
          "Bahamas, The ",
          "Bahrain ",
          "Bangladesh ",
          "Barbados ",
          "Belarus ",
          "Belgium ",
          "Belize ",
          "Benin ",
          "Bermuda ",
          "Bhutan ",
          "Bolivia ",
          "Bosnia & Herzegovina ",
          "Botswana ",
          "Brazil ",
          "British Virgin Is. ",
          "Brunei ",
          "Bulgaria ",
          "Burkina Faso ",
          "Burma ",
          "Burundi ",
          "Cambodia ",
          "Cameroon ",
          "Canada ",
          "Cape Verde ",
          "Cayman Islands ",
          "Central African Rep. ",
          "Chad ",
          "Chile ",
          "China ",
          "Colombia ",
          "Comoros ",
          "Congo, Dem. Rep. ",
          "Congo, Repub. of the ",
          "Costa Rica ",
          "Cote d'Ivoire ",
          "Croatia ",
          "Cuba ",
          "Cyprus ",
          "Czech Republic ",
          "Denmark ",
          "Djibouti ",
          "Dominica ",
          "Dominican Republic ",
          "East Timor ",
          "Ecuador ",
          "Egypt ",
          "El Salvador ",
          "Equatorial Guinea ",
          "Eritrea ",
          "Estonia ",
          "Ethiopia ",
          "Faroe Islands ",
          "Fiji ",
          "Finland ",
          "France ",
          "French Guiana ",
          "French Polynesia ",
          "Gabon ",
          "Gambia, The ",
          "Gaza Strip ",
          "Georgia ",
          "Germany ",
          "Ghana ",
          "Gibraltar ",
          "Greece ",
          "Greenland ",
          "Grenada ",
          "Guadeloupe ",
          "Guam ",
          "Guatemala ",
          "Guernsey ",
          "Guinea ",
          "Guinea-Bissau ",
          "Guyana ",
          "Haiti ",
          "Honduras ",
          "Hong Kong ",
          "Hungary ",
          "Iceland ",
          "India ",
          "Indonesia ",
          "Iran ",
          "Iraq ",
          "Ireland ",
          "Isle of Man ",
          "Israel ",
          "Italy ",
          "Jamaica ",
          "Japan ",
          "Jersey ",
          "Jordan ",
          "Kazakhstan ",
          "Kenya ",
          "Kiribati ",
          "Korea, North ",
          "Korea, South ",
          "Kuwait ",
          "Kyrgyzstan ",
          "Laos ",
          "Latvia ",
          "Lebanon ",
          "Lesotho ",
          "Liberia ",
          "Libya ",
          "Liechtenstein ",
          "Lithuania ",
          "Luxembourg ",
          "Macau ",
          "Macedonia ",
          "Madagascar ",
          "Malawi ",
          "Malaysia ",
          "Maldives ",
          "Mali ",
          "Malta ",
          "Marshall Islands ",
          "Martinique ",
          "Mauritania ",
          "Mauritius ",
          "Mayotte ",
          "Mexico ",
          "Micronesia, Fed. St. ",
          "Moldova ",
          "Monaco ",
          "Mongolia ",
          "Montserrat ",
          "Morocco ",
          "Mozambique ",
          "Namibia ",
          "Nauru ",
          "Nepal ",
          "Netherlands ",
          "Netherlands Antilles ",
          "New Caledonia ",
          "New Zealand ",
          "Nicaragua ",
          "Niger ",
          "Nigeria ",
          "N. Mariana Islands ",
          "Norway ",
          "Oman ",
          "Pakistan ",
          "Palau ",
          "Panama ",
          "Papua New Guinea ",
          "Paraguay ",
          "Peru ",
          "Philippines ",
          "Poland ",
          "Portugal ",
          "Puerto Rico ",
          "Qatar ",
          "Reunion ",
          "Romania ",
          "Russia ",
          "Rwanda ",
          "Saint Helena ",
          "Saint Kitts & Nevis ",
          "Saint Lucia ",
          "St Pierre & Miquelon ",
          "Saint Vincent and the Grenadines ",
          "Samoa ",
          "San Marino ",
          "Sao Tome & Principe ",
          "Saudi Arabia ",
          "Senegal ",
          "Serbia ",
          "Seychelles ",
          "Sierra Leone ",
          "Singapore ",
          "Slovakia ",
          "Slovenia ",
          "Solomon Islands ",
          "Somalia ",
          "South Africa ",
          "Spain ",
          "Sri Lanka ",
          "Sudan ",
          "Suriname ",
          "Swaziland ",
          "Sweden ",
          "Switzerland ",
          "Syria ",
          "Taiwan ",
          "Tajikistan ",
          "Tanzania ",
          "Thailand ",
          "Togo ",
          "Tonga ",
          "Trinidad & Tobago ",
          "Tunisia ",
          "Turkey ",
          "Turkmenistan ",
          "Turks & Caicos Is ",
          "Tuvalu ",
          "Uganda ",
          "Ukraine ",
          "United Arab Emirates ",
          "United Kingdom ",
          "United States ",
          "Uruguay ",
          "Uzbekistan ",
          "Vanuatu ",
          "Venezuela ",
          "Vietnam ",
          "Virgin Islands ",
          "West Bank ",
          "Yemen ",
          "Zambia ",
          "Zimbabwe "
         ],
         "y": [
          163.07,
          21.52,
          31.0,
          9.27,
          4.05,
          191.19,
          21.03,
          19.46,
          15.18,
          23.28,
          5.89,
          4.69,
          4.66,
          81.74,
          25.21,
          17.27,
          62.6,
          12.5,
          13.37,
          4.68,
          25.69,
          85.0,
          8.53,
          100.44,
          53.11,
          21.05,
          54.58,
          29.61,
          18.05,
          12.61,
          20.55,
          97.57,
          67.24,
          69.29,
          71.48,
          68.26,
          4.75,
          47.77,
          8.19,
          91.0,
          93.82,
          8.8,
          24.18,
          20.97,
          74.93,
          94.69,
          93.86,
          9.95,
          90.83,
          6.84,
          6.33,
          7.18,
          3.93,
          4.56,
          104.13,
          14.15,
          32.38,
          47.41,
          23.66,
          32.59,
          25.1,
          85.13,
          74.87,
          7.87,
          95.32,
          6.24,
          12.62,
          3.57,
          4.26,
          12.07,
          8.44,
          53.64,
          72.02,
          22.93,
          18.59,
          4.16,
          51.43,
          5.13,
          5.53,
          15.82,
          14.62,
          8.6,
          6.94,
          35.93,
          4.71,
          90.37,
          107.17,
          33.26,
          73.45,
          29.32,
          2.97,
          8.57,
          3.31,
          56.29,
          35.6,
          41.58,
          50.25,
          5.39,
          5.93,
          7.03,
          5.94,
          12.36,
          3.26,
          5.24,
          17.35,
          29.21,
          61.47,
          48.52,
          24.04,
          7.05,
          9.95,
          35.64,
          85.22,
          9.55,
          24.52,
          84.23,
          128.87,
          24.6,
          4.7,
          6.89,
          4.81,
          4.39,
          10.09,
          76.83,
          103.32,
          17.7,
          56.52,
          116.79,
          3.89,
          29.45,
          7.09,
          70.89,
          15.03,
          62.4,
          20.91,
          30.21,
          40.42,
          5.43,
          53.79,
          7.35,
          41.62,
          130.79,
          48.98,
          9.95,
          66.98,
          5.04,
          10.03,
          7.72,
          5.85,
          29.11,
          121.69,
          98.8,
          7.11,
          3.7,
          19.51,
          72.44,
          14.84,
          20.47,
          51.45,
          25.63,
          31.94,
          23.51,
          8.51,
          5.05,
          8.24,
          18.61,
          7.78,
          26.43,
          15.39,
          91.23,
          19.0,
          14.49,
          13.53,
          7.54,
          14.78,
          27.71,
          5.73,
          43.11,
          13.24,
          55.51,
          12.89,
          15.53,
          143.64,
          2.29,
          7.41,
          4.45,
          21.29,
          116.7,
          61.81,
          4.42,
          14.35,
          62.5,
          23.57,
          69.27,
          2.77,
          4.39,
          29.53,
          6.4,
          110.76,
          98.54,
          20.48,
          66.61,
          12.62,
          24.31,
          24.77,
          41.04,
          73.08,
          15.67,
          20.03,
          67.83,
          20.34,
          14.51,
          5.16,
          6.5,
          11.95,
          71.1,
          55.16,
          22.2,
          25.95,
          8.03,
          19.62,
          61.5,
          88.29,
          67.69
         ]
        }
       ],
       "layout": {
        "template": {
         "data": {
          "bar": [
           {
            "error_x": {
             "color": "#2a3f5f"
            },
            "error_y": {
             "color": "#2a3f5f"
            },
            "marker": {
             "line": {
              "color": "#E5ECF6",
              "width": 0.5
             }
            },
            "type": "bar"
           }
          ],
          "barpolar": [
           {
            "marker": {
             "line": {
              "color": "#E5ECF6",
              "width": 0.5
             }
            },
            "type": "barpolar"
           }
          ],
          "carpet": [
           {
            "aaxis": {
             "endlinecolor": "#2a3f5f",
             "gridcolor": "white",
             "linecolor": "white",
             "minorgridcolor": "white",
             "startlinecolor": "#2a3f5f"
            },
            "baxis": {
             "endlinecolor": "#2a3f5f",
             "gridcolor": "white",
             "linecolor": "white",
             "minorgridcolor": "white",
             "startlinecolor": "#2a3f5f"
            },
            "type": "carpet"
           }
          ],
          "choropleth": [
           {
            "colorbar": {
             "outlinewidth": 0,
             "ticks": ""
            },
            "type": "choropleth"
           }
          ],
          "contour": [
           {
            "colorbar": {
             "outlinewidth": 0,
             "ticks": ""
            },
            "colorscale": [
             [
              0.0,
              "#0d0887"
             ],
             [
              0.1111111111111111,
              "#46039f"
             ],
             [
              0.2222222222222222,
              "#7201a8"
             ],
             [
              0.3333333333333333,
              "#9c179e"
             ],
             [
              0.4444444444444444,
              "#bd3786"
             ],
             [
              0.5555555555555556,
              "#d8576b"
             ],
             [
              0.6666666666666666,
              "#ed7953"
             ],
             [
              0.7777777777777778,
              "#fb9f3a"
             ],
             [
              0.8888888888888888,
              "#fdca26"
             ],
             [
              1.0,
              "#f0f921"
             ]
            ],
            "type": "contour"
           }
          ],
          "contourcarpet": [
           {
            "colorbar": {
             "outlinewidth": 0,
             "ticks": ""
            },
            "type": "contourcarpet"
           }
          ],
          "heatmap": [
           {
            "colorbar": {
             "outlinewidth": 0,
             "ticks": ""
            },
            "colorscale": [
             [
              0.0,
              "#0d0887"
             ],
             [
              0.1111111111111111,
              "#46039f"
             ],
             [
              0.2222222222222222,
              "#7201a8"
             ],
             [
              0.3333333333333333,
              "#9c179e"
             ],
             [
              0.4444444444444444,
              "#bd3786"
             ],
             [
              0.5555555555555556,
              "#d8576b"
             ],
             [
              0.6666666666666666,
              "#ed7953"
             ],
             [
              0.7777777777777778,
              "#fb9f3a"
             ],
             [
              0.8888888888888888,
              "#fdca26"
             ],
             [
              1.0,
              "#f0f921"
             ]
            ],
            "type": "heatmap"
           }
          ],
          "heatmapgl": [
           {
            "colorbar": {
             "outlinewidth": 0,
             "ticks": ""
            },
            "colorscale": [
             [
              0.0,
              "#0d0887"
             ],
             [
              0.1111111111111111,
              "#46039f"
             ],
             [
              0.2222222222222222,
              "#7201a8"
             ],
             [
              0.3333333333333333,
              "#9c179e"
             ],
             [
              0.4444444444444444,
              "#bd3786"
             ],
             [
              0.5555555555555556,
              "#d8576b"
             ],
             [
              0.6666666666666666,
              "#ed7953"
             ],
             [
              0.7777777777777778,
              "#fb9f3a"
             ],
             [
              0.8888888888888888,
              "#fdca26"
             ],
             [
              1.0,
              "#f0f921"
             ]
            ],
            "type": "heatmapgl"
           }
          ],
          "histogram": [
           {
            "marker": {
             "colorbar": {
              "outlinewidth": 0,
              "ticks": ""
             }
            },
            "type": "histogram"
           }
          ],
          "histogram2d": [
           {
            "colorbar": {
             "outlinewidth": 0,
             "ticks": ""
            },
            "colorscale": [
             [
              0.0,
              "#0d0887"
             ],
             [
              0.1111111111111111,
              "#46039f"
             ],
             [
              0.2222222222222222,
              "#7201a8"
             ],
             [
              0.3333333333333333,
              "#9c179e"
             ],
             [
              0.4444444444444444,
              "#bd3786"
             ],
             [
              0.5555555555555556,
              "#d8576b"
             ],
             [
              0.6666666666666666,
              "#ed7953"
             ],
             [
              0.7777777777777778,
              "#fb9f3a"
             ],
             [
              0.8888888888888888,
              "#fdca26"
             ],
             [
              1.0,
              "#f0f921"
             ]
            ],
            "type": "histogram2d"
           }
          ],
          "histogram2dcontour": [
           {
            "colorbar": {
             "outlinewidth": 0,
             "ticks": ""
            },
            "colorscale": [
             [
              0.0,
              "#0d0887"
             ],
             [
              0.1111111111111111,
              "#46039f"
             ],
             [
              0.2222222222222222,
              "#7201a8"
             ],
             [
              0.3333333333333333,
              "#9c179e"
             ],
             [
              0.4444444444444444,
              "#bd3786"
             ],
             [
              0.5555555555555556,
              "#d8576b"
             ],
             [
              0.6666666666666666,
              "#ed7953"
             ],
             [
              0.7777777777777778,
              "#fb9f3a"
             ],
             [
              0.8888888888888888,
              "#fdca26"
             ],
             [
              1.0,
              "#f0f921"
             ]
            ],
            "type": "histogram2dcontour"
           }
          ],
          "mesh3d": [
           {
            "colorbar": {
             "outlinewidth": 0,
             "ticks": ""
            },
            "type": "mesh3d"
           }
          ],
          "parcoords": [
           {
            "line": {
             "colorbar": {
              "outlinewidth": 0,
              "ticks": ""
             }
            },
            "type": "parcoords"
           }
          ],
          "pie": [
           {
            "automargin": true,
            "type": "pie"
           }
          ],
          "scatter": [
           {
            "marker": {
             "colorbar": {
              "outlinewidth": 0,
              "ticks": ""
             }
            },
            "type": "scatter"
           }
          ],
          "scatter3d": [
           {
            "line": {
             "colorbar": {
              "outlinewidth": 0,
              "ticks": ""
             }
            },
            "marker": {
             "colorbar": {
              "outlinewidth": 0,
              "ticks": ""
             }
            },
            "type": "scatter3d"
           }
          ],
          "scattercarpet": [
           {
            "marker": {
             "colorbar": {
              "outlinewidth": 0,
              "ticks": ""
             }
            },
            "type": "scattercarpet"
           }
          ],
          "scattergeo": [
           {
            "marker": {
             "colorbar": {
              "outlinewidth": 0,
              "ticks": ""
             }
            },
            "type": "scattergeo"
           }
          ],
          "scattergl": [
           {
            "marker": {
             "colorbar": {
              "outlinewidth": 0,
              "ticks": ""
             }
            },
            "type": "scattergl"
           }
          ],
          "scattermapbox": [
           {
            "marker": {
             "colorbar": {
              "outlinewidth": 0,
              "ticks": ""
             }
            },
            "type": "scattermapbox"
           }
          ],
          "scatterpolar": [
           {
            "marker": {
             "colorbar": {
              "outlinewidth": 0,
              "ticks": ""
             }
            },
            "type": "scatterpolar"
           }
          ],
          "scatterpolargl": [
           {
            "marker": {
             "colorbar": {
              "outlinewidth": 0,
              "ticks": ""
             }
            },
            "type": "scatterpolargl"
           }
          ],
          "scatterternary": [
           {
            "marker": {
             "colorbar": {
              "outlinewidth": 0,
              "ticks": ""
             }
            },
            "type": "scatterternary"
           }
          ],
          "surface": [
           {
            "colorbar": {
             "outlinewidth": 0,
             "ticks": ""
            },
            "colorscale": [
             [
              0.0,
              "#0d0887"
             ],
             [
              0.1111111111111111,
              "#46039f"
             ],
             [
              0.2222222222222222,
              "#7201a8"
             ],
             [
              0.3333333333333333,
              "#9c179e"
             ],
             [
              0.4444444444444444,
              "#bd3786"
             ],
             [
              0.5555555555555556,
              "#d8576b"
             ],
             [
              0.6666666666666666,
              "#ed7953"
             ],
             [
              0.7777777777777778,
              "#fb9f3a"
             ],
             [
              0.8888888888888888,
              "#fdca26"
             ],
             [
              1.0,
              "#f0f921"
             ]
            ],
            "type": "surface"
           }
          ],
          "table": [
           {
            "cells": {
             "fill": {
              "color": "#EBF0F8"
             },
             "line": {
              "color": "white"
             }
            },
            "header": {
             "fill": {
              "color": "#C8D4E3"
             },
             "line": {
              "color": "white"
             }
            },
            "type": "table"
           }
          ]
         },
         "layout": {
          "annotationdefaults": {
           "arrowcolor": "#2a3f5f",
           "arrowhead": 0,
           "arrowwidth": 1
          },
          "coloraxis": {
           "colorbar": {
            "outlinewidth": 0,
            "ticks": ""
           }
          },
          "colorscale": {
           "diverging": [
            [
             0,
             "#8e0152"
            ],
            [
             0.1,
             "#c51b7d"
            ],
            [
             0.2,
             "#de77ae"
            ],
            [
             0.3,
             "#f1b6da"
            ],
            [
             0.4,
             "#fde0ef"
            ],
            [
             0.5,
             "#f7f7f7"
            ],
            [
             0.6,
             "#e6f5d0"
            ],
            [
             0.7,
             "#b8e186"
            ],
            [
             0.8,
             "#7fbc41"
            ],
            [
             0.9,
             "#4d9221"
            ],
            [
             1,
             "#276419"
            ]
           ],
           "sequential": [
            [
             0.0,
             "#0d0887"
            ],
            [
             0.1111111111111111,
             "#46039f"
            ],
            [
             0.2222222222222222,
             "#7201a8"
            ],
            [
             0.3333333333333333,
             "#9c179e"
            ],
            [
             0.4444444444444444,
             "#bd3786"
            ],
            [
             0.5555555555555556,
             "#d8576b"
            ],
            [
             0.6666666666666666,
             "#ed7953"
            ],
            [
             0.7777777777777778,
             "#fb9f3a"
            ],
            [
             0.8888888888888888,
             "#fdca26"
            ],
            [
             1.0,
             "#f0f921"
            ]
           ],
           "sequentialminus": [
            [
             0.0,
             "#0d0887"
            ],
            [
             0.1111111111111111,
             "#46039f"
            ],
            [
             0.2222222222222222,
             "#7201a8"
            ],
            [
             0.3333333333333333,
             "#9c179e"
            ],
            [
             0.4444444444444444,
             "#bd3786"
            ],
            [
             0.5555555555555556,
             "#d8576b"
            ],
            [
             0.6666666666666666,
             "#ed7953"
            ],
            [
             0.7777777777777778,
             "#fb9f3a"
            ],
            [
             0.8888888888888888,
             "#fdca26"
            ],
            [
             1.0,
             "#f0f921"
            ]
           ]
          },
          "colorway": [
           "#636efa",
           "#EF553B",
           "#00cc96",
           "#ab63fa",
           "#FFA15A",
           "#19d3f3",
           "#FF6692",
           "#B6E880",
           "#FF97FF",
           "#FECB52"
          ],
          "font": {
           "color": "#2a3f5f"
          },
          "geo": {
           "bgcolor": "white",
           "lakecolor": "white",
           "landcolor": "#E5ECF6",
           "showlakes": true,
           "showland": true,
           "subunitcolor": "white"
          },
          "hoverlabel": {
           "align": "left"
          },
          "hovermode": "closest",
          "mapbox": {
           "style": "light"
          },
          "paper_bgcolor": "white",
          "plot_bgcolor": "#E5ECF6",
          "polar": {
           "angularaxis": {
            "gridcolor": "white",
            "linecolor": "white",
            "ticks": ""
           },
           "bgcolor": "#E5ECF6",
           "radialaxis": {
            "gridcolor": "white",
            "linecolor": "white",
            "ticks": ""
           }
          },
          "scene": {
           "xaxis": {
            "backgroundcolor": "#E5ECF6",
            "gridcolor": "white",
            "gridwidth": 2,
            "linecolor": "white",
            "showbackground": true,
            "ticks": "",
            "zerolinecolor": "white"
           },
           "yaxis": {
            "backgroundcolor": "#E5ECF6",
            "gridcolor": "white",
            "gridwidth": 2,
            "linecolor": "white",
            "showbackground": true,
            "ticks": "",
            "zerolinecolor": "white"
           },
           "zaxis": {
            "backgroundcolor": "#E5ECF6",
            "gridcolor": "white",
            "gridwidth": 2,
            "linecolor": "white",
            "showbackground": true,
            "ticks": "",
            "zerolinecolor": "white"
           }
          },
          "shapedefaults": {
           "line": {
            "color": "#2a3f5f"
           }
          },
          "ternary": {
           "aaxis": {
            "gridcolor": "white",
            "linecolor": "white",
            "ticks": ""
           },
           "baxis": {
            "gridcolor": "white",
            "linecolor": "white",
            "ticks": ""
           },
           "bgcolor": "#E5ECF6",
           "caxis": {
            "gridcolor": "white",
            "linecolor": "white",
            "ticks": ""
           }
          },
          "title": {
           "x": 0.05
          },
          "xaxis": {
           "automargin": true,
           "gridcolor": "white",
           "linecolor": "white",
           "ticks": "",
           "title": {
            "standoff": 15
           },
           "zerolinecolor": "white",
           "zerolinewidth": 2
          },
          "yaxis": {
           "automargin": true,
           "gridcolor": "white",
           "linecolor": "white",
           "ticks": "",
           "title": {
            "standoff": 15
           },
           "zerolinecolor": "white",
           "zerolinewidth": 2
          }
         }
        },
        "title": {
         "text": "Infant Mortality Rates by Country (per 1000 births)"
        },
        "xaxis": {
         "ticklen": 5,
         "title": {
          "text": "Country"
         },
         "zeroline": false
        }
       }
      },
      "text/html": [
       "<div>\n",
       "        \n",
       "        \n",
       "            <div id=\"d3c5bbf6-d585-4041-aa69-645964fa11f8\" class=\"plotly-graph-div\" style=\"height:525px; width:100%;\"></div>\n",
       "            <script type=\"text/javascript\">\n",
       "                require([\"plotly\"], function(Plotly) {\n",
       "                    window.PLOTLYENV=window.PLOTLYENV || {};\n",
       "                    \n",
       "                if (document.getElementById(\"d3c5bbf6-d585-4041-aa69-645964fa11f8\")) {\n",
       "                    Plotly.newPlot(\n",
       "                        'd3c5bbf6-d585-4041-aa69-645964fa11f8',\n",
       "                        [{\"marker\": {\"color\": \"rgba(80, 26, 255, 0.8)\"}, \"mode\": \"lines+markers\", \"name\": \"Infant Mortality Rates\", \"text\": [\"Afghanistan \", \"Albania \", \"Algeria \", \"American Samoa \", \"Andorra \", \"Angola \", \"Anguilla \", \"Antigua & Barbuda \", \"Argentina \", \"Armenia \", \"Aruba \", \"Australia \", \"Austria \", \"Azerbaijan \", \"Bahamas, The \", \"Bahrain \", \"Bangladesh \", \"Barbados \", \"Belarus \", \"Belgium \", \"Belize \", \"Benin \", \"Bermuda \", \"Bhutan \", \"Bolivia \", \"Bosnia & Herzegovina \", \"Botswana \", \"Brazil \", \"British Virgin Is. \", \"Brunei \", \"Bulgaria \", \"Burkina Faso \", \"Burma \", \"Burundi \", \"Cambodia \", \"Cameroon \", \"Canada \", \"Cape Verde \", \"Cayman Islands \", \"Central African Rep. \", \"Chad \", \"Chile \", \"China \", \"Colombia \", \"Comoros \", \"Congo, Dem. Rep. \", \"Congo, Repub. of the \", \"Costa Rica \", \"Cote d'Ivoire \", \"Croatia \", \"Cuba \", \"Cyprus \", \"Czech Republic \", \"Denmark \", \"Djibouti \", \"Dominica \", \"Dominican Republic \", \"East Timor \", \"Ecuador \", \"Egypt \", \"El Salvador \", \"Equatorial Guinea \", \"Eritrea \", \"Estonia \", \"Ethiopia \", \"Faroe Islands \", \"Fiji \", \"Finland \", \"France \", \"French Guiana \", \"French Polynesia \", \"Gabon \", \"Gambia, The \", \"Gaza Strip \", \"Georgia \", \"Germany \", \"Ghana \", \"Gibraltar \", \"Greece \", \"Greenland \", \"Grenada \", \"Guadeloupe \", \"Guam \", \"Guatemala \", \"Guernsey \", \"Guinea \", \"Guinea-Bissau \", \"Guyana \", \"Haiti \", \"Honduras \", \"Hong Kong \", \"Hungary \", \"Iceland \", \"India \", \"Indonesia \", \"Iran \", \"Iraq \", \"Ireland \", \"Isle of Man \", \"Israel \", \"Italy \", \"Jamaica \", \"Japan \", \"Jersey \", \"Jordan \", \"Kazakhstan \", \"Kenya \", \"Kiribati \", \"Korea, North \", \"Korea, South \", \"Kuwait \", \"Kyrgyzstan \", \"Laos \", \"Latvia \", \"Lebanon \", \"Lesotho \", \"Liberia \", \"Libya \", \"Liechtenstein \", \"Lithuania \", \"Luxembourg \", \"Macau \", \"Macedonia \", \"Madagascar \", \"Malawi \", \"Malaysia \", \"Maldives \", \"Mali \", \"Malta \", \"Marshall Islands \", \"Martinique \", \"Mauritania \", \"Mauritius \", \"Mayotte \", \"Mexico \", \"Micronesia, Fed. St. \", \"Moldova \", \"Monaco \", \"Mongolia \", \"Montserrat \", \"Morocco \", \"Mozambique \", \"Namibia \", \"Nauru \", \"Nepal \", \"Netherlands \", \"Netherlands Antilles \", \"New Caledonia \", \"New Zealand \", \"Nicaragua \", \"Niger \", \"Nigeria \", \"N. Mariana Islands \", \"Norway \", \"Oman \", \"Pakistan \", \"Palau \", \"Panama \", \"Papua New Guinea \", \"Paraguay \", \"Peru \", \"Philippines \", \"Poland \", \"Portugal \", \"Puerto Rico \", \"Qatar \", \"Reunion \", \"Romania \", \"Russia \", \"Rwanda \", \"Saint Helena \", \"Saint Kitts & Nevis \", \"Saint Lucia \", \"St Pierre & Miquelon \", \"Saint Vincent and the Grenadines \", \"Samoa \", \"San Marino \", \"Sao Tome & Principe \", \"Saudi Arabia \", \"Senegal \", \"Serbia \", \"Seychelles \", \"Sierra Leone \", \"Singapore \", \"Slovakia \", \"Slovenia \", \"Solomon Islands \", \"Somalia \", \"South Africa \", \"Spain \", \"Sri Lanka \", \"Sudan \", \"Suriname \", \"Swaziland \", \"Sweden \", \"Switzerland \", \"Syria \", \"Taiwan \", \"Tajikistan \", \"Tanzania \", \"Thailand \", \"Togo \", \"Tonga \", \"Trinidad & Tobago \", \"Tunisia \", \"Turkey \", \"Turkmenistan \", \"Turks & Caicos Is \", \"Tuvalu \", \"Uganda \", \"Ukraine \", \"United Arab Emirates \", \"United Kingdom \", \"United States \", \"Uruguay \", \"Uzbekistan \", \"Vanuatu \", \"Venezuela \", \"Vietnam \", \"Virgin Islands \", \"West Bank \", \"Yemen \", \"Zambia \", \"Zimbabwe \"], \"type\": \"scatter\", \"x\": [\"Afghanistan \", \"Albania \", \"Algeria \", \"American Samoa \", \"Andorra \", \"Angola \", \"Anguilla \", \"Antigua & Barbuda \", \"Argentina \", \"Armenia \", \"Aruba \", \"Australia \", \"Austria \", \"Azerbaijan \", \"Bahamas, The \", \"Bahrain \", \"Bangladesh \", \"Barbados \", \"Belarus \", \"Belgium \", \"Belize \", \"Benin \", \"Bermuda \", \"Bhutan \", \"Bolivia \", \"Bosnia & Herzegovina \", \"Botswana \", \"Brazil \", \"British Virgin Is. \", \"Brunei \", \"Bulgaria \", \"Burkina Faso \", \"Burma \", \"Burundi \", \"Cambodia \", \"Cameroon \", \"Canada \", \"Cape Verde \", \"Cayman Islands \", \"Central African Rep. \", \"Chad \", \"Chile \", \"China \", \"Colombia \", \"Comoros \", \"Congo, Dem. Rep. \", \"Congo, Repub. of the \", \"Costa Rica \", \"Cote d'Ivoire \", \"Croatia \", \"Cuba \", \"Cyprus \", \"Czech Republic \", \"Denmark \", \"Djibouti \", \"Dominica \", \"Dominican Republic \", \"East Timor \", \"Ecuador \", \"Egypt \", \"El Salvador \", \"Equatorial Guinea \", \"Eritrea \", \"Estonia \", \"Ethiopia \", \"Faroe Islands \", \"Fiji \", \"Finland \", \"France \", \"French Guiana \", \"French Polynesia \", \"Gabon \", \"Gambia, The \", \"Gaza Strip \", \"Georgia \", \"Germany \", \"Ghana \", \"Gibraltar \", \"Greece \", \"Greenland \", \"Grenada \", \"Guadeloupe \", \"Guam \", \"Guatemala \", \"Guernsey \", \"Guinea \", \"Guinea-Bissau \", \"Guyana \", \"Haiti \", \"Honduras \", \"Hong Kong \", \"Hungary \", \"Iceland \", \"India \", \"Indonesia \", \"Iran \", \"Iraq \", \"Ireland \", \"Isle of Man \", \"Israel \", \"Italy \", \"Jamaica \", \"Japan \", \"Jersey \", \"Jordan \", \"Kazakhstan \", \"Kenya \", \"Kiribati \", \"Korea, North \", \"Korea, South \", \"Kuwait \", \"Kyrgyzstan \", \"Laos \", \"Latvia \", \"Lebanon \", \"Lesotho \", \"Liberia \", \"Libya \", \"Liechtenstein \", \"Lithuania \", \"Luxembourg \", \"Macau \", \"Macedonia \", \"Madagascar \", \"Malawi \", \"Malaysia \", \"Maldives \", \"Mali \", \"Malta \", \"Marshall Islands \", \"Martinique \", \"Mauritania \", \"Mauritius \", \"Mayotte \", \"Mexico \", \"Micronesia, Fed. St. \", \"Moldova \", \"Monaco \", \"Mongolia \", \"Montserrat \", \"Morocco \", \"Mozambique \", \"Namibia \", \"Nauru \", \"Nepal \", \"Netherlands \", \"Netherlands Antilles \", \"New Caledonia \", \"New Zealand \", \"Nicaragua \", \"Niger \", \"Nigeria \", \"N. Mariana Islands \", \"Norway \", \"Oman \", \"Pakistan \", \"Palau \", \"Panama \", \"Papua New Guinea \", \"Paraguay \", \"Peru \", \"Philippines \", \"Poland \", \"Portugal \", \"Puerto Rico \", \"Qatar \", \"Reunion \", \"Romania \", \"Russia \", \"Rwanda \", \"Saint Helena \", \"Saint Kitts & Nevis \", \"Saint Lucia \", \"St Pierre & Miquelon \", \"Saint Vincent and the Grenadines \", \"Samoa \", \"San Marino \", \"Sao Tome & Principe \", \"Saudi Arabia \", \"Senegal \", \"Serbia \", \"Seychelles \", \"Sierra Leone \", \"Singapore \", \"Slovakia \", \"Slovenia \", \"Solomon Islands \", \"Somalia \", \"South Africa \", \"Spain \", \"Sri Lanka \", \"Sudan \", \"Suriname \", \"Swaziland \", \"Sweden \", \"Switzerland \", \"Syria \", \"Taiwan \", \"Tajikistan \", \"Tanzania \", \"Thailand \", \"Togo \", \"Tonga \", \"Trinidad & Tobago \", \"Tunisia \", \"Turkey \", \"Turkmenistan \", \"Turks & Caicos Is \", \"Tuvalu \", \"Uganda \", \"Ukraine \", \"United Arab Emirates \", \"United Kingdom \", \"United States \", \"Uruguay \", \"Uzbekistan \", \"Vanuatu \", \"Venezuela \", \"Vietnam \", \"Virgin Islands \", \"West Bank \", \"Yemen \", \"Zambia \", \"Zimbabwe \"], \"y\": [163.07, 21.52, 31.0, 9.27, 4.05, 191.19, 21.03, 19.46, 15.18, 23.28, 5.89, 4.69, 4.66, 81.74, 25.21, 17.27, 62.6, 12.5, 13.37, 4.68, 25.69, 85.0, 8.53, 100.44, 53.11, 21.05, 54.58, 29.61, 18.05, 12.61, 20.55, 97.57, 67.24, 69.29, 71.48, 68.26, 4.75, 47.77, 8.19, 91.0, 93.82, 8.8, 24.18, 20.97, 74.93, 94.69, 93.86, 9.95, 90.83, 6.84, 6.33, 7.18, 3.93, 4.56, 104.13, 14.15, 32.38, 47.41, 23.66, 32.59, 25.1, 85.13, 74.87, 7.87, 95.32, 6.24, 12.62, 3.57, 4.26, 12.07, 8.44, 53.64, 72.02, 22.93, 18.59, 4.16, 51.43, 5.13, 5.53, 15.82, 14.62, 8.6, 6.94, 35.93, 4.71, 90.37, 107.17, 33.26, 73.45, 29.32, 2.97, 8.57, 3.31, 56.29, 35.6, 41.58, 50.25, 5.39, 5.93, 7.03, 5.94, 12.36, 3.26, 5.24, 17.35, 29.21, 61.47, 48.52, 24.04, 7.05, 9.95, 35.64, 85.22, 9.55, 24.52, 84.23, 128.87, 24.6, 4.7, 6.89, 4.81, 4.39, 10.09, 76.83, 103.32, 17.7, 56.52, 116.79, 3.89, 29.45, 7.09, 70.89, 15.03, 62.4, 20.91, 30.21, 40.42, 5.43, 53.79, 7.35, 41.62, 130.79, 48.98, 9.95, 66.98, 5.04, 10.03, 7.72, 5.85, 29.11, 121.69, 98.8, 7.11, 3.7, 19.51, 72.44, 14.84, 20.47, 51.45, 25.63, 31.94, 23.51, 8.51, 5.05, 8.24, 18.61, 7.78, 26.43, 15.39, 91.23, 19.0, 14.49, 13.53, 7.54, 14.78, 27.71, 5.73, 43.11, 13.24, 55.51, 12.89, 15.53, 143.64, 2.29, 7.41, 4.45, 21.29, 116.7, 61.81, 4.42, 14.35, 62.5, 23.57, 69.27, 2.77, 4.39, 29.53, 6.4, 110.76, 98.54, 20.48, 66.61, 12.62, 24.31, 24.77, 41.04, 73.08, 15.67, 20.03, 67.83, 20.34, 14.51, 5.16, 6.5, 11.95, 71.1, 55.16, 22.2, 25.95, 8.03, 19.62, 61.5, 88.29, 67.69]}],\n",
       "                        {\"template\": {\"data\": {\"bar\": [{\"error_x\": {\"color\": \"#2a3f5f\"}, \"error_y\": {\"color\": \"#2a3f5f\"}, \"marker\": {\"line\": {\"color\": \"#E5ECF6\", \"width\": 0.5}}, \"type\": \"bar\"}], \"barpolar\": [{\"marker\": {\"line\": {\"color\": \"#E5ECF6\", \"width\": 0.5}}, \"type\": \"barpolar\"}], \"carpet\": [{\"aaxis\": {\"endlinecolor\": \"#2a3f5f\", \"gridcolor\": \"white\", \"linecolor\": \"white\", \"minorgridcolor\": \"white\", \"startlinecolor\": \"#2a3f5f\"}, \"baxis\": {\"endlinecolor\": \"#2a3f5f\", \"gridcolor\": \"white\", \"linecolor\": \"white\", \"minorgridcolor\": \"white\", \"startlinecolor\": \"#2a3f5f\"}, \"type\": \"carpet\"}], \"choropleth\": [{\"colorbar\": {\"outlinewidth\": 0, \"ticks\": \"\"}, \"type\": \"choropleth\"}], \"contour\": [{\"colorbar\": {\"outlinewidth\": 0, \"ticks\": \"\"}, \"colorscale\": [[0.0, \"#0d0887\"], [0.1111111111111111, \"#46039f\"], [0.2222222222222222, \"#7201a8\"], [0.3333333333333333, \"#9c179e\"], [0.4444444444444444, \"#bd3786\"], [0.5555555555555556, \"#d8576b\"], [0.6666666666666666, \"#ed7953\"], [0.7777777777777778, \"#fb9f3a\"], [0.8888888888888888, \"#fdca26\"], [1.0, \"#f0f921\"]], \"type\": \"contour\"}], \"contourcarpet\": [{\"colorbar\": {\"outlinewidth\": 0, \"ticks\": \"\"}, \"type\": \"contourcarpet\"}], \"heatmap\": [{\"colorbar\": {\"outlinewidth\": 0, \"ticks\": \"\"}, \"colorscale\": [[0.0, \"#0d0887\"], [0.1111111111111111, \"#46039f\"], [0.2222222222222222, \"#7201a8\"], [0.3333333333333333, \"#9c179e\"], [0.4444444444444444, \"#bd3786\"], [0.5555555555555556, \"#d8576b\"], [0.6666666666666666, \"#ed7953\"], [0.7777777777777778, \"#fb9f3a\"], [0.8888888888888888, \"#fdca26\"], [1.0, \"#f0f921\"]], \"type\": \"heatmap\"}], \"heatmapgl\": [{\"colorbar\": {\"outlinewidth\": 0, \"ticks\": \"\"}, \"colorscale\": [[0.0, \"#0d0887\"], [0.1111111111111111, \"#46039f\"], [0.2222222222222222, \"#7201a8\"], [0.3333333333333333, \"#9c179e\"], [0.4444444444444444, \"#bd3786\"], [0.5555555555555556, \"#d8576b\"], [0.6666666666666666, \"#ed7953\"], [0.7777777777777778, \"#fb9f3a\"], [0.8888888888888888, \"#fdca26\"], [1.0, \"#f0f921\"]], \"type\": \"heatmapgl\"}], \"histogram\": [{\"marker\": {\"colorbar\": {\"outlinewidth\": 0, \"ticks\": \"\"}}, \"type\": \"histogram\"}], \"histogram2d\": [{\"colorbar\": {\"outlinewidth\": 0, \"ticks\": \"\"}, \"colorscale\": [[0.0, \"#0d0887\"], [0.1111111111111111, \"#46039f\"], [0.2222222222222222, \"#7201a8\"], [0.3333333333333333, \"#9c179e\"], [0.4444444444444444, \"#bd3786\"], [0.5555555555555556, \"#d8576b\"], [0.6666666666666666, \"#ed7953\"], [0.7777777777777778, \"#fb9f3a\"], [0.8888888888888888, \"#fdca26\"], [1.0, \"#f0f921\"]], \"type\": \"histogram2d\"}], \"histogram2dcontour\": [{\"colorbar\": {\"outlinewidth\": 0, \"ticks\": \"\"}, \"colorscale\": [[0.0, \"#0d0887\"], [0.1111111111111111, \"#46039f\"], [0.2222222222222222, \"#7201a8\"], [0.3333333333333333, \"#9c179e\"], [0.4444444444444444, \"#bd3786\"], [0.5555555555555556, \"#d8576b\"], [0.6666666666666666, \"#ed7953\"], [0.7777777777777778, \"#fb9f3a\"], [0.8888888888888888, \"#fdca26\"], [1.0, \"#f0f921\"]], \"type\": \"histogram2dcontour\"}], \"mesh3d\": [{\"colorbar\": {\"outlinewidth\": 0, \"ticks\": \"\"}, \"type\": \"mesh3d\"}], \"parcoords\": [{\"line\": {\"colorbar\": {\"outlinewidth\": 0, \"ticks\": \"\"}}, \"type\": \"parcoords\"}], \"pie\": [{\"automargin\": true, \"type\": \"pie\"}], \"scatter\": [{\"marker\": {\"colorbar\": {\"outlinewidth\": 0, \"ticks\": \"\"}}, \"type\": \"scatter\"}], \"scatter3d\": [{\"line\": {\"colorbar\": {\"outlinewidth\": 0, \"ticks\": \"\"}}, \"marker\": {\"colorbar\": {\"outlinewidth\": 0, \"ticks\": \"\"}}, \"type\": \"scatter3d\"}], \"scattercarpet\": [{\"marker\": {\"colorbar\": {\"outlinewidth\": 0, \"ticks\": \"\"}}, \"type\": \"scattercarpet\"}], \"scattergeo\": [{\"marker\": {\"colorbar\": {\"outlinewidth\": 0, \"ticks\": \"\"}}, \"type\": \"scattergeo\"}], \"scattergl\": [{\"marker\": {\"colorbar\": {\"outlinewidth\": 0, \"ticks\": \"\"}}, \"type\": \"scattergl\"}], \"scattermapbox\": [{\"marker\": {\"colorbar\": {\"outlinewidth\": 0, \"ticks\": \"\"}}, \"type\": \"scattermapbox\"}], \"scatterpolar\": [{\"marker\": {\"colorbar\": {\"outlinewidth\": 0, \"ticks\": \"\"}}, \"type\": \"scatterpolar\"}], \"scatterpolargl\": [{\"marker\": {\"colorbar\": {\"outlinewidth\": 0, \"ticks\": \"\"}}, \"type\": \"scatterpolargl\"}], \"scatterternary\": [{\"marker\": {\"colorbar\": {\"outlinewidth\": 0, \"ticks\": \"\"}}, \"type\": \"scatterternary\"}], \"surface\": [{\"colorbar\": {\"outlinewidth\": 0, \"ticks\": \"\"}, \"colorscale\": [[0.0, \"#0d0887\"], [0.1111111111111111, \"#46039f\"], [0.2222222222222222, \"#7201a8\"], [0.3333333333333333, \"#9c179e\"], [0.4444444444444444, \"#bd3786\"], [0.5555555555555556, \"#d8576b\"], [0.6666666666666666, \"#ed7953\"], [0.7777777777777778, \"#fb9f3a\"], [0.8888888888888888, \"#fdca26\"], [1.0, \"#f0f921\"]], \"type\": \"surface\"}], \"table\": [{\"cells\": {\"fill\": {\"color\": \"#EBF0F8\"}, \"line\": {\"color\": \"white\"}}, \"header\": {\"fill\": {\"color\": \"#C8D4E3\"}, \"line\": {\"color\": \"white\"}}, \"type\": \"table\"}]}, \"layout\": {\"annotationdefaults\": {\"arrowcolor\": \"#2a3f5f\", \"arrowhead\": 0, \"arrowwidth\": 1}, \"coloraxis\": {\"colorbar\": {\"outlinewidth\": 0, \"ticks\": \"\"}}, \"colorscale\": {\"diverging\": [[0, \"#8e0152\"], [0.1, \"#c51b7d\"], [0.2, \"#de77ae\"], [0.3, \"#f1b6da\"], [0.4, \"#fde0ef\"], [0.5, \"#f7f7f7\"], [0.6, \"#e6f5d0\"], [0.7, \"#b8e186\"], [0.8, \"#7fbc41\"], [0.9, \"#4d9221\"], [1, \"#276419\"]], \"sequential\": [[0.0, \"#0d0887\"], [0.1111111111111111, \"#46039f\"], [0.2222222222222222, \"#7201a8\"], [0.3333333333333333, \"#9c179e\"], [0.4444444444444444, \"#bd3786\"], [0.5555555555555556, \"#d8576b\"], [0.6666666666666666, \"#ed7953\"], [0.7777777777777778, \"#fb9f3a\"], [0.8888888888888888, \"#fdca26\"], [1.0, \"#f0f921\"]], \"sequentialminus\": [[0.0, \"#0d0887\"], [0.1111111111111111, \"#46039f\"], [0.2222222222222222, \"#7201a8\"], [0.3333333333333333, \"#9c179e\"], [0.4444444444444444, \"#bd3786\"], [0.5555555555555556, \"#d8576b\"], [0.6666666666666666, \"#ed7953\"], [0.7777777777777778, \"#fb9f3a\"], [0.8888888888888888, \"#fdca26\"], [1.0, \"#f0f921\"]]}, \"colorway\": [\"#636efa\", \"#EF553B\", \"#00cc96\", \"#ab63fa\", \"#FFA15A\", \"#19d3f3\", \"#FF6692\", \"#B6E880\", \"#FF97FF\", \"#FECB52\"], \"font\": {\"color\": \"#2a3f5f\"}, \"geo\": {\"bgcolor\": \"white\", \"lakecolor\": \"white\", \"landcolor\": \"#E5ECF6\", \"showlakes\": true, \"showland\": true, \"subunitcolor\": \"white\"}, \"hoverlabel\": {\"align\": \"left\"}, \"hovermode\": \"closest\", \"mapbox\": {\"style\": \"light\"}, \"paper_bgcolor\": \"white\", \"plot_bgcolor\": \"#E5ECF6\", \"polar\": {\"angularaxis\": {\"gridcolor\": \"white\", \"linecolor\": \"white\", \"ticks\": \"\"}, \"bgcolor\": \"#E5ECF6\", \"radialaxis\": {\"gridcolor\": \"white\", \"linecolor\": \"white\", \"ticks\": \"\"}}, \"scene\": {\"xaxis\": {\"backgroundcolor\": \"#E5ECF6\", \"gridcolor\": \"white\", \"gridwidth\": 2, \"linecolor\": \"white\", \"showbackground\": true, \"ticks\": \"\", \"zerolinecolor\": \"white\"}, \"yaxis\": {\"backgroundcolor\": \"#E5ECF6\", \"gridcolor\": \"white\", \"gridwidth\": 2, \"linecolor\": \"white\", \"showbackground\": true, \"ticks\": \"\", \"zerolinecolor\": \"white\"}, \"zaxis\": {\"backgroundcolor\": \"#E5ECF6\", \"gridcolor\": \"white\", \"gridwidth\": 2, \"linecolor\": \"white\", \"showbackground\": true, \"ticks\": \"\", \"zerolinecolor\": \"white\"}}, \"shapedefaults\": {\"line\": {\"color\": \"#2a3f5f\"}}, \"ternary\": {\"aaxis\": {\"gridcolor\": \"white\", \"linecolor\": \"white\", \"ticks\": \"\"}, \"baxis\": {\"gridcolor\": \"white\", \"linecolor\": \"white\", \"ticks\": \"\"}, \"bgcolor\": \"#E5ECF6\", \"caxis\": {\"gridcolor\": \"white\", \"linecolor\": \"white\", \"ticks\": \"\"}}, \"title\": {\"x\": 0.05}, \"xaxis\": {\"automargin\": true, \"gridcolor\": \"white\", \"linecolor\": \"white\", \"ticks\": \"\", \"title\": {\"standoff\": 15}, \"zerolinecolor\": \"white\", \"zerolinewidth\": 2}, \"yaxis\": {\"automargin\": true, \"gridcolor\": \"white\", \"linecolor\": \"white\", \"ticks\": \"\", \"title\": {\"standoff\": 15}, \"zerolinecolor\": \"white\", \"zerolinewidth\": 2}}}, \"title\": {\"text\": \"Infant Mortality Rates by Country (per 1000 births)\"}, \"xaxis\": {\"ticklen\": 5, \"title\": {\"text\": \"Country\"}, \"zeroline\": false}},\n",
       "                        {\"responsive\": true}\n",
       "                    ).then(function(){\n",
       "                            \n",
       "var gd = document.getElementById('d3c5bbf6-d585-4041-aa69-645964fa11f8');\n",
       "var x = new MutationObserver(function (mutations, observer) {{\n",
       "        var display = window.getComputedStyle(gd).display;\n",
       "        if (!display || display === 'none') {{\n",
       "            console.log([gd, 'removed!']);\n",
       "            Plotly.purge(gd);\n",
       "            observer.disconnect();\n",
       "        }}\n",
       "}});\n",
       "\n",
       "// Listen for the removal of the full notebook cells\n",
       "var notebookContainer = gd.closest('#notebook-container');\n",
       "if (notebookContainer) {{\n",
       "    x.observe(notebookContainer, {childList: true});\n",
       "}}\n",
       "\n",
       "// Listen for the clearing of the current output cell\n",
       "var outputEl = gd.closest('.output');\n",
       "if (outputEl) {{\n",
       "    x.observe(outputEl, {childList: true});\n",
       "}}\n",
       "\n",
       "                        })\n",
       "                };\n",
       "                });\n",
       "            </script>\n",
       "        </div>"
      ]
     },
     "metadata": {},
     "output_type": "display_data"
    }
   ],
   "source": [
    "infantMortality= go.Scatter(\n",
    "                    x = data_infant_morality.Country,\n",
    "                    y = data_infant_morality['Infant mortality (per 1000 births)'],\n",
    "                    mode = \"lines+markers\",\n",
    "                    name = \"Infant Mortality Rates\",\n",
    "                    marker = dict(color = 'rgba(80, 26, 255, 0.8)'),\n",
    "                    text= data_infant_morality.Country)\n",
    "data = [infantMortality]\n",
    "layout = dict(title = 'Infant Mortality Rates by Country (per 1000 births)',\n",
    "              xaxis= dict(title= 'Country',ticklen= 5,zeroline= False)\n",
    "             )\n",
    "fig = dict(data = data, layout = layout)\n",
    "iplot(fig)"
   ]
  },
  {
   "cell_type": "markdown",
   "metadata": {
    "papermill": {
     "duration": 0.089508,
     "end_time": "2020-12-10T16:16:45.889923",
     "exception": false,
     "start_time": "2020-12-10T16:16:45.800415",
     "status": "completed"
    },
    "tags": []
   },
   "source": [
    "# Top 10 Countries with Highest Infant Mortality Rates"
   ]
  },
  {
   "cell_type": "code",
   "execution_count": 14,
   "metadata": {
    "execution": {
     "iopub.execute_input": "2020-12-10T16:16:46.083880Z",
     "iopub.status.busy": "2020-12-10T16:16:46.082968Z",
     "iopub.status.idle": "2020-12-10T16:16:46.148781Z",
     "shell.execute_reply": "2020-12-10T16:16:46.149466Z"
    },
    "papermill": {
     "duration": 0.169474,
     "end_time": "2020-12-10T16:16:46.149660",
     "exception": false,
     "start_time": "2020-12-10T16:16:45.980186",
     "status": "completed"
    },
    "tags": []
   },
   "outputs": [
    {
     "data": {
      "application/vnd.plotly.v1+json": {
       "config": {
        "plotlyServerURL": "https://plot.ly"
       },
       "data": [
        {
         "alignmentgroup": "True",
         "hovertemplate": "Country=%{x}<br>Infant mortality (per 1000 births)=%{y}<extra></extra>",
         "legendgroup": "",
         "marker": {
          "color": "#636efa"
         },
         "name": "",
         "offsetgroup": "",
         "orientation": "v",
         "showlegend": false,
         "textposition": "auto",
         "type": "bar",
         "x": [
          "Angola ",
          "Afghanistan ",
          "Sierra Leone ",
          "Mozambique ",
          "Liberia ",
          "Niger ",
          "Mali ",
          "Somalia ",
          "Tajikistan ",
          "Guinea-Bissau "
         ],
         "xaxis": "x",
         "y": [
          191.19,
          163.07,
          143.64,
          130.79,
          128.87,
          121.69,
          116.79,
          116.7,
          110.76,
          107.17
         ],
         "yaxis": "y"
        }
       ],
       "layout": {
        "barmode": "relative",
        "legend": {
         "tracegroupgap": 0
        },
        "template": {
         "data": {
          "bar": [
           {
            "error_x": {
             "color": "#2a3f5f"
            },
            "error_y": {
             "color": "#2a3f5f"
            },
            "marker": {
             "line": {
              "color": "#E5ECF6",
              "width": 0.5
             }
            },
            "type": "bar"
           }
          ],
          "barpolar": [
           {
            "marker": {
             "line": {
              "color": "#E5ECF6",
              "width": 0.5
             }
            },
            "type": "barpolar"
           }
          ],
          "carpet": [
           {
            "aaxis": {
             "endlinecolor": "#2a3f5f",
             "gridcolor": "white",
             "linecolor": "white",
             "minorgridcolor": "white",
             "startlinecolor": "#2a3f5f"
            },
            "baxis": {
             "endlinecolor": "#2a3f5f",
             "gridcolor": "white",
             "linecolor": "white",
             "minorgridcolor": "white",
             "startlinecolor": "#2a3f5f"
            },
            "type": "carpet"
           }
          ],
          "choropleth": [
           {
            "colorbar": {
             "outlinewidth": 0,
             "ticks": ""
            },
            "type": "choropleth"
           }
          ],
          "contour": [
           {
            "colorbar": {
             "outlinewidth": 0,
             "ticks": ""
            },
            "colorscale": [
             [
              0.0,
              "#0d0887"
             ],
             [
              0.1111111111111111,
              "#46039f"
             ],
             [
              0.2222222222222222,
              "#7201a8"
             ],
             [
              0.3333333333333333,
              "#9c179e"
             ],
             [
              0.4444444444444444,
              "#bd3786"
             ],
             [
              0.5555555555555556,
              "#d8576b"
             ],
             [
              0.6666666666666666,
              "#ed7953"
             ],
             [
              0.7777777777777778,
              "#fb9f3a"
             ],
             [
              0.8888888888888888,
              "#fdca26"
             ],
             [
              1.0,
              "#f0f921"
             ]
            ],
            "type": "contour"
           }
          ],
          "contourcarpet": [
           {
            "colorbar": {
             "outlinewidth": 0,
             "ticks": ""
            },
            "type": "contourcarpet"
           }
          ],
          "heatmap": [
           {
            "colorbar": {
             "outlinewidth": 0,
             "ticks": ""
            },
            "colorscale": [
             [
              0.0,
              "#0d0887"
             ],
             [
              0.1111111111111111,
              "#46039f"
             ],
             [
              0.2222222222222222,
              "#7201a8"
             ],
             [
              0.3333333333333333,
              "#9c179e"
             ],
             [
              0.4444444444444444,
              "#bd3786"
             ],
             [
              0.5555555555555556,
              "#d8576b"
             ],
             [
              0.6666666666666666,
              "#ed7953"
             ],
             [
              0.7777777777777778,
              "#fb9f3a"
             ],
             [
              0.8888888888888888,
              "#fdca26"
             ],
             [
              1.0,
              "#f0f921"
             ]
            ],
            "type": "heatmap"
           }
          ],
          "heatmapgl": [
           {
            "colorbar": {
             "outlinewidth": 0,
             "ticks": ""
            },
            "colorscale": [
             [
              0.0,
              "#0d0887"
             ],
             [
              0.1111111111111111,
              "#46039f"
             ],
             [
              0.2222222222222222,
              "#7201a8"
             ],
             [
              0.3333333333333333,
              "#9c179e"
             ],
             [
              0.4444444444444444,
              "#bd3786"
             ],
             [
              0.5555555555555556,
              "#d8576b"
             ],
             [
              0.6666666666666666,
              "#ed7953"
             ],
             [
              0.7777777777777778,
              "#fb9f3a"
             ],
             [
              0.8888888888888888,
              "#fdca26"
             ],
             [
              1.0,
              "#f0f921"
             ]
            ],
            "type": "heatmapgl"
           }
          ],
          "histogram": [
           {
            "marker": {
             "colorbar": {
              "outlinewidth": 0,
              "ticks": ""
             }
            },
            "type": "histogram"
           }
          ],
          "histogram2d": [
           {
            "colorbar": {
             "outlinewidth": 0,
             "ticks": ""
            },
            "colorscale": [
             [
              0.0,
              "#0d0887"
             ],
             [
              0.1111111111111111,
              "#46039f"
             ],
             [
              0.2222222222222222,
              "#7201a8"
             ],
             [
              0.3333333333333333,
              "#9c179e"
             ],
             [
              0.4444444444444444,
              "#bd3786"
             ],
             [
              0.5555555555555556,
              "#d8576b"
             ],
             [
              0.6666666666666666,
              "#ed7953"
             ],
             [
              0.7777777777777778,
              "#fb9f3a"
             ],
             [
              0.8888888888888888,
              "#fdca26"
             ],
             [
              1.0,
              "#f0f921"
             ]
            ],
            "type": "histogram2d"
           }
          ],
          "histogram2dcontour": [
           {
            "colorbar": {
             "outlinewidth": 0,
             "ticks": ""
            },
            "colorscale": [
             [
              0.0,
              "#0d0887"
             ],
             [
              0.1111111111111111,
              "#46039f"
             ],
             [
              0.2222222222222222,
              "#7201a8"
             ],
             [
              0.3333333333333333,
              "#9c179e"
             ],
             [
              0.4444444444444444,
              "#bd3786"
             ],
             [
              0.5555555555555556,
              "#d8576b"
             ],
             [
              0.6666666666666666,
              "#ed7953"
             ],
             [
              0.7777777777777778,
              "#fb9f3a"
             ],
             [
              0.8888888888888888,
              "#fdca26"
             ],
             [
              1.0,
              "#f0f921"
             ]
            ],
            "type": "histogram2dcontour"
           }
          ],
          "mesh3d": [
           {
            "colorbar": {
             "outlinewidth": 0,
             "ticks": ""
            },
            "type": "mesh3d"
           }
          ],
          "parcoords": [
           {
            "line": {
             "colorbar": {
              "outlinewidth": 0,
              "ticks": ""
             }
            },
            "type": "parcoords"
           }
          ],
          "pie": [
           {
            "automargin": true,
            "type": "pie"
           }
          ],
          "scatter": [
           {
            "marker": {
             "colorbar": {
              "outlinewidth": 0,
              "ticks": ""
             }
            },
            "type": "scatter"
           }
          ],
          "scatter3d": [
           {
            "line": {
             "colorbar": {
              "outlinewidth": 0,
              "ticks": ""
             }
            },
            "marker": {
             "colorbar": {
              "outlinewidth": 0,
              "ticks": ""
             }
            },
            "type": "scatter3d"
           }
          ],
          "scattercarpet": [
           {
            "marker": {
             "colorbar": {
              "outlinewidth": 0,
              "ticks": ""
             }
            },
            "type": "scattercarpet"
           }
          ],
          "scattergeo": [
           {
            "marker": {
             "colorbar": {
              "outlinewidth": 0,
              "ticks": ""
             }
            },
            "type": "scattergeo"
           }
          ],
          "scattergl": [
           {
            "marker": {
             "colorbar": {
              "outlinewidth": 0,
              "ticks": ""
             }
            },
            "type": "scattergl"
           }
          ],
          "scattermapbox": [
           {
            "marker": {
             "colorbar": {
              "outlinewidth": 0,
              "ticks": ""
             }
            },
            "type": "scattermapbox"
           }
          ],
          "scatterpolar": [
           {
            "marker": {
             "colorbar": {
              "outlinewidth": 0,
              "ticks": ""
             }
            },
            "type": "scatterpolar"
           }
          ],
          "scatterpolargl": [
           {
            "marker": {
             "colorbar": {
              "outlinewidth": 0,
              "ticks": ""
             }
            },
            "type": "scatterpolargl"
           }
          ],
          "scatterternary": [
           {
            "marker": {
             "colorbar": {
              "outlinewidth": 0,
              "ticks": ""
             }
            },
            "type": "scatterternary"
           }
          ],
          "surface": [
           {
            "colorbar": {
             "outlinewidth": 0,
             "ticks": ""
            },
            "colorscale": [
             [
              0.0,
              "#0d0887"
             ],
             [
              0.1111111111111111,
              "#46039f"
             ],
             [
              0.2222222222222222,
              "#7201a8"
             ],
             [
              0.3333333333333333,
              "#9c179e"
             ],
             [
              0.4444444444444444,
              "#bd3786"
             ],
             [
              0.5555555555555556,
              "#d8576b"
             ],
             [
              0.6666666666666666,
              "#ed7953"
             ],
             [
              0.7777777777777778,
              "#fb9f3a"
             ],
             [
              0.8888888888888888,
              "#fdca26"
             ],
             [
              1.0,
              "#f0f921"
             ]
            ],
            "type": "surface"
           }
          ],
          "table": [
           {
            "cells": {
             "fill": {
              "color": "#EBF0F8"
             },
             "line": {
              "color": "white"
             }
            },
            "header": {
             "fill": {
              "color": "#C8D4E3"
             },
             "line": {
              "color": "white"
             }
            },
            "type": "table"
           }
          ]
         },
         "layout": {
          "annotationdefaults": {
           "arrowcolor": "#2a3f5f",
           "arrowhead": 0,
           "arrowwidth": 1
          },
          "coloraxis": {
           "colorbar": {
            "outlinewidth": 0,
            "ticks": ""
           }
          },
          "colorscale": {
           "diverging": [
            [
             0,
             "#8e0152"
            ],
            [
             0.1,
             "#c51b7d"
            ],
            [
             0.2,
             "#de77ae"
            ],
            [
             0.3,
             "#f1b6da"
            ],
            [
             0.4,
             "#fde0ef"
            ],
            [
             0.5,
             "#f7f7f7"
            ],
            [
             0.6,
             "#e6f5d0"
            ],
            [
             0.7,
             "#b8e186"
            ],
            [
             0.8,
             "#7fbc41"
            ],
            [
             0.9,
             "#4d9221"
            ],
            [
             1,
             "#276419"
            ]
           ],
           "sequential": [
            [
             0.0,
             "#0d0887"
            ],
            [
             0.1111111111111111,
             "#46039f"
            ],
            [
             0.2222222222222222,
             "#7201a8"
            ],
            [
             0.3333333333333333,
             "#9c179e"
            ],
            [
             0.4444444444444444,
             "#bd3786"
            ],
            [
             0.5555555555555556,
             "#d8576b"
            ],
            [
             0.6666666666666666,
             "#ed7953"
            ],
            [
             0.7777777777777778,
             "#fb9f3a"
            ],
            [
             0.8888888888888888,
             "#fdca26"
            ],
            [
             1.0,
             "#f0f921"
            ]
           ],
           "sequentialminus": [
            [
             0.0,
             "#0d0887"
            ],
            [
             0.1111111111111111,
             "#46039f"
            ],
            [
             0.2222222222222222,
             "#7201a8"
            ],
            [
             0.3333333333333333,
             "#9c179e"
            ],
            [
             0.4444444444444444,
             "#bd3786"
            ],
            [
             0.5555555555555556,
             "#d8576b"
            ],
            [
             0.6666666666666666,
             "#ed7953"
            ],
            [
             0.7777777777777778,
             "#fb9f3a"
            ],
            [
             0.8888888888888888,
             "#fdca26"
            ],
            [
             1.0,
             "#f0f921"
            ]
           ]
          },
          "colorway": [
           "#636efa",
           "#EF553B",
           "#00cc96",
           "#ab63fa",
           "#FFA15A",
           "#19d3f3",
           "#FF6692",
           "#B6E880",
           "#FF97FF",
           "#FECB52"
          ],
          "font": {
           "color": "#2a3f5f"
          },
          "geo": {
           "bgcolor": "white",
           "lakecolor": "white",
           "landcolor": "#E5ECF6",
           "showlakes": true,
           "showland": true,
           "subunitcolor": "white"
          },
          "hoverlabel": {
           "align": "left"
          },
          "hovermode": "closest",
          "mapbox": {
           "style": "light"
          },
          "paper_bgcolor": "white",
          "plot_bgcolor": "#E5ECF6",
          "polar": {
           "angularaxis": {
            "gridcolor": "white",
            "linecolor": "white",
            "ticks": ""
           },
           "bgcolor": "#E5ECF6",
           "radialaxis": {
            "gridcolor": "white",
            "linecolor": "white",
            "ticks": ""
           }
          },
          "scene": {
           "xaxis": {
            "backgroundcolor": "#E5ECF6",
            "gridcolor": "white",
            "gridwidth": 2,
            "linecolor": "white",
            "showbackground": true,
            "ticks": "",
            "zerolinecolor": "white"
           },
           "yaxis": {
            "backgroundcolor": "#E5ECF6",
            "gridcolor": "white",
            "gridwidth": 2,
            "linecolor": "white",
            "showbackground": true,
            "ticks": "",
            "zerolinecolor": "white"
           },
           "zaxis": {
            "backgroundcolor": "#E5ECF6",
            "gridcolor": "white",
            "gridwidth": 2,
            "linecolor": "white",
            "showbackground": true,
            "ticks": "",
            "zerolinecolor": "white"
           }
          },
          "shapedefaults": {
           "line": {
            "color": "#2a3f5f"
           }
          },
          "ternary": {
           "aaxis": {
            "gridcolor": "white",
            "linecolor": "white",
            "ticks": ""
           },
           "baxis": {
            "gridcolor": "white",
            "linecolor": "white",
            "ticks": ""
           },
           "bgcolor": "#E5ECF6",
           "caxis": {
            "gridcolor": "white",
            "linecolor": "white",
            "ticks": ""
           }
          },
          "title": {
           "x": 0.05
          },
          "xaxis": {
           "automargin": true,
           "gridcolor": "white",
           "linecolor": "white",
           "ticks": "",
           "title": {
            "standoff": 15
           },
           "zerolinecolor": "white",
           "zerolinewidth": 2
          },
          "yaxis": {
           "automargin": true,
           "gridcolor": "white",
           "linecolor": "white",
           "ticks": "",
           "title": {
            "standoff": 15
           },
           "zerolinecolor": "white",
           "zerolinewidth": 2
          }
         }
        },
        "title": {
         "text": "Top 10 Countries with Highest Infant Mortality Rates"
        },
        "xaxis": {
         "anchor": "y",
         "domain": [
          0.0,
          1.0
         ],
         "title": {
          "text": "Country"
         }
        },
        "yaxis": {
         "anchor": "x",
         "domain": [
          0.0,
          1.0
         ],
         "title": {
          "text": "Infant mortality (per 1000 births)"
         }
        }
       }
      },
      "text/html": [
       "<div>\n",
       "        \n",
       "        \n",
       "            <div id=\"49f6daee-f1ad-498a-9d73-603cc9858c96\" class=\"plotly-graph-div\" style=\"height:525px; width:100%;\"></div>\n",
       "            <script type=\"text/javascript\">\n",
       "                require([\"plotly\"], function(Plotly) {\n",
       "                    window.PLOTLYENV=window.PLOTLYENV || {};\n",
       "                    \n",
       "                if (document.getElementById(\"49f6daee-f1ad-498a-9d73-603cc9858c96\")) {\n",
       "                    Plotly.newPlot(\n",
       "                        '49f6daee-f1ad-498a-9d73-603cc9858c96',\n",
       "                        [{\"alignmentgroup\": \"True\", \"hovertemplate\": \"Country=%{x}<br>Infant mortality (per 1000 births)=%{y}<extra></extra>\", \"legendgroup\": \"\", \"marker\": {\"color\": \"#636efa\"}, \"name\": \"\", \"offsetgroup\": \"\", \"orientation\": \"v\", \"showlegend\": false, \"textposition\": \"auto\", \"type\": \"bar\", \"x\": [\"Angola \", \"Afghanistan \", \"Sierra Leone \", \"Mozambique \", \"Liberia \", \"Niger \", \"Mali \", \"Somalia \", \"Tajikistan \", \"Guinea-Bissau \"], \"xaxis\": \"x\", \"y\": [191.19, 163.07, 143.64, 130.79, 128.87, 121.69, 116.79, 116.7, 110.76, 107.17], \"yaxis\": \"y\"}],\n",
       "                        {\"barmode\": \"relative\", \"legend\": {\"tracegroupgap\": 0}, \"template\": {\"data\": {\"bar\": [{\"error_x\": {\"color\": \"#2a3f5f\"}, \"error_y\": {\"color\": \"#2a3f5f\"}, \"marker\": {\"line\": {\"color\": \"#E5ECF6\", \"width\": 0.5}}, \"type\": \"bar\"}], \"barpolar\": [{\"marker\": {\"line\": {\"color\": \"#E5ECF6\", \"width\": 0.5}}, \"type\": \"barpolar\"}], \"carpet\": [{\"aaxis\": {\"endlinecolor\": \"#2a3f5f\", \"gridcolor\": \"white\", \"linecolor\": \"white\", \"minorgridcolor\": \"white\", \"startlinecolor\": \"#2a3f5f\"}, \"baxis\": {\"endlinecolor\": \"#2a3f5f\", \"gridcolor\": \"white\", \"linecolor\": \"white\", \"minorgridcolor\": \"white\", \"startlinecolor\": \"#2a3f5f\"}, \"type\": \"carpet\"}], \"choropleth\": [{\"colorbar\": {\"outlinewidth\": 0, \"ticks\": \"\"}, \"type\": \"choropleth\"}], \"contour\": [{\"colorbar\": {\"outlinewidth\": 0, \"ticks\": \"\"}, \"colorscale\": [[0.0, \"#0d0887\"], [0.1111111111111111, \"#46039f\"], [0.2222222222222222, \"#7201a8\"], [0.3333333333333333, \"#9c179e\"], [0.4444444444444444, \"#bd3786\"], [0.5555555555555556, \"#d8576b\"], [0.6666666666666666, \"#ed7953\"], [0.7777777777777778, \"#fb9f3a\"], [0.8888888888888888, \"#fdca26\"], [1.0, \"#f0f921\"]], \"type\": \"contour\"}], \"contourcarpet\": [{\"colorbar\": {\"outlinewidth\": 0, \"ticks\": \"\"}, \"type\": \"contourcarpet\"}], \"heatmap\": [{\"colorbar\": {\"outlinewidth\": 0, \"ticks\": \"\"}, \"colorscale\": [[0.0, \"#0d0887\"], [0.1111111111111111, \"#46039f\"], [0.2222222222222222, \"#7201a8\"], [0.3333333333333333, \"#9c179e\"], [0.4444444444444444, \"#bd3786\"], [0.5555555555555556, \"#d8576b\"], [0.6666666666666666, \"#ed7953\"], [0.7777777777777778, \"#fb9f3a\"], [0.8888888888888888, \"#fdca26\"], [1.0, \"#f0f921\"]], \"type\": \"heatmap\"}], \"heatmapgl\": [{\"colorbar\": {\"outlinewidth\": 0, \"ticks\": \"\"}, \"colorscale\": [[0.0, \"#0d0887\"], [0.1111111111111111, \"#46039f\"], [0.2222222222222222, \"#7201a8\"], [0.3333333333333333, \"#9c179e\"], [0.4444444444444444, \"#bd3786\"], [0.5555555555555556, \"#d8576b\"], [0.6666666666666666, \"#ed7953\"], [0.7777777777777778, \"#fb9f3a\"], [0.8888888888888888, \"#fdca26\"], [1.0, \"#f0f921\"]], \"type\": \"heatmapgl\"}], \"histogram\": [{\"marker\": {\"colorbar\": {\"outlinewidth\": 0, \"ticks\": \"\"}}, \"type\": \"histogram\"}], \"histogram2d\": [{\"colorbar\": {\"outlinewidth\": 0, \"ticks\": \"\"}, \"colorscale\": [[0.0, \"#0d0887\"], [0.1111111111111111, \"#46039f\"], [0.2222222222222222, \"#7201a8\"], [0.3333333333333333, \"#9c179e\"], [0.4444444444444444, \"#bd3786\"], [0.5555555555555556, \"#d8576b\"], [0.6666666666666666, \"#ed7953\"], [0.7777777777777778, \"#fb9f3a\"], [0.8888888888888888, \"#fdca26\"], [1.0, \"#f0f921\"]], \"type\": \"histogram2d\"}], \"histogram2dcontour\": [{\"colorbar\": {\"outlinewidth\": 0, \"ticks\": \"\"}, \"colorscale\": [[0.0, \"#0d0887\"], [0.1111111111111111, \"#46039f\"], [0.2222222222222222, \"#7201a8\"], [0.3333333333333333, \"#9c179e\"], [0.4444444444444444, \"#bd3786\"], [0.5555555555555556, \"#d8576b\"], [0.6666666666666666, \"#ed7953\"], [0.7777777777777778, \"#fb9f3a\"], [0.8888888888888888, \"#fdca26\"], [1.0, \"#f0f921\"]], \"type\": \"histogram2dcontour\"}], \"mesh3d\": [{\"colorbar\": {\"outlinewidth\": 0, \"ticks\": \"\"}, \"type\": \"mesh3d\"}], \"parcoords\": [{\"line\": {\"colorbar\": {\"outlinewidth\": 0, \"ticks\": \"\"}}, \"type\": \"parcoords\"}], \"pie\": [{\"automargin\": true, \"type\": \"pie\"}], \"scatter\": [{\"marker\": {\"colorbar\": {\"outlinewidth\": 0, \"ticks\": \"\"}}, \"type\": \"scatter\"}], \"scatter3d\": [{\"line\": {\"colorbar\": {\"outlinewidth\": 0, \"ticks\": \"\"}}, \"marker\": {\"colorbar\": {\"outlinewidth\": 0, \"ticks\": \"\"}}, \"type\": \"scatter3d\"}], \"scattercarpet\": [{\"marker\": {\"colorbar\": {\"outlinewidth\": 0, \"ticks\": \"\"}}, \"type\": \"scattercarpet\"}], \"scattergeo\": [{\"marker\": {\"colorbar\": {\"outlinewidth\": 0, \"ticks\": \"\"}}, \"type\": \"scattergeo\"}], \"scattergl\": [{\"marker\": {\"colorbar\": {\"outlinewidth\": 0, \"ticks\": \"\"}}, \"type\": \"scattergl\"}], \"scattermapbox\": [{\"marker\": {\"colorbar\": {\"outlinewidth\": 0, \"ticks\": \"\"}}, \"type\": \"scattermapbox\"}], \"scatterpolar\": [{\"marker\": {\"colorbar\": {\"outlinewidth\": 0, \"ticks\": \"\"}}, \"type\": \"scatterpolar\"}], \"scatterpolargl\": [{\"marker\": {\"colorbar\": {\"outlinewidth\": 0, \"ticks\": \"\"}}, \"type\": \"scatterpolargl\"}], \"scatterternary\": [{\"marker\": {\"colorbar\": {\"outlinewidth\": 0, \"ticks\": \"\"}}, \"type\": \"scatterternary\"}], \"surface\": [{\"colorbar\": {\"outlinewidth\": 0, \"ticks\": \"\"}, \"colorscale\": [[0.0, \"#0d0887\"], [0.1111111111111111, \"#46039f\"], [0.2222222222222222, \"#7201a8\"], [0.3333333333333333, \"#9c179e\"], [0.4444444444444444, \"#bd3786\"], [0.5555555555555556, \"#d8576b\"], [0.6666666666666666, \"#ed7953\"], [0.7777777777777778, \"#fb9f3a\"], [0.8888888888888888, \"#fdca26\"], [1.0, \"#f0f921\"]], \"type\": \"surface\"}], \"table\": [{\"cells\": {\"fill\": {\"color\": \"#EBF0F8\"}, \"line\": {\"color\": \"white\"}}, \"header\": {\"fill\": {\"color\": \"#C8D4E3\"}, \"line\": {\"color\": \"white\"}}, \"type\": \"table\"}]}, \"layout\": {\"annotationdefaults\": {\"arrowcolor\": \"#2a3f5f\", \"arrowhead\": 0, \"arrowwidth\": 1}, \"coloraxis\": {\"colorbar\": {\"outlinewidth\": 0, \"ticks\": \"\"}}, \"colorscale\": {\"diverging\": [[0, \"#8e0152\"], [0.1, \"#c51b7d\"], [0.2, \"#de77ae\"], [0.3, \"#f1b6da\"], [0.4, \"#fde0ef\"], [0.5, \"#f7f7f7\"], [0.6, \"#e6f5d0\"], [0.7, \"#b8e186\"], [0.8, \"#7fbc41\"], [0.9, \"#4d9221\"], [1, \"#276419\"]], \"sequential\": [[0.0, \"#0d0887\"], [0.1111111111111111, \"#46039f\"], [0.2222222222222222, \"#7201a8\"], [0.3333333333333333, \"#9c179e\"], [0.4444444444444444, \"#bd3786\"], [0.5555555555555556, \"#d8576b\"], [0.6666666666666666, \"#ed7953\"], [0.7777777777777778, \"#fb9f3a\"], [0.8888888888888888, \"#fdca26\"], [1.0, \"#f0f921\"]], \"sequentialminus\": [[0.0, \"#0d0887\"], [0.1111111111111111, \"#46039f\"], [0.2222222222222222, \"#7201a8\"], [0.3333333333333333, \"#9c179e\"], [0.4444444444444444, \"#bd3786\"], [0.5555555555555556, \"#d8576b\"], [0.6666666666666666, \"#ed7953\"], [0.7777777777777778, \"#fb9f3a\"], [0.8888888888888888, \"#fdca26\"], [1.0, \"#f0f921\"]]}, \"colorway\": [\"#636efa\", \"#EF553B\", \"#00cc96\", \"#ab63fa\", \"#FFA15A\", \"#19d3f3\", \"#FF6692\", \"#B6E880\", \"#FF97FF\", \"#FECB52\"], \"font\": {\"color\": \"#2a3f5f\"}, \"geo\": {\"bgcolor\": \"white\", \"lakecolor\": \"white\", \"landcolor\": \"#E5ECF6\", \"showlakes\": true, \"showland\": true, \"subunitcolor\": \"white\"}, \"hoverlabel\": {\"align\": \"left\"}, \"hovermode\": \"closest\", \"mapbox\": {\"style\": \"light\"}, \"paper_bgcolor\": \"white\", \"plot_bgcolor\": \"#E5ECF6\", \"polar\": {\"angularaxis\": {\"gridcolor\": \"white\", \"linecolor\": \"white\", \"ticks\": \"\"}, \"bgcolor\": \"#E5ECF6\", \"radialaxis\": {\"gridcolor\": \"white\", \"linecolor\": \"white\", \"ticks\": \"\"}}, \"scene\": {\"xaxis\": {\"backgroundcolor\": \"#E5ECF6\", \"gridcolor\": \"white\", \"gridwidth\": 2, \"linecolor\": \"white\", \"showbackground\": true, \"ticks\": \"\", \"zerolinecolor\": \"white\"}, \"yaxis\": {\"backgroundcolor\": \"#E5ECF6\", \"gridcolor\": \"white\", \"gridwidth\": 2, \"linecolor\": \"white\", \"showbackground\": true, \"ticks\": \"\", \"zerolinecolor\": \"white\"}, \"zaxis\": {\"backgroundcolor\": \"#E5ECF6\", \"gridcolor\": \"white\", \"gridwidth\": 2, \"linecolor\": \"white\", \"showbackground\": true, \"ticks\": \"\", \"zerolinecolor\": \"white\"}}, \"shapedefaults\": {\"line\": {\"color\": \"#2a3f5f\"}}, \"ternary\": {\"aaxis\": {\"gridcolor\": \"white\", \"linecolor\": \"white\", \"ticks\": \"\"}, \"baxis\": {\"gridcolor\": \"white\", \"linecolor\": \"white\", \"ticks\": \"\"}, \"bgcolor\": \"#E5ECF6\", \"caxis\": {\"gridcolor\": \"white\", \"linecolor\": \"white\", \"ticks\": \"\"}}, \"title\": {\"x\": 0.05}, \"xaxis\": {\"automargin\": true, \"gridcolor\": \"white\", \"linecolor\": \"white\", \"ticks\": \"\", \"title\": {\"standoff\": 15}, \"zerolinecolor\": \"white\", \"zerolinewidth\": 2}, \"yaxis\": {\"automargin\": true, \"gridcolor\": \"white\", \"linecolor\": \"white\", \"ticks\": \"\", \"title\": {\"standoff\": 15}, \"zerolinecolor\": \"white\", \"zerolinewidth\": 2}}}, \"title\": {\"text\": \"Top 10 Countries with Highest Infant Mortality Rates\"}, \"xaxis\": {\"anchor\": \"y\", \"domain\": [0.0, 1.0], \"title\": {\"text\": \"Country\"}}, \"yaxis\": {\"anchor\": \"x\", \"domain\": [0.0, 1.0], \"title\": {\"text\": \"Infant mortality (per 1000 births)\"}}},\n",
       "                        {\"responsive\": true}\n",
       "                    ).then(function(){\n",
       "                            \n",
       "var gd = document.getElementById('49f6daee-f1ad-498a-9d73-603cc9858c96');\n",
       "var x = new MutationObserver(function (mutations, observer) {{\n",
       "        var display = window.getComputedStyle(gd).display;\n",
       "        if (!display || display === 'none') {{\n",
       "            console.log([gd, 'removed!']);\n",
       "            Plotly.purge(gd);\n",
       "            observer.disconnect();\n",
       "        }}\n",
       "}});\n",
       "\n",
       "// Listen for the removal of the full notebook cells\n",
       "var notebookContainer = gd.closest('#notebook-container');\n",
       "if (notebookContainer) {{\n",
       "    x.observe(notebookContainer, {childList: true});\n",
       "}}\n",
       "\n",
       "// Listen for the clearing of the current output cell\n",
       "var outputEl = gd.closest('.output');\n",
       "if (outputEl) {{\n",
       "    x.observe(outputEl, {childList: true});\n",
       "}}\n",
       "\n",
       "                        })\n",
       "                };\n",
       "                });\n",
       "            </script>\n",
       "        </div>"
      ]
     },
     "metadata": {},
     "output_type": "display_data"
    }
   ],
   "source": [
    "data_infant_morality.sort_values(by=['Infant mortality (per 1000 births)'],inplace=True,ascending=False)\n",
    "inf_mor_bar=px.bar(data_infant_morality[:10],x='Country',y='Infant mortality (per 1000 births)',title=\"Top 10 Countries with Highest Infant Mortality Rates\")\n",
    "inf_mor_bar.show()"
   ]
  },
  {
   "cell_type": "markdown",
   "metadata": {
    "papermill": {
     "duration": 0.097603,
     "end_time": "2020-12-10T16:16:46.348346",
     "exception": false,
     "start_time": "2020-12-10T16:16:46.250743",
     "status": "completed"
    },
    "tags": []
   },
   "source": [
    "# Birth and Death Rates of Countries"
   ]
  },
  {
   "cell_type": "code",
   "execution_count": 15,
   "metadata": {
    "execution": {
     "iopub.execute_input": "2020-12-10T16:16:46.589223Z",
     "iopub.status.busy": "2020-12-10T16:16:46.578882Z",
     "iopub.status.idle": "2020-12-10T16:16:46.617574Z",
     "shell.execute_reply": "2020-12-10T16:16:46.618230Z"
    },
    "papermill": {
     "duration": 0.173371,
     "end_time": "2020-12-10T16:16:46.618438",
     "exception": false,
     "start_time": "2020-12-10T16:16:46.445067",
     "status": "completed"
    },
    "tags": []
   },
   "outputs": [
    {
     "data": {
      "application/vnd.plotly.v1+json": {
       "config": {
        "linkText": "Export to plot.ly",
        "plotlyServerURL": "https://plot.ly",
        "showLink": false
       },
       "data": [
        {
         "marker": {
          "color": "rgba(10, 255, 10, 0.5)"
         },
         "mode": "lines+markers",
         "name": "Birthrate",
         "text": [
          "Afghanistan ",
          "Albania ",
          "Algeria ",
          "American Samoa ",
          "Andorra ",
          "Angola ",
          "Anguilla ",
          "Antigua & Barbuda ",
          "Argentina ",
          "Armenia ",
          "Aruba ",
          "Australia ",
          "Austria ",
          "Azerbaijan ",
          "Bahamas, The ",
          "Bahrain ",
          "Bangladesh ",
          "Barbados ",
          "Belarus ",
          "Belgium ",
          "Belize ",
          "Benin ",
          "Bermuda ",
          "Bhutan ",
          "Bolivia ",
          "Bosnia & Herzegovina ",
          "Botswana ",
          "Brazil ",
          "British Virgin Is. ",
          "Brunei ",
          "Bulgaria ",
          "Burkina Faso ",
          "Burma ",
          "Burundi ",
          "Cambodia ",
          "Cameroon ",
          "Canada ",
          "Cape Verde ",
          "Cayman Islands ",
          "Central African Rep. ",
          "Chad ",
          "Chile ",
          "China ",
          "Colombia ",
          "Comoros ",
          "Congo, Dem. Rep. ",
          "Congo, Repub. of the ",
          "Cook Islands ",
          "Costa Rica ",
          "Cote d'Ivoire ",
          "Croatia ",
          "Cuba ",
          "Cyprus ",
          "Czech Republic ",
          "Denmark ",
          "Djibouti ",
          "Dominica ",
          "Dominican Republic ",
          "East Timor ",
          "Ecuador ",
          "Egypt ",
          "El Salvador ",
          "Equatorial Guinea ",
          "Eritrea ",
          "Estonia ",
          "Ethiopia ",
          "Faroe Islands ",
          "Fiji ",
          "Finland ",
          "France ",
          "French Guiana ",
          "French Polynesia ",
          "Gabon ",
          "Gambia, The ",
          "Gaza Strip ",
          "Georgia ",
          "Germany ",
          "Ghana ",
          "Gibraltar ",
          "Greece ",
          "Greenland ",
          "Grenada ",
          "Guadeloupe ",
          "Guam ",
          "Guatemala ",
          "Guernsey ",
          "Guinea ",
          "Guinea-Bissau ",
          "Guyana ",
          "Haiti ",
          "Honduras ",
          "Hong Kong ",
          "Hungary ",
          "Iceland ",
          "India ",
          "Indonesia ",
          "Iran ",
          "Iraq ",
          "Ireland ",
          "Isle of Man ",
          "Israel ",
          "Italy ",
          "Jamaica ",
          "Japan ",
          "Jersey ",
          "Jordan ",
          "Kazakhstan ",
          "Kenya ",
          "Kiribati ",
          "Korea, North ",
          "Korea, South ",
          "Kuwait ",
          "Kyrgyzstan ",
          "Laos ",
          "Latvia ",
          "Lebanon ",
          "Lesotho ",
          "Liberia ",
          "Libya ",
          "Liechtenstein ",
          "Lithuania ",
          "Luxembourg ",
          "Macau ",
          "Macedonia ",
          "Madagascar ",
          "Malawi ",
          "Malaysia ",
          "Maldives ",
          "Mali ",
          "Malta ",
          "Marshall Islands ",
          "Martinique ",
          "Mauritania ",
          "Mauritius ",
          "Mayotte ",
          "Mexico ",
          "Micronesia, Fed. St. ",
          "Moldova ",
          "Monaco ",
          "Mongolia ",
          "Montserrat ",
          "Morocco ",
          "Mozambique ",
          "Namibia ",
          "Nauru ",
          "Nepal ",
          "Netherlands ",
          "Netherlands Antilles ",
          "New Caledonia ",
          "New Zealand ",
          "Nicaragua ",
          "Niger ",
          "Nigeria ",
          "N. Mariana Islands ",
          "Norway ",
          "Oman ",
          "Pakistan ",
          "Palau ",
          "Panama ",
          "Papua New Guinea ",
          "Paraguay ",
          "Peru ",
          "Philippines ",
          "Poland ",
          "Portugal ",
          "Puerto Rico ",
          "Qatar ",
          "Reunion ",
          "Romania ",
          "Russia ",
          "Rwanda ",
          "Saint Helena ",
          "Saint Kitts & Nevis ",
          "Saint Lucia ",
          "St Pierre & Miquelon ",
          "Saint Vincent and the Grenadines ",
          "Samoa ",
          "San Marino ",
          "Sao Tome & Principe ",
          "Saudi Arabia ",
          "Senegal ",
          "Serbia ",
          "Seychelles ",
          "Sierra Leone ",
          "Singapore ",
          "Slovakia ",
          "Slovenia ",
          "Solomon Islands ",
          "Somalia ",
          "South Africa ",
          "Spain ",
          "Sri Lanka ",
          "Sudan ",
          "Suriname ",
          "Swaziland ",
          "Sweden ",
          "Switzerland ",
          "Syria ",
          "Taiwan ",
          "Tajikistan ",
          "Tanzania ",
          "Thailand ",
          "Togo ",
          "Tonga ",
          "Trinidad & Tobago ",
          "Tunisia ",
          "Turkey ",
          "Turkmenistan ",
          "Turks & Caicos Is ",
          "Tuvalu ",
          "Uganda ",
          "Ukraine ",
          "United Arab Emirates ",
          "United Kingdom ",
          "United States ",
          "Uruguay ",
          "Uzbekistan ",
          "Vanuatu ",
          "Venezuela ",
          "Vietnam ",
          "Virgin Islands ",
          "Wallis and Futuna ",
          "West Bank ",
          "Western Sahara ",
          "Yemen ",
          "Zambia ",
          "Zimbabwe "
         ],
         "type": "scatter",
         "x": [
          0,
          1,
          2,
          3,
          4,
          5,
          6,
          7,
          8,
          9,
          10,
          11,
          12,
          13,
          14,
          15,
          16,
          17,
          18,
          19,
          20,
          21,
          22,
          23,
          24,
          25,
          26,
          27,
          28,
          29,
          30,
          31,
          32,
          33,
          34,
          35,
          36,
          37,
          38,
          39,
          40,
          41,
          42,
          43,
          44,
          45,
          46,
          47,
          48,
          49,
          50,
          51,
          52,
          53,
          54,
          55,
          56,
          57,
          58,
          59,
          60,
          61,
          62,
          63,
          64,
          65,
          66,
          67,
          68,
          69,
          70,
          71,
          72,
          73,
          74,
          75,
          76,
          77,
          78,
          79,
          80,
          81,
          82,
          83,
          84,
          85,
          86,
          87,
          88,
          89,
          90,
          91,
          92,
          93,
          94,
          95,
          96,
          97,
          98,
          99,
          100,
          101,
          102,
          103,
          104,
          105,
          106,
          107,
          108,
          109,
          110,
          111,
          112,
          113,
          114,
          115,
          116,
          117,
          118,
          119,
          120,
          121,
          122,
          123,
          124,
          125,
          126,
          127,
          128,
          129,
          130,
          131,
          132,
          133,
          134,
          135,
          136,
          137,
          138,
          139,
          140,
          141,
          142,
          143,
          144,
          145,
          146,
          147,
          148,
          149,
          150,
          151,
          152,
          153,
          154,
          155,
          156,
          157,
          158,
          159,
          160,
          161,
          162,
          163,
          164,
          165,
          166,
          167,
          168,
          169,
          170,
          171,
          172,
          173,
          174,
          175,
          176,
          177,
          178,
          179,
          180,
          181,
          182,
          183,
          184,
          185,
          186,
          187,
          188,
          189,
          190,
          191,
          192,
          193,
          194,
          195,
          196,
          197,
          198,
          199,
          200,
          201,
          202,
          203,
          204,
          205,
          206,
          207,
          208,
          209,
          210,
          211,
          212,
          213,
          214,
          215,
          216,
          217,
          218,
          219,
          220,
          221,
          222,
          223,
          224,
          225,
          226
         ],
         "y": [
          "46,6",
          "15,11",
          "17,14",
          "22,46",
          "8,71",
          "45,11",
          "14,17",
          "16,93",
          "16,73",
          "12,07",
          "11,03",
          "12,14",
          "8,74",
          "20,74",
          "17,57",
          "17,8",
          "29,8",
          "12,71",
          "11,16",
          "10,38",
          "28,84",
          "38,85",
          "11,4",
          "33,65",
          "23,3",
          "8,77",
          "23,08",
          "16,56",
          "14,89",
          "18,79",
          "9,65",
          "45,62",
          "17,91",
          "42,22",
          "26,9",
          "33,89",
          "10,78",
          "24,87",
          "12,74",
          "33,91",
          "45,73",
          "15,23",
          "13,25",
          "20,48",
          "36,93",
          "43,69",
          "42,57",
          "21",
          "18,32",
          "35,11",
          "9,61",
          "11,89",
          "12,56",
          "9,02",
          "11,13",
          "39,53",
          "15,27",
          "23,22",
          "26,99",
          "22,29",
          "22,94",
          "26,61",
          "35,59",
          "34,33",
          "10,04",
          "37,98",
          "14,05",
          "22,55",
          "10,45",
          "11,99",
          "20,46",
          "16,68",
          "36,16",
          "39,37",
          "39,45",
          "10,41",
          "8,25",
          "30,52",
          "10,74",
          "9,68",
          "15,93",
          "22,08",
          "15,05",
          "18,79",
          "29,88",
          "8,81",
          "41,76",
          "37,22",
          "18,28",
          "36,44",
          "28,24",
          "7,29",
          "9,72",
          "13,64",
          "22,01",
          "20,34",
          "17",
          "31,98",
          "14,45",
          "11,05",
          "17,97",
          "8,72",
          "20,82",
          "9,37",
          "9,3",
          "21,25",
          "16",
          "39,72",
          "30,65",
          "15,54",
          "10",
          "21,94",
          "22,8",
          "35,49",
          "9,24",
          "18,52",
          "24,75",
          "44,77",
          "26,49",
          "10,21",
          "8,75",
          "11,94",
          "8,48",
          "12,02",
          "41,41",
          "43,13",
          "22,86",
          "34,81",
          "49,82",
          "10,22",
          "33,05",
          "13,74",
          "40,99",
          "15,43",
          "40,95",
          "20,69",
          "24,68",
          "15,7",
          "9,19",
          "21,59",
          "17,59",
          "21,98",
          "35,18",
          "24,32",
          "24,76",
          "30,98",
          "10,9",
          "14,78",
          "18,11",
          "13,76",
          "24,51",
          "50,73",
          "40,43",
          "19,43",
          "11,46",
          "36,24",
          "29,74",
          "18,03",
          "21,74",
          "29,36",
          "29,1",
          "20,48",
          "24,89",
          "9,85",
          "10,72",
          "12,77",
          "15,56",
          "18,9",
          "10,7",
          "9,95",
          "40,37",
          "12,13",
          "18,02",
          "19,68",
          "13,52",
          "16,18",
          "16,43",
          "10,02",
          "40,25",
          "29,34",
          "32,78",
          null,
          "16,03",
          "45,76",
          "9,34",
          "10,65",
          "8,98",
          "30,01",
          "45,13",
          "18,2",
          "10,06",
          "15,51",
          "34,53",
          "18,02",
          "27,41",
          "10,27",
          "9,71",
          "27,76",
          "12,56",
          "32,65",
          "37,71",
          "13,87",
          "37,01",
          "25,37",
          "12,9",
          "15,52",
          "16,62",
          "27,61",
          "21,84",
          "22,18",
          "47,35",
          "8,82",
          "18,96",
          "10,71",
          "14,14",
          "13,91",
          "26,36",
          "22,72",
          "18,71",
          "16,86",
          "13,96",
          null,
          "31,67",
          null,
          "42,89",
          "41",
          "28,01"
         ]
        },
        {
         "marker": {
          "color": "rgba(255, 10, 10, 0.5)"
         },
         "mode": "lines+markers",
         "name": "Deathrate",
         "text": [
          "Afghanistan ",
          "Albania ",
          "Algeria ",
          "American Samoa ",
          "Andorra ",
          "Angola ",
          "Anguilla ",
          "Antigua & Barbuda ",
          "Argentina ",
          "Armenia ",
          "Aruba ",
          "Australia ",
          "Austria ",
          "Azerbaijan ",
          "Bahamas, The ",
          "Bahrain ",
          "Bangladesh ",
          "Barbados ",
          "Belarus ",
          "Belgium ",
          "Belize ",
          "Benin ",
          "Bermuda ",
          "Bhutan ",
          "Bolivia ",
          "Bosnia & Herzegovina ",
          "Botswana ",
          "Brazil ",
          "British Virgin Is. ",
          "Brunei ",
          "Bulgaria ",
          "Burkina Faso ",
          "Burma ",
          "Burundi ",
          "Cambodia ",
          "Cameroon ",
          "Canada ",
          "Cape Verde ",
          "Cayman Islands ",
          "Central African Rep. ",
          "Chad ",
          "Chile ",
          "China ",
          "Colombia ",
          "Comoros ",
          "Congo, Dem. Rep. ",
          "Congo, Repub. of the ",
          "Cook Islands ",
          "Costa Rica ",
          "Cote d'Ivoire ",
          "Croatia ",
          "Cuba ",
          "Cyprus ",
          "Czech Republic ",
          "Denmark ",
          "Djibouti ",
          "Dominica ",
          "Dominican Republic ",
          "East Timor ",
          "Ecuador ",
          "Egypt ",
          "El Salvador ",
          "Equatorial Guinea ",
          "Eritrea ",
          "Estonia ",
          "Ethiopia ",
          "Faroe Islands ",
          "Fiji ",
          "Finland ",
          "France ",
          "French Guiana ",
          "French Polynesia ",
          "Gabon ",
          "Gambia, The ",
          "Gaza Strip ",
          "Georgia ",
          "Germany ",
          "Ghana ",
          "Gibraltar ",
          "Greece ",
          "Greenland ",
          "Grenada ",
          "Guadeloupe ",
          "Guam ",
          "Guatemala ",
          "Guernsey ",
          "Guinea ",
          "Guinea-Bissau ",
          "Guyana ",
          "Haiti ",
          "Honduras ",
          "Hong Kong ",
          "Hungary ",
          "Iceland ",
          "India ",
          "Indonesia ",
          "Iran ",
          "Iraq ",
          "Ireland ",
          "Isle of Man ",
          "Israel ",
          "Italy ",
          "Jamaica ",
          "Japan ",
          "Jersey ",
          "Jordan ",
          "Kazakhstan ",
          "Kenya ",
          "Kiribati ",
          "Korea, North ",
          "Korea, South ",
          "Kuwait ",
          "Kyrgyzstan ",
          "Laos ",
          "Latvia ",
          "Lebanon ",
          "Lesotho ",
          "Liberia ",
          "Libya ",
          "Liechtenstein ",
          "Lithuania ",
          "Luxembourg ",
          "Macau ",
          "Macedonia ",
          "Madagascar ",
          "Malawi ",
          "Malaysia ",
          "Maldives ",
          "Mali ",
          "Malta ",
          "Marshall Islands ",
          "Martinique ",
          "Mauritania ",
          "Mauritius ",
          "Mayotte ",
          "Mexico ",
          "Micronesia, Fed. St. ",
          "Moldova ",
          "Monaco ",
          "Mongolia ",
          "Montserrat ",
          "Morocco ",
          "Mozambique ",
          "Namibia ",
          "Nauru ",
          "Nepal ",
          "Netherlands ",
          "Netherlands Antilles ",
          "New Caledonia ",
          "New Zealand ",
          "Nicaragua ",
          "Niger ",
          "Nigeria ",
          "N. Mariana Islands ",
          "Norway ",
          "Oman ",
          "Pakistan ",
          "Palau ",
          "Panama ",
          "Papua New Guinea ",
          "Paraguay ",
          "Peru ",
          "Philippines ",
          "Poland ",
          "Portugal ",
          "Puerto Rico ",
          "Qatar ",
          "Reunion ",
          "Romania ",
          "Russia ",
          "Rwanda ",
          "Saint Helena ",
          "Saint Kitts & Nevis ",
          "Saint Lucia ",
          "St Pierre & Miquelon ",
          "Saint Vincent and the Grenadines ",
          "Samoa ",
          "San Marino ",
          "Sao Tome & Principe ",
          "Saudi Arabia ",
          "Senegal ",
          "Serbia ",
          "Seychelles ",
          "Sierra Leone ",
          "Singapore ",
          "Slovakia ",
          "Slovenia ",
          "Solomon Islands ",
          "Somalia ",
          "South Africa ",
          "Spain ",
          "Sri Lanka ",
          "Sudan ",
          "Suriname ",
          "Swaziland ",
          "Sweden ",
          "Switzerland ",
          "Syria ",
          "Taiwan ",
          "Tajikistan ",
          "Tanzania ",
          "Thailand ",
          "Togo ",
          "Tonga ",
          "Trinidad & Tobago ",
          "Tunisia ",
          "Turkey ",
          "Turkmenistan ",
          "Turks & Caicos Is ",
          "Tuvalu ",
          "Uganda ",
          "Ukraine ",
          "United Arab Emirates ",
          "United Kingdom ",
          "United States ",
          "Uruguay ",
          "Uzbekistan ",
          "Vanuatu ",
          "Venezuela ",
          "Vietnam ",
          "Virgin Islands ",
          "Wallis and Futuna ",
          "West Bank ",
          "Western Sahara ",
          "Yemen ",
          "Zambia ",
          "Zimbabwe "
         ],
         "type": "scatter",
         "x": [
          0,
          1,
          2,
          3,
          4,
          5,
          6,
          7,
          8,
          9,
          10,
          11,
          12,
          13,
          14,
          15,
          16,
          17,
          18,
          19,
          20,
          21,
          22,
          23,
          24,
          25,
          26,
          27,
          28,
          29,
          30,
          31,
          32,
          33,
          34,
          35,
          36,
          37,
          38,
          39,
          40,
          41,
          42,
          43,
          44,
          45,
          46,
          47,
          48,
          49,
          50,
          51,
          52,
          53,
          54,
          55,
          56,
          57,
          58,
          59,
          60,
          61,
          62,
          63,
          64,
          65,
          66,
          67,
          68,
          69,
          70,
          71,
          72,
          73,
          74,
          75,
          76,
          77,
          78,
          79,
          80,
          81,
          82,
          83,
          84,
          85,
          86,
          87,
          88,
          89,
          90,
          91,
          92,
          93,
          94,
          95,
          96,
          97,
          98,
          99,
          100,
          101,
          102,
          103,
          104,
          105,
          106,
          107,
          108,
          109,
          110,
          111,
          112,
          113,
          114,
          115,
          116,
          117,
          118,
          119,
          120,
          121,
          122,
          123,
          124,
          125,
          126,
          127,
          128,
          129,
          130,
          131,
          132,
          133,
          134,
          135,
          136,
          137,
          138,
          139,
          140,
          141,
          142,
          143,
          144,
          145,
          146,
          147,
          148,
          149,
          150,
          151,
          152,
          153,
          154,
          155,
          156,
          157,
          158,
          159,
          160,
          161,
          162,
          163,
          164,
          165,
          166,
          167,
          168,
          169,
          170,
          171,
          172,
          173,
          174,
          175,
          176,
          177,
          178,
          179,
          180,
          181,
          182,
          183,
          184,
          185,
          186,
          187,
          188,
          189,
          190,
          191,
          192,
          193,
          194,
          195,
          196,
          197,
          198,
          199,
          200,
          201,
          202,
          203,
          204,
          205,
          206,
          207,
          208,
          209,
          210,
          211,
          212,
          213,
          214,
          215,
          216,
          217,
          218,
          219,
          220,
          221,
          222,
          223,
          224,
          225,
          226
         ],
         "y": [
          "20,34",
          "5,22",
          "4,61",
          "3,27",
          "6,25",
          "24,2",
          "5,34",
          "5,37",
          "7,55",
          "8,23",
          "6,68",
          "7,51",
          "9,76",
          "9,75",
          "9,05",
          "4,14",
          "8,27",
          "8,67",
          "14,02",
          "10,27",
          "5,72",
          "12,22",
          "7,74",
          "12,7",
          "7,53",
          "8,27",
          "29,5",
          "6,17",
          "4,42",
          "3,45",
          "14,27",
          "15,6",
          "9,83",
          "13,46",
          "9,06",
          "13,47",
          "7,8",
          "6,55",
          "4,89",
          "18,65",
          "16,38",
          "5,81",
          "6,97",
          "5,58",
          "8,2",
          "13,27",
          "12,93",
          null,
          "4,36",
          "14,84",
          "11,48",
          "7,22",
          "7,68",
          "10,59",
          "10,36",
          "19,31",
          "6,73",
          "5,73",
          "6,24",
          "4,23",
          "5,23",
          "5,78",
          "15,06",
          "9,6",
          "13,25",
          "14,86",
          "8,7",
          "5,65",
          "9,86",
          "9,14",
          "4,88",
          "4,69",
          "12,25",
          "12,25",
          "3,8",
          "9,23",
          "10,62",
          "9,72",
          "9,31",
          "10,24",
          "7,84",
          "6,88",
          "6,09",
          "4,48",
          "5,2",
          "10,01",
          "15,48",
          "16,53",
          "8,28",
          "12,17",
          "5,28",
          "6,29",
          "13,11",
          "6,72",
          "8,18",
          "6,25",
          "5,55",
          "5,37",
          "7,82",
          "11,19",
          "6,18",
          "10,4",
          "6,52",
          "9,16",
          "9,28",
          "2,65",
          "9,42",
          "14,02",
          "8,26",
          "7,13",
          "5,85",
          "2,41",
          "7,08",
          "11,55",
          "13,66",
          "6,21",
          "28,71",
          "23,1",
          "3,48",
          "7,18",
          "10,98",
          "8,41",
          "4,47",
          "8,77",
          "11,11",
          "19,33",
          "5,05",
          "7,06",
          "16,89",
          "8,1",
          "4,78",
          "6,48",
          "12,16",
          "6,86",
          "7,7",
          "4,74",
          "4,75",
          "12,64",
          "12,91",
          "6,95",
          "7,1",
          "5,58",
          "21,35",
          "18,86",
          "6,7",
          "9,31",
          "8,68",
          "6,45",
          "5,69",
          "7,53",
          "4,45",
          "20,91",
          "16,94",
          "2,29",
          "9,4",
          "3,81",
          "8,23",
          "6,8",
          "5,36",
          "7,25",
          "4,49",
          "6,23",
          "5,41",
          "9,89",
          "10,5",
          "7,65",
          "4,72",
          "5,49",
          "11,77",
          "14,65",
          "16,09",
          "6,53",
          "8,33",
          "5,08",
          "6,83",
          "5,98",
          "6,62",
          "8,17",
          "6,47",
          "2,58",
          "9,42",
          null,
          "6,29",
          "23,03",
          "4,28",
          "9,45",
          "10,31",
          "3,92",
          "16,63",
          "22",
          "9,72",
          "6,52",
          "8,97",
          "7,27",
          "29,74",
          "10,31",
          "8,49",
          "4,81",
          "6,48",
          "8,25",
          "16,39",
          "7,04",
          "9,83",
          "5,28",
          "10,57",
          "5,13",
          "5,97",
          "8,6",
          "4,21",
          "7,11",
          "12,24",
          "14,39",
          "4,4",
          "10,13",
          "8,26",
          "9,05",
          "7,84",
          "7,82",
          "4,92",
          "6,22",
          "6,43",
          null,
          "3,92",
          null,
          "8,3",
          "19,93",
          "21,84"
         ]
        }
       ],
       "layout": {
        "template": {
         "data": {
          "bar": [
           {
            "error_x": {
             "color": "#2a3f5f"
            },
            "error_y": {
             "color": "#2a3f5f"
            },
            "marker": {
             "line": {
              "color": "#E5ECF6",
              "width": 0.5
             }
            },
            "type": "bar"
           }
          ],
          "barpolar": [
           {
            "marker": {
             "line": {
              "color": "#E5ECF6",
              "width": 0.5
             }
            },
            "type": "barpolar"
           }
          ],
          "carpet": [
           {
            "aaxis": {
             "endlinecolor": "#2a3f5f",
             "gridcolor": "white",
             "linecolor": "white",
             "minorgridcolor": "white",
             "startlinecolor": "#2a3f5f"
            },
            "baxis": {
             "endlinecolor": "#2a3f5f",
             "gridcolor": "white",
             "linecolor": "white",
             "minorgridcolor": "white",
             "startlinecolor": "#2a3f5f"
            },
            "type": "carpet"
           }
          ],
          "choropleth": [
           {
            "colorbar": {
             "outlinewidth": 0,
             "ticks": ""
            },
            "type": "choropleth"
           }
          ],
          "contour": [
           {
            "colorbar": {
             "outlinewidth": 0,
             "ticks": ""
            },
            "colorscale": [
             [
              0.0,
              "#0d0887"
             ],
             [
              0.1111111111111111,
              "#46039f"
             ],
             [
              0.2222222222222222,
              "#7201a8"
             ],
             [
              0.3333333333333333,
              "#9c179e"
             ],
             [
              0.4444444444444444,
              "#bd3786"
             ],
             [
              0.5555555555555556,
              "#d8576b"
             ],
             [
              0.6666666666666666,
              "#ed7953"
             ],
             [
              0.7777777777777778,
              "#fb9f3a"
             ],
             [
              0.8888888888888888,
              "#fdca26"
             ],
             [
              1.0,
              "#f0f921"
             ]
            ],
            "type": "contour"
           }
          ],
          "contourcarpet": [
           {
            "colorbar": {
             "outlinewidth": 0,
             "ticks": ""
            },
            "type": "contourcarpet"
           }
          ],
          "heatmap": [
           {
            "colorbar": {
             "outlinewidth": 0,
             "ticks": ""
            },
            "colorscale": [
             [
              0.0,
              "#0d0887"
             ],
             [
              0.1111111111111111,
              "#46039f"
             ],
             [
              0.2222222222222222,
              "#7201a8"
             ],
             [
              0.3333333333333333,
              "#9c179e"
             ],
             [
              0.4444444444444444,
              "#bd3786"
             ],
             [
              0.5555555555555556,
              "#d8576b"
             ],
             [
              0.6666666666666666,
              "#ed7953"
             ],
             [
              0.7777777777777778,
              "#fb9f3a"
             ],
             [
              0.8888888888888888,
              "#fdca26"
             ],
             [
              1.0,
              "#f0f921"
             ]
            ],
            "type": "heatmap"
           }
          ],
          "heatmapgl": [
           {
            "colorbar": {
             "outlinewidth": 0,
             "ticks": ""
            },
            "colorscale": [
             [
              0.0,
              "#0d0887"
             ],
             [
              0.1111111111111111,
              "#46039f"
             ],
             [
              0.2222222222222222,
              "#7201a8"
             ],
             [
              0.3333333333333333,
              "#9c179e"
             ],
             [
              0.4444444444444444,
              "#bd3786"
             ],
             [
              0.5555555555555556,
              "#d8576b"
             ],
             [
              0.6666666666666666,
              "#ed7953"
             ],
             [
              0.7777777777777778,
              "#fb9f3a"
             ],
             [
              0.8888888888888888,
              "#fdca26"
             ],
             [
              1.0,
              "#f0f921"
             ]
            ],
            "type": "heatmapgl"
           }
          ],
          "histogram": [
           {
            "marker": {
             "colorbar": {
              "outlinewidth": 0,
              "ticks": ""
             }
            },
            "type": "histogram"
           }
          ],
          "histogram2d": [
           {
            "colorbar": {
             "outlinewidth": 0,
             "ticks": ""
            },
            "colorscale": [
             [
              0.0,
              "#0d0887"
             ],
             [
              0.1111111111111111,
              "#46039f"
             ],
             [
              0.2222222222222222,
              "#7201a8"
             ],
             [
              0.3333333333333333,
              "#9c179e"
             ],
             [
              0.4444444444444444,
              "#bd3786"
             ],
             [
              0.5555555555555556,
              "#d8576b"
             ],
             [
              0.6666666666666666,
              "#ed7953"
             ],
             [
              0.7777777777777778,
              "#fb9f3a"
             ],
             [
              0.8888888888888888,
              "#fdca26"
             ],
             [
              1.0,
              "#f0f921"
             ]
            ],
            "type": "histogram2d"
           }
          ],
          "histogram2dcontour": [
           {
            "colorbar": {
             "outlinewidth": 0,
             "ticks": ""
            },
            "colorscale": [
             [
              0.0,
              "#0d0887"
             ],
             [
              0.1111111111111111,
              "#46039f"
             ],
             [
              0.2222222222222222,
              "#7201a8"
             ],
             [
              0.3333333333333333,
              "#9c179e"
             ],
             [
              0.4444444444444444,
              "#bd3786"
             ],
             [
              0.5555555555555556,
              "#d8576b"
             ],
             [
              0.6666666666666666,
              "#ed7953"
             ],
             [
              0.7777777777777778,
              "#fb9f3a"
             ],
             [
              0.8888888888888888,
              "#fdca26"
             ],
             [
              1.0,
              "#f0f921"
             ]
            ],
            "type": "histogram2dcontour"
           }
          ],
          "mesh3d": [
           {
            "colorbar": {
             "outlinewidth": 0,
             "ticks": ""
            },
            "type": "mesh3d"
           }
          ],
          "parcoords": [
           {
            "line": {
             "colorbar": {
              "outlinewidth": 0,
              "ticks": ""
             }
            },
            "type": "parcoords"
           }
          ],
          "pie": [
           {
            "automargin": true,
            "type": "pie"
           }
          ],
          "scatter": [
           {
            "marker": {
             "colorbar": {
              "outlinewidth": 0,
              "ticks": ""
             }
            },
            "type": "scatter"
           }
          ],
          "scatter3d": [
           {
            "line": {
             "colorbar": {
              "outlinewidth": 0,
              "ticks": ""
             }
            },
            "marker": {
             "colorbar": {
              "outlinewidth": 0,
              "ticks": ""
             }
            },
            "type": "scatter3d"
           }
          ],
          "scattercarpet": [
           {
            "marker": {
             "colorbar": {
              "outlinewidth": 0,
              "ticks": ""
             }
            },
            "type": "scattercarpet"
           }
          ],
          "scattergeo": [
           {
            "marker": {
             "colorbar": {
              "outlinewidth": 0,
              "ticks": ""
             }
            },
            "type": "scattergeo"
           }
          ],
          "scattergl": [
           {
            "marker": {
             "colorbar": {
              "outlinewidth": 0,
              "ticks": ""
             }
            },
            "type": "scattergl"
           }
          ],
          "scattermapbox": [
           {
            "marker": {
             "colorbar": {
              "outlinewidth": 0,
              "ticks": ""
             }
            },
            "type": "scattermapbox"
           }
          ],
          "scatterpolar": [
           {
            "marker": {
             "colorbar": {
              "outlinewidth": 0,
              "ticks": ""
             }
            },
            "type": "scatterpolar"
           }
          ],
          "scatterpolargl": [
           {
            "marker": {
             "colorbar": {
              "outlinewidth": 0,
              "ticks": ""
             }
            },
            "type": "scatterpolargl"
           }
          ],
          "scatterternary": [
           {
            "marker": {
             "colorbar": {
              "outlinewidth": 0,
              "ticks": ""
             }
            },
            "type": "scatterternary"
           }
          ],
          "surface": [
           {
            "colorbar": {
             "outlinewidth": 0,
             "ticks": ""
            },
            "colorscale": [
             [
              0.0,
              "#0d0887"
             ],
             [
              0.1111111111111111,
              "#46039f"
             ],
             [
              0.2222222222222222,
              "#7201a8"
             ],
             [
              0.3333333333333333,
              "#9c179e"
             ],
             [
              0.4444444444444444,
              "#bd3786"
             ],
             [
              0.5555555555555556,
              "#d8576b"
             ],
             [
              0.6666666666666666,
              "#ed7953"
             ],
             [
              0.7777777777777778,
              "#fb9f3a"
             ],
             [
              0.8888888888888888,
              "#fdca26"
             ],
             [
              1.0,
              "#f0f921"
             ]
            ],
            "type": "surface"
           }
          ],
          "table": [
           {
            "cells": {
             "fill": {
              "color": "#EBF0F8"
             },
             "line": {
              "color": "white"
             }
            },
            "header": {
             "fill": {
              "color": "#C8D4E3"
             },
             "line": {
              "color": "white"
             }
            },
            "type": "table"
           }
          ]
         },
         "layout": {
          "annotationdefaults": {
           "arrowcolor": "#2a3f5f",
           "arrowhead": 0,
           "arrowwidth": 1
          },
          "coloraxis": {
           "colorbar": {
            "outlinewidth": 0,
            "ticks": ""
           }
          },
          "colorscale": {
           "diverging": [
            [
             0,
             "#8e0152"
            ],
            [
             0.1,
             "#c51b7d"
            ],
            [
             0.2,
             "#de77ae"
            ],
            [
             0.3,
             "#f1b6da"
            ],
            [
             0.4,
             "#fde0ef"
            ],
            [
             0.5,
             "#f7f7f7"
            ],
            [
             0.6,
             "#e6f5d0"
            ],
            [
             0.7,
             "#b8e186"
            ],
            [
             0.8,
             "#7fbc41"
            ],
            [
             0.9,
             "#4d9221"
            ],
            [
             1,
             "#276419"
            ]
           ],
           "sequential": [
            [
             0.0,
             "#0d0887"
            ],
            [
             0.1111111111111111,
             "#46039f"
            ],
            [
             0.2222222222222222,
             "#7201a8"
            ],
            [
             0.3333333333333333,
             "#9c179e"
            ],
            [
             0.4444444444444444,
             "#bd3786"
            ],
            [
             0.5555555555555556,
             "#d8576b"
            ],
            [
             0.6666666666666666,
             "#ed7953"
            ],
            [
             0.7777777777777778,
             "#fb9f3a"
            ],
            [
             0.8888888888888888,
             "#fdca26"
            ],
            [
             1.0,
             "#f0f921"
            ]
           ],
           "sequentialminus": [
            [
             0.0,
             "#0d0887"
            ],
            [
             0.1111111111111111,
             "#46039f"
            ],
            [
             0.2222222222222222,
             "#7201a8"
            ],
            [
             0.3333333333333333,
             "#9c179e"
            ],
            [
             0.4444444444444444,
             "#bd3786"
            ],
            [
             0.5555555555555556,
             "#d8576b"
            ],
            [
             0.6666666666666666,
             "#ed7953"
            ],
            [
             0.7777777777777778,
             "#fb9f3a"
            ],
            [
             0.8888888888888888,
             "#fdca26"
            ],
            [
             1.0,
             "#f0f921"
            ]
           ]
          },
          "colorway": [
           "#636efa",
           "#EF553B",
           "#00cc96",
           "#ab63fa",
           "#FFA15A",
           "#19d3f3",
           "#FF6692",
           "#B6E880",
           "#FF97FF",
           "#FECB52"
          ],
          "font": {
           "color": "#2a3f5f"
          },
          "geo": {
           "bgcolor": "white",
           "lakecolor": "white",
           "landcolor": "#E5ECF6",
           "showlakes": true,
           "showland": true,
           "subunitcolor": "white"
          },
          "hoverlabel": {
           "align": "left"
          },
          "hovermode": "closest",
          "mapbox": {
           "style": "light"
          },
          "paper_bgcolor": "white",
          "plot_bgcolor": "#E5ECF6",
          "polar": {
           "angularaxis": {
            "gridcolor": "white",
            "linecolor": "white",
            "ticks": ""
           },
           "bgcolor": "#E5ECF6",
           "radialaxis": {
            "gridcolor": "white",
            "linecolor": "white",
            "ticks": ""
           }
          },
          "scene": {
           "xaxis": {
            "backgroundcolor": "#E5ECF6",
            "gridcolor": "white",
            "gridwidth": 2,
            "linecolor": "white",
            "showbackground": true,
            "ticks": "",
            "zerolinecolor": "white"
           },
           "yaxis": {
            "backgroundcolor": "#E5ECF6",
            "gridcolor": "white",
            "gridwidth": 2,
            "linecolor": "white",
            "showbackground": true,
            "ticks": "",
            "zerolinecolor": "white"
           },
           "zaxis": {
            "backgroundcolor": "#E5ECF6",
            "gridcolor": "white",
            "gridwidth": 2,
            "linecolor": "white",
            "showbackground": true,
            "ticks": "",
            "zerolinecolor": "white"
           }
          },
          "shapedefaults": {
           "line": {
            "color": "#2a3f5f"
           }
          },
          "ternary": {
           "aaxis": {
            "gridcolor": "white",
            "linecolor": "white",
            "ticks": ""
           },
           "baxis": {
            "gridcolor": "white",
            "linecolor": "white",
            "ticks": ""
           },
           "bgcolor": "#E5ECF6",
           "caxis": {
            "gridcolor": "white",
            "linecolor": "white",
            "ticks": ""
           }
          },
          "title": {
           "x": 0.05
          },
          "xaxis": {
           "automargin": true,
           "gridcolor": "white",
           "linecolor": "white",
           "ticks": "",
           "title": {
            "standoff": 15
           },
           "zerolinecolor": "white",
           "zerolinewidth": 2
          },
          "yaxis": {
           "automargin": true,
           "gridcolor": "white",
           "linecolor": "white",
           "ticks": "",
           "title": {
            "standoff": 15
           },
           "zerolinecolor": "white",
           "zerolinewidth": 2
          }
         }
        },
        "title": {
         "text": "Birth and Death Rate of Countries"
        },
        "xaxis": {
         "zeroline": false
        }
       }
      },
      "text/html": [
       "<div>\n",
       "        \n",
       "        \n",
       "            <div id=\"878950eb-6e21-495f-a6c6-9ff90e8493ad\" class=\"plotly-graph-div\" style=\"height:525px; width:100%;\"></div>\n",
       "            <script type=\"text/javascript\">\n",
       "                require([\"plotly\"], function(Plotly) {\n",
       "                    window.PLOTLYENV=window.PLOTLYENV || {};\n",
       "                    \n",
       "                if (document.getElementById(\"878950eb-6e21-495f-a6c6-9ff90e8493ad\")) {\n",
       "                    Plotly.newPlot(\n",
       "                        '878950eb-6e21-495f-a6c6-9ff90e8493ad',\n",
       "                        [{\"marker\": {\"color\": \"rgba(10, 255, 10, 0.5)\"}, \"mode\": \"lines+markers\", \"name\": \"Birthrate\", \"text\": [\"Afghanistan \", \"Albania \", \"Algeria \", \"American Samoa \", \"Andorra \", \"Angola \", \"Anguilla \", \"Antigua & Barbuda \", \"Argentina \", \"Armenia \", \"Aruba \", \"Australia \", \"Austria \", \"Azerbaijan \", \"Bahamas, The \", \"Bahrain \", \"Bangladesh \", \"Barbados \", \"Belarus \", \"Belgium \", \"Belize \", \"Benin \", \"Bermuda \", \"Bhutan \", \"Bolivia \", \"Bosnia & Herzegovina \", \"Botswana \", \"Brazil \", \"British Virgin Is. \", \"Brunei \", \"Bulgaria \", \"Burkina Faso \", \"Burma \", \"Burundi \", \"Cambodia \", \"Cameroon \", \"Canada \", \"Cape Verde \", \"Cayman Islands \", \"Central African Rep. \", \"Chad \", \"Chile \", \"China \", \"Colombia \", \"Comoros \", \"Congo, Dem. Rep. \", \"Congo, Repub. of the \", \"Cook Islands \", \"Costa Rica \", \"Cote d'Ivoire \", \"Croatia \", \"Cuba \", \"Cyprus \", \"Czech Republic \", \"Denmark \", \"Djibouti \", \"Dominica \", \"Dominican Republic \", \"East Timor \", \"Ecuador \", \"Egypt \", \"El Salvador \", \"Equatorial Guinea \", \"Eritrea \", \"Estonia \", \"Ethiopia \", \"Faroe Islands \", \"Fiji \", \"Finland \", \"France \", \"French Guiana \", \"French Polynesia \", \"Gabon \", \"Gambia, The \", \"Gaza Strip \", \"Georgia \", \"Germany \", \"Ghana \", \"Gibraltar \", \"Greece \", \"Greenland \", \"Grenada \", \"Guadeloupe \", \"Guam \", \"Guatemala \", \"Guernsey \", \"Guinea \", \"Guinea-Bissau \", \"Guyana \", \"Haiti \", \"Honduras \", \"Hong Kong \", \"Hungary \", \"Iceland \", \"India \", \"Indonesia \", \"Iran \", \"Iraq \", \"Ireland \", \"Isle of Man \", \"Israel \", \"Italy \", \"Jamaica \", \"Japan \", \"Jersey \", \"Jordan \", \"Kazakhstan \", \"Kenya \", \"Kiribati \", \"Korea, North \", \"Korea, South \", \"Kuwait \", \"Kyrgyzstan \", \"Laos \", \"Latvia \", \"Lebanon \", \"Lesotho \", \"Liberia \", \"Libya \", \"Liechtenstein \", \"Lithuania \", \"Luxembourg \", \"Macau \", \"Macedonia \", \"Madagascar \", \"Malawi \", \"Malaysia \", \"Maldives \", \"Mali \", \"Malta \", \"Marshall Islands \", \"Martinique \", \"Mauritania \", \"Mauritius \", \"Mayotte \", \"Mexico \", \"Micronesia, Fed. St. \", \"Moldova \", \"Monaco \", \"Mongolia \", \"Montserrat \", \"Morocco \", \"Mozambique \", \"Namibia \", \"Nauru \", \"Nepal \", \"Netherlands \", \"Netherlands Antilles \", \"New Caledonia \", \"New Zealand \", \"Nicaragua \", \"Niger \", \"Nigeria \", \"N. Mariana Islands \", \"Norway \", \"Oman \", \"Pakistan \", \"Palau \", \"Panama \", \"Papua New Guinea \", \"Paraguay \", \"Peru \", \"Philippines \", \"Poland \", \"Portugal \", \"Puerto Rico \", \"Qatar \", \"Reunion \", \"Romania \", \"Russia \", \"Rwanda \", \"Saint Helena \", \"Saint Kitts & Nevis \", \"Saint Lucia \", \"St Pierre & Miquelon \", \"Saint Vincent and the Grenadines \", \"Samoa \", \"San Marino \", \"Sao Tome & Principe \", \"Saudi Arabia \", \"Senegal \", \"Serbia \", \"Seychelles \", \"Sierra Leone \", \"Singapore \", \"Slovakia \", \"Slovenia \", \"Solomon Islands \", \"Somalia \", \"South Africa \", \"Spain \", \"Sri Lanka \", \"Sudan \", \"Suriname \", \"Swaziland \", \"Sweden \", \"Switzerland \", \"Syria \", \"Taiwan \", \"Tajikistan \", \"Tanzania \", \"Thailand \", \"Togo \", \"Tonga \", \"Trinidad & Tobago \", \"Tunisia \", \"Turkey \", \"Turkmenistan \", \"Turks & Caicos Is \", \"Tuvalu \", \"Uganda \", \"Ukraine \", \"United Arab Emirates \", \"United Kingdom \", \"United States \", \"Uruguay \", \"Uzbekistan \", \"Vanuatu \", \"Venezuela \", \"Vietnam \", \"Virgin Islands \", \"Wallis and Futuna \", \"West Bank \", \"Western Sahara \", \"Yemen \", \"Zambia \", \"Zimbabwe \"], \"type\": \"scatter\", \"x\": [0, 1, 2, 3, 4, 5, 6, 7, 8, 9, 10, 11, 12, 13, 14, 15, 16, 17, 18, 19, 20, 21, 22, 23, 24, 25, 26, 27, 28, 29, 30, 31, 32, 33, 34, 35, 36, 37, 38, 39, 40, 41, 42, 43, 44, 45, 46, 47, 48, 49, 50, 51, 52, 53, 54, 55, 56, 57, 58, 59, 60, 61, 62, 63, 64, 65, 66, 67, 68, 69, 70, 71, 72, 73, 74, 75, 76, 77, 78, 79, 80, 81, 82, 83, 84, 85, 86, 87, 88, 89, 90, 91, 92, 93, 94, 95, 96, 97, 98, 99, 100, 101, 102, 103, 104, 105, 106, 107, 108, 109, 110, 111, 112, 113, 114, 115, 116, 117, 118, 119, 120, 121, 122, 123, 124, 125, 126, 127, 128, 129, 130, 131, 132, 133, 134, 135, 136, 137, 138, 139, 140, 141, 142, 143, 144, 145, 146, 147, 148, 149, 150, 151, 152, 153, 154, 155, 156, 157, 158, 159, 160, 161, 162, 163, 164, 165, 166, 167, 168, 169, 170, 171, 172, 173, 174, 175, 176, 177, 178, 179, 180, 181, 182, 183, 184, 185, 186, 187, 188, 189, 190, 191, 192, 193, 194, 195, 196, 197, 198, 199, 200, 201, 202, 203, 204, 205, 206, 207, 208, 209, 210, 211, 212, 213, 214, 215, 216, 217, 218, 219, 220, 221, 222, 223, 224, 225, 226], \"y\": [\"46,6\", \"15,11\", \"17,14\", \"22,46\", \"8,71\", \"45,11\", \"14,17\", \"16,93\", \"16,73\", \"12,07\", \"11,03\", \"12,14\", \"8,74\", \"20,74\", \"17,57\", \"17,8\", \"29,8\", \"12,71\", \"11,16\", \"10,38\", \"28,84\", \"38,85\", \"11,4\", \"33,65\", \"23,3\", \"8,77\", \"23,08\", \"16,56\", \"14,89\", \"18,79\", \"9,65\", \"45,62\", \"17,91\", \"42,22\", \"26,9\", \"33,89\", \"10,78\", \"24,87\", \"12,74\", \"33,91\", \"45,73\", \"15,23\", \"13,25\", \"20,48\", \"36,93\", \"43,69\", \"42,57\", \"21\", \"18,32\", \"35,11\", \"9,61\", \"11,89\", \"12,56\", \"9,02\", \"11,13\", \"39,53\", \"15,27\", \"23,22\", \"26,99\", \"22,29\", \"22,94\", \"26,61\", \"35,59\", \"34,33\", \"10,04\", \"37,98\", \"14,05\", \"22,55\", \"10,45\", \"11,99\", \"20,46\", \"16,68\", \"36,16\", \"39,37\", \"39,45\", \"10,41\", \"8,25\", \"30,52\", \"10,74\", \"9,68\", \"15,93\", \"22,08\", \"15,05\", \"18,79\", \"29,88\", \"8,81\", \"41,76\", \"37,22\", \"18,28\", \"36,44\", \"28,24\", \"7,29\", \"9,72\", \"13,64\", \"22,01\", \"20,34\", \"17\", \"31,98\", \"14,45\", \"11,05\", \"17,97\", \"8,72\", \"20,82\", \"9,37\", \"9,3\", \"21,25\", \"16\", \"39,72\", \"30,65\", \"15,54\", \"10\", \"21,94\", \"22,8\", \"35,49\", \"9,24\", \"18,52\", \"24,75\", \"44,77\", \"26,49\", \"10,21\", \"8,75\", \"11,94\", \"8,48\", \"12,02\", \"41,41\", \"43,13\", \"22,86\", \"34,81\", \"49,82\", \"10,22\", \"33,05\", \"13,74\", \"40,99\", \"15,43\", \"40,95\", \"20,69\", \"24,68\", \"15,7\", \"9,19\", \"21,59\", \"17,59\", \"21,98\", \"35,18\", \"24,32\", \"24,76\", \"30,98\", \"10,9\", \"14,78\", \"18,11\", \"13,76\", \"24,51\", \"50,73\", \"40,43\", \"19,43\", \"11,46\", \"36,24\", \"29,74\", \"18,03\", \"21,74\", \"29,36\", \"29,1\", \"20,48\", \"24,89\", \"9,85\", \"10,72\", \"12,77\", \"15,56\", \"18,9\", \"10,7\", \"9,95\", \"40,37\", \"12,13\", \"18,02\", \"19,68\", \"13,52\", \"16,18\", \"16,43\", \"10,02\", \"40,25\", \"29,34\", \"32,78\", null, \"16,03\", \"45,76\", \"9,34\", \"10,65\", \"8,98\", \"30,01\", \"45,13\", \"18,2\", \"10,06\", \"15,51\", \"34,53\", \"18,02\", \"27,41\", \"10,27\", \"9,71\", \"27,76\", \"12,56\", \"32,65\", \"37,71\", \"13,87\", \"37,01\", \"25,37\", \"12,9\", \"15,52\", \"16,62\", \"27,61\", \"21,84\", \"22,18\", \"47,35\", \"8,82\", \"18,96\", \"10,71\", \"14,14\", \"13,91\", \"26,36\", \"22,72\", \"18,71\", \"16,86\", \"13,96\", null, \"31,67\", null, \"42,89\", \"41\", \"28,01\"]}, {\"marker\": {\"color\": \"rgba(255, 10, 10, 0.5)\"}, \"mode\": \"lines+markers\", \"name\": \"Deathrate\", \"text\": [\"Afghanistan \", \"Albania \", \"Algeria \", \"American Samoa \", \"Andorra \", \"Angola \", \"Anguilla \", \"Antigua & Barbuda \", \"Argentina \", \"Armenia \", \"Aruba \", \"Australia \", \"Austria \", \"Azerbaijan \", \"Bahamas, The \", \"Bahrain \", \"Bangladesh \", \"Barbados \", \"Belarus \", \"Belgium \", \"Belize \", \"Benin \", \"Bermuda \", \"Bhutan \", \"Bolivia \", \"Bosnia & Herzegovina \", \"Botswana \", \"Brazil \", \"British Virgin Is. \", \"Brunei \", \"Bulgaria \", \"Burkina Faso \", \"Burma \", \"Burundi \", \"Cambodia \", \"Cameroon \", \"Canada \", \"Cape Verde \", \"Cayman Islands \", \"Central African Rep. \", \"Chad \", \"Chile \", \"China \", \"Colombia \", \"Comoros \", \"Congo, Dem. Rep. \", \"Congo, Repub. of the \", \"Cook Islands \", \"Costa Rica \", \"Cote d'Ivoire \", \"Croatia \", \"Cuba \", \"Cyprus \", \"Czech Republic \", \"Denmark \", \"Djibouti \", \"Dominica \", \"Dominican Republic \", \"East Timor \", \"Ecuador \", \"Egypt \", \"El Salvador \", \"Equatorial Guinea \", \"Eritrea \", \"Estonia \", \"Ethiopia \", \"Faroe Islands \", \"Fiji \", \"Finland \", \"France \", \"French Guiana \", \"French Polynesia \", \"Gabon \", \"Gambia, The \", \"Gaza Strip \", \"Georgia \", \"Germany \", \"Ghana \", \"Gibraltar \", \"Greece \", \"Greenland \", \"Grenada \", \"Guadeloupe \", \"Guam \", \"Guatemala \", \"Guernsey \", \"Guinea \", \"Guinea-Bissau \", \"Guyana \", \"Haiti \", \"Honduras \", \"Hong Kong \", \"Hungary \", \"Iceland \", \"India \", \"Indonesia \", \"Iran \", \"Iraq \", \"Ireland \", \"Isle of Man \", \"Israel \", \"Italy \", \"Jamaica \", \"Japan \", \"Jersey \", \"Jordan \", \"Kazakhstan \", \"Kenya \", \"Kiribati \", \"Korea, North \", \"Korea, South \", \"Kuwait \", \"Kyrgyzstan \", \"Laos \", \"Latvia \", \"Lebanon \", \"Lesotho \", \"Liberia \", \"Libya \", \"Liechtenstein \", \"Lithuania \", \"Luxembourg \", \"Macau \", \"Macedonia \", \"Madagascar \", \"Malawi \", \"Malaysia \", \"Maldives \", \"Mali \", \"Malta \", \"Marshall Islands \", \"Martinique \", \"Mauritania \", \"Mauritius \", \"Mayotte \", \"Mexico \", \"Micronesia, Fed. St. \", \"Moldova \", \"Monaco \", \"Mongolia \", \"Montserrat \", \"Morocco \", \"Mozambique \", \"Namibia \", \"Nauru \", \"Nepal \", \"Netherlands \", \"Netherlands Antilles \", \"New Caledonia \", \"New Zealand \", \"Nicaragua \", \"Niger \", \"Nigeria \", \"N. Mariana Islands \", \"Norway \", \"Oman \", \"Pakistan \", \"Palau \", \"Panama \", \"Papua New Guinea \", \"Paraguay \", \"Peru \", \"Philippines \", \"Poland \", \"Portugal \", \"Puerto Rico \", \"Qatar \", \"Reunion \", \"Romania \", \"Russia \", \"Rwanda \", \"Saint Helena \", \"Saint Kitts & Nevis \", \"Saint Lucia \", \"St Pierre & Miquelon \", \"Saint Vincent and the Grenadines \", \"Samoa \", \"San Marino \", \"Sao Tome & Principe \", \"Saudi Arabia \", \"Senegal \", \"Serbia \", \"Seychelles \", \"Sierra Leone \", \"Singapore \", \"Slovakia \", \"Slovenia \", \"Solomon Islands \", \"Somalia \", \"South Africa \", \"Spain \", \"Sri Lanka \", \"Sudan \", \"Suriname \", \"Swaziland \", \"Sweden \", \"Switzerland \", \"Syria \", \"Taiwan \", \"Tajikistan \", \"Tanzania \", \"Thailand \", \"Togo \", \"Tonga \", \"Trinidad & Tobago \", \"Tunisia \", \"Turkey \", \"Turkmenistan \", \"Turks & Caicos Is \", \"Tuvalu \", \"Uganda \", \"Ukraine \", \"United Arab Emirates \", \"United Kingdom \", \"United States \", \"Uruguay \", \"Uzbekistan \", \"Vanuatu \", \"Venezuela \", \"Vietnam \", \"Virgin Islands \", \"Wallis and Futuna \", \"West Bank \", \"Western Sahara \", \"Yemen \", \"Zambia \", \"Zimbabwe \"], \"type\": \"scatter\", \"x\": [0, 1, 2, 3, 4, 5, 6, 7, 8, 9, 10, 11, 12, 13, 14, 15, 16, 17, 18, 19, 20, 21, 22, 23, 24, 25, 26, 27, 28, 29, 30, 31, 32, 33, 34, 35, 36, 37, 38, 39, 40, 41, 42, 43, 44, 45, 46, 47, 48, 49, 50, 51, 52, 53, 54, 55, 56, 57, 58, 59, 60, 61, 62, 63, 64, 65, 66, 67, 68, 69, 70, 71, 72, 73, 74, 75, 76, 77, 78, 79, 80, 81, 82, 83, 84, 85, 86, 87, 88, 89, 90, 91, 92, 93, 94, 95, 96, 97, 98, 99, 100, 101, 102, 103, 104, 105, 106, 107, 108, 109, 110, 111, 112, 113, 114, 115, 116, 117, 118, 119, 120, 121, 122, 123, 124, 125, 126, 127, 128, 129, 130, 131, 132, 133, 134, 135, 136, 137, 138, 139, 140, 141, 142, 143, 144, 145, 146, 147, 148, 149, 150, 151, 152, 153, 154, 155, 156, 157, 158, 159, 160, 161, 162, 163, 164, 165, 166, 167, 168, 169, 170, 171, 172, 173, 174, 175, 176, 177, 178, 179, 180, 181, 182, 183, 184, 185, 186, 187, 188, 189, 190, 191, 192, 193, 194, 195, 196, 197, 198, 199, 200, 201, 202, 203, 204, 205, 206, 207, 208, 209, 210, 211, 212, 213, 214, 215, 216, 217, 218, 219, 220, 221, 222, 223, 224, 225, 226], \"y\": [\"20,34\", \"5,22\", \"4,61\", \"3,27\", \"6,25\", \"24,2\", \"5,34\", \"5,37\", \"7,55\", \"8,23\", \"6,68\", \"7,51\", \"9,76\", \"9,75\", \"9,05\", \"4,14\", \"8,27\", \"8,67\", \"14,02\", \"10,27\", \"5,72\", \"12,22\", \"7,74\", \"12,7\", \"7,53\", \"8,27\", \"29,5\", \"6,17\", \"4,42\", \"3,45\", \"14,27\", \"15,6\", \"9,83\", \"13,46\", \"9,06\", \"13,47\", \"7,8\", \"6,55\", \"4,89\", \"18,65\", \"16,38\", \"5,81\", \"6,97\", \"5,58\", \"8,2\", \"13,27\", \"12,93\", null, \"4,36\", \"14,84\", \"11,48\", \"7,22\", \"7,68\", \"10,59\", \"10,36\", \"19,31\", \"6,73\", \"5,73\", \"6,24\", \"4,23\", \"5,23\", \"5,78\", \"15,06\", \"9,6\", \"13,25\", \"14,86\", \"8,7\", \"5,65\", \"9,86\", \"9,14\", \"4,88\", \"4,69\", \"12,25\", \"12,25\", \"3,8\", \"9,23\", \"10,62\", \"9,72\", \"9,31\", \"10,24\", \"7,84\", \"6,88\", \"6,09\", \"4,48\", \"5,2\", \"10,01\", \"15,48\", \"16,53\", \"8,28\", \"12,17\", \"5,28\", \"6,29\", \"13,11\", \"6,72\", \"8,18\", \"6,25\", \"5,55\", \"5,37\", \"7,82\", \"11,19\", \"6,18\", \"10,4\", \"6,52\", \"9,16\", \"9,28\", \"2,65\", \"9,42\", \"14,02\", \"8,26\", \"7,13\", \"5,85\", \"2,41\", \"7,08\", \"11,55\", \"13,66\", \"6,21\", \"28,71\", \"23,1\", \"3,48\", \"7,18\", \"10,98\", \"8,41\", \"4,47\", \"8,77\", \"11,11\", \"19,33\", \"5,05\", \"7,06\", \"16,89\", \"8,1\", \"4,78\", \"6,48\", \"12,16\", \"6,86\", \"7,7\", \"4,74\", \"4,75\", \"12,64\", \"12,91\", \"6,95\", \"7,1\", \"5,58\", \"21,35\", \"18,86\", \"6,7\", \"9,31\", \"8,68\", \"6,45\", \"5,69\", \"7,53\", \"4,45\", \"20,91\", \"16,94\", \"2,29\", \"9,4\", \"3,81\", \"8,23\", \"6,8\", \"5,36\", \"7,25\", \"4,49\", \"6,23\", \"5,41\", \"9,89\", \"10,5\", \"7,65\", \"4,72\", \"5,49\", \"11,77\", \"14,65\", \"16,09\", \"6,53\", \"8,33\", \"5,08\", \"6,83\", \"5,98\", \"6,62\", \"8,17\", \"6,47\", \"2,58\", \"9,42\", null, \"6,29\", \"23,03\", \"4,28\", \"9,45\", \"10,31\", \"3,92\", \"16,63\", \"22\", \"9,72\", \"6,52\", \"8,97\", \"7,27\", \"29,74\", \"10,31\", \"8,49\", \"4,81\", \"6,48\", \"8,25\", \"16,39\", \"7,04\", \"9,83\", \"5,28\", \"10,57\", \"5,13\", \"5,97\", \"8,6\", \"4,21\", \"7,11\", \"12,24\", \"14,39\", \"4,4\", \"10,13\", \"8,26\", \"9,05\", \"7,84\", \"7,82\", \"4,92\", \"6,22\", \"6,43\", null, \"3,92\", null, \"8,3\", \"19,93\", \"21,84\"]}],\n",
       "                        {\"template\": {\"data\": {\"bar\": [{\"error_x\": {\"color\": \"#2a3f5f\"}, \"error_y\": {\"color\": \"#2a3f5f\"}, \"marker\": {\"line\": {\"color\": \"#E5ECF6\", \"width\": 0.5}}, \"type\": \"bar\"}], \"barpolar\": [{\"marker\": {\"line\": {\"color\": \"#E5ECF6\", \"width\": 0.5}}, \"type\": \"barpolar\"}], \"carpet\": [{\"aaxis\": {\"endlinecolor\": \"#2a3f5f\", \"gridcolor\": \"white\", \"linecolor\": \"white\", \"minorgridcolor\": \"white\", \"startlinecolor\": \"#2a3f5f\"}, \"baxis\": {\"endlinecolor\": \"#2a3f5f\", \"gridcolor\": \"white\", \"linecolor\": \"white\", \"minorgridcolor\": \"white\", \"startlinecolor\": \"#2a3f5f\"}, \"type\": \"carpet\"}], \"choropleth\": [{\"colorbar\": {\"outlinewidth\": 0, \"ticks\": \"\"}, \"type\": \"choropleth\"}], \"contour\": [{\"colorbar\": {\"outlinewidth\": 0, \"ticks\": \"\"}, \"colorscale\": [[0.0, \"#0d0887\"], [0.1111111111111111, \"#46039f\"], [0.2222222222222222, \"#7201a8\"], [0.3333333333333333, \"#9c179e\"], [0.4444444444444444, \"#bd3786\"], [0.5555555555555556, \"#d8576b\"], [0.6666666666666666, \"#ed7953\"], [0.7777777777777778, \"#fb9f3a\"], [0.8888888888888888, \"#fdca26\"], [1.0, \"#f0f921\"]], \"type\": \"contour\"}], \"contourcarpet\": [{\"colorbar\": {\"outlinewidth\": 0, \"ticks\": \"\"}, \"type\": \"contourcarpet\"}], \"heatmap\": [{\"colorbar\": {\"outlinewidth\": 0, \"ticks\": \"\"}, \"colorscale\": [[0.0, \"#0d0887\"], [0.1111111111111111, \"#46039f\"], [0.2222222222222222, \"#7201a8\"], [0.3333333333333333, \"#9c179e\"], [0.4444444444444444, \"#bd3786\"], [0.5555555555555556, \"#d8576b\"], [0.6666666666666666, \"#ed7953\"], [0.7777777777777778, \"#fb9f3a\"], [0.8888888888888888, \"#fdca26\"], [1.0, \"#f0f921\"]], \"type\": \"heatmap\"}], \"heatmapgl\": [{\"colorbar\": {\"outlinewidth\": 0, \"ticks\": \"\"}, \"colorscale\": [[0.0, \"#0d0887\"], [0.1111111111111111, \"#46039f\"], [0.2222222222222222, \"#7201a8\"], [0.3333333333333333, \"#9c179e\"], [0.4444444444444444, \"#bd3786\"], [0.5555555555555556, \"#d8576b\"], [0.6666666666666666, \"#ed7953\"], [0.7777777777777778, \"#fb9f3a\"], [0.8888888888888888, \"#fdca26\"], [1.0, \"#f0f921\"]], \"type\": \"heatmapgl\"}], \"histogram\": [{\"marker\": {\"colorbar\": {\"outlinewidth\": 0, \"ticks\": \"\"}}, \"type\": \"histogram\"}], \"histogram2d\": [{\"colorbar\": {\"outlinewidth\": 0, \"ticks\": \"\"}, \"colorscale\": [[0.0, \"#0d0887\"], [0.1111111111111111, \"#46039f\"], [0.2222222222222222, \"#7201a8\"], [0.3333333333333333, \"#9c179e\"], [0.4444444444444444, \"#bd3786\"], [0.5555555555555556, \"#d8576b\"], [0.6666666666666666, \"#ed7953\"], [0.7777777777777778, \"#fb9f3a\"], [0.8888888888888888, \"#fdca26\"], [1.0, \"#f0f921\"]], \"type\": \"histogram2d\"}], \"histogram2dcontour\": [{\"colorbar\": {\"outlinewidth\": 0, \"ticks\": \"\"}, \"colorscale\": [[0.0, \"#0d0887\"], [0.1111111111111111, \"#46039f\"], [0.2222222222222222, \"#7201a8\"], [0.3333333333333333, \"#9c179e\"], [0.4444444444444444, \"#bd3786\"], [0.5555555555555556, \"#d8576b\"], [0.6666666666666666, \"#ed7953\"], [0.7777777777777778, \"#fb9f3a\"], [0.8888888888888888, \"#fdca26\"], [1.0, \"#f0f921\"]], \"type\": \"histogram2dcontour\"}], \"mesh3d\": [{\"colorbar\": {\"outlinewidth\": 0, \"ticks\": \"\"}, \"type\": \"mesh3d\"}], \"parcoords\": [{\"line\": {\"colorbar\": {\"outlinewidth\": 0, \"ticks\": \"\"}}, \"type\": \"parcoords\"}], \"pie\": [{\"automargin\": true, \"type\": \"pie\"}], \"scatter\": [{\"marker\": {\"colorbar\": {\"outlinewidth\": 0, \"ticks\": \"\"}}, \"type\": \"scatter\"}], \"scatter3d\": [{\"line\": {\"colorbar\": {\"outlinewidth\": 0, \"ticks\": \"\"}}, \"marker\": {\"colorbar\": {\"outlinewidth\": 0, \"ticks\": \"\"}}, \"type\": \"scatter3d\"}], \"scattercarpet\": [{\"marker\": {\"colorbar\": {\"outlinewidth\": 0, \"ticks\": \"\"}}, \"type\": \"scattercarpet\"}], \"scattergeo\": [{\"marker\": {\"colorbar\": {\"outlinewidth\": 0, \"ticks\": \"\"}}, \"type\": \"scattergeo\"}], \"scattergl\": [{\"marker\": {\"colorbar\": {\"outlinewidth\": 0, \"ticks\": \"\"}}, \"type\": \"scattergl\"}], \"scattermapbox\": [{\"marker\": {\"colorbar\": {\"outlinewidth\": 0, \"ticks\": \"\"}}, \"type\": \"scattermapbox\"}], \"scatterpolar\": [{\"marker\": {\"colorbar\": {\"outlinewidth\": 0, \"ticks\": \"\"}}, \"type\": \"scatterpolar\"}], \"scatterpolargl\": [{\"marker\": {\"colorbar\": {\"outlinewidth\": 0, \"ticks\": \"\"}}, \"type\": \"scatterpolargl\"}], \"scatterternary\": [{\"marker\": {\"colorbar\": {\"outlinewidth\": 0, \"ticks\": \"\"}}, \"type\": \"scatterternary\"}], \"surface\": [{\"colorbar\": {\"outlinewidth\": 0, \"ticks\": \"\"}, \"colorscale\": [[0.0, \"#0d0887\"], [0.1111111111111111, \"#46039f\"], [0.2222222222222222, \"#7201a8\"], [0.3333333333333333, \"#9c179e\"], [0.4444444444444444, \"#bd3786\"], [0.5555555555555556, \"#d8576b\"], [0.6666666666666666, \"#ed7953\"], [0.7777777777777778, \"#fb9f3a\"], [0.8888888888888888, \"#fdca26\"], [1.0, \"#f0f921\"]], \"type\": \"surface\"}], \"table\": [{\"cells\": {\"fill\": {\"color\": \"#EBF0F8\"}, \"line\": {\"color\": \"white\"}}, \"header\": {\"fill\": {\"color\": \"#C8D4E3\"}, \"line\": {\"color\": \"white\"}}, \"type\": \"table\"}]}, \"layout\": {\"annotationdefaults\": {\"arrowcolor\": \"#2a3f5f\", \"arrowhead\": 0, \"arrowwidth\": 1}, \"coloraxis\": {\"colorbar\": {\"outlinewidth\": 0, \"ticks\": \"\"}}, \"colorscale\": {\"diverging\": [[0, \"#8e0152\"], [0.1, \"#c51b7d\"], [0.2, \"#de77ae\"], [0.3, \"#f1b6da\"], [0.4, \"#fde0ef\"], [0.5, \"#f7f7f7\"], [0.6, \"#e6f5d0\"], [0.7, \"#b8e186\"], [0.8, \"#7fbc41\"], [0.9, \"#4d9221\"], [1, \"#276419\"]], \"sequential\": [[0.0, \"#0d0887\"], [0.1111111111111111, \"#46039f\"], [0.2222222222222222, \"#7201a8\"], [0.3333333333333333, \"#9c179e\"], [0.4444444444444444, \"#bd3786\"], [0.5555555555555556, \"#d8576b\"], [0.6666666666666666, \"#ed7953\"], [0.7777777777777778, \"#fb9f3a\"], [0.8888888888888888, \"#fdca26\"], [1.0, \"#f0f921\"]], \"sequentialminus\": [[0.0, \"#0d0887\"], [0.1111111111111111, \"#46039f\"], [0.2222222222222222, \"#7201a8\"], [0.3333333333333333, \"#9c179e\"], [0.4444444444444444, \"#bd3786\"], [0.5555555555555556, \"#d8576b\"], [0.6666666666666666, \"#ed7953\"], [0.7777777777777778, \"#fb9f3a\"], [0.8888888888888888, \"#fdca26\"], [1.0, \"#f0f921\"]]}, \"colorway\": [\"#636efa\", \"#EF553B\", \"#00cc96\", \"#ab63fa\", \"#FFA15A\", \"#19d3f3\", \"#FF6692\", \"#B6E880\", \"#FF97FF\", \"#FECB52\"], \"font\": {\"color\": \"#2a3f5f\"}, \"geo\": {\"bgcolor\": \"white\", \"lakecolor\": \"white\", \"landcolor\": \"#E5ECF6\", \"showlakes\": true, \"showland\": true, \"subunitcolor\": \"white\"}, \"hoverlabel\": {\"align\": \"left\"}, \"hovermode\": \"closest\", \"mapbox\": {\"style\": \"light\"}, \"paper_bgcolor\": \"white\", \"plot_bgcolor\": \"#E5ECF6\", \"polar\": {\"angularaxis\": {\"gridcolor\": \"white\", \"linecolor\": \"white\", \"ticks\": \"\"}, \"bgcolor\": \"#E5ECF6\", \"radialaxis\": {\"gridcolor\": \"white\", \"linecolor\": \"white\", \"ticks\": \"\"}}, \"scene\": {\"xaxis\": {\"backgroundcolor\": \"#E5ECF6\", \"gridcolor\": \"white\", \"gridwidth\": 2, \"linecolor\": \"white\", \"showbackground\": true, \"ticks\": \"\", \"zerolinecolor\": \"white\"}, \"yaxis\": {\"backgroundcolor\": \"#E5ECF6\", \"gridcolor\": \"white\", \"gridwidth\": 2, \"linecolor\": \"white\", \"showbackground\": true, \"ticks\": \"\", \"zerolinecolor\": \"white\"}, \"zaxis\": {\"backgroundcolor\": \"#E5ECF6\", \"gridcolor\": \"white\", \"gridwidth\": 2, \"linecolor\": \"white\", \"showbackground\": true, \"ticks\": \"\", \"zerolinecolor\": \"white\"}}, \"shapedefaults\": {\"line\": {\"color\": \"#2a3f5f\"}}, \"ternary\": {\"aaxis\": {\"gridcolor\": \"white\", \"linecolor\": \"white\", \"ticks\": \"\"}, \"baxis\": {\"gridcolor\": \"white\", \"linecolor\": \"white\", \"ticks\": \"\"}, \"bgcolor\": \"#E5ECF6\", \"caxis\": {\"gridcolor\": \"white\", \"linecolor\": \"white\", \"ticks\": \"\"}}, \"title\": {\"x\": 0.05}, \"xaxis\": {\"automargin\": true, \"gridcolor\": \"white\", \"linecolor\": \"white\", \"ticks\": \"\", \"title\": {\"standoff\": 15}, \"zerolinecolor\": \"white\", \"zerolinewidth\": 2}, \"yaxis\": {\"automargin\": true, \"gridcolor\": \"white\", \"linecolor\": \"white\", \"ticks\": \"\", \"title\": {\"standoff\": 15}, \"zerolinecolor\": \"white\", \"zerolinewidth\": 2}}}, \"title\": {\"text\": \"Birth and Death Rate of Countries\"}, \"xaxis\": {\"zeroline\": false}},\n",
       "                        {\"responsive\": true}\n",
       "                    ).then(function(){\n",
       "                            \n",
       "var gd = document.getElementById('878950eb-6e21-495f-a6c6-9ff90e8493ad');\n",
       "var x = new MutationObserver(function (mutations, observer) {{\n",
       "        var display = window.getComputedStyle(gd).display;\n",
       "        if (!display || display === 'none') {{\n",
       "            console.log([gd, 'removed!']);\n",
       "            Plotly.purge(gd);\n",
       "            observer.disconnect();\n",
       "        }}\n",
       "}});\n",
       "\n",
       "// Listen for the removal of the full notebook cells\n",
       "var notebookContainer = gd.closest('#notebook-container');\n",
       "if (notebookContainer) {{\n",
       "    x.observe(notebookContainer, {childList: true});\n",
       "}}\n",
       "\n",
       "// Listen for the clearing of the current output cell\n",
       "var outputEl = gd.closest('.output');\n",
       "if (outputEl) {{\n",
       "    x.observe(outputEl, {childList: true});\n",
       "}}\n",
       "\n",
       "                        })\n",
       "                };\n",
       "                });\n",
       "            </script>\n",
       "        </div>"
      ]
     },
     "metadata": {},
     "output_type": "display_data"
    }
   ],
   "source": [
    "birthrate = go.Scatter(\n",
    "    x = dataCountries.index,\n",
    "    y = dataCountries.Birthrate,\n",
    "    mode = 'lines+markers',\n",
    "    name = 'Birthrate',\n",
    "    marker = dict(color = 'rgba(10, 255, 10, 0.5)'),\n",
    "    text = dataCountries.Country)\n",
    "\n",
    "deathrate = go.Scatter(\n",
    "    x = dataCountries.index,\n",
    "    y = dataCountries.Deathrate,\n",
    "    mode = 'lines+markers',\n",
    "    name = 'Deathrate',\n",
    "    marker = dict(color = 'rgba(255, 10, 10, 0.5)'),\n",
    "    text = dataCountries.Country)\n",
    "\n",
    "layout = dict(title = 'Birth and Death Rate of Countries',\n",
    "             xaxis= dict(zeroline= False)\n",
    "             )\n",
    "\n",
    "data = [birthrate, deathrate]\n",
    "fig = dict(data = data, layout = layout)\n",
    "\n",
    "iplot(fig)"
   ]
  },
  {
   "cell_type": "markdown",
   "metadata": {
    "papermill": {
     "duration": 0.111149,
     "end_time": "2020-12-10T16:16:46.839784",
     "exception": false,
     "start_time": "2020-12-10T16:16:46.728635",
     "status": "completed"
    },
    "tags": []
   },
   "source": [
    "# Top 10 Countries with the Highest Literacy Rate"
   ]
  },
  {
   "cell_type": "code",
   "execution_count": 16,
   "metadata": {
    "execution": {
     "iopub.execute_input": "2020-12-10T16:16:47.085863Z",
     "iopub.status.busy": "2020-12-10T16:16:47.084995Z",
     "iopub.status.idle": "2020-12-10T16:16:47.091091Z",
     "shell.execute_reply": "2020-12-10T16:16:47.090451Z"
    },
    "papermill": {
     "duration": 0.138888,
     "end_time": "2020-12-10T16:16:47.091237",
     "exception": false,
     "start_time": "2020-12-10T16:16:46.952349",
     "status": "completed"
    },
    "tags": []
   },
   "outputs": [],
   "source": [
    "\n",
    "literacy=dataCountries.loc[:,['Country','Literacy (%)']]\n",
    "literacy.dropna(inplace=True)\n",
    "literacy['Literacy (%)']=([float(each.replace(',','.')) for each in literacy['Literacy (%)']])\n",
    "literacy.columns=['Country','Literacy']\n",
    "highest_literacy=literacy.sort_values(by='Literacy',ascending=False)[:10]"
   ]
  },
  {
   "cell_type": "code",
   "execution_count": 17,
   "metadata": {
    "execution": {
     "iopub.execute_input": "2020-12-10T16:16:47.319360Z",
     "iopub.status.busy": "2020-12-10T16:16:47.318421Z",
     "iopub.status.idle": "2020-12-10T16:16:47.786174Z",
     "shell.execute_reply": "2020-12-10T16:16:47.786828Z"
    },
    "papermill": {
     "duration": 0.586396,
     "end_time": "2020-12-10T16:16:47.787017",
     "exception": false,
     "start_time": "2020-12-10T16:16:47.200621",
     "status": "completed"
    },
    "tags": []
   },
   "outputs": [
    {
     "data": {
      "image/png": "[encoded data removed]",
      "text/plain": [
       "<Figure size 576x576 with 1 Axes>"
      ]
     },
     "metadata": {
      "needs_background": "light"
     },
     "output_type": "display_data"
    }
   ],
   "source": [
    "literacy_of_countries = highest_literacy.Country\n",
    "plt.subplots(figsize=(8,8))\n",
    "literacy_wordcloud = WordCloud(\n",
    "                          background_color='white',\n",
    "                          width=512,\n",
    "                          height=384\n",
    "                         ).generate(\" \".join(literacy_of_countries))\n",
    "plt.imshow(literacy_wordcloud)\n",
    "plt.axis('off')\n",
    "plt.savefig('graph.png')\n",
    "\n",
    "plt.show()"
   ]
  },
  {
   "cell_type": "markdown",
   "metadata": {
    "papermill": {
     "duration": 0.114205,
     "end_time": "2020-12-10T16:16:48.020465",
     "exception": false,
     "start_time": "2020-12-10T16:16:47.906260",
     "status": "completed"
    },
    "tags": []
   },
   "source": [
    "# Sectoral Distribution by Country"
   ]
  },
  {
   "cell_type": "code",
   "execution_count": 18,
   "metadata": {
    "execution": {
     "iopub.execute_input": "2020-12-10T16:16:48.264522Z",
     "iopub.status.busy": "2020-12-10T16:16:48.263694Z",
     "iopub.status.idle": "2020-12-10T16:16:49.401805Z",
     "shell.execute_reply": "2020-12-10T16:16:49.402505Z"
    },
    "papermill": {
     "duration": 1.269707,
     "end_time": "2020-12-10T16:16:49.402694",
     "exception": false,
     "start_time": "2020-12-10T16:16:48.132987",
     "status": "completed"
    },
    "tags": []
   },
   "outputs": [
    {
     "data": {
      "application/vnd.plotly.v1+json": {
       "config": {
        "plotlyServerURL": "https://plot.ly"
       },
       "data": [
        {
         "hovertemplate": "Country=Afghanistan <br>Agriculture=%{x}<br>Industry=%{y}<br>Service=%{z}<extra></extra>",
         "legendgroup": "Afghanistan ",
         "marker": {
          "color": "#636efa",
          "symbol": "circle"
         },
         "mode": "markers",
         "name": "Afghanistan ",
         "scene": "scene",
         "showlegend": true,
         "type": "scatter3d",
         "x": [
          0.38
         ],
         "y": [
          0.24
         ],
         "z": [
          0.38
         ]
        },
        {
         "hovertemplate": "Country=Albania <br>Agriculture=%{x}<br>Industry=%{y}<br>Service=%{z}<extra></extra>",
         "legendgroup": "Albania ",
         "marker": {
          "color": "#EF553B",
          "symbol": "circle"
         },
         "mode": "markers",
         "name": "Albania ",
         "scene": "scene",
         "showlegend": true,
         "type": "scatter3d",
         "x": [
          0.232
         ],
         "y": [
          0.188
         ],
         "z": [
          0.579
         ]
        },
        {
         "hovertemplate": "Country=Algeria <br>Agriculture=%{x}<br>Industry=%{y}<br>Service=%{z}<extra></extra>",
         "legendgroup": "Algeria ",
         "marker": {
          "color": "#00cc96",
          "symbol": "circle"
         },
         "mode": "markers",
         "name": "Algeria ",
         "scene": "scene",
         "showlegend": true,
         "type": "scatter3d",
         "x": [
          0.101
         ],
         "y": [
          0.6
         ],
         "z": [
          0.298
         ]
        },
        {
         "hovertemplate": "Country=Angola <br>Agriculture=%{x}<br>Industry=%{y}<br>Service=%{z}<extra></extra>",
         "legendgroup": "Angola ",
         "marker": {
          "color": "#ab63fa",
          "symbol": "circle"
         },
         "mode": "markers",
         "name": "Angola ",
         "scene": "scene",
         "showlegend": true,
         "type": "scatter3d",
         "x": [
          0.096
         ],
         "y": [
          0.658
         ],
         "z": [
          0.246
         ]
        },
        {
         "hovertemplate": "Country=Anguilla <br>Agriculture=%{x}<br>Industry=%{y}<br>Service=%{z}<extra></extra>",
         "legendgroup": "Anguilla ",
         "marker": {
          "color": "#FFA15A",
          "symbol": "circle"
         },
         "mode": "markers",
         "name": "Anguilla ",
         "scene": "scene",
         "showlegend": true,
         "type": "scatter3d",
         "x": [
          0.04
         ],
         "y": [
          0.18
         ],
         "z": [
          0.78
         ]
        },
        {
         "hovertemplate": "Country=Antigua & Barbuda <br>Agriculture=%{x}<br>Industry=%{y}<br>Service=%{z}<extra></extra>",
         "legendgroup": "Antigua & Barbuda ",
         "marker": {
          "color": "#19d3f3",
          "symbol": "circle"
         },
         "mode": "markers",
         "name": "Antigua & Barbuda ",
         "scene": "scene",
         "showlegend": true,
         "type": "scatter3d",
         "x": [
          0.038
         ],
         "y": [
          0.22
         ],
         "z": [
          0.743
         ]
        },
        {
         "hovertemplate": "Country=Argentina <br>Agriculture=%{x}<br>Industry=%{y}<br>Service=%{z}<extra></extra>",
         "legendgroup": "Argentina ",
         "marker": {
          "color": "#FF6692",
          "symbol": "circle"
         },
         "mode": "markers",
         "name": "Argentina ",
         "scene": "scene",
         "showlegend": true,
         "type": "scatter3d",
         "x": [
          0.095
         ],
         "y": [
          0.358
         ],
         "z": [
          0.547
         ]
        },
        {
         "hovertemplate": "Country=Armenia <br>Agriculture=%{x}<br>Industry=%{y}<br>Service=%{z}<extra></extra>",
         "legendgroup": "Armenia ",
         "marker": {
          "color": "#B6E880",
          "symbol": "circle"
         },
         "mode": "markers",
         "name": "Armenia ",
         "scene": "scene",
         "showlegend": true,
         "type": "scatter3d",
         "x": [
          0.239
         ],
         "y": [
          0.343
         ],
         "z": [
          0.418
         ]
        },
        {
         "hovertemplate": "Country=Aruba <br>Agriculture=%{x}<br>Industry=%{y}<br>Service=%{z}<extra></extra>",
         "legendgroup": "Aruba ",
         "marker": {
          "color": "#FF97FF",
          "symbol": "circle"
         },
         "mode": "markers",
         "name": "Aruba ",
         "scene": "scene",
         "showlegend": true,
         "type": "scatter3d",
         "x": [
          0.004
         ],
         "y": [
          0.333
         ],
         "z": [
          0.663
         ]
        },
        {
         "hovertemplate": "Country=Australia <br>Agriculture=%{x}<br>Industry=%{y}<br>Service=%{z}<extra></extra>",
         "legendgroup": "Australia ",
         "marker": {
          "color": "#FECB52",
          "symbol": "circle"
         },
         "mode": "markers",
         "name": "Australia ",
         "scene": "scene",
         "showlegend": true,
         "type": "scatter3d",
         "x": [
          0.038
         ],
         "y": [
          0.262
         ],
         "z": [
          0.7
         ]
        },
        {
         "hovertemplate": "Country=Austria <br>Agriculture=%{x}<br>Industry=%{y}<br>Service=%{z}<extra></extra>",
         "legendgroup": "Austria ",
         "marker": {
          "color": "#636efa",
          "symbol": "circle"
         },
         "mode": "markers",
         "name": "Austria ",
         "scene": "scene",
         "showlegend": true,
         "type": "scatter3d",
         "x": [
          0.018
         ],
         "y": [
          0.304
         ],
         "z": [
          0.678
         ]
        },
        {
         "hovertemplate": "Country=Azerbaijan <br>Agriculture=%{x}<br>Industry=%{y}<br>Service=%{z}<extra></extra>",
         "legendgroup": "Azerbaijan ",
         "marker": {
          "color": "#EF553B",
          "symbol": "circle"
         },
         "mode": "markers",
         "name": "Azerbaijan ",
         "scene": "scene",
         "showlegend": true,
         "type": "scatter3d",
         "x": [
          0.141
         ],
         "y": [
          0.457
         ],
         "z": [
          0.402
         ]
        },
        {
         "hovertemplate": "Country=Bahamas, The <br>Agriculture=%{x}<br>Industry=%{y}<br>Service=%{z}<extra></extra>",
         "legendgroup": "Bahamas, The ",
         "marker": {
          "color": "#00cc96",
          "symbol": "circle"
         },
         "mode": "markers",
         "name": "Bahamas, The ",
         "scene": "scene",
         "showlegend": true,
         "type": "scatter3d",
         "x": [
          0.03
         ],
         "y": [
          0.07
         ],
         "z": [
          0.9
         ]
        },
        {
         "hovertemplate": "Country=Bahrain <br>Agriculture=%{x}<br>Industry=%{y}<br>Service=%{z}<extra></extra>",
         "legendgroup": "Bahrain ",
         "marker": {
          "color": "#ab63fa",
          "symbol": "circle"
         },
         "mode": "markers",
         "name": "Bahrain ",
         "scene": "scene",
         "showlegend": true,
         "type": "scatter3d",
         "x": [
          0.005
         ],
         "y": [
          0.387
         ],
         "z": [
          0.608
         ]
        },
        {
         "hovertemplate": "Country=Bangladesh <br>Agriculture=%{x}<br>Industry=%{y}<br>Service=%{z}<extra></extra>",
         "legendgroup": "Bangladesh ",
         "marker": {
          "color": "#FFA15A",
          "symbol": "circle"
         },
         "mode": "markers",
         "name": "Bangladesh ",
         "scene": "scene",
         "showlegend": true,
         "type": "scatter3d",
         "x": [
          0.199
         ],
         "y": [
          0.198
         ],
         "z": [
          0.603
         ]
        },
        {
         "hovertemplate": "Country=Barbados <br>Agriculture=%{x}<br>Industry=%{y}<br>Service=%{z}<extra></extra>",
         "legendgroup": "Barbados ",
         "marker": {
          "color": "#19d3f3",
          "symbol": "circle"
         },
         "mode": "markers",
         "name": "Barbados ",
         "scene": "scene",
         "showlegend": true,
         "type": "scatter3d",
         "x": [
          0.06
         ],
         "y": [
          0.16
         ],
         "z": [
          0.78
         ]
        },
        {
         "hovertemplate": "Country=Belarus <br>Agriculture=%{x}<br>Industry=%{y}<br>Service=%{z}<extra></extra>",
         "legendgroup": "Belarus ",
         "marker": {
          "color": "#FF6692",
          "symbol": "circle"
         },
         "mode": "markers",
         "name": "Belarus ",
         "scene": "scene",
         "showlegend": true,
         "type": "scatter3d",
         "x": [
          0.093
         ],
         "y": [
          0.316
         ],
         "z": [
          0.591
         ]
        },
        {
         "hovertemplate": "Country=Belgium <br>Agriculture=%{x}<br>Industry=%{y}<br>Service=%{z}<extra></extra>",
         "legendgroup": "Belgium ",
         "marker": {
          "color": "#B6E880",
          "symbol": "circle"
         },
         "mode": "markers",
         "name": "Belgium ",
         "scene": "scene",
         "showlegend": true,
         "type": "scatter3d",
         "x": [
          0.01
         ],
         "y": [
          0.24
         ],
         "z": [
          0.749
         ]
        },
        {
         "hovertemplate": "Country=Belize <br>Agriculture=%{x}<br>Industry=%{y}<br>Service=%{z}<extra></extra>",
         "legendgroup": "Belize ",
         "marker": {
          "color": "#FF97FF",
          "symbol": "circle"
         },
         "mode": "markers",
         "name": "Belize ",
         "scene": "scene",
         "showlegend": true,
         "type": "scatter3d",
         "x": [
          0.142
         ],
         "y": [
          0.152
         ],
         "z": [
          0.612
         ]
        },
        {
         "hovertemplate": "Country=Benin <br>Agriculture=%{x}<br>Industry=%{y}<br>Service=%{z}<extra></extra>",
         "legendgroup": "Benin ",
         "marker": {
          "color": "#FECB52",
          "symbol": "circle"
         },
         "mode": "markers",
         "name": "Benin ",
         "scene": "scene",
         "showlegend": true,
         "type": "scatter3d",
         "x": [
          0.316
         ],
         "y": [
          0.138
         ],
         "z": [
          0.546
         ]
        },
        {
         "hovertemplate": "Country=Bermuda <br>Agriculture=%{x}<br>Industry=%{y}<br>Service=%{z}<extra></extra>",
         "legendgroup": "Bermuda ",
         "marker": {
          "color": "#636efa",
          "symbol": "circle"
         },
         "mode": "markers",
         "name": "Bermuda ",
         "scene": "scene",
         "showlegend": true,
         "type": "scatter3d",
         "x": [
          0.01
         ],
         "y": [
          0.1
         ],
         "z": [
          0.89
         ]
        },
        {
         "hovertemplate": "Country=Bhutan <br>Agriculture=%{x}<br>Industry=%{y}<br>Service=%{z}<extra></extra>",
         "legendgroup": "Bhutan ",
         "marker": {
          "color": "#EF553B",
          "symbol": "circle"
         },
         "mode": "markers",
         "name": "Bhutan ",
         "scene": "scene",
         "showlegend": true,
         "type": "scatter3d",
         "x": [
          0.258
         ],
         "y": [
          0.379
         ],
         "z": [
          0.363
         ]
        },
        {
         "hovertemplate": "Country=Bolivia <br>Agriculture=%{x}<br>Industry=%{y}<br>Service=%{z}<extra></extra>",
         "legendgroup": "Bolivia ",
         "marker": {
          "color": "#00cc96",
          "symbol": "circle"
         },
         "mode": "markers",
         "name": "Bolivia ",
         "scene": "scene",
         "showlegend": true,
         "type": "scatter3d",
         "x": [
          0.128
         ],
         "y": [
          0.352
         ],
         "z": [
          0.52
         ]
        },
        {
         "hovertemplate": "Country=Bosnia & Herzegovina <br>Agriculture=%{x}<br>Industry=%{y}<br>Service=%{z}<extra></extra>",
         "legendgroup": "Bosnia & Herzegovina ",
         "marker": {
          "color": "#ab63fa",
          "symbol": "circle"
         },
         "mode": "markers",
         "name": "Bosnia & Herzegovina ",
         "scene": "scene",
         "showlegend": true,
         "type": "scatter3d",
         "x": [
          0.142
         ],
         "y": [
          0.308
         ],
         "z": [
          0.55
         ]
        },
        {
         "hovertemplate": "Country=Botswana <br>Agriculture=%{x}<br>Industry=%{y}<br>Service=%{z}<extra></extra>",
         "legendgroup": "Botswana ",
         "marker": {
          "color": "#FFA15A",
          "symbol": "circle"
         },
         "mode": "markers",
         "name": "Botswana ",
         "scene": "scene",
         "showlegend": true,
         "type": "scatter3d",
         "x": [
          0.024
         ],
         "y": [
          0.469
         ],
         "z": [
          0.507
         ]
        },
        {
         "hovertemplate": "Country=Brazil <br>Agriculture=%{x}<br>Industry=%{y}<br>Service=%{z}<extra></extra>",
         "legendgroup": "Brazil ",
         "marker": {
          "color": "#19d3f3",
          "symbol": "circle"
         },
         "mode": "markers",
         "name": "Brazil ",
         "scene": "scene",
         "showlegend": true,
         "type": "scatter3d",
         "x": [
          0.084
         ],
         "y": [
          0.4
         ],
         "z": [
          0.516
         ]
        },
        {
         "hovertemplate": "Country=British Virgin Is. <br>Agriculture=%{x}<br>Industry=%{y}<br>Service=%{z}<extra></extra>",
         "legendgroup": "British Virgin Is. ",
         "marker": {
          "color": "#FF6692",
          "symbol": "circle"
         },
         "mode": "markers",
         "name": "British Virgin Is. ",
         "scene": "scene",
         "showlegend": true,
         "type": "scatter3d",
         "x": [
          0.018
         ],
         "y": [
          0.062
         ],
         "z": [
          0.92
         ]
        },
        {
         "hovertemplate": "Country=Brunei <br>Agriculture=%{x}<br>Industry=%{y}<br>Service=%{z}<extra></extra>",
         "legendgroup": "Brunei ",
         "marker": {
          "color": "#B6E880",
          "symbol": "circle"
         },
         "mode": "markers",
         "name": "Brunei ",
         "scene": "scene",
         "showlegend": true,
         "type": "scatter3d",
         "x": [
          0.036
         ],
         "y": [
          0.561
         ],
         "z": [
          0.403
         ]
        },
        {
         "hovertemplate": "Country=Bulgaria <br>Agriculture=%{x}<br>Industry=%{y}<br>Service=%{z}<extra></extra>",
         "legendgroup": "Bulgaria ",
         "marker": {
          "color": "#FF97FF",
          "symbol": "circle"
         },
         "mode": "markers",
         "name": "Bulgaria ",
         "scene": "scene",
         "showlegend": true,
         "type": "scatter3d",
         "x": [
          0.093
         ],
         "y": [
          0.304
         ],
         "z": [
          0.603
         ]
        },
        {
         "hovertemplate": "Country=Burkina Faso <br>Agriculture=%{x}<br>Industry=%{y}<br>Service=%{z}<extra></extra>",
         "legendgroup": "Burkina Faso ",
         "marker": {
          "color": "#FECB52",
          "symbol": "circle"
         },
         "mode": "markers",
         "name": "Burkina Faso ",
         "scene": "scene",
         "showlegend": true,
         "type": "scatter3d",
         "x": [
          0.322
         ],
         "y": [
          0.196
         ],
         "z": [
          0.482
         ]
        },
        {
         "hovertemplate": "Country=Burma <br>Agriculture=%{x}<br>Industry=%{y}<br>Service=%{z}<extra></extra>",
         "legendgroup": "Burma ",
         "marker": {
          "color": "#636efa",
          "symbol": "circle"
         },
         "mode": "markers",
         "name": "Burma ",
         "scene": "scene",
         "showlegend": true,
         "type": "scatter3d",
         "x": [
          0.564
         ],
         "y": [
          0.082
         ],
         "z": [
          0.353
         ]
        },
        {
         "hovertemplate": "Country=Burundi <br>Agriculture=%{x}<br>Industry=%{y}<br>Service=%{z}<extra></extra>",
         "legendgroup": "Burundi ",
         "marker": {
          "color": "#EF553B",
          "symbol": "circle"
         },
         "mode": "markers",
         "name": "Burundi ",
         "scene": "scene",
         "showlegend": true,
         "type": "scatter3d",
         "x": [
          0.463
         ],
         "y": [
          0.203
         ],
         "z": [
          0.334
         ]
        },
        {
         "hovertemplate": "Country=Cambodia <br>Agriculture=%{x}<br>Industry=%{y}<br>Service=%{z}<extra></extra>",
         "legendgroup": "Cambodia ",
         "marker": {
          "color": "#00cc96",
          "symbol": "circle"
         },
         "mode": "markers",
         "name": "Cambodia ",
         "scene": "scene",
         "showlegend": true,
         "type": "scatter3d",
         "x": [
          0.35
         ],
         "y": [
          0.3
         ],
         "z": [
          0.35
         ]
        },
        {
         "hovertemplate": "Country=Cameroon <br>Agriculture=%{x}<br>Industry=%{y}<br>Service=%{z}<extra></extra>",
         "legendgroup": "Cameroon ",
         "marker": {
          "color": "#ab63fa",
          "symbol": "circle"
         },
         "mode": "markers",
         "name": "Cameroon ",
         "scene": "scene",
         "showlegend": true,
         "type": "scatter3d",
         "x": [
          0.448
         ],
         "y": [
          0.17
         ],
         "z": [
          0.382
         ]
        },
        {
         "hovertemplate": "Country=Canada <br>Agriculture=%{x}<br>Industry=%{y}<br>Service=%{z}<extra></extra>",
         "legendgroup": "Canada ",
         "marker": {
          "color": "#FFA15A",
          "symbol": "circle"
         },
         "mode": "markers",
         "name": "Canada ",
         "scene": "scene",
         "showlegend": true,
         "type": "scatter3d",
         "x": [
          0.022
         ],
         "y": [
          0.294
         ],
         "z": [
          0.684
         ]
        },
        {
         "hovertemplate": "Country=Cape Verde <br>Agriculture=%{x}<br>Industry=%{y}<br>Service=%{z}<extra></extra>",
         "legendgroup": "Cape Verde ",
         "marker": {
          "color": "#19d3f3",
          "symbol": "circle"
         },
         "mode": "markers",
         "name": "Cape Verde ",
         "scene": "scene",
         "showlegend": true,
         "type": "scatter3d",
         "x": [
          0.121
         ],
         "y": [
          0.219
         ],
         "z": [
          0.66
         ]
        },
        {
         "hovertemplate": "Country=Cayman Islands <br>Agriculture=%{x}<br>Industry=%{y}<br>Service=%{z}<extra></extra>",
         "legendgroup": "Cayman Islands ",
         "marker": {
          "color": "#FF6692",
          "symbol": "circle"
         },
         "mode": "markers",
         "name": "Cayman Islands ",
         "scene": "scene",
         "showlegend": true,
         "type": "scatter3d",
         "x": [
          0.014
         ],
         "y": [
          0.032
         ],
         "z": [
          0.954
         ]
        },
        {
         "hovertemplate": "Country=Central African Rep. <br>Agriculture=%{x}<br>Industry=%{y}<br>Service=%{z}<extra></extra>",
         "legendgroup": "Central African Rep. ",
         "marker": {
          "color": "#B6E880",
          "symbol": "circle"
         },
         "mode": "markers",
         "name": "Central African Rep. ",
         "scene": "scene",
         "showlegend": true,
         "type": "scatter3d",
         "x": [
          0.55
         ],
         "y": [
          0.2
         ],
         "z": [
          0.25
         ]
        },
        {
         "hovertemplate": "Country=Chad <br>Agriculture=%{x}<br>Industry=%{y}<br>Service=%{z}<extra></extra>",
         "legendgroup": "Chad ",
         "marker": {
          "color": "#FF97FF",
          "symbol": "circle"
         },
         "mode": "markers",
         "name": "Chad ",
         "scene": "scene",
         "showlegend": true,
         "type": "scatter3d",
         "x": [
          0.335
         ],
         "y": [
          0.259
         ],
         "z": [
          0.406
         ]
        },
        {
         "hovertemplate": "Country=Chile <br>Agriculture=%{x}<br>Industry=%{y}<br>Service=%{z}<extra></extra>",
         "legendgroup": "Chile ",
         "marker": {
          "color": "#FECB52",
          "symbol": "circle"
         },
         "mode": "markers",
         "name": "Chile ",
         "scene": "scene",
         "showlegend": true,
         "type": "scatter3d",
         "x": [
          0.06
         ],
         "y": [
          0.493
         ],
         "z": [
          0.447
         ]
        },
        {
         "hovertemplate": "Country=China <br>Agriculture=%{x}<br>Industry=%{y}<br>Service=%{z}<extra></extra>",
         "legendgroup": "China ",
         "marker": {
          "color": "#636efa",
          "symbol": "circle"
         },
         "mode": "markers",
         "name": "China ",
         "scene": "scene",
         "showlegend": true,
         "type": "scatter3d",
         "x": [
          0.125
         ],
         "y": [
          0.473
         ],
         "z": [
          0.403
         ]
        },
        {
         "hovertemplate": "Country=Colombia <br>Agriculture=%{x}<br>Industry=%{y}<br>Service=%{z}<extra></extra>",
         "legendgroup": "Colombia ",
         "marker": {
          "color": "#EF553B",
          "symbol": "circle"
         },
         "mode": "markers",
         "name": "Colombia ",
         "scene": "scene",
         "showlegend": true,
         "type": "scatter3d",
         "x": [
          0.125
         ],
         "y": [
          0.342
         ],
         "z": [
          0.533
         ]
        },
        {
         "hovertemplate": "Country=Comoros <br>Agriculture=%{x}<br>Industry=%{y}<br>Service=%{z}<extra></extra>",
         "legendgroup": "Comoros ",
         "marker": {
          "color": "#00cc96",
          "symbol": "circle"
         },
         "mode": "markers",
         "name": "Comoros ",
         "scene": "scene",
         "showlegend": true,
         "type": "scatter3d",
         "x": [
          0.4
         ],
         "y": [
          0.04
         ],
         "z": [
          0.56
         ]
        },
        {
         "hovertemplate": "Country=Congo, Dem. Rep. <br>Agriculture=%{x}<br>Industry=%{y}<br>Service=%{z}<extra></extra>",
         "legendgroup": "Congo, Dem. Rep. ",
         "marker": {
          "color": "#ab63fa",
          "symbol": "circle"
         },
         "mode": "markers",
         "name": "Congo, Dem. Rep. ",
         "scene": "scene",
         "showlegend": true,
         "type": "scatter3d",
         "x": [
          0.55
         ],
         "y": [
          0.11
         ],
         "z": [
          0.34
         ]
        },
        {
         "hovertemplate": "Country=Congo, Repub. of the <br>Agriculture=%{x}<br>Industry=%{y}<br>Service=%{z}<extra></extra>",
         "legendgroup": "Congo, Repub. of the ",
         "marker": {
          "color": "#FFA15A",
          "symbol": "circle"
         },
         "mode": "markers",
         "name": "Congo, Repub. of the ",
         "scene": "scene",
         "showlegend": true,
         "type": "scatter3d",
         "x": [
          0.062
         ],
         "y": [
          0.57
         ],
         "z": [
          0.369
         ]
        },
        {
         "hovertemplate": "Country=Cook Islands <br>Agriculture=%{x}<br>Industry=%{y}<br>Service=%{z}<extra></extra>",
         "legendgroup": "Cook Islands ",
         "marker": {
          "color": "#19d3f3",
          "symbol": "circle"
         },
         "mode": "markers",
         "name": "Cook Islands ",
         "scene": "scene",
         "showlegend": true,
         "type": "scatter3d",
         "x": [
          0.151
         ],
         "y": [
          0.096
         ],
         "z": [
          0.753
         ]
        },
        {
         "hovertemplate": "Country=Costa Rica <br>Agriculture=%{x}<br>Industry=%{y}<br>Service=%{z}<extra></extra>",
         "legendgroup": "Costa Rica ",
         "marker": {
          "color": "#FF6692",
          "symbol": "circle"
         },
         "mode": "markers",
         "name": "Costa Rica ",
         "scene": "scene",
         "showlegend": true,
         "type": "scatter3d",
         "x": [
          0.088
         ],
         "y": [
          0.299
         ],
         "z": [
          0.614
         ]
        },
        {
         "hovertemplate": "Country=Cote d'Ivoire <br>Agriculture=%{x}<br>Industry=%{y}<br>Service=%{z}<extra></extra>",
         "legendgroup": "Cote d'Ivoire ",
         "marker": {
          "color": "#B6E880",
          "symbol": "circle"
         },
         "mode": "markers",
         "name": "Cote d'Ivoire ",
         "scene": "scene",
         "showlegend": true,
         "type": "scatter3d",
         "x": [
          0.279
         ],
         "y": [
          0.171
         ],
         "z": [
          0.55
         ]
        },
        {
         "hovertemplate": "Country=Croatia <br>Agriculture=%{x}<br>Industry=%{y}<br>Service=%{z}<extra></extra>",
         "legendgroup": "Croatia ",
         "marker": {
          "color": "#FF97FF",
          "symbol": "circle"
         },
         "mode": "markers",
         "name": "Croatia ",
         "scene": "scene",
         "showlegend": true,
         "type": "scatter3d",
         "x": [
          0.07
         ],
         "y": [
          0.308
         ],
         "z": [
          0.622
         ]
        },
        {
         "hovertemplate": "Country=Cuba <br>Agriculture=%{x}<br>Industry=%{y}<br>Service=%{z}<extra></extra>",
         "legendgroup": "Cuba ",
         "marker": {
          "color": "#FECB52",
          "symbol": "circle"
         },
         "mode": "markers",
         "name": "Cuba ",
         "scene": "scene",
         "showlegend": true,
         "type": "scatter3d",
         "x": [
          0.055
         ],
         "y": [
          0.261
         ],
         "z": [
          0.684
         ]
        },
        {
         "hovertemplate": "Country=Cyprus <br>Agriculture=%{x}<br>Industry=%{y}<br>Service=%{z}<extra></extra>",
         "legendgroup": "Cyprus ",
         "marker": {
          "color": "#636efa",
          "symbol": "circle"
         },
         "mode": "markers",
         "name": "Cyprus ",
         "scene": "scene",
         "showlegend": true,
         "type": "scatter3d",
         "x": [
          0.037
         ],
         "y": [
          0.198
         ],
         "z": [
          0.765
         ]
        },
        {
         "hovertemplate": "Country=Czech Republic <br>Agriculture=%{x}<br>Industry=%{y}<br>Service=%{z}<extra></extra>",
         "legendgroup": "Czech Republic ",
         "marker": {
          "color": "#EF553B",
          "symbol": "circle"
         },
         "mode": "markers",
         "name": "Czech Republic ",
         "scene": "scene",
         "showlegend": true,
         "type": "scatter3d",
         "x": [
          0.034
         ],
         "y": [
          0.393
         ],
         "z": [
          0.573
         ]
        },
        {
         "hovertemplate": "Country=Denmark <br>Agriculture=%{x}<br>Industry=%{y}<br>Service=%{z}<extra></extra>",
         "legendgroup": "Denmark ",
         "marker": {
          "color": "#00cc96",
          "symbol": "circle"
         },
         "mode": "markers",
         "name": "Denmark ",
         "scene": "scene",
         "showlegend": true,
         "type": "scatter3d",
         "x": [
          0.018
         ],
         "y": [
          0.246
         ],
         "z": [
          0.735
         ]
        },
        {
         "hovertemplate": "Country=Djibouti <br>Agriculture=%{x}<br>Industry=%{y}<br>Service=%{z}<extra></extra>",
         "legendgroup": "Djibouti ",
         "marker": {
          "color": "#ab63fa",
          "symbol": "circle"
         },
         "mode": "markers",
         "name": "Djibouti ",
         "scene": "scene",
         "showlegend": true,
         "type": "scatter3d",
         "x": [
          0.179
         ],
         "y": [
          0.225
         ],
         "z": [
          0.596
         ]
        },
        {
         "hovertemplate": "Country=Dominica <br>Agriculture=%{x}<br>Industry=%{y}<br>Service=%{z}<extra></extra>",
         "legendgroup": "Dominica ",
         "marker": {
          "color": "#FFA15A",
          "symbol": "circle"
         },
         "mode": "markers",
         "name": "Dominica ",
         "scene": "scene",
         "showlegend": true,
         "type": "scatter3d",
         "x": [
          0.177
         ],
         "y": [
          0.328
         ],
         "z": [
          0.495
         ]
        },
        {
         "hovertemplate": "Country=Dominican Republic <br>Agriculture=%{x}<br>Industry=%{y}<br>Service=%{z}<extra></extra>",
         "legendgroup": "Dominican Republic ",
         "marker": {
          "color": "#19d3f3",
          "symbol": "circle"
         },
         "mode": "markers",
         "name": "Dominican Republic ",
         "scene": "scene",
         "showlegend": true,
         "type": "scatter3d",
         "x": [
          0.112
         ],
         "y": [
          0.306
         ],
         "z": [
          0.582
         ]
        },
        {
         "hovertemplate": "Country=East Timor <br>Agriculture=%{x}<br>Industry=%{y}<br>Service=%{z}<extra></extra>",
         "legendgroup": "East Timor ",
         "marker": {
          "color": "#FF6692",
          "symbol": "circle"
         },
         "mode": "markers",
         "name": "East Timor ",
         "scene": "scene",
         "showlegend": true,
         "type": "scatter3d",
         "x": [
          0.085
         ],
         "y": [
          0.231
         ],
         "z": [
          0.684
         ]
        },
        {
         "hovertemplate": "Country=Ecuador <br>Agriculture=%{x}<br>Industry=%{y}<br>Service=%{z}<extra></extra>",
         "legendgroup": "Ecuador ",
         "marker": {
          "color": "#B6E880",
          "symbol": "circle"
         },
         "mode": "markers",
         "name": "Ecuador ",
         "scene": "scene",
         "showlegend": true,
         "type": "scatter3d",
         "x": [
          0.07
         ],
         "y": [
          0.312
         ],
         "z": [
          0.618
         ]
        },
        {
         "hovertemplate": "Country=Egypt <br>Agriculture=%{x}<br>Industry=%{y}<br>Service=%{z}<extra></extra>",
         "legendgroup": "Egypt ",
         "marker": {
          "color": "#FF97FF",
          "symbol": "circle"
         },
         "mode": "markers",
         "name": "Egypt ",
         "scene": "scene",
         "showlegend": true,
         "type": "scatter3d",
         "x": [
          0.149
         ],
         "y": [
          0.357
         ],
         "z": [
          0.493
         ]
        },
        {
         "hovertemplate": "Country=El Salvador <br>Agriculture=%{x}<br>Industry=%{y}<br>Service=%{z}<extra></extra>",
         "legendgroup": "El Salvador ",
         "marker": {
          "color": "#FECB52",
          "symbol": "circle"
         },
         "mode": "markers",
         "name": "El Salvador ",
         "scene": "scene",
         "showlegend": true,
         "type": "scatter3d",
         "x": [
          0.099
         ],
         "y": [
          0.302
         ],
         "z": [
          0.599
         ]
        },
        {
         "hovertemplate": "Country=Equatorial Guinea <br>Agriculture=%{x}<br>Industry=%{y}<br>Service=%{z}<extra></extra>",
         "legendgroup": "Equatorial Guinea ",
         "marker": {
          "color": "#636efa",
          "symbol": "circle"
         },
         "mode": "markers",
         "name": "Equatorial Guinea ",
         "scene": "scene",
         "showlegend": true,
         "type": "scatter3d",
         "x": [
          0.03
         ],
         "y": [
          0.906
         ],
         "z": [
          0.062
         ]
        },
        {
         "hovertemplate": "Country=Eritrea <br>Agriculture=%{x}<br>Industry=%{y}<br>Service=%{z}<extra></extra>",
         "legendgroup": "Eritrea ",
         "marker": {
          "color": "#EF553B",
          "symbol": "circle"
         },
         "mode": "markers",
         "name": "Eritrea ",
         "scene": "scene",
         "showlegend": true,
         "type": "scatter3d",
         "x": [
          0.102
         ],
         "y": [
          0.254
         ],
         "z": [
          0.643
         ]
        },
        {
         "hovertemplate": "Country=Estonia <br>Agriculture=%{x}<br>Industry=%{y}<br>Service=%{z}<extra></extra>",
         "legendgroup": "Estonia ",
         "marker": {
          "color": "#00cc96",
          "symbol": "circle"
         },
         "mode": "markers",
         "name": "Estonia ",
         "scene": "scene",
         "showlegend": true,
         "type": "scatter3d",
         "x": [
          0.04
         ],
         "y": [
          0.294
         ],
         "z": [
          0.666
         ]
        },
        {
         "hovertemplate": "Country=Ethiopia <br>Agriculture=%{x}<br>Industry=%{y}<br>Service=%{z}<extra></extra>",
         "legendgroup": "Ethiopia ",
         "marker": {
          "color": "#ab63fa",
          "symbol": "circle"
         },
         "mode": "markers",
         "name": "Ethiopia ",
         "scene": "scene",
         "showlegend": true,
         "type": "scatter3d",
         "x": [
          0.475
         ],
         "y": [
          0.099
         ],
         "z": [
          0.426
         ]
        },
        {
         "hovertemplate": "Country=Faroe Islands <br>Agriculture=%{x}<br>Industry=%{y}<br>Service=%{z}<extra></extra>",
         "legendgroup": "Faroe Islands ",
         "marker": {
          "color": "#FFA15A",
          "symbol": "circle"
         },
         "mode": "markers",
         "name": "Faroe Islands ",
         "scene": "scene",
         "showlegend": true,
         "type": "scatter3d",
         "x": [
          0.27
         ],
         "y": [
          0.11
         ],
         "z": [
          0.62
         ]
        },
        {
         "hovertemplate": "Country=Fiji <br>Agriculture=%{x}<br>Industry=%{y}<br>Service=%{z}<extra></extra>",
         "legendgroup": "Fiji ",
         "marker": {
          "color": "#19d3f3",
          "symbol": "circle"
         },
         "mode": "markers",
         "name": "Fiji ",
         "scene": "scene",
         "showlegend": true,
         "type": "scatter3d",
         "x": [
          0.089
         ],
         "y": [
          0.135
         ],
         "z": [
          0.776
         ]
        },
        {
         "hovertemplate": "Country=Finland <br>Agriculture=%{x}<br>Industry=%{y}<br>Service=%{z}<extra></extra>",
         "legendgroup": "Finland ",
         "marker": {
          "color": "#FF6692",
          "symbol": "circle"
         },
         "mode": "markers",
         "name": "Finland ",
         "scene": "scene",
         "showlegend": true,
         "type": "scatter3d",
         "x": [
          0.028
         ],
         "y": [
          0.295
         ],
         "z": [
          0.676
         ]
        },
        {
         "hovertemplate": "Country=France <br>Agriculture=%{x}<br>Industry=%{y}<br>Service=%{z}<extra></extra>",
         "legendgroup": "France ",
         "marker": {
          "color": "#B6E880",
          "symbol": "circle"
         },
         "mode": "markers",
         "name": "France ",
         "scene": "scene",
         "showlegend": true,
         "type": "scatter3d",
         "x": [
          0.022
         ],
         "y": [
          0.214
         ],
         "z": [
          0.764
         ]
        },
        {
         "hovertemplate": "Country=French Guiana <br>Agriculture=%{x}<br>Industry=%{y}<br>Service=%{z}<extra></extra>",
         "legendgroup": "French Guiana ",
         "marker": {
          "color": "#FF97FF",
          "symbol": "circle"
         },
         "mode": "markers",
         "name": "French Guiana ",
         "scene": "scene",
         "showlegend": true,
         "type": "scatter3d",
         "x": [
          0.066
         ],
         "y": [
          0.156
         ],
         "z": [
          0.778
         ]
        },
        {
         "hovertemplate": "Country=French Polynesia <br>Agriculture=%{x}<br>Industry=%{y}<br>Service=%{z}<extra></extra>",
         "legendgroup": "French Polynesia ",
         "marker": {
          "color": "#FECB52",
          "symbol": "circle"
         },
         "mode": "markers",
         "name": "French Polynesia ",
         "scene": "scene",
         "showlegend": true,
         "type": "scatter3d",
         "x": [
          0.031
         ],
         "y": [
          0.19
         ],
         "z": [
          0.769
         ]
        },
        {
         "hovertemplate": "Country=Gabon <br>Agriculture=%{x}<br>Industry=%{y}<br>Service=%{z}<extra></extra>",
         "legendgroup": "Gabon ",
         "marker": {
          "color": "#636efa",
          "symbol": "circle"
         },
         "mode": "markers",
         "name": "Gabon ",
         "scene": "scene",
         "showlegend": true,
         "type": "scatter3d",
         "x": [
          0.061
         ],
         "y": [
          0.592
         ],
         "z": [
          0.348
         ]
        },
        {
         "hovertemplate": "Country=Gambia, The <br>Agriculture=%{x}<br>Industry=%{y}<br>Service=%{z}<extra></extra>",
         "legendgroup": "Gambia, The ",
         "marker": {
          "color": "#EF553B",
          "symbol": "circle"
         },
         "mode": "markers",
         "name": "Gambia, The ",
         "scene": "scene",
         "showlegend": true,
         "type": "scatter3d",
         "x": [
          0.308
         ],
         "y": [
          0.142
         ],
         "z": [
          0.549
         ]
        },
        {
         "hovertemplate": "Country=Gaza Strip <br>Agriculture=%{x}<br>Industry=%{y}<br>Service=%{z}<extra></extra>",
         "legendgroup": "Gaza Strip ",
         "marker": {
          "color": "#00cc96",
          "symbol": "circle"
         },
         "mode": "markers",
         "name": "Gaza Strip ",
         "scene": "scene",
         "showlegend": true,
         "type": "scatter3d",
         "x": [
          0.03
         ],
         "y": [
          0.283
         ],
         "z": [
          0.687
         ]
        },
        {
         "hovertemplate": "Country=Georgia <br>Agriculture=%{x}<br>Industry=%{y}<br>Service=%{z}<extra></extra>",
         "legendgroup": "Georgia ",
         "marker": {
          "color": "#ab63fa",
          "symbol": "circle"
         },
         "mode": "markers",
         "name": "Georgia ",
         "scene": "scene",
         "showlegend": true,
         "type": "scatter3d",
         "x": [
          0.172
         ],
         "y": [
          0.275
         ],
         "z": [
          0.553
         ]
        },
        {
         "hovertemplate": "Country=Germany <br>Agriculture=%{x}<br>Industry=%{y}<br>Service=%{z}<extra></extra>",
         "legendgroup": "Germany ",
         "marker": {
          "color": "#FFA15A",
          "symbol": "circle"
         },
         "mode": "markers",
         "name": "Germany ",
         "scene": "scene",
         "showlegend": true,
         "type": "scatter3d",
         "x": [
          0.009
         ],
         "y": [
          0.296
         ],
         "z": [
          0.695
         ]
        },
        {
         "hovertemplate": "Country=Ghana <br>Agriculture=%{x}<br>Industry=%{y}<br>Service=%{z}<extra></extra>",
         "legendgroup": "Ghana ",
         "marker": {
          "color": "#19d3f3",
          "symbol": "circle"
         },
         "mode": "markers",
         "name": "Ghana ",
         "scene": "scene",
         "showlegend": true,
         "type": "scatter3d",
         "x": [
          0.366
         ],
         "y": [
          0.246
         ],
         "z": [
          0.387
         ]
        },
        {
         "hovertemplate": "Country=Greece <br>Agriculture=%{x}<br>Industry=%{y}<br>Service=%{z}<extra></extra>",
         "legendgroup": "Greece ",
         "marker": {
          "color": "#FF6692",
          "symbol": "circle"
         },
         "mode": "markers",
         "name": "Greece ",
         "scene": "scene",
         "showlegend": true,
         "type": "scatter3d",
         "x": [
          0.054
         ],
         "y": [
          0.213
         ],
         "z": [
          0.733
         ]
        },
        {
         "hovertemplate": "Country=Grenada <br>Agriculture=%{x}<br>Industry=%{y}<br>Service=%{z}<extra></extra>",
         "legendgroup": "Grenada ",
         "marker": {
          "color": "#B6E880",
          "symbol": "circle"
         },
         "mode": "markers",
         "name": "Grenada ",
         "scene": "scene",
         "showlegend": true,
         "type": "scatter3d",
         "x": [
          0.054
         ],
         "y": [
          0.18
         ],
         "z": [
          0.766
         ]
        },
        {
         "hovertemplate": "Country=Guadeloupe <br>Agriculture=%{x}<br>Industry=%{y}<br>Service=%{z}<extra></extra>",
         "legendgroup": "Guadeloupe ",
         "marker": {
          "color": "#FF97FF",
          "symbol": "circle"
         },
         "mode": "markers",
         "name": "Guadeloupe ",
         "scene": "scene",
         "showlegend": true,
         "type": "scatter3d",
         "x": [
          0.15
         ],
         "y": [
          0.17
         ],
         "z": [
          0.68
         ]
        },
        {
         "hovertemplate": "Country=Guatemala <br>Agriculture=%{x}<br>Industry=%{y}<br>Service=%{z}<extra></extra>",
         "legendgroup": "Guatemala ",
         "marker": {
          "color": "#FECB52",
          "symbol": "circle"
         },
         "mode": "markers",
         "name": "Guatemala ",
         "scene": "scene",
         "showlegend": true,
         "type": "scatter3d",
         "x": [
          0.227
         ],
         "y": [
          0.188
         ],
         "z": [
          0.585
         ]
        },
        {
         "hovertemplate": "Country=Guernsey <br>Agriculture=%{x}<br>Industry=%{y}<br>Service=%{z}<extra></extra>",
         "legendgroup": "Guernsey ",
         "marker": {
          "color": "#636efa",
          "symbol": "circle"
         },
         "mode": "markers",
         "name": "Guernsey ",
         "scene": "scene",
         "showlegend": true,
         "type": "scatter3d",
         "x": [
          0.03
         ],
         "y": [
          0.1
         ],
         "z": [
          0.87
         ]
        },
        {
         "hovertemplate": "Country=Guinea <br>Agriculture=%{x}<br>Industry=%{y}<br>Service=%{z}<extra></extra>",
         "legendgroup": "Guinea ",
         "marker": {
          "color": "#EF553B",
          "symbol": "circle"
         },
         "mode": "markers",
         "name": "Guinea ",
         "scene": "scene",
         "showlegend": true,
         "type": "scatter3d",
         "x": [
          0.237
         ],
         "y": [
          0.362
         ],
         "z": [
          0.401
         ]
        },
        {
         "hovertemplate": "Country=Guinea-Bissau <br>Agriculture=%{x}<br>Industry=%{y}<br>Service=%{z}<extra></extra>",
         "legendgroup": "Guinea-Bissau ",
         "marker": {
          "color": "#00cc96",
          "symbol": "circle"
         },
         "mode": "markers",
         "name": "Guinea-Bissau ",
         "scene": "scene",
         "showlegend": true,
         "type": "scatter3d",
         "x": [
          0.62
         ],
         "y": [
          0.12
         ],
         "z": [
          0.26
         ]
        },
        {
         "hovertemplate": "Country=Guyana <br>Agriculture=%{x}<br>Industry=%{y}<br>Service=%{z}<extra></extra>",
         "legendgroup": "Guyana ",
         "marker": {
          "color": "#ab63fa",
          "symbol": "circle"
         },
         "mode": "markers",
         "name": "Guyana ",
         "scene": "scene",
         "showlegend": true,
         "type": "scatter3d",
         "x": [
          0.37
         ],
         "y": [
          0.203
         ],
         "z": [
          0.427
         ]
        },
        {
         "hovertemplate": "Country=Haiti <br>Agriculture=%{x}<br>Industry=%{y}<br>Service=%{z}<extra></extra>",
         "legendgroup": "Haiti ",
         "marker": {
          "color": "#FFA15A",
          "symbol": "circle"
         },
         "mode": "markers",
         "name": "Haiti ",
         "scene": "scene",
         "showlegend": true,
         "type": "scatter3d",
         "x": [
          0.28
         ],
         "y": [
          0.2
         ],
         "z": [
          0.52
         ]
        },
        {
         "hovertemplate": "Country=Honduras <br>Agriculture=%{x}<br>Industry=%{y}<br>Service=%{z}<extra></extra>",
         "legendgroup": "Honduras ",
         "marker": {
          "color": "#19d3f3",
          "symbol": "circle"
         },
         "mode": "markers",
         "name": "Honduras ",
         "scene": "scene",
         "showlegend": true,
         "type": "scatter3d",
         "x": [
          0.139
         ],
         "y": [
          0.312
         ],
         "z": [
          0.549
         ]
        },
        {
         "hovertemplate": "Country=Hong Kong <br>Agriculture=%{x}<br>Industry=%{y}<br>Service=%{z}<extra></extra>",
         "legendgroup": "Hong Kong ",
         "marker": {
          "color": "#FF6692",
          "symbol": "circle"
         },
         "mode": "markers",
         "name": "Hong Kong ",
         "scene": "scene",
         "showlegend": true,
         "type": "scatter3d",
         "x": [
          0.001
         ],
         "y": [
          0.092
         ],
         "z": [
          0.906
         ]
        },
        {
         "hovertemplate": "Country=Hungary <br>Agriculture=%{x}<br>Industry=%{y}<br>Service=%{z}<extra></extra>",
         "legendgroup": "Hungary ",
         "marker": {
          "color": "#B6E880",
          "symbol": "circle"
         },
         "mode": "markers",
         "name": "Hungary ",
         "scene": "scene",
         "showlegend": true,
         "type": "scatter3d",
         "x": [
          0.037
         ],
         "y": [
          0.312
         ],
         "z": [
          0.651
         ]
        },
        {
         "hovertemplate": "Country=Iceland <br>Agriculture=%{x}<br>Industry=%{y}<br>Service=%{z}<extra></extra>",
         "legendgroup": "Iceland ",
         "marker": {
          "color": "#FF97FF",
          "symbol": "circle"
         },
         "mode": "markers",
         "name": "Iceland ",
         "scene": "scene",
         "showlegend": true,
         "type": "scatter3d",
         "x": [
          0.086
         ],
         "y": [
          0.15
         ],
         "z": [
          0.765
         ]
        },
        {
         "hovertemplate": "Country=India <br>Agriculture=%{x}<br>Industry=%{y}<br>Service=%{z}<extra></extra>",
         "legendgroup": "India ",
         "marker": {
          "color": "#FECB52",
          "symbol": "circle"
         },
         "mode": "markers",
         "name": "India ",
         "scene": "scene",
         "showlegend": true,
         "type": "scatter3d",
         "x": [
          0.186
         ],
         "y": [
          0.276
         ],
         "z": [
          0.538
         ]
        },
        {
         "hovertemplate": "Country=Indonesia <br>Agriculture=%{x}<br>Industry=%{y}<br>Service=%{z}<extra></extra>",
         "legendgroup": "Indonesia ",
         "marker": {
          "color": "#636efa",
          "symbol": "circle"
         },
         "mode": "markers",
         "name": "Indonesia ",
         "scene": "scene",
         "showlegend": true,
         "type": "scatter3d",
         "x": [
          0.134
         ],
         "y": [
          0.458
         ],
         "z": [
          0.408
         ]
        },
        {
         "hovertemplate": "Country=Iran <br>Agriculture=%{x}<br>Industry=%{y}<br>Service=%{z}<extra></extra>",
         "legendgroup": "Iran ",
         "marker": {
          "color": "#EF553B",
          "symbol": "circle"
         },
         "mode": "markers",
         "name": "Iran ",
         "scene": "scene",
         "showlegend": true,
         "type": "scatter3d",
         "x": [
          0.116
         ],
         "y": [
          0.424
         ],
         "z": [
          0.46
         ]
        },
        {
         "hovertemplate": "Country=Iraq <br>Agriculture=%{x}<br>Industry=%{y}<br>Service=%{z}<extra></extra>",
         "legendgroup": "Iraq ",
         "marker": {
          "color": "#00cc96",
          "symbol": "circle"
         },
         "mode": "markers",
         "name": "Iraq ",
         "scene": "scene",
         "showlegend": true,
         "type": "scatter3d",
         "x": [
          0.073
         ],
         "y": [
          0.666
         ],
         "z": [
          0.261
         ]
        },
        {
         "hovertemplate": "Country=Ireland <br>Agriculture=%{x}<br>Industry=%{y}<br>Service=%{z}<extra></extra>",
         "legendgroup": "Ireland ",
         "marker": {
          "color": "#ab63fa",
          "symbol": "circle"
         },
         "mode": "markers",
         "name": "Ireland ",
         "scene": "scene",
         "showlegend": true,
         "type": "scatter3d",
         "x": [
          0.05
         ],
         "y": [
          0.46
         ],
         "z": [
          0.49
         ]
        },
        {
         "hovertemplate": "Country=Isle of Man <br>Agriculture=%{x}<br>Industry=%{y}<br>Service=%{z}<extra></extra>",
         "legendgroup": "Isle of Man ",
         "marker": {
          "color": "#FFA15A",
          "symbol": "circle"
         },
         "mode": "markers",
         "name": "Isle of Man ",
         "scene": "scene",
         "showlegend": true,
         "type": "scatter3d",
         "x": [
          0.01
         ],
         "y": [
          0.13
         ],
         "z": [
          0.86
         ]
        },
        {
         "hovertemplate": "Country=Israel <br>Agriculture=%{x}<br>Industry=%{y}<br>Service=%{z}<extra></extra>",
         "legendgroup": "Israel ",
         "marker": {
          "color": "#19d3f3",
          "symbol": "circle"
         },
         "mode": "markers",
         "name": "Israel ",
         "scene": "scene",
         "showlegend": true,
         "type": "scatter3d",
         "x": [
          0.026
         ],
         "y": [
          0.317
         ],
         "z": [
          0.657
         ]
        },
        {
         "hovertemplate": "Country=Italy <br>Agriculture=%{x}<br>Industry=%{y}<br>Service=%{z}<extra></extra>",
         "legendgroup": "Italy ",
         "marker": {
          "color": "#FF6692",
          "symbol": "circle"
         },
         "mode": "markers",
         "name": "Italy ",
         "scene": "scene",
         "showlegend": true,
         "type": "scatter3d",
         "x": [
          0.021
         ],
         "y": [
          0.291
         ],
         "z": [
          0.688
         ]
        },
        {
         "hovertemplate": "Country=Jamaica <br>Agriculture=%{x}<br>Industry=%{y}<br>Service=%{z}<extra></extra>",
         "legendgroup": "Jamaica ",
         "marker": {
          "color": "#B6E880",
          "symbol": "circle"
         },
         "mode": "markers",
         "name": "Jamaica ",
         "scene": "scene",
         "showlegend": true,
         "type": "scatter3d",
         "x": [
          0.049
         ],
         "y": [
          0.337
         ],
         "z": [
          0.615
         ]
        },
        {
         "hovertemplate": "Country=Japan <br>Agriculture=%{x}<br>Industry=%{y}<br>Service=%{z}<extra></extra>",
         "legendgroup": "Japan ",
         "marker": {
          "color": "#FF97FF",
          "symbol": "circle"
         },
         "mode": "markers",
         "name": "Japan ",
         "scene": "scene",
         "showlegend": true,
         "type": "scatter3d",
         "x": [
          0.017
         ],
         "y": [
          0.258
         ],
         "z": [
          0.725
         ]
        },
        {
         "hovertemplate": "Country=Jersey <br>Agriculture=%{x}<br>Industry=%{y}<br>Service=%{z}<extra></extra>",
         "legendgroup": "Jersey ",
         "marker": {
          "color": "#FECB52",
          "symbol": "circle"
         },
         "mode": "markers",
         "name": "Jersey ",
         "scene": "scene",
         "showlegend": true,
         "type": "scatter3d",
         "x": [
          0.05
         ],
         "y": [
          0.02
         ],
         "z": [
          0.93
         ]
        },
        {
         "hovertemplate": "Country=Jordan <br>Agriculture=%{x}<br>Industry=%{y}<br>Service=%{z}<extra></extra>",
         "legendgroup": "Jordan ",
         "marker": {
          "color": "#636efa",
          "symbol": "circle"
         },
         "mode": "markers",
         "name": "Jordan ",
         "scene": "scene",
         "showlegend": true,
         "type": "scatter3d",
         "x": [
          0.033
         ],
         "y": [
          0.287
         ],
         "z": [
          0.68
         ]
        },
        {
         "hovertemplate": "Country=Kazakhstan <br>Agriculture=%{x}<br>Industry=%{y}<br>Service=%{z}<extra></extra>",
         "legendgroup": "Kazakhstan ",
         "marker": {
          "color": "#EF553B",
          "symbol": "circle"
         },
         "mode": "markers",
         "name": "Kazakhstan ",
         "scene": "scene",
         "showlegend": true,
         "type": "scatter3d",
         "x": [
          0.067
         ],
         "y": [
          0.386
         ],
         "z": [
          0.547
         ]
        },
        {
         "hovertemplate": "Country=Kenya <br>Agriculture=%{x}<br>Industry=%{y}<br>Service=%{z}<extra></extra>",
         "legendgroup": "Kenya ",
         "marker": {
          "color": "#00cc96",
          "symbol": "circle"
         },
         "mode": "markers",
         "name": "Kenya ",
         "scene": "scene",
         "showlegend": true,
         "type": "scatter3d",
         "x": [
          0.163
         ],
         "y": [
          0.188
         ],
         "z": [
          0.651
         ]
        },
        {
         "hovertemplate": "Country=Kiribati <br>Agriculture=%{x}<br>Industry=%{y}<br>Service=%{z}<extra></extra>",
         "legendgroup": "Kiribati ",
         "marker": {
          "color": "#ab63fa",
          "symbol": "circle"
         },
         "mode": "markers",
         "name": "Kiribati ",
         "scene": "scene",
         "showlegend": true,
         "type": "scatter3d",
         "x": [
          0.089
         ],
         "y": [
          0.242
         ],
         "z": [
          0.668
         ]
        },
        {
         "hovertemplate": "Country=Korea, North <br>Agriculture=%{x}<br>Industry=%{y}<br>Service=%{z}<extra></extra>",
         "legendgroup": "Korea, North ",
         "marker": {
          "color": "#FFA15A",
          "symbol": "circle"
         },
         "mode": "markers",
         "name": "Korea, North ",
         "scene": "scene",
         "showlegend": true,
         "type": "scatter3d",
         "x": [
          0.3
         ],
         "y": [
          0.34
         ],
         "z": [
          0.36
         ]
        },
        {
         "hovertemplate": "Country=Korea, South <br>Agriculture=%{x}<br>Industry=%{y}<br>Service=%{z}<extra></extra>",
         "legendgroup": "Korea, South ",
         "marker": {
          "color": "#19d3f3",
          "symbol": "circle"
         },
         "mode": "markers",
         "name": "Korea, South ",
         "scene": "scene",
         "showlegend": true,
         "type": "scatter3d",
         "x": [
          0.033
         ],
         "y": [
          0.403
         ],
         "z": [
          0.563
         ]
        },
        {
         "hovertemplate": "Country=Kuwait <br>Agriculture=%{x}<br>Industry=%{y}<br>Service=%{z}<extra></extra>",
         "legendgroup": "Kuwait ",
         "marker": {
          "color": "#FF6692",
          "symbol": "circle"
         },
         "mode": "markers",
         "name": "Kuwait ",
         "scene": "scene",
         "showlegend": true,
         "type": "scatter3d",
         "x": [
          0.004
         ],
         "y": [
          0.479
         ],
         "z": [
          0.516
         ]
        },
        {
         "hovertemplate": "Country=Kyrgyzstan <br>Agriculture=%{x}<br>Industry=%{y}<br>Service=%{z}<extra></extra>",
         "legendgroup": "Kyrgyzstan ",
         "marker": {
          "color": "#B6E880",
          "symbol": "circle"
         },
         "mode": "markers",
         "name": "Kyrgyzstan ",
         "scene": "scene",
         "showlegend": true,
         "type": "scatter3d",
         "x": [
          0.353
         ],
         "y": [
          0.208
         ],
         "z": [
          0.439
         ]
        },
        {
         "hovertemplate": "Country=Laos <br>Agriculture=%{x}<br>Industry=%{y}<br>Service=%{z}<extra></extra>",
         "legendgroup": "Laos ",
         "marker": {
          "color": "#FF97FF",
          "symbol": "circle"
         },
         "mode": "markers",
         "name": "Laos ",
         "scene": "scene",
         "showlegend": true,
         "type": "scatter3d",
         "x": [
          0.455
         ],
         "y": [
          0.287
         ],
         "z": [
          0.258
         ]
        },
        {
         "hovertemplate": "Country=Latvia <br>Agriculture=%{x}<br>Industry=%{y}<br>Service=%{z}<extra></extra>",
         "legendgroup": "Latvia ",
         "marker": {
          "color": "#FECB52",
          "symbol": "circle"
         },
         "mode": "markers",
         "name": "Latvia ",
         "scene": "scene",
         "showlegend": true,
         "type": "scatter3d",
         "x": [
          0.04
         ],
         "y": [
          0.261
         ],
         "z": [
          0.699
         ]
        },
        {
         "hovertemplate": "Country=Lebanon <br>Agriculture=%{x}<br>Industry=%{y}<br>Service=%{z}<extra></extra>",
         "legendgroup": "Lebanon ",
         "marker": {
          "color": "#636efa",
          "symbol": "circle"
         },
         "mode": "markers",
         "name": "Lebanon ",
         "scene": "scene",
         "showlegend": true,
         "type": "scatter3d",
         "x": [
          0.12
         ],
         "y": [
          0.21
         ],
         "z": [
          0.67
         ]
        },
        {
         "hovertemplate": "Country=Lesotho <br>Agriculture=%{x}<br>Industry=%{y}<br>Service=%{z}<extra></extra>",
         "legendgroup": "Lesotho ",
         "marker": {
          "color": "#EF553B",
          "symbol": "circle"
         },
         "mode": "markers",
         "name": "Lesotho ",
         "scene": "scene",
         "showlegend": true,
         "type": "scatter3d",
         "x": [
          0.163
         ],
         "y": [
          0.443
         ],
         "z": [
          0.394
         ]
        },
        {
         "hovertemplate": "Country=Liberia <br>Agriculture=%{x}<br>Industry=%{y}<br>Service=%{z}<extra></extra>",
         "legendgroup": "Liberia ",
         "marker": {
          "color": "#00cc96",
          "symbol": "circle"
         },
         "mode": "markers",
         "name": "Liberia ",
         "scene": "scene",
         "showlegend": true,
         "type": "scatter3d",
         "x": [
          0.769
         ],
         "y": [
          0.054
         ],
         "z": [
          0.177
         ]
        },
        {
         "hovertemplate": "Country=Libya <br>Agriculture=%{x}<br>Industry=%{y}<br>Service=%{z}<extra></extra>",
         "legendgroup": "Libya ",
         "marker": {
          "color": "#ab63fa",
          "symbol": "circle"
         },
         "mode": "markers",
         "name": "Libya ",
         "scene": "scene",
         "showlegend": true,
         "type": "scatter3d",
         "x": [
          0.076
         ],
         "y": [
          0.499
         ],
         "z": [
          0.425
         ]
        },
        {
         "hovertemplate": "Country=Liechtenstein <br>Agriculture=%{x}<br>Industry=%{y}<br>Service=%{z}<extra></extra>",
         "legendgroup": "Liechtenstein ",
         "marker": {
          "color": "#FFA15A",
          "symbol": "circle"
         },
         "mode": "markers",
         "name": "Liechtenstein ",
         "scene": "scene",
         "showlegend": true,
         "type": "scatter3d",
         "x": [
          0.06
         ],
         "y": [
          0.39
         ],
         "z": [
          0.55
         ]
        },
        {
         "hovertemplate": "Country=Lithuania <br>Agriculture=%{x}<br>Industry=%{y}<br>Service=%{z}<extra></extra>",
         "legendgroup": "Lithuania ",
         "marker": {
          "color": "#19d3f3",
          "symbol": "circle"
         },
         "mode": "markers",
         "name": "Lithuania ",
         "scene": "scene",
         "showlegend": true,
         "type": "scatter3d",
         "x": [
          0.055
         ],
         "y": [
          0.325
         ],
         "z": [
          0.62
         ]
        },
        {
         "hovertemplate": "Country=Luxembourg <br>Agriculture=%{x}<br>Industry=%{y}<br>Service=%{z}<extra></extra>",
         "legendgroup": "Luxembourg ",
         "marker": {
          "color": "#FF6692",
          "symbol": "circle"
         },
         "mode": "markers",
         "name": "Luxembourg ",
         "scene": "scene",
         "showlegend": true,
         "type": "scatter3d",
         "x": [
          0.01
         ],
         "y": [
          0.13
         ],
         "z": [
          0.86
         ]
        },
        {
         "hovertemplate": "Country=Macau <br>Agriculture=%{x}<br>Industry=%{y}<br>Service=%{z}<extra></extra>",
         "legendgroup": "Macau ",
         "marker": {
          "color": "#B6E880",
          "symbol": "circle"
         },
         "mode": "markers",
         "name": "Macau ",
         "scene": "scene",
         "showlegend": true,
         "type": "scatter3d",
         "x": [
          0.001
         ],
         "y": [
          0.072
         ],
         "z": [
          0.927
         ]
        },
        {
         "hovertemplate": "Country=Macedonia <br>Agriculture=%{x}<br>Industry=%{y}<br>Service=%{z}<extra></extra>",
         "legendgroup": "Macedonia ",
         "marker": {
          "color": "#FF97FF",
          "symbol": "circle"
         },
         "mode": "markers",
         "name": "Macedonia ",
         "scene": "scene",
         "showlegend": true,
         "type": "scatter3d",
         "x": [
          0.118
         ],
         "y": [
          0.319
         ],
         "z": [
          0.563
         ]
        },
        {
         "hovertemplate": "Country=Madagascar <br>Agriculture=%{x}<br>Industry=%{y}<br>Service=%{z}<extra></extra>",
         "legendgroup": "Madagascar ",
         "marker": {
          "color": "#FECB52",
          "symbol": "circle"
         },
         "mode": "markers",
         "name": "Madagascar ",
         "scene": "scene",
         "showlegend": true,
         "type": "scatter3d",
         "x": [
          0.276
         ],
         "y": [
          0.165
         ],
         "z": [
          0.559
         ]
        },
        {
         "hovertemplate": "Country=Malawi <br>Agriculture=%{x}<br>Industry=%{y}<br>Service=%{z}<extra></extra>",
         "legendgroup": "Malawi ",
         "marker": {
          "color": "#636efa",
          "symbol": "circle"
         },
         "mode": "markers",
         "name": "Malawi ",
         "scene": "scene",
         "showlegend": true,
         "type": "scatter3d",
         "x": [
          0.342
         ],
         "y": [
          0.158
         ],
         "z": [
          0.499
         ]
        },
        {
         "hovertemplate": "Country=Malaysia <br>Agriculture=%{x}<br>Industry=%{y}<br>Service=%{z}<extra></extra>",
         "legendgroup": "Malaysia ",
         "marker": {
          "color": "#EF553B",
          "symbol": "circle"
         },
         "mode": "markers",
         "name": "Malaysia ",
         "scene": "scene",
         "showlegend": true,
         "type": "scatter3d",
         "x": [
          0.084
         ],
         "y": [
          0.48
         ],
         "z": [
          0.436
         ]
        },
        {
         "hovertemplate": "Country=Maldives <br>Agriculture=%{x}<br>Industry=%{y}<br>Service=%{z}<extra></extra>",
         "legendgroup": "Maldives ",
         "marker": {
          "color": "#00cc96",
          "symbol": "circle"
         },
         "mode": "markers",
         "name": "Maldives ",
         "scene": "scene",
         "showlegend": true,
         "type": "scatter3d",
         "x": [
          0.2
         ],
         "y": [
          0.18
         ],
         "z": [
          0.62
         ]
        },
        {
         "hovertemplate": "Country=Mali <br>Agriculture=%{x}<br>Industry=%{y}<br>Service=%{z}<extra></extra>",
         "legendgroup": "Mali ",
         "marker": {
          "color": "#ab63fa",
          "symbol": "circle"
         },
         "mode": "markers",
         "name": "Mali ",
         "scene": "scene",
         "showlegend": true,
         "type": "scatter3d",
         "x": [
          0.45
         ],
         "y": [
          0.17
         ],
         "z": [
          0.38
         ]
        },
        {
         "hovertemplate": "Country=Malta <br>Agriculture=%{x}<br>Industry=%{y}<br>Service=%{z}<extra></extra>",
         "legendgroup": "Malta ",
         "marker": {
          "color": "#FFA15A",
          "symbol": "circle"
         },
         "mode": "markers",
         "name": "Malta ",
         "scene": "scene",
         "showlegend": true,
         "type": "scatter3d",
         "x": [
          0.03
         ],
         "y": [
          0.23
         ],
         "z": [
          0.74
         ]
        },
        {
         "hovertemplate": "Country=Marshall Islands <br>Agriculture=%{x}<br>Industry=%{y}<br>Service=%{z}<extra></extra>",
         "legendgroup": "Marshall Islands ",
         "marker": {
          "color": "#19d3f3",
          "symbol": "circle"
         },
         "mode": "markers",
         "name": "Marshall Islands ",
         "scene": "scene",
         "showlegend": true,
         "type": "scatter3d",
         "x": [
          0.317
         ],
         "y": [
          0.149
         ],
         "z": [
          0.534
         ]
        },
        {
         "hovertemplate": "Country=Martinique <br>Agriculture=%{x}<br>Industry=%{y}<br>Service=%{z}<extra></extra>",
         "legendgroup": "Martinique ",
         "marker": {
          "color": "#FF6692",
          "symbol": "circle"
         },
         "mode": "markers",
         "name": "Martinique ",
         "scene": "scene",
         "showlegend": true,
         "type": "scatter3d",
         "x": [
          0.06
         ],
         "y": [
          0.11
         ],
         "z": [
          0.83
         ]
        },
        {
         "hovertemplate": "Country=Mauritania <br>Agriculture=%{x}<br>Industry=%{y}<br>Service=%{z}<extra></extra>",
         "legendgroup": "Mauritania ",
         "marker": {
          "color": "#B6E880",
          "symbol": "circle"
         },
         "mode": "markers",
         "name": "Mauritania ",
         "scene": "scene",
         "showlegend": true,
         "type": "scatter3d",
         "x": [
          0.25
         ],
         "y": [
          0.29
         ],
         "z": [
          0.46
         ]
        },
        {
         "hovertemplate": "Country=Mauritius <br>Agriculture=%{x}<br>Industry=%{y}<br>Service=%{z}<extra></extra>",
         "legendgroup": "Mauritius ",
         "marker": {
          "color": "#FF97FF",
          "symbol": "circle"
         },
         "mode": "markers",
         "name": "Mauritius ",
         "scene": "scene",
         "showlegend": true,
         "type": "scatter3d",
         "x": [
          0.059
         ],
         "y": [
          0.298
         ],
         "z": [
          0.643
         ]
        },
        {
         "hovertemplate": "Country=Mexico <br>Agriculture=%{x}<br>Industry=%{y}<br>Service=%{z}<extra></extra>",
         "legendgroup": "Mexico ",
         "marker": {
          "color": "#FECB52",
          "symbol": "circle"
         },
         "mode": "markers",
         "name": "Mexico ",
         "scene": "scene",
         "showlegend": true,
         "type": "scatter3d",
         "x": [
          0.038
         ],
         "y": [
          0.259
         ],
         "z": [
          0.702
         ]
        },
        {
         "hovertemplate": "Country=Micronesia, Fed. St. <br>Agriculture=%{x}<br>Industry=%{y}<br>Service=%{z}<extra></extra>",
         "legendgroup": "Micronesia, Fed. St. ",
         "marker": {
          "color": "#636efa",
          "symbol": "circle"
         },
         "mode": "markers",
         "name": "Micronesia, Fed. St. ",
         "scene": "scene",
         "showlegend": true,
         "type": "scatter3d",
         "x": [
          0.289
         ],
         "y": [
          0.152
         ],
         "z": [
          0.559
         ]
        },
        {
         "hovertemplate": "Country=Moldova <br>Agriculture=%{x}<br>Industry=%{y}<br>Service=%{z}<extra></extra>",
         "legendgroup": "Moldova ",
         "marker": {
          "color": "#EF553B",
          "symbol": "circle"
         },
         "mode": "markers",
         "name": "Moldova ",
         "scene": "scene",
         "showlegend": true,
         "type": "scatter3d",
         "x": [
          0.213
         ],
         "y": [
          0.233
         ],
         "z": [
          0.555
         ]
        },
        {
         "hovertemplate": "Country=Mongolia <br>Agriculture=%{x}<br>Industry=%{y}<br>Service=%{z}<extra></extra>",
         "legendgroup": "Mongolia ",
         "marker": {
          "color": "#00cc96",
          "symbol": "circle"
         },
         "mode": "markers",
         "name": "Mongolia ",
         "scene": "scene",
         "showlegend": true,
         "type": "scatter3d",
         "x": [
          0.206
         ],
         "y": [
          0.214
         ],
         "z": [
          0.58
         ]
        },
        {
         "hovertemplate": "Country=Morocco <br>Agriculture=%{x}<br>Industry=%{y}<br>Service=%{z}<extra></extra>",
         "legendgroup": "Morocco ",
         "marker": {
          "color": "#ab63fa",
          "symbol": "circle"
         },
         "mode": "markers",
         "name": "Morocco ",
         "scene": "scene",
         "showlegend": true,
         "type": "scatter3d",
         "x": [
          0.217
         ],
         "y": [
          0.357
         ],
         "z": [
          0.426
         ]
        },
        {
         "hovertemplate": "Country=Mozambique <br>Agriculture=%{x}<br>Industry=%{y}<br>Service=%{z}<extra></extra>",
         "legendgroup": "Mozambique ",
         "marker": {
          "color": "#FFA15A",
          "symbol": "circle"
         },
         "mode": "markers",
         "name": "Mozambique ",
         "scene": "scene",
         "showlegend": true,
         "type": "scatter3d",
         "x": [
          0.262
         ],
         "y": [
          0.348
         ],
         "z": [
          0.39
         ]
        },
        {
         "hovertemplate": "Country=Namibia <br>Agriculture=%{x}<br>Industry=%{y}<br>Service=%{z}<extra></extra>",
         "legendgroup": "Namibia ",
         "marker": {
          "color": "#19d3f3",
          "symbol": "circle"
         },
         "mode": "markers",
         "name": "Namibia ",
         "scene": "scene",
         "showlegend": true,
         "type": "scatter3d",
         "x": [
          0.097
         ],
         "y": [
          0.315
         ],
         "z": [
          0.588
         ]
        },
        {
         "hovertemplate": "Country=Nepal <br>Agriculture=%{x}<br>Industry=%{y}<br>Service=%{z}<extra></extra>",
         "legendgroup": "Nepal ",
         "marker": {
          "color": "#FF6692",
          "symbol": "circle"
         },
         "mode": "markers",
         "name": "Nepal ",
         "scene": "scene",
         "showlegend": true,
         "type": "scatter3d",
         "x": [
          0.38
         ],
         "y": [
          0.21
         ],
         "z": [
          0.41
         ]
        },
        {
         "hovertemplate": "Country=Netherlands <br>Agriculture=%{x}<br>Industry=%{y}<br>Service=%{z}<extra></extra>",
         "legendgroup": "Netherlands ",
         "marker": {
          "color": "#B6E880",
          "symbol": "circle"
         },
         "mode": "markers",
         "name": "Netherlands ",
         "scene": "scene",
         "showlegend": true,
         "type": "scatter3d",
         "x": [
          0.021
         ],
         "y": [
          0.244
         ],
         "z": [
          0.736
         ]
        },
        {
         "hovertemplate": "Country=Netherlands Antilles <br>Agriculture=%{x}<br>Industry=%{y}<br>Service=%{z}<extra></extra>",
         "legendgroup": "Netherlands Antilles ",
         "marker": {
          "color": "#FF97FF",
          "symbol": "circle"
         },
         "mode": "markers",
         "name": "Netherlands Antilles ",
         "scene": "scene",
         "showlegend": true,
         "type": "scatter3d",
         "x": [
          0.01
         ],
         "y": [
          0.15
         ],
         "z": [
          0.84
         ]
        },
        {
         "hovertemplate": "Country=New Caledonia <br>Agriculture=%{x}<br>Industry=%{y}<br>Service=%{z}<extra></extra>",
         "legendgroup": "New Caledonia ",
         "marker": {
          "color": "#FECB52",
          "symbol": "circle"
         },
         "mode": "markers",
         "name": "New Caledonia ",
         "scene": "scene",
         "showlegend": true,
         "type": "scatter3d",
         "x": [
          0.15
         ],
         "y": [
          0.088
         ],
         "z": [
          0.762
         ]
        },
        {
         "hovertemplate": "Country=New Zealand <br>Agriculture=%{x}<br>Industry=%{y}<br>Service=%{z}<extra></extra>",
         "legendgroup": "New Zealand ",
         "marker": {
          "color": "#636efa",
          "symbol": "circle"
         },
         "mode": "markers",
         "name": "New Zealand ",
         "scene": "scene",
         "showlegend": true,
         "type": "scatter3d",
         "x": [
          0.043
         ],
         "y": [
          0.273
         ],
         "z": [
          0.684
         ]
        },
        {
         "hovertemplate": "Country=Nicaragua <br>Agriculture=%{x}<br>Industry=%{y}<br>Service=%{z}<extra></extra>",
         "legendgroup": "Nicaragua ",
         "marker": {
          "color": "#EF553B",
          "symbol": "circle"
         },
         "mode": "markers",
         "name": "Nicaragua ",
         "scene": "scene",
         "showlegend": true,
         "type": "scatter3d",
         "x": [
          0.165
         ],
         "y": [
          0.275
         ],
         "z": [
          0.56
         ]
        },
        {
         "hovertemplate": "Country=Niger <br>Agriculture=%{x}<br>Industry=%{y}<br>Service=%{z}<extra></extra>",
         "legendgroup": "Niger ",
         "marker": {
          "color": "#00cc96",
          "symbol": "circle"
         },
         "mode": "markers",
         "name": "Niger ",
         "scene": "scene",
         "showlegend": true,
         "type": "scatter3d",
         "x": [
          0.39
         ],
         "y": [
          0.17
         ],
         "z": [
          0.44
         ]
        },
        {
         "hovertemplate": "Country=Nigeria <br>Agriculture=%{x}<br>Industry=%{y}<br>Service=%{z}<extra></extra>",
         "legendgroup": "Nigeria ",
         "marker": {
          "color": "#ab63fa",
          "symbol": "circle"
         },
         "mode": "markers",
         "name": "Nigeria ",
         "scene": "scene",
         "showlegend": true,
         "type": "scatter3d",
         "x": [
          0.269
         ],
         "y": [
          0.487
         ],
         "z": [
          0.244
         ]
        },
        {
         "hovertemplate": "Country=Norway <br>Agriculture=%{x}<br>Industry=%{y}<br>Service=%{z}<extra></extra>",
         "legendgroup": "Norway ",
         "marker": {
          "color": "#FFA15A",
          "symbol": "circle"
         },
         "mode": "markers",
         "name": "Norway ",
         "scene": "scene",
         "showlegend": true,
         "type": "scatter3d",
         "x": [
          0.021
         ],
         "y": [
          0.415
         ],
         "z": [
          0.564
         ]
        },
        {
         "hovertemplate": "Country=Oman <br>Agriculture=%{x}<br>Industry=%{y}<br>Service=%{z}<extra></extra>",
         "legendgroup": "Oman ",
         "marker": {
          "color": "#19d3f3",
          "symbol": "circle"
         },
         "mode": "markers",
         "name": "Oman ",
         "scene": "scene",
         "showlegend": true,
         "type": "scatter3d",
         "x": [
          0.027
         ],
         "y": [
          0.39
         ],
         "z": [
          0.583
         ]
        },
        {
         "hovertemplate": "Country=Pakistan <br>Agriculture=%{x}<br>Industry=%{y}<br>Service=%{z}<extra></extra>",
         "legendgroup": "Pakistan ",
         "marker": {
          "color": "#FF6692",
          "symbol": "circle"
         },
         "mode": "markers",
         "name": "Pakistan ",
         "scene": "scene",
         "showlegend": true,
         "type": "scatter3d",
         "x": [
          0.216
         ],
         "y": [
          0.251
         ],
         "z": [
          0.533
         ]
        },
        {
         "hovertemplate": "Country=Palau <br>Agriculture=%{x}<br>Industry=%{y}<br>Service=%{z}<extra></extra>",
         "legendgroup": "Palau ",
         "marker": {
          "color": "#B6E880",
          "symbol": "circle"
         },
         "mode": "markers",
         "name": "Palau ",
         "scene": "scene",
         "showlegend": true,
         "type": "scatter3d",
         "x": [
          0.062
         ],
         "y": [
          0.12
         ],
         "z": [
          0.818
         ]
        },
        {
         "hovertemplate": "Country=Panama <br>Agriculture=%{x}<br>Industry=%{y}<br>Service=%{z}<extra></extra>",
         "legendgroup": "Panama ",
         "marker": {
          "color": "#FF97FF",
          "symbol": "circle"
         },
         "mode": "markers",
         "name": "Panama ",
         "scene": "scene",
         "showlegend": true,
         "type": "scatter3d",
         "x": [
          0.068
         ],
         "y": [
          0.156
         ],
         "z": [
          0.776
         ]
        },
        {
         "hovertemplate": "Country=Papua New Guinea <br>Agriculture=%{x}<br>Industry=%{y}<br>Service=%{z}<extra></extra>",
         "legendgroup": "Papua New Guinea ",
         "marker": {
          "color": "#FECB52",
          "symbol": "circle"
         },
         "mode": "markers",
         "name": "Papua New Guinea ",
         "scene": "scene",
         "showlegend": true,
         "type": "scatter3d",
         "x": [
          0.353
         ],
         "y": [
          0.381
         ],
         "z": [
          0.266
         ]
        },
        {
         "hovertemplate": "Country=Paraguay <br>Agriculture=%{x}<br>Industry=%{y}<br>Service=%{z}<extra></extra>",
         "legendgroup": "Paraguay ",
         "marker": {
          "color": "#636efa",
          "symbol": "circle"
         },
         "mode": "markers",
         "name": "Paraguay ",
         "scene": "scene",
         "showlegend": true,
         "type": "scatter3d",
         "x": [
          0.224
         ],
         "y": [
          0.207
         ],
         "z": [
          0.569
         ]
        },
        {
         "hovertemplate": "Country=Peru <br>Agriculture=%{x}<br>Industry=%{y}<br>Service=%{z}<extra></extra>",
         "legendgroup": "Peru ",
         "marker": {
          "color": "#EF553B",
          "symbol": "circle"
         },
         "mode": "markers",
         "name": "Peru ",
         "scene": "scene",
         "showlegend": true,
         "type": "scatter3d",
         "x": [
          0.08
         ],
         "y": [
          0.27
         ],
         "z": [
          0.65
         ]
        },
        {
         "hovertemplate": "Country=Philippines <br>Agriculture=%{x}<br>Industry=%{y}<br>Service=%{z}<extra></extra>",
         "legendgroup": "Philippines ",
         "marker": {
          "color": "#00cc96",
          "symbol": "circle"
         },
         "mode": "markers",
         "name": "Philippines ",
         "scene": "scene",
         "showlegend": true,
         "type": "scatter3d",
         "x": [
          0.144
         ],
         "y": [
          0.326
         ],
         "z": [
          0.53
         ]
        },
        {
         "hovertemplate": "Country=Poland <br>Agriculture=%{x}<br>Industry=%{y}<br>Service=%{z}<extra></extra>",
         "legendgroup": "Poland ",
         "marker": {
          "color": "#ab63fa",
          "symbol": "circle"
         },
         "mode": "markers",
         "name": "Poland ",
         "scene": "scene",
         "showlegend": true,
         "type": "scatter3d",
         "x": [
          0.05
         ],
         "y": [
          0.311
         ],
         "z": [
          0.64
         ]
        },
        {
         "hovertemplate": "Country=Portugal <br>Agriculture=%{x}<br>Industry=%{y}<br>Service=%{z}<extra></extra>",
         "legendgroup": "Portugal ",
         "marker": {
          "color": "#FFA15A",
          "symbol": "circle"
         },
         "mode": "markers",
         "name": "Portugal ",
         "scene": "scene",
         "showlegend": true,
         "type": "scatter3d",
         "x": [
          0.053
         ],
         "y": [
          0.274
         ],
         "z": [
          0.673
         ]
        },
        {
         "hovertemplate": "Country=Puerto Rico <br>Agriculture=%{x}<br>Industry=%{y}<br>Service=%{z}<extra></extra>",
         "legendgroup": "Puerto Rico ",
         "marker": {
          "color": "#19d3f3",
          "symbol": "circle"
         },
         "mode": "markers",
         "name": "Puerto Rico ",
         "scene": "scene",
         "showlegend": true,
         "type": "scatter3d",
         "x": [
          0.01
         ],
         "y": [
          0.45
         ],
         "z": [
          0.54
         ]
        },
        {
         "hovertemplate": "Country=Qatar <br>Agriculture=%{x}<br>Industry=%{y}<br>Service=%{z}<extra></extra>",
         "legendgroup": "Qatar ",
         "marker": {
          "color": "#FF6692",
          "symbol": "circle"
         },
         "mode": "markers",
         "name": "Qatar ",
         "scene": "scene",
         "showlegend": true,
         "type": "scatter3d",
         "x": [
          0.002
         ],
         "y": [
          0.801
         ],
         "z": [
          0.197
         ]
        },
        {
         "hovertemplate": "Country=Reunion <br>Agriculture=%{x}<br>Industry=%{y}<br>Service=%{z}<extra></extra>",
         "legendgroup": "Reunion ",
         "marker": {
          "color": "#B6E880",
          "symbol": "circle"
         },
         "mode": "markers",
         "name": "Reunion ",
         "scene": "scene",
         "showlegend": true,
         "type": "scatter3d",
         "x": [
          0.08
         ],
         "y": [
          0.19
         ],
         "z": [
          0.73
         ]
        },
        {
         "hovertemplate": "Country=Romania <br>Agriculture=%{x}<br>Industry=%{y}<br>Service=%{z}<extra></extra>",
         "legendgroup": "Romania ",
         "marker": {
          "color": "#FF97FF",
          "symbol": "circle"
         },
         "mode": "markers",
         "name": "Romania ",
         "scene": "scene",
         "showlegend": true,
         "type": "scatter3d",
         "x": [
          0.101
         ],
         "y": [
          0.35
         ],
         "z": [
          0.549
         ]
        },
        {
         "hovertemplate": "Country=Russia <br>Agriculture=%{x}<br>Industry=%{y}<br>Service=%{z}<extra></extra>",
         "legendgroup": "Russia ",
         "marker": {
          "color": "#FECB52",
          "symbol": "circle"
         },
         "mode": "markers",
         "name": "Russia ",
         "scene": "scene",
         "showlegend": true,
         "type": "scatter3d",
         "x": [
          0.054
         ],
         "y": [
          0.371
         ],
         "z": [
          0.575
         ]
        },
        {
         "hovertemplate": "Country=Rwanda <br>Agriculture=%{x}<br>Industry=%{y}<br>Service=%{z}<extra></extra>",
         "legendgroup": "Rwanda ",
         "marker": {
          "color": "#636efa",
          "symbol": "circle"
         },
         "mode": "markers",
         "name": "Rwanda ",
         "scene": "scene",
         "showlegend": true,
         "type": "scatter3d",
         "x": [
          0.401
         ],
         "y": [
          0.229
         ],
         "z": [
          0.37
         ]
        },
        {
         "hovertemplate": "Country=Saint Kitts & Nevis <br>Agriculture=%{x}<br>Industry=%{y}<br>Service=%{z}<extra></extra>",
         "legendgroup": "Saint Kitts & Nevis ",
         "marker": {
          "color": "#EF553B",
          "symbol": "circle"
         },
         "mode": "markers",
         "name": "Saint Kitts & Nevis ",
         "scene": "scene",
         "showlegend": true,
         "type": "scatter3d",
         "x": [
          0.035
         ],
         "y": [
          0.258
         ],
         "z": [
          0.707
         ]
        },
        {
         "hovertemplate": "Country=Saint Lucia <br>Agriculture=%{x}<br>Industry=%{y}<br>Service=%{z}<extra></extra>",
         "legendgroup": "Saint Lucia ",
         "marker": {
          "color": "#00cc96",
          "symbol": "circle"
         },
         "mode": "markers",
         "name": "Saint Lucia ",
         "scene": "scene",
         "showlegend": true,
         "type": "scatter3d",
         "x": [
          0.07
         ],
         "y": [
          0.2
         ],
         "z": [
          0.73
         ]
        },
        {
         "hovertemplate": "Country=Saint Vincent and the Grenadines <br>Agriculture=%{x}<br>Industry=%{y}<br>Service=%{z}<extra></extra>",
         "legendgroup": "Saint Vincent and the Grenadines ",
         "marker": {
          "color": "#ab63fa",
          "symbol": "circle"
         },
         "mode": "markers",
         "name": "Saint Vincent and the Grenadines ",
         "scene": "scene",
         "showlegend": true,
         "type": "scatter3d",
         "x": [
          0.1
         ],
         "y": [
          0.26
         ],
         "z": [
          0.64
         ]
        },
        {
         "hovertemplate": "Country=Samoa <br>Agriculture=%{x}<br>Industry=%{y}<br>Service=%{z}<extra></extra>",
         "legendgroup": "Samoa ",
         "marker": {
          "color": "#FFA15A",
          "symbol": "circle"
         },
         "mode": "markers",
         "name": "Samoa ",
         "scene": "scene",
         "showlegend": true,
         "type": "scatter3d",
         "x": [
          0.114
         ],
         "y": [
          0.584
         ],
         "z": [
          0.302
         ]
        },
        {
         "hovertemplate": "Country=Sao Tome & Principe <br>Agriculture=%{x}<br>Industry=%{y}<br>Service=%{z}<extra></extra>",
         "legendgroup": "Sao Tome & Principe ",
         "marker": {
          "color": "#19d3f3",
          "symbol": "circle"
         },
         "mode": "markers",
         "name": "Sao Tome & Principe ",
         "scene": "scene",
         "showlegend": true,
         "type": "scatter3d",
         "x": [
          0.167
         ],
         "y": [
          0.148
         ],
         "z": [
          0.684
         ]
        },
        {
         "hovertemplate": "Country=Saudi Arabia <br>Agriculture=%{x}<br>Industry=%{y}<br>Service=%{z}<extra></extra>",
         "legendgroup": "Saudi Arabia ",
         "marker": {
          "color": "#FF6692",
          "symbol": "circle"
         },
         "mode": "markers",
         "name": "Saudi Arabia ",
         "scene": "scene",
         "showlegend": true,
         "type": "scatter3d",
         "x": [
          0.033
         ],
         "y": [
          0.613
         ],
         "z": [
          0.354
         ]
        },
        {
         "hovertemplate": "Country=Senegal <br>Agriculture=%{x}<br>Industry=%{y}<br>Service=%{z}<extra></extra>",
         "legendgroup": "Senegal ",
         "marker": {
          "color": "#B6E880",
          "symbol": "circle"
         },
         "mode": "markers",
         "name": "Senegal ",
         "scene": "scene",
         "showlegend": true,
         "type": "scatter3d",
         "x": [
          0.172
         ],
         "y": [
          0.209
         ],
         "z": [
          0.619
         ]
        },
        {
         "hovertemplate": "Country=Serbia <br>Agriculture=%{x}<br>Industry=%{y}<br>Service=%{z}<extra></extra>",
         "legendgroup": "Serbia ",
         "marker": {
          "color": "#FF97FF",
          "symbol": "circle"
         },
         "mode": "markers",
         "name": "Serbia ",
         "scene": "scene",
         "showlegend": true,
         "type": "scatter3d",
         "x": [
          0.166
         ],
         "y": [
          0.255
         ],
         "z": [
          0.579
         ]
        },
        {
         "hovertemplate": "Country=Seychelles <br>Agriculture=%{x}<br>Industry=%{y}<br>Service=%{z}<extra></extra>",
         "legendgroup": "Seychelles ",
         "marker": {
          "color": "#FECB52",
          "symbol": "circle"
         },
         "mode": "markers",
         "name": "Seychelles ",
         "scene": "scene",
         "showlegend": true,
         "type": "scatter3d",
         "x": [
          0.032
         ],
         "y": [
          0.304
         ],
         "z": [
          0.665
         ]
        },
        {
         "hovertemplate": "Country=Sierra Leone <br>Agriculture=%{x}<br>Industry=%{y}<br>Service=%{z}<extra></extra>",
         "legendgroup": "Sierra Leone ",
         "marker": {
          "color": "#636efa",
          "symbol": "circle"
         },
         "mode": "markers",
         "name": "Sierra Leone ",
         "scene": "scene",
         "showlegend": true,
         "type": "scatter3d",
         "x": [
          0.49
         ],
         "y": [
          0.31
         ],
         "z": [
          0.21
         ]
        },
        {
         "hovertemplate": "Country=Singapore <br>Agriculture=%{x}<br>Industry=%{y}<br>Service=%{z}<extra></extra>",
         "legendgroup": "Singapore ",
         "marker": {
          "color": "#EF553B",
          "symbol": "circle"
         },
         "mode": "markers",
         "name": "Singapore ",
         "scene": "scene",
         "showlegend": true,
         "type": "scatter3d",
         "x": [
          0.0
         ],
         "y": [
          0.339
         ],
         "z": [
          0.661
         ]
        },
        {
         "hovertemplate": "Country=Slovakia <br>Agriculture=%{x}<br>Industry=%{y}<br>Service=%{z}<extra></extra>",
         "legendgroup": "Slovakia ",
         "marker": {
          "color": "#00cc96",
          "symbol": "circle"
         },
         "mode": "markers",
         "name": "Slovakia ",
         "scene": "scene",
         "showlegend": true,
         "type": "scatter3d",
         "x": [
          0.035
         ],
         "y": [
          0.294
         ],
         "z": [
          0.672
         ]
        },
        {
         "hovertemplate": "Country=Slovenia <br>Agriculture=%{x}<br>Industry=%{y}<br>Service=%{z}<extra></extra>",
         "legendgroup": "Slovenia ",
         "marker": {
          "color": "#ab63fa",
          "symbol": "circle"
         },
         "mode": "markers",
         "name": "Slovenia ",
         "scene": "scene",
         "showlegend": true,
         "type": "scatter3d",
         "x": [
          0.028
         ],
         "y": [
          0.369
         ],
         "z": [
          0.603
         ]
        },
        {
         "hovertemplate": "Country=Solomon Islands <br>Agriculture=%{x}<br>Industry=%{y}<br>Service=%{z}<extra></extra>",
         "legendgroup": "Solomon Islands ",
         "marker": {
          "color": "#FFA15A",
          "symbol": "circle"
         },
         "mode": "markers",
         "name": "Solomon Islands ",
         "scene": "scene",
         "showlegend": true,
         "type": "scatter3d",
         "x": [
          0.42
         ],
         "y": [
          0.11
         ],
         "z": [
          0.47
         ]
        },
        {
         "hovertemplate": "Country=Somalia <br>Agriculture=%{x}<br>Industry=%{y}<br>Service=%{z}<extra></extra>",
         "legendgroup": "Somalia ",
         "marker": {
          "color": "#19d3f3",
          "symbol": "circle"
         },
         "mode": "markers",
         "name": "Somalia ",
         "scene": "scene",
         "showlegend": true,
         "type": "scatter3d",
         "x": [
          0.65
         ],
         "y": [
          0.1
         ],
         "z": [
          0.25
         ]
        },
        {
         "hovertemplate": "Country=South Africa <br>Agriculture=%{x}<br>Industry=%{y}<br>Service=%{z}<extra></extra>",
         "legendgroup": "South Africa ",
         "marker": {
          "color": "#FF6692",
          "symbol": "circle"
         },
         "mode": "markers",
         "name": "South Africa ",
         "scene": "scene",
         "showlegend": true,
         "type": "scatter3d",
         "x": [
          0.025
         ],
         "y": [
          0.303
         ],
         "z": [
          0.671
         ]
        },
        {
         "hovertemplate": "Country=Spain <br>Agriculture=%{x}<br>Industry=%{y}<br>Service=%{z}<extra></extra>",
         "legendgroup": "Spain ",
         "marker": {
          "color": "#B6E880",
          "symbol": "circle"
         },
         "mode": "markers",
         "name": "Spain ",
         "scene": "scene",
         "showlegend": true,
         "type": "scatter3d",
         "x": [
          0.04
         ],
         "y": [
          0.295
         ],
         "z": [
          0.665
         ]
        },
        {
         "hovertemplate": "Country=Sri Lanka <br>Agriculture=%{x}<br>Industry=%{y}<br>Service=%{z}<extra></extra>",
         "legendgroup": "Sri Lanka ",
         "marker": {
          "color": "#FF97FF",
          "symbol": "circle"
         },
         "mode": "markers",
         "name": "Sri Lanka ",
         "scene": "scene",
         "showlegend": true,
         "type": "scatter3d",
         "x": [
          0.178
         ],
         "y": [
          0.276
         ],
         "z": [
          0.545
         ]
        },
        {
         "hovertemplate": "Country=Sudan <br>Agriculture=%{x}<br>Industry=%{y}<br>Service=%{z}<extra></extra>",
         "legendgroup": "Sudan ",
         "marker": {
          "color": "#FECB52",
          "symbol": "circle"
         },
         "mode": "markers",
         "name": "Sudan ",
         "scene": "scene",
         "showlegend": true,
         "type": "scatter3d",
         "x": [
          0.387
         ],
         "y": [
          0.203
         ],
         "z": [
          0.41
         ]
        },
        {
         "hovertemplate": "Country=Suriname <br>Agriculture=%{x}<br>Industry=%{y}<br>Service=%{z}<extra></extra>",
         "legendgroup": "Suriname ",
         "marker": {
          "color": "#636efa",
          "symbol": "circle"
         },
         "mode": "markers",
         "name": "Suriname ",
         "scene": "scene",
         "showlegend": true,
         "type": "scatter3d",
         "x": [
          0.13
         ],
         "y": [
          0.22
         ],
         "z": [
          0.65
         ]
        },
        {
         "hovertemplate": "Country=Swaziland <br>Agriculture=%{x}<br>Industry=%{y}<br>Service=%{z}<extra></extra>",
         "legendgroup": "Swaziland ",
         "marker": {
          "color": "#EF553B",
          "symbol": "circle"
         },
         "mode": "markers",
         "name": "Swaziland ",
         "scene": "scene",
         "showlegend": true,
         "type": "scatter3d",
         "x": [
          0.119
         ],
         "y": [
          0.515
         ],
         "z": [
          0.366
         ]
        },
        {
         "hovertemplate": "Country=Sweden <br>Agriculture=%{x}<br>Industry=%{y}<br>Service=%{z}<extra></extra>",
         "legendgroup": "Sweden ",
         "marker": {
          "color": "#00cc96",
          "symbol": "circle"
         },
         "mode": "markers",
         "name": "Sweden ",
         "scene": "scene",
         "showlegend": true,
         "type": "scatter3d",
         "x": [
          0.011
         ],
         "y": [
          0.282
         ],
         "z": [
          0.707
         ]
        },
        {
         "hovertemplate": "Country=Switzerland <br>Agriculture=%{x}<br>Industry=%{y}<br>Service=%{z}<extra></extra>",
         "legendgroup": "Switzerland ",
         "marker": {
          "color": "#ab63fa",
          "symbol": "circle"
         },
         "mode": "markers",
         "name": "Switzerland ",
         "scene": "scene",
         "showlegend": true,
         "type": "scatter3d",
         "x": [
          0.015
         ],
         "y": [
          0.34
         ],
         "z": [
          0.645
         ]
        },
        {
         "hovertemplate": "Country=Syria <br>Agriculture=%{x}<br>Industry=%{y}<br>Service=%{z}<extra></extra>",
         "legendgroup": "Syria ",
         "marker": {
          "color": "#FFA15A",
          "symbol": "circle"
         },
         "mode": "markers",
         "name": "Syria ",
         "scene": "scene",
         "showlegend": true,
         "type": "scatter3d",
         "x": [
          0.249
         ],
         "y": [
          0.23
         ],
         "z": [
          0.519
         ]
        },
        {
         "hovertemplate": "Country=Taiwan <br>Agriculture=%{x}<br>Industry=%{y}<br>Service=%{z}<extra></extra>",
         "legendgroup": "Taiwan ",
         "marker": {
          "color": "#19d3f3",
          "symbol": "circle"
         },
         "mode": "markers",
         "name": "Taiwan ",
         "scene": "scene",
         "showlegend": true,
         "type": "scatter3d",
         "x": [
          0.018
         ],
         "y": [
          0.259
         ],
         "z": [
          0.723
         ]
        },
        {
         "hovertemplate": "Country=Tajikistan <br>Agriculture=%{x}<br>Industry=%{y}<br>Service=%{z}<extra></extra>",
         "legendgroup": "Tajikistan ",
         "marker": {
          "color": "#FF6692",
          "symbol": "circle"
         },
         "mode": "markers",
         "name": "Tajikistan ",
         "scene": "scene",
         "showlegend": true,
         "type": "scatter3d",
         "x": [
          0.234
         ],
         "y": [
          0.286
         ],
         "z": [
          0.48
         ]
        },
        {
         "hovertemplate": "Country=Tanzania <br>Agriculture=%{x}<br>Industry=%{y}<br>Service=%{z}<extra></extra>",
         "legendgroup": "Tanzania ",
         "marker": {
          "color": "#B6E880",
          "symbol": "circle"
         },
         "mode": "markers",
         "name": "Tanzania ",
         "scene": "scene",
         "showlegend": true,
         "type": "scatter3d",
         "x": [
          0.432
         ],
         "y": [
          0.172
         ],
         "z": [
          0.396
         ]
        },
        {
         "hovertemplate": "Country=Thailand <br>Agriculture=%{x}<br>Industry=%{y}<br>Service=%{z}<extra></extra>",
         "legendgroup": "Thailand ",
         "marker": {
          "color": "#FF97FF",
          "symbol": "circle"
         },
         "mode": "markers",
         "name": "Thailand ",
         "scene": "scene",
         "showlegend": true,
         "type": "scatter3d",
         "x": [
          0.099
         ],
         "y": [
          0.441
         ],
         "z": [
          0.46
         ]
        },
        {
         "hovertemplate": "Country=Togo <br>Agriculture=%{x}<br>Industry=%{y}<br>Service=%{z}<extra></extra>",
         "legendgroup": "Togo ",
         "marker": {
          "color": "#FECB52",
          "symbol": "circle"
         },
         "mode": "markers",
         "name": "Togo ",
         "scene": "scene",
         "showlegend": true,
         "type": "scatter3d",
         "x": [
          0.395
         ],
         "y": [
          0.204
         ],
         "z": [
          0.401
         ]
        },
        {
         "hovertemplate": "Country=Tonga <br>Agriculture=%{x}<br>Industry=%{y}<br>Service=%{z}<extra></extra>",
         "legendgroup": "Tonga ",
         "marker": {
          "color": "#636efa",
          "symbol": "circle"
         },
         "mode": "markers",
         "name": "Tonga ",
         "scene": "scene",
         "showlegend": true,
         "type": "scatter3d",
         "x": [
          0.23
         ],
         "y": [
          0.27
         ],
         "z": [
          0.5
         ]
        },
        {
         "hovertemplate": "Country=Trinidad & Tobago <br>Agriculture=%{x}<br>Industry=%{y}<br>Service=%{z}<extra></extra>",
         "legendgroup": "Trinidad & Tobago ",
         "marker": {
          "color": "#EF553B",
          "symbol": "circle"
         },
         "mode": "markers",
         "name": "Trinidad & Tobago ",
         "scene": "scene",
         "showlegend": true,
         "type": "scatter3d",
         "x": [
          0.007
         ],
         "y": [
          0.57
         ],
         "z": [
          0.423
         ]
        },
        {
         "hovertemplate": "Country=Tunisia <br>Agriculture=%{x}<br>Industry=%{y}<br>Service=%{z}<extra></extra>",
         "legendgroup": "Tunisia ",
         "marker": {
          "color": "#00cc96",
          "symbol": "circle"
         },
         "mode": "markers",
         "name": "Tunisia ",
         "scene": "scene",
         "showlegend": true,
         "type": "scatter3d",
         "x": [
          0.132
         ],
         "y": [
          0.318
         ],
         "z": [
          0.55
         ]
        },
        {
         "hovertemplate": "Country=Turkey <br>Agriculture=%{x}<br>Industry=%{y}<br>Service=%{z}<extra></extra>",
         "legendgroup": "Turkey ",
         "marker": {
          "color": "#ab63fa",
          "symbol": "circle"
         },
         "mode": "markers",
         "name": "Turkey ",
         "scene": "scene",
         "showlegend": true,
         "type": "scatter3d",
         "x": [
          0.117
         ],
         "y": [
          0.298
         ],
         "z": [
          0.585
         ]
        },
        {
         "hovertemplate": "Country=Turkmenistan <br>Agriculture=%{x}<br>Industry=%{y}<br>Service=%{z}<extra></extra>",
         "legendgroup": "Turkmenistan ",
         "marker": {
          "color": "#FFA15A",
          "symbol": "circle"
         },
         "mode": "markers",
         "name": "Turkmenistan ",
         "scene": "scene",
         "showlegend": true,
         "type": "scatter3d",
         "x": [
          0.209
         ],
         "y": [
          0.38
         ],
         "z": [
          0.411
         ]
        },
        {
         "hovertemplate": "Country=Tuvalu <br>Agriculture=%{x}<br>Industry=%{y}<br>Service=%{z}<extra></extra>",
         "legendgroup": "Tuvalu ",
         "marker": {
          "color": "#19d3f3",
          "symbol": "circle"
         },
         "mode": "markers",
         "name": "Tuvalu ",
         "scene": "scene",
         "showlegend": true,
         "type": "scatter3d",
         "x": [
          0.166
         ],
         "y": [
          0.272
         ],
         "z": [
          0.562
         ]
        },
        {
         "hovertemplate": "Country=Uganda <br>Agriculture=%{x}<br>Industry=%{y}<br>Service=%{z}<extra></extra>",
         "legendgroup": "Uganda ",
         "marker": {
          "color": "#FF6692",
          "symbol": "circle"
         },
         "mode": "markers",
         "name": "Uganda ",
         "scene": "scene",
         "showlegend": true,
         "type": "scatter3d",
         "x": [
          0.311
         ],
         "y": [
          0.222
         ],
         "z": [
          0.469
         ]
        },
        {
         "hovertemplate": "Country=Ukraine <br>Agriculture=%{x}<br>Industry=%{y}<br>Service=%{z}<extra></extra>",
         "legendgroup": "Ukraine ",
         "marker": {
          "color": "#B6E880",
          "symbol": "circle"
         },
         "mode": "markers",
         "name": "Ukraine ",
         "scene": "scene",
         "showlegend": true,
         "type": "scatter3d",
         "x": [
          0.187
         ],
         "y": [
          0.452
         ],
         "z": [
          0.361
         ]
        },
        {
         "hovertemplate": "Country=United Arab Emirates <br>Agriculture=%{x}<br>Industry=%{y}<br>Service=%{z}<extra></extra>",
         "legendgroup": "United Arab Emirates ",
         "marker": {
          "color": "#FF97FF",
          "symbol": "circle"
         },
         "mode": "markers",
         "name": "United Arab Emirates ",
         "scene": "scene",
         "showlegend": true,
         "type": "scatter3d",
         "x": [
          0.04
         ],
         "y": [
          0.585
         ],
         "z": [
          0.375
         ]
        },
        {
         "hovertemplate": "Country=United Kingdom <br>Agriculture=%{x}<br>Industry=%{y}<br>Service=%{z}<extra></extra>",
         "legendgroup": "United Kingdom ",
         "marker": {
          "color": "#FECB52",
          "symbol": "circle"
         },
         "mode": "markers",
         "name": "United Kingdom ",
         "scene": "scene",
         "showlegend": true,
         "type": "scatter3d",
         "x": [
          0.005
         ],
         "y": [
          0.237
         ],
         "z": [
          0.758
         ]
        },
        {
         "hovertemplate": "Country=United States <br>Agriculture=%{x}<br>Industry=%{y}<br>Service=%{z}<extra></extra>",
         "legendgroup": "United States ",
         "marker": {
          "color": "#636efa",
          "symbol": "circle"
         },
         "mode": "markers",
         "name": "United States ",
         "scene": "scene",
         "showlegend": true,
         "type": "scatter3d",
         "x": [
          0.01
         ],
         "y": [
          0.204
         ],
         "z": [
          0.787
         ]
        },
        {
         "hovertemplate": "Country=Uruguay <br>Agriculture=%{x}<br>Industry=%{y}<br>Service=%{z}<extra></extra>",
         "legendgroup": "Uruguay ",
         "marker": {
          "color": "#EF553B",
          "symbol": "circle"
         },
         "mode": "markers",
         "name": "Uruguay ",
         "scene": "scene",
         "showlegend": true,
         "type": "scatter3d",
         "x": [
          0.093
         ],
         "y": [
          0.311
         ],
         "z": [
          0.596
         ]
        },
        {
         "hovertemplate": "Country=Uzbekistan <br>Agriculture=%{x}<br>Industry=%{y}<br>Service=%{z}<extra></extra>",
         "legendgroup": "Uzbekistan ",
         "marker": {
          "color": "#00cc96",
          "symbol": "circle"
         },
         "mode": "markers",
         "name": "Uzbekistan ",
         "scene": "scene",
         "showlegend": true,
         "type": "scatter3d",
         "x": [
          0.342
         ],
         "y": [
          0.229
         ],
         "z": [
          0.43
         ]
        },
        {
         "hovertemplate": "Country=Vanuatu <br>Agriculture=%{x}<br>Industry=%{y}<br>Service=%{z}<extra></extra>",
         "legendgroup": "Vanuatu ",
         "marker": {
          "color": "#ab63fa",
          "symbol": "circle"
         },
         "mode": "markers",
         "name": "Vanuatu ",
         "scene": "scene",
         "showlegend": true,
         "type": "scatter3d",
         "x": [
          0.26
         ],
         "y": [
          0.12
         ],
         "z": [
          0.62
         ]
        },
        {
         "hovertemplate": "Country=Venezuela <br>Agriculture=%{x}<br>Industry=%{y}<br>Service=%{z}<extra></extra>",
         "legendgroup": "Venezuela ",
         "marker": {
          "color": "#FFA15A",
          "symbol": "circle"
         },
         "mode": "markers",
         "name": "Venezuela ",
         "scene": "scene",
         "showlegend": true,
         "type": "scatter3d",
         "x": [
          0.04
         ],
         "y": [
          0.419
         ],
         "z": [
          0.541
         ]
        },
        {
         "hovertemplate": "Country=Vietnam <br>Agriculture=%{x}<br>Industry=%{y}<br>Service=%{z}<extra></extra>",
         "legendgroup": "Vietnam ",
         "marker": {
          "color": "#19d3f3",
          "symbol": "circle"
         },
         "mode": "markers",
         "name": "Vietnam ",
         "scene": "scene",
         "showlegend": true,
         "type": "scatter3d",
         "x": [
          0.209
         ],
         "y": [
          0.41
         ],
         "z": [
          0.381
         ]
        },
        {
         "hovertemplate": "Country=Virgin Islands <br>Agriculture=%{x}<br>Industry=%{y}<br>Service=%{z}<extra></extra>",
         "legendgroup": "Virgin Islands ",
         "marker": {
          "color": "#FF6692",
          "symbol": "circle"
         },
         "mode": "markers",
         "name": "Virgin Islands ",
         "scene": "scene",
         "showlegend": true,
         "type": "scatter3d",
         "x": [
          0.01
         ],
         "y": [
          0.19
         ],
         "z": [
          0.8
         ]
        },
        {
         "hovertemplate": "Country=West Bank <br>Agriculture=%{x}<br>Industry=%{y}<br>Service=%{z}<extra></extra>",
         "legendgroup": "West Bank ",
         "marker": {
          "color": "#B6E880",
          "symbol": "circle"
         },
         "mode": "markers",
         "name": "West Bank ",
         "scene": "scene",
         "showlegend": true,
         "type": "scatter3d",
         "x": [
          0.09
         ],
         "y": [
          0.28
         ],
         "z": [
          0.63
         ]
        },
        {
         "hovertemplate": "Country=Yemen <br>Agriculture=%{x}<br>Industry=%{y}<br>Service=%{z}<extra></extra>",
         "legendgroup": "Yemen ",
         "marker": {
          "color": "#FF97FF",
          "symbol": "circle"
         },
         "mode": "markers",
         "name": "Yemen ",
         "scene": "scene",
         "showlegend": true,
         "type": "scatter3d",
         "x": [
          0.135
         ],
         "y": [
          0.472
         ],
         "z": [
          0.393
         ]
        },
        {
         "hovertemplate": "Country=Zambia <br>Agriculture=%{x}<br>Industry=%{y}<br>Service=%{z}<extra></extra>",
         "legendgroup": "Zambia ",
         "marker": {
          "color": "#FECB52",
          "symbol": "circle"
         },
         "mode": "markers",
         "name": "Zambia ",
         "scene": "scene",
         "showlegend": true,
         "type": "scatter3d",
         "x": [
          0.22
         ],
         "y": [
          0.29
         ],
         "z": [
          0.489
         ]
        },
        {
         "hovertemplate": "Country=Zimbabwe <br>Agriculture=%{x}<br>Industry=%{y}<br>Service=%{z}<extra></extra>",
         "legendgroup": "Zimbabwe ",
         "marker": {
          "color": "#636efa",
          "symbol": "circle"
         },
         "mode": "markers",
         "name": "Zimbabwe ",
         "scene": "scene",
         "showlegend": true,
         "type": "scatter3d",
         "x": [
          0.179
         ],
         "y": [
          0.243
         ],
         "z": [
          0.579
         ]
        }
       ],
       "layout": {
        "legend": {
         "title": {
          "text": "Country"
         },
         "tracegroupgap": 0
        },
        "scene": {
         "domain": {
          "x": [
           0.0,
           1.0
          ],
          "y": [
           0.0,
           1.0
          ]
         },
         "xaxis": {
          "title": {
           "text": "Agriculture"
          }
         },
         "yaxis": {
          "title": {
           "text": "Industry"
          }
         },
         "zaxis": {
          "title": {
           "text": "Service"
          }
         }
        },
        "template": {
         "data": {
          "bar": [
           {
            "error_x": {
             "color": "#2a3f5f"
            },
            "error_y": {
             "color": "#2a3f5f"
            },
            "marker": {
             "line": {
              "color": "#E5ECF6",
              "width": 0.5
             }
            },
            "type": "bar"
           }
          ],
          "barpolar": [
           {
            "marker": {
             "line": {
              "color": "#E5ECF6",
              "width": 0.5
             }
            },
            "type": "barpolar"
           }
          ],
          "carpet": [
           {
            "aaxis": {
             "endlinecolor": "#2a3f5f",
             "gridcolor": "white",
             "linecolor": "white",
             "minorgridcolor": "white",
             "startlinecolor": "#2a3f5f"
            },
            "baxis": {
             "endlinecolor": "#2a3f5f",
             "gridcolor": "white",
             "linecolor": "white",
             "minorgridcolor": "white",
             "startlinecolor": "#2a3f5f"
            },
            "type": "carpet"
           }
          ],
          "choropleth": [
           {
            "colorbar": {
             "outlinewidth": 0,
             "ticks": ""
            },
            "type": "choropleth"
           }
          ],
          "contour": [
           {
            "colorbar": {
             "outlinewidth": 0,
             "ticks": ""
            },
            "colorscale": [
             [
              0.0,
              "#0d0887"
             ],
             [
              0.1111111111111111,
              "#46039f"
             ],
             [
              0.2222222222222222,
              "#7201a8"
             ],
             [
              0.3333333333333333,
              "#9c179e"
             ],
             [
              0.4444444444444444,
              "#bd3786"
             ],
             [
              0.5555555555555556,
              "#d8576b"
             ],
             [
              0.6666666666666666,
              "#ed7953"
             ],
             [
              0.7777777777777778,
              "#fb9f3a"
             ],
             [
              0.8888888888888888,
              "#fdca26"
             ],
             [
              1.0,
              "#f0f921"
             ]
            ],
            "type": "contour"
           }
          ],
          "contourcarpet": [
           {
            "colorbar": {
             "outlinewidth": 0,
             "ticks": ""
            },
            "type": "contourcarpet"
           }
          ],
          "heatmap": [
           {
            "colorbar": {
             "outlinewidth": 0,
             "ticks": ""
            },
            "colorscale": [
             [
              0.0,
              "#0d0887"
             ],
             [
              0.1111111111111111,
              "#46039f"
             ],
             [
              0.2222222222222222,
              "#7201a8"
             ],
             [
              0.3333333333333333,
              "#9c179e"
             ],
             [
              0.4444444444444444,
              "#bd3786"
             ],
             [
              0.5555555555555556,
              "#d8576b"
             ],
             [
              0.6666666666666666,
              "#ed7953"
             ],
             [
              0.7777777777777778,
              "#fb9f3a"
             ],
             [
              0.8888888888888888,
              "#fdca26"
             ],
             [
              1.0,
              "#f0f921"
             ]
            ],
            "type": "heatmap"
           }
          ],
          "heatmapgl": [
           {
            "colorbar": {
             "outlinewidth": 0,
             "ticks": ""
            },
            "colorscale": [
             [
              0.0,
              "#0d0887"
             ],
             [
              0.1111111111111111,
              "#46039f"
             ],
             [
              0.2222222222222222,
              "#7201a8"
             ],
             [
              0.3333333333333333,
              "#9c179e"
             ],
             [
              0.4444444444444444,
              "#bd3786"
             ],
             [
              0.5555555555555556,
              "#d8576b"
             ],
             [
              0.6666666666666666,
              "#ed7953"
             ],
             [
              0.7777777777777778,
              "#fb9f3a"
             ],
             [
              0.8888888888888888,
              "#fdca26"
             ],
             [
              1.0,
              "#f0f921"
             ]
            ],
            "type": "heatmapgl"
           }
          ],
          "histogram": [
           {
            "marker": {
             "colorbar": {
              "outlinewidth": 0,
              "ticks": ""
             }
            },
            "type": "histogram"
           }
          ],
          "histogram2d": [
           {
            "colorbar": {
             "outlinewidth": 0,
             "ticks": ""
            },
            "colorscale": [
             [
              0.0,
              "#0d0887"
             ],
             [
              0.1111111111111111,
              "#46039f"
             ],
             [
              0.2222222222222222,
              "#7201a8"
             ],
             [
              0.3333333333333333,
              "#9c179e"
             ],
             [
              0.4444444444444444,
              "#bd3786"
             ],
             [
              0.5555555555555556,
              "#d8576b"
             ],
             [
              0.6666666666666666,
              "#ed7953"
             ],
             [
              0.7777777777777778,
              "#fb9f3a"
             ],
             [
              0.8888888888888888,
              "#fdca26"
             ],
             [
              1.0,
              "#f0f921"
             ]
            ],
            "type": "histogram2d"
           }
          ],
          "histogram2dcontour": [
           {
            "colorbar": {
             "outlinewidth": 0,
             "ticks": ""
            },
            "colorscale": [
             [
              0.0,
              "#0d0887"
             ],
             [
              0.1111111111111111,
              "#46039f"
             ],
             [
              0.2222222222222222,
              "#7201a8"
             ],
             [
              0.3333333333333333,
              "#9c179e"
             ],
             [
              0.4444444444444444,
              "#bd3786"
             ],
             [
              0.5555555555555556,
              "#d8576b"
             ],
             [
              0.6666666666666666,
              "#ed7953"
             ],
             [
              0.7777777777777778,
              "#fb9f3a"
             ],
             [
              0.8888888888888888,
              "#fdca26"
             ],
             [
              1.0,
              "#f0f921"
             ]
            ],
            "type": "histogram2dcontour"
           }
          ],
          "mesh3d": [
           {
            "colorbar": {
             "outlinewidth": 0,
             "ticks": ""
            },
            "type": "mesh3d"
           }
          ],
          "parcoords": [
           {
            "line": {
             "colorbar": {
              "outlinewidth": 0,
              "ticks": ""
             }
            },
            "type": "parcoords"
           }
          ],
          "pie": [
           {
            "automargin": true,
            "type": "pie"
           }
          ],
          "scatter": [
           {
            "marker": {
             "colorbar": {
              "outlinewidth": 0,
              "ticks": ""
             }
            },
            "type": "scatter"
           }
          ],
          "scatter3d": [
           {
            "line": {
             "colorbar": {
              "outlinewidth": 0,
              "ticks": ""
             }
            },
            "marker": {
             "colorbar": {
              "outlinewidth": 0,
              "ticks": ""
             }
            },
            "type": "scatter3d"
           }
          ],
          "scattercarpet": [
           {
            "marker": {
             "colorbar": {
              "outlinewidth": 0,
              "ticks": ""
             }
            },
            "type": "scattercarpet"
           }
          ],
          "scattergeo": [
           {
            "marker": {
             "colorbar": {
              "outlinewidth": 0,
              "ticks": ""
             }
            },
            "type": "scattergeo"
           }
          ],
          "scattergl": [
           {
            "marker": {
             "colorbar": {
              "outlinewidth": 0,
              "ticks": ""
             }
            },
            "type": "scattergl"
           }
          ],
          "scattermapbox": [
           {
            "marker": {
             "colorbar": {
              "outlinewidth": 0,
              "ticks": ""
             }
            },
            "type": "scattermapbox"
           }
          ],
          "scatterpolar": [
           {
            "marker": {
             "colorbar": {
              "outlinewidth": 0,
              "ticks": ""
             }
            },
            "type": "scatterpolar"
           }
          ],
          "scatterpolargl": [
           {
            "marker": {
             "colorbar": {
              "outlinewidth": 0,
              "ticks": ""
             }
            },
            "type": "scatterpolargl"
           }
          ],
          "scatterternary": [
           {
            "marker": {
             "colorbar": {
              "outlinewidth": 0,
              "ticks": ""
             }
            },
            "type": "scatterternary"
           }
          ],
          "surface": [
           {
            "colorbar": {
             "outlinewidth": 0,
             "ticks": ""
            },
            "colorscale": [
             [
              0.0,
              "#0d0887"
             ],
             [
              0.1111111111111111,
              "#46039f"
             ],
             [
              0.2222222222222222,
              "#7201a8"
             ],
             [
              0.3333333333333333,
              "#9c179e"
             ],
             [
              0.4444444444444444,
              "#bd3786"
             ],
             [
              0.5555555555555556,
              "#d8576b"
             ],
             [
              0.6666666666666666,
              "#ed7953"
             ],
             [
              0.7777777777777778,
              "#fb9f3a"
             ],
             [
              0.8888888888888888,
              "#fdca26"
             ],
             [
              1.0,
              "#f0f921"
             ]
            ],
            "type": "surface"
           }
          ],
          "table": [
           {
            "cells": {
             "fill": {
              "color": "#EBF0F8"
             },
             "line": {
              "color": "white"
             }
            },
            "header": {
             "fill": {
              "color": "#C8D4E3"
             },
             "line": {
              "color": "white"
             }
            },
            "type": "table"
           }
          ]
         },
         "layout": {
          "annotationdefaults": {
           "arrowcolor": "#2a3f5f",
           "arrowhead": 0,
           "arrowwidth": 1
          },
          "coloraxis": {
           "colorbar": {
            "outlinewidth": 0,
            "ticks": ""
           }
          },
          "colorscale": {
           "diverging": [
            [
             0,
             "#8e0152"
            ],
            [
             0.1,
             "#c51b7d"
            ],
            [
             0.2,
             "#de77ae"
            ],
            [
             0.3,
             "#f1b6da"
            ],
            [
             0.4,
             "#fde0ef"
            ],
            [
             0.5,
             "#f7f7f7"
            ],
            [
             0.6,
             "#e6f5d0"
            ],
            [
             0.7,
             "#b8e186"
            ],
            [
             0.8,
             "#7fbc41"
            ],
            [
             0.9,
             "#4d9221"
            ],
            [
             1,
             "#276419"
            ]
           ],
           "sequential": [
            [
             0.0,
             "#0d0887"
            ],
            [
             0.1111111111111111,
             "#46039f"
            ],
            [
             0.2222222222222222,
             "#7201a8"
            ],
            [
             0.3333333333333333,
             "#9c179e"
            ],
            [
             0.4444444444444444,
             "#bd3786"
            ],
            [
             0.5555555555555556,
             "#d8576b"
            ],
            [
             0.6666666666666666,
             "#ed7953"
            ],
            [
             0.7777777777777778,
             "#fb9f3a"
            ],
            [
             0.8888888888888888,
             "#fdca26"
            ],
            [
             1.0,
             "#f0f921"
            ]
           ],
           "sequentialminus": [
            [
             0.0,
             "#0d0887"
            ],
            [
             0.1111111111111111,
             "#46039f"
            ],
            [
             0.2222222222222222,
             "#7201a8"
            ],
            [
             0.3333333333333333,
             "#9c179e"
            ],
            [
             0.4444444444444444,
             "#bd3786"
            ],
            [
             0.5555555555555556,
             "#d8576b"
            ],
            [
             0.6666666666666666,
             "#ed7953"
            ],
            [
             0.7777777777777778,
             "#fb9f3a"
            ],
            [
             0.8888888888888888,
             "#fdca26"
            ],
            [
             1.0,
             "#f0f921"
            ]
           ]
          },
          "colorway": [
           "#636efa",
           "#EF553B",
           "#00cc96",
           "#ab63fa",
           "#FFA15A",
           "#19d3f3",
           "#FF6692",
           "#B6E880",
           "#FF97FF",
           "#FECB52"
          ],
          "font": {
           "color": "#2a3f5f"
          },
          "geo": {
           "bgcolor": "white",
           "lakecolor": "white",
           "landcolor": "#E5ECF6",
           "showlakes": true,
           "showland": true,
           "subunitcolor": "white"
          },
          "hoverlabel": {
           "align": "left"
          },
          "hovermode": "closest",
          "mapbox": {
           "style": "light"
          },
          "paper_bgcolor": "white",
          "plot_bgcolor": "#E5ECF6",
          "polar": {
           "angularaxis": {
            "gridcolor": "white",
            "linecolor": "white",
            "ticks": ""
           },
           "bgcolor": "#E5ECF6",
           "radialaxis": {
            "gridcolor": "white",
            "linecolor": "white",
            "ticks": ""
           }
          },
          "scene": {
           "xaxis": {
            "backgroundcolor": "#E5ECF6",
            "gridcolor": "white",
            "gridwidth": 2,
            "linecolor": "white",
            "showbackground": true,
            "ticks": "",
            "zerolinecolor": "white"
           },
           "yaxis": {
            "backgroundcolor": "#E5ECF6",
            "gridcolor": "white",
            "gridwidth": 2,
            "linecolor": "white",
            "showbackground": true,
            "ticks": "",
            "zerolinecolor": "white"
           },
           "zaxis": {
            "backgroundcolor": "#E5ECF6",
            "gridcolor": "white",
            "gridwidth": 2,
            "linecolor": "white",
            "showbackground": true,
            "ticks": "",
            "zerolinecolor": "white"
           }
          },
          "shapedefaults": {
           "line": {
            "color": "#2a3f5f"
           }
          },
          "ternary": {
           "aaxis": {
            "gridcolor": "white",
            "linecolor": "white",
            "ticks": ""
           },
           "baxis": {
            "gridcolor": "white",
            "linecolor": "white",
            "ticks": ""
           },
           "bgcolor": "#E5ECF6",
           "caxis": {
            "gridcolor": "white",
            "linecolor": "white",
            "ticks": ""
           }
          },
          "title": {
           "x": 0.05
          },
          "xaxis": {
           "automargin": true,
           "gridcolor": "white",
           "linecolor": "white",
           "ticks": "",
           "title": {
            "standoff": 15
           },
           "zerolinecolor": "white",
           "zerolinewidth": 2
          },
          "yaxis": {
           "automargin": true,
           "gridcolor": "white",
           "linecolor": "white",
           "ticks": "",
           "title": {
            "standoff": 15
           },
           "zerolinecolor": "white",
           "zerolinewidth": 2
          }
         }
        },
        "title": {
         "text": "Sectoral Distribution"
        }
       }
      },
      "text/html": [
       "<div>\n",
       "        \n",
       "        \n",
       "            <div id=\"64d0da73-0570-444a-8a95-1fbeba065e23\" class=\"plotly-graph-div\" style=\"height:525px; width:100%;\"></div>\n",
       "            <script type=\"text/javascript\">\n",
       "                require([\"plotly\"], function(Plotly) {\n",
       "                    window.PLOTLYENV=window.PLOTLYENV || {};\n",
       "                    \n",
       "                if (document.getElementById(\"64d0da73-0570-444a-8a95-1fbeba065e23\")) {\n",
       "                    Plotly.newPlot(\n",
       "                        '64d0da73-0570-444a-8a95-1fbeba065e23',\n",
       "                        [{\"hovertemplate\": \"Country=Afghanistan <br>Agriculture=%{x}<br>Industry=%{y}<br>Service=%{z}<extra></extra>\", \"legendgroup\": \"Afghanistan \", \"marker\": {\"color\": \"#636efa\", \"symbol\": \"circle\"}, \"mode\": \"markers\", \"name\": \"Afghanistan \", \"scene\": \"scene\", \"showlegend\": true, \"type\": \"scatter3d\", \"x\": [0.38], \"y\": [0.24], \"z\": [0.38]}, {\"hovertemplate\": \"Country=Albania <br>Agriculture=%{x}<br>Industry=%{y}<br>Service=%{z}<extra></extra>\", \"legendgroup\": \"Albania \", \"marker\": {\"color\": \"#EF553B\", \"symbol\": \"circle\"}, \"mode\": \"markers\", \"name\": \"Albania \", \"scene\": \"scene\", \"showlegend\": true, \"type\": \"scatter3d\", \"x\": [0.232], \"y\": [0.188], \"z\": [0.579]}, {\"hovertemplate\": \"Country=Algeria <br>Agriculture=%{x}<br>Industry=%{y}<br>Service=%{z}<extra></extra>\", \"legendgroup\": \"Algeria \", \"marker\": {\"color\": \"#00cc96\", \"symbol\": \"circle\"}, \"mode\": \"markers\", \"name\": \"Algeria \", \"scene\": \"scene\", \"showlegend\": true, \"type\": \"scatter3d\", \"x\": [0.101], \"y\": [0.6], \"z\": [0.298]}, {\"hovertemplate\": \"Country=Angola <br>Agriculture=%{x}<br>Industry=%{y}<br>Service=%{z}<extra></extra>\", \"legendgroup\": \"Angola \", \"marker\": {\"color\": \"#ab63fa\", \"symbol\": \"circle\"}, \"mode\": \"markers\", \"name\": \"Angola \", \"scene\": \"scene\", \"showlegend\": true, \"type\": \"scatter3d\", \"x\": [0.096], \"y\": [0.658], \"z\": [0.246]}, {\"hovertemplate\": \"Country=Anguilla <br>Agriculture=%{x}<br>Industry=%{y}<br>Service=%{z}<extra></extra>\", \"legendgroup\": \"Anguilla \", \"marker\": {\"color\": \"#FFA15A\", \"symbol\": \"circle\"}, \"mode\": \"markers\", \"name\": \"Anguilla \", \"scene\": \"scene\", \"showlegend\": true, \"type\": \"scatter3d\", \"x\": [0.04], \"y\": [0.18], \"z\": [0.78]}, {\"hovertemplate\": \"Country=Antigua & Barbuda <br>Agriculture=%{x}<br>Industry=%{y}<br>Service=%{z}<extra></extra>\", \"legendgroup\": \"Antigua & Barbuda \", \"marker\": {\"color\": \"#19d3f3\", \"symbol\": \"circle\"}, \"mode\": \"markers\", \"name\": \"Antigua & Barbuda \", \"scene\": \"scene\", \"showlegend\": true, \"type\": \"scatter3d\", \"x\": [0.038], \"y\": [0.22], \"z\": [0.743]}, {\"hovertemplate\": \"Country=Argentina <br>Agriculture=%{x}<br>Industry=%{y}<br>Service=%{z}<extra></extra>\", \"legendgroup\": \"Argentina \", \"marker\": {\"color\": \"#FF6692\", \"symbol\": \"circle\"}, \"mode\": \"markers\", \"name\": \"Argentina \", \"scene\": \"scene\", \"showlegend\": true, \"type\": \"scatter3d\", \"x\": [0.095], \"y\": [0.358], \"z\": [0.547]}, {\"hovertemplate\": \"Country=Armenia <br>Agriculture=%{x}<br>Industry=%{y}<br>Service=%{z}<extra></extra>\", \"legendgroup\": \"Armenia \", \"marker\": {\"color\": \"#B6E880\", \"symbol\": \"circle\"}, \"mode\": \"markers\", \"name\": \"Armenia \", \"scene\": \"scene\", \"showlegend\": true, \"type\": \"scatter3d\", \"x\": [0.239], \"y\": [0.343], \"z\": [0.418]}, {\"hovertemplate\": \"Country=Aruba <br>Agriculture=%{x}<br>Industry=%{y}<br>Service=%{z}<extra></extra>\", \"legendgroup\": \"Aruba \", \"marker\": {\"color\": \"#FF97FF\", \"symbol\": \"circle\"}, \"mode\": \"markers\", \"name\": \"Aruba \", \"scene\": \"scene\", \"showlegend\": true, \"type\": \"scatter3d\", \"x\": [0.004], \"y\": [0.333], \"z\": [0.663]}, {\"hovertemplate\": \"Country=Australia <br>Agriculture=%{x}<br>Industry=%{y}<br>Service=%{z}<extra></extra>\", \"legendgroup\": \"Australia \", \"marker\": {\"color\": \"#FECB52\", \"symbol\": \"circle\"}, \"mode\": \"markers\", \"name\": \"Australia \", \"scene\": \"scene\", \"showlegend\": true, \"type\": \"scatter3d\", \"x\": [0.038], \"y\": [0.262], \"z\": [0.7]}, {\"hovertemplate\": \"Country=Austria <br>Agriculture=%{x}<br>Industry=%{y}<br>Service=%{z}<extra></extra>\", \"legendgroup\": \"Austria \", \"marker\": {\"color\": \"#636efa\", \"symbol\": \"circle\"}, \"mode\": \"markers\", \"name\": \"Austria \", \"scene\": \"scene\", \"showlegend\": true, \"type\": \"scatter3d\", \"x\": [0.018], \"y\": [0.304], \"z\": [0.678]}, {\"hovertemplate\": \"Country=Azerbaijan <br>Agriculture=%{x}<br>Industry=%{y}<br>Service=%{z}<extra></extra>\", \"legendgroup\": \"Azerbaijan \", \"marker\": {\"color\": \"#EF553B\", \"symbol\": \"circle\"}, \"mode\": \"markers\", \"name\": \"Azerbaijan \", \"scene\": \"scene\", \"showlegend\": true, \"type\": \"scatter3d\", \"x\": [0.141], \"y\": [0.457], \"z\": [0.402]}, {\"hovertemplate\": \"Country=Bahamas, The <br>Agriculture=%{x}<br>Industry=%{y}<br>Service=%{z}<extra></extra>\", \"legendgroup\": \"Bahamas, The \", \"marker\": {\"color\": \"#00cc96\", \"symbol\": \"circle\"}, \"mode\": \"markers\", \"name\": \"Bahamas, The \", \"scene\": \"scene\", \"showlegend\": true, \"type\": \"scatter3d\", \"x\": [0.03], \"y\": [0.07], \"z\": [0.9]}, {\"hovertemplate\": \"Country=Bahrain <br>Agriculture=%{x}<br>Industry=%{y}<br>Service=%{z}<extra></extra>\", \"legendgroup\": \"Bahrain \", \"marker\": {\"color\": \"#ab63fa\", \"symbol\": \"circle\"}, \"mode\": \"markers\", \"name\": \"Bahrain \", \"scene\": \"scene\", \"showlegend\": true, \"type\": \"scatter3d\", \"x\": [0.005], \"y\": [0.387], \"z\": [0.608]}, {\"hovertemplate\": \"Country=Bangladesh <br>Agriculture=%{x}<br>Industry=%{y}<br>Service=%{z}<extra></extra>\", \"legendgroup\": \"Bangladesh \", \"marker\": {\"color\": \"#FFA15A\", \"symbol\": \"circle\"}, \"mode\": \"markers\", \"name\": \"Bangladesh \", \"scene\": \"scene\", \"showlegend\": true, \"type\": \"scatter3d\", \"x\": [0.199], \"y\": [0.198], \"z\": [0.603]}, {\"hovertemplate\": \"Country=Barbados <br>Agriculture=%{x}<br>Industry=%{y}<br>Service=%{z}<extra></extra>\", \"legendgroup\": \"Barbados \", \"marker\": {\"color\": \"#19d3f3\", \"symbol\": \"circle\"}, \"mode\": \"markers\", \"name\": \"Barbados \", \"scene\": \"scene\", \"showlegend\": true, \"type\": \"scatter3d\", \"x\": [0.06], \"y\": [0.16], \"z\": [0.78]}, {\"hovertemplate\": \"Country=Belarus <br>Agriculture=%{x}<br>Industry=%{y}<br>Service=%{z}<extra></extra>\", \"legendgroup\": \"Belarus \", \"marker\": {\"color\": \"#FF6692\", \"symbol\": \"circle\"}, \"mode\": \"markers\", \"name\": \"Belarus \", \"scene\": \"scene\", \"showlegend\": true, \"type\": \"scatter3d\", \"x\": [0.093], \"y\": [0.316], \"z\": [0.591]}, {\"hovertemplate\": \"Country=Belgium <br>Agriculture=%{x}<br>Industry=%{y}<br>Service=%{z}<extra></extra>\", \"legendgroup\": \"Belgium \", \"marker\": {\"color\": \"#B6E880\", \"symbol\": \"circle\"}, \"mode\": \"markers\", \"name\": \"Belgium \", \"scene\": \"scene\", \"showlegend\": true, \"type\": \"scatter3d\", \"x\": [0.01], \"y\": [0.24], \"z\": [0.749]}, {\"hovertemplate\": \"Country=Belize <br>Agriculture=%{x}<br>Industry=%{y}<br>Service=%{z}<extra></extra>\", \"legendgroup\": \"Belize \", \"marker\": {\"color\": \"#FF97FF\", \"symbol\": \"circle\"}, \"mode\": \"markers\", \"name\": \"Belize \", \"scene\": \"scene\", \"showlegend\": true, \"type\": \"scatter3d\", \"x\": [0.142], \"y\": [0.152], \"z\": [0.612]}, {\"hovertemplate\": \"Country=Benin <br>Agriculture=%{x}<br>Industry=%{y}<br>Service=%{z}<extra></extra>\", \"legendgroup\": \"Benin \", \"marker\": {\"color\": \"#FECB52\", \"symbol\": \"circle\"}, \"mode\": \"markers\", \"name\": \"Benin \", \"scene\": \"scene\", \"showlegend\": true, \"type\": \"scatter3d\", \"x\": [0.316], \"y\": [0.138], \"z\": [0.546]}, {\"hovertemplate\": \"Country=Bermuda <br>Agriculture=%{x}<br>Industry=%{y}<br>Service=%{z}<extra></extra>\", \"legendgroup\": \"Bermuda \", \"marker\": {\"color\": \"#636efa\", \"symbol\": \"circle\"}, \"mode\": \"markers\", \"name\": \"Bermuda \", \"scene\": \"scene\", \"showlegend\": true, \"type\": \"scatter3d\", \"x\": [0.01], \"y\": [0.1], \"z\": [0.89]}, {\"hovertemplate\": \"Country=Bhutan <br>Agriculture=%{x}<br>Industry=%{y}<br>Service=%{z}<extra></extra>\", \"legendgroup\": \"Bhutan \", \"marker\": {\"color\": \"#EF553B\", \"symbol\": \"circle\"}, \"mode\": \"markers\", \"name\": \"Bhutan \", \"scene\": \"scene\", \"showlegend\": true, \"type\": \"scatter3d\", \"x\": [0.258], \"y\": [0.379], \"z\": [0.363]}, {\"hovertemplate\": \"Country=Bolivia <br>Agriculture=%{x}<br>Industry=%{y}<br>Service=%{z}<extra></extra>\", \"legendgroup\": \"Bolivia \", \"marker\": {\"color\": \"#00cc96\", \"symbol\": \"circle\"}, \"mode\": \"markers\", \"name\": \"Bolivia \", \"scene\": \"scene\", \"showlegend\": true, \"type\": \"scatter3d\", \"x\": [0.128], \"y\": [0.352], \"z\": [0.52]}, {\"hovertemplate\": \"Country=Bosnia & Herzegovina <br>Agriculture=%{x}<br>Industry=%{y}<br>Service=%{z}<extra></extra>\", \"legendgroup\": \"Bosnia & Herzegovina \", \"marker\": {\"color\": \"#ab63fa\", \"symbol\": \"circle\"}, \"mode\": \"markers\", \"name\": \"Bosnia & Herzegovina \", \"scene\": \"scene\", \"showlegend\": true, \"type\": \"scatter3d\", \"x\": [0.142], \"y\": [0.308], \"z\": [0.55]}, {\"hovertemplate\": \"Country=Botswana <br>Agriculture=%{x}<br>Industry=%{y}<br>Service=%{z}<extra></extra>\", \"legendgroup\": \"Botswana \", \"marker\": {\"color\": \"#FFA15A\", \"symbol\": \"circle\"}, \"mode\": \"markers\", \"name\": \"Botswana \", \"scene\": \"scene\", \"showlegend\": true, \"type\": \"scatter3d\", \"x\": [0.024], \"y\": [0.469], \"z\": [0.507]}, {\"hovertemplate\": \"Country=Brazil <br>Agriculture=%{x}<br>Industry=%{y}<br>Service=%{z}<extra></extra>\", \"legendgroup\": \"Brazil \", \"marker\": {\"color\": \"#19d3f3\", \"symbol\": \"circle\"}, \"mode\": \"markers\", \"name\": \"Brazil \", \"scene\": \"scene\", \"showlegend\": true, \"type\": \"scatter3d\", \"x\": [0.084], \"y\": [0.4], \"z\": [0.516]}, {\"hovertemplate\": \"Country=British Virgin Is. <br>Agriculture=%{x}<br>Industry=%{y}<br>Service=%{z}<extra></extra>\", \"legendgroup\": \"British Virgin Is. \", \"marker\": {\"color\": \"#FF6692\", \"symbol\": \"circle\"}, \"mode\": \"markers\", \"name\": \"British Virgin Is. \", \"scene\": \"scene\", \"showlegend\": true, \"type\": \"scatter3d\", \"x\": [0.018], \"y\": [0.062], \"z\": [0.92]}, {\"hovertemplate\": \"Country=Brunei <br>Agriculture=%{x}<br>Industry=%{y}<br>Service=%{z}<extra></extra>\", \"legendgroup\": \"Brunei \", \"marker\": {\"color\": \"#B6E880\", \"symbol\": \"circle\"}, \"mode\": \"markers\", \"name\": \"Brunei \", \"scene\": \"scene\", \"showlegend\": true, \"type\": \"scatter3d\", \"x\": [0.036], \"y\": [0.561], \"z\": [0.403]}, {\"hovertemplate\": \"Country=Bulgaria <br>Agriculture=%{x}<br>Industry=%{y}<br>Service=%{z}<extra></extra>\", \"legendgroup\": \"Bulgaria \", \"marker\": {\"color\": \"#FF97FF\", \"symbol\": \"circle\"}, \"mode\": \"markers\", \"name\": \"Bulgaria \", \"scene\": \"scene\", \"showlegend\": true, \"type\": \"scatter3d\", \"x\": [0.093], \"y\": [0.304], \"z\": [0.603]}, {\"hovertemplate\": \"Country=Burkina Faso <br>Agriculture=%{x}<br>Industry=%{y}<br>Service=%{z}<extra></extra>\", \"legendgroup\": \"Burkina Faso \", \"marker\": {\"color\": \"#FECB52\", \"symbol\": \"circle\"}, \"mode\": \"markers\", \"name\": \"Burkina Faso \", \"scene\": \"scene\", \"showlegend\": true, \"type\": \"scatter3d\", \"x\": [0.322], \"y\": [0.196], \"z\": [0.482]}, {\"hovertemplate\": \"Country=Burma <br>Agriculture=%{x}<br>Industry=%{y}<br>Service=%{z}<extra></extra>\", \"legendgroup\": \"Burma \", \"marker\": {\"color\": \"#636efa\", \"symbol\": \"circle\"}, \"mode\": \"markers\", \"name\": \"Burma \", \"scene\": \"scene\", \"showlegend\": true, \"type\": \"scatter3d\", \"x\": [0.564], \"y\": [0.082], \"z\": [0.353]}, {\"hovertemplate\": \"Country=Burundi <br>Agriculture=%{x}<br>Industry=%{y}<br>Service=%{z}<extra></extra>\", \"legendgroup\": \"Burundi \", \"marker\": {\"color\": \"#EF553B\", \"symbol\": \"circle\"}, \"mode\": \"markers\", \"name\": \"Burundi \", \"scene\": \"scene\", \"showlegend\": true, \"type\": \"scatter3d\", \"x\": [0.463], \"y\": [0.203], \"z\": [0.334]}, {\"hovertemplate\": \"Country=Cambodia <br>Agriculture=%{x}<br>Industry=%{y}<br>Service=%{z}<extra></extra>\", \"legendgroup\": \"Cambodia \", \"marker\": {\"color\": \"#00cc96\", \"symbol\": \"circle\"}, \"mode\": \"markers\", \"name\": \"Cambodia \", \"scene\": \"scene\", \"showlegend\": true, \"type\": \"scatter3d\", \"x\": [0.35], \"y\": [0.3], \"z\": [0.35]}, {\"hovertemplate\": \"Country=Cameroon <br>Agriculture=%{x}<br>Industry=%{y}<br>Service=%{z}<extra></extra>\", \"legendgroup\": \"Cameroon \", \"marker\": {\"color\": \"#ab63fa\", \"symbol\": \"circle\"}, \"mode\": \"markers\", \"name\": \"Cameroon \", \"scene\": \"scene\", \"showlegend\": true, \"type\": \"scatter3d\", \"x\": [0.448], \"y\": [0.17], \"z\": [0.382]}, {\"hovertemplate\": \"Country=Canada <br>Agriculture=%{x}<br>Industry=%{y}<br>Service=%{z}<extra></extra>\", \"legendgroup\": \"Canada \", \"marker\": {\"color\": \"#FFA15A\", \"symbol\": \"circle\"}, \"mode\": \"markers\", \"name\": \"Canada \", \"scene\": \"scene\", \"showlegend\": true, \"type\": \"scatter3d\", \"x\": [0.022], \"y\": [0.294], \"z\": [0.684]}, {\"hovertemplate\": \"Country=Cape Verde <br>Agriculture=%{x}<br>Industry=%{y}<br>Service=%{z}<extra></extra>\", \"legendgroup\": \"Cape Verde \", \"marker\": {\"color\": \"#19d3f3\", \"symbol\": \"circle\"}, \"mode\": \"markers\", \"name\": \"Cape Verde \", \"scene\": \"scene\", \"showlegend\": true, \"type\": \"scatter3d\", \"x\": [0.121], \"y\": [0.219], \"z\": [0.66]}, {\"hovertemplate\": \"Country=Cayman Islands <br>Agriculture=%{x}<br>Industry=%{y}<br>Service=%{z}<extra></extra>\", \"legendgroup\": \"Cayman Islands \", \"marker\": {\"color\": \"#FF6692\", \"symbol\": \"circle\"}, \"mode\": \"markers\", \"name\": \"Cayman Islands \", \"scene\": \"scene\", \"showlegend\": true, \"type\": \"scatter3d\", \"x\": [0.014], \"y\": [0.032], \"z\": [0.954]}, {\"hovertemplate\": \"Country=Central African Rep. <br>Agriculture=%{x}<br>Industry=%{y}<br>Service=%{z}<extra></extra>\", \"legendgroup\": \"Central African Rep. \", \"marker\": {\"color\": \"#B6E880\", \"symbol\": \"circle\"}, \"mode\": \"markers\", \"name\": \"Central African Rep. \", \"scene\": \"scene\", \"showlegend\": true, \"type\": \"scatter3d\", \"x\": [0.55], \"y\": [0.2], \"z\": [0.25]}, {\"hovertemplate\": \"Country=Chad <br>Agriculture=%{x}<br>Industry=%{y}<br>Service=%{z}<extra></extra>\", \"legendgroup\": \"Chad \", \"marker\": {\"color\": \"#FF97FF\", \"symbol\": \"circle\"}, \"mode\": \"markers\", \"name\": \"Chad \", \"scene\": \"scene\", \"showlegend\": true, \"type\": \"scatter3d\", \"x\": [0.335], \"y\": [0.259], \"z\": [0.406]}, {\"hovertemplate\": \"Country=Chile <br>Agriculture=%{x}<br>Industry=%{y}<br>Service=%{z}<extra></extra>\", \"legendgroup\": \"Chile \", \"marker\": {\"color\": \"#FECB52\", \"symbol\": \"circle\"}, \"mode\": \"markers\", \"name\": \"Chile \", \"scene\": \"scene\", \"showlegend\": true, \"type\": \"scatter3d\", \"x\": [0.06], \"y\": [0.493], \"z\": [0.447]}, {\"hovertemplate\": \"Country=China <br>Agriculture=%{x}<br>Industry=%{y}<br>Service=%{z}<extra></extra>\", \"legendgroup\": \"China \", \"marker\": {\"color\": \"#636efa\", \"symbol\": \"circle\"}, \"mode\": \"markers\", \"name\": \"China \", \"scene\": \"scene\", \"showlegend\": true, \"type\": \"scatter3d\", \"x\": [0.125], \"y\": [0.473], \"z\": [0.403]}, {\"hovertemplate\": \"Country=Colombia <br>Agriculture=%{x}<br>Industry=%{y}<br>Service=%{z}<extra></extra>\", \"legendgroup\": \"Colombia \", \"marker\": {\"color\": \"#EF553B\", \"symbol\": \"circle\"}, \"mode\": \"markers\", \"name\": \"Colombia \", \"scene\": \"scene\", \"showlegend\": true, \"type\": \"scatter3d\", \"x\": [0.125], \"y\": [0.342], \"z\": [0.533]}, {\"hovertemplate\": \"Country=Comoros <br>Agriculture=%{x}<br>Industry=%{y}<br>Service=%{z}<extra></extra>\", \"legendgroup\": \"Comoros \", \"marker\": {\"color\": \"#00cc96\", \"symbol\": \"circle\"}, \"mode\": \"markers\", \"name\": \"Comoros \", \"scene\": \"scene\", \"showlegend\": true, \"type\": \"scatter3d\", \"x\": [0.4], \"y\": [0.04], \"z\": [0.56]}, {\"hovertemplate\": \"Country=Congo, Dem. Rep. <br>Agriculture=%{x}<br>Industry=%{y}<br>Service=%{z}<extra></extra>\", \"legendgroup\": \"Congo, Dem. Rep. \", \"marker\": {\"color\": \"#ab63fa\", \"symbol\": \"circle\"}, \"mode\": \"markers\", \"name\": \"Congo, Dem. Rep. \", \"scene\": \"scene\", \"showlegend\": true, \"type\": \"scatter3d\", \"x\": [0.55], \"y\": [0.11], \"z\": [0.34]}, {\"hovertemplate\": \"Country=Congo, Repub. of the <br>Agriculture=%{x}<br>Industry=%{y}<br>Service=%{z}<extra></extra>\", \"legendgroup\": \"Congo, Repub. of the \", \"marker\": {\"color\": \"#FFA15A\", \"symbol\": \"circle\"}, \"mode\": \"markers\", \"name\": \"Congo, Repub. of the \", \"scene\": \"scene\", \"showlegend\": true, \"type\": \"scatter3d\", \"x\": [0.062], \"y\": [0.57], \"z\": [0.369]}, {\"hovertemplate\": \"Country=Cook Islands <br>Agriculture=%{x}<br>Industry=%{y}<br>Service=%{z}<extra></extra>\", \"legendgroup\": \"Cook Islands \", \"marker\": {\"color\": \"#19d3f3\", \"symbol\": \"circle\"}, \"mode\": \"markers\", \"name\": \"Cook Islands \", \"scene\": \"scene\", \"showlegend\": true, \"type\": \"scatter3d\", \"x\": [0.151], \"y\": [0.096], \"z\": [0.753]}, {\"hovertemplate\": \"Country=Costa Rica <br>Agriculture=%{x}<br>Industry=%{y}<br>Service=%{z}<extra></extra>\", \"legendgroup\": \"Costa Rica \", \"marker\": {\"color\": \"#FF6692\", \"symbol\": \"circle\"}, \"mode\": \"markers\", \"name\": \"Costa Rica \", \"scene\": \"scene\", \"showlegend\": true, \"type\": \"scatter3d\", \"x\": [0.088], \"y\": [0.299], \"z\": [0.614]}, {\"hovertemplate\": \"Country=Cote d'Ivoire <br>Agriculture=%{x}<br>Industry=%{y}<br>Service=%{z}<extra></extra>\", \"legendgroup\": \"Cote d'Ivoire \", \"marker\": {\"color\": \"#B6E880\", \"symbol\": \"circle\"}, \"mode\": \"markers\", \"name\": \"Cote d'Ivoire \", \"scene\": \"scene\", \"showlegend\": true, \"type\": \"scatter3d\", \"x\": [0.279], \"y\": [0.171], \"z\": [0.55]}, {\"hovertemplate\": \"Country=Croatia <br>Agriculture=%{x}<br>Industry=%{y}<br>Service=%{z}<extra></extra>\", \"legendgroup\": \"Croatia \", \"marker\": {\"color\": \"#FF97FF\", \"symbol\": \"circle\"}, \"mode\": \"markers\", \"name\": \"Croatia \", \"scene\": \"scene\", \"showlegend\": true, \"type\": \"scatter3d\", \"x\": [0.07], \"y\": [0.308], \"z\": [0.622]}, {\"hovertemplate\": \"Country=Cuba <br>Agriculture=%{x}<br>Industry=%{y}<br>Service=%{z}<extra></extra>\", \"legendgroup\": \"Cuba \", \"marker\": {\"color\": \"#FECB52\", \"symbol\": \"circle\"}, \"mode\": \"markers\", \"name\": \"Cuba \", \"scene\": \"scene\", \"showlegend\": true, \"type\": \"scatter3d\", \"x\": [0.055], \"y\": [0.261], \"z\": [0.684]}, {\"hovertemplate\": \"Country=Cyprus <br>Agriculture=%{x}<br>Industry=%{y}<br>Service=%{z}<extra></extra>\", \"legendgroup\": \"Cyprus \", \"marker\": {\"color\": \"#636efa\", \"symbol\": \"circle\"}, \"mode\": \"markers\", \"name\": \"Cyprus \", \"scene\": \"scene\", \"showlegend\": true, \"type\": \"scatter3d\", \"x\": [0.037], \"y\": [0.198], \"z\": [0.765]}, {\"hovertemplate\": \"Country=Czech Republic <br>Agriculture=%{x}<br>Industry=%{y}<br>Service=%{z}<extra></extra>\", \"legendgroup\": \"Czech Republic \", \"marker\": {\"color\": \"#EF553B\", \"symbol\": \"circle\"}, \"mode\": \"markers\", \"name\": \"Czech Republic \", \"scene\": \"scene\", \"showlegend\": true, \"type\": \"scatter3d\", \"x\": [0.034], \"y\": [0.393], \"z\": [0.573]}, {\"hovertemplate\": \"Country=Denmark <br>Agriculture=%{x}<br>Industry=%{y}<br>Service=%{z}<extra></extra>\", \"legendgroup\": \"Denmark \", \"marker\": {\"color\": \"#00cc96\", \"symbol\": \"circle\"}, \"mode\": \"markers\", \"name\": \"Denmark \", \"scene\": \"scene\", \"showlegend\": true, \"type\": \"scatter3d\", \"x\": [0.018], \"y\": [0.246], \"z\": [0.735]}, {\"hovertemplate\": \"Country=Djibouti <br>Agriculture=%{x}<br>Industry=%{y}<br>Service=%{z}<extra></extra>\", \"legendgroup\": \"Djibouti \", \"marker\": {\"color\": \"#ab63fa\", \"symbol\": \"circle\"}, \"mode\": \"markers\", \"name\": \"Djibouti \", \"scene\": \"scene\", \"showlegend\": true, \"type\": \"scatter3d\", \"x\": [0.179], \"y\": [0.225], \"z\": [0.596]}, {\"hovertemplate\": \"Country=Dominica <br>Agriculture=%{x}<br>Industry=%{y}<br>Service=%{z}<extra></extra>\", \"legendgroup\": \"Dominica \", \"marker\": {\"color\": \"#FFA15A\", \"symbol\": \"circle\"}, \"mode\": \"markers\", \"name\": \"Dominica \", \"scene\": \"scene\", \"showlegend\": true, \"type\": \"scatter3d\", \"x\": [0.177], \"y\": [0.328], \"z\": [0.495]}, {\"hovertemplate\": \"Country=Dominican Republic <br>Agriculture=%{x}<br>Industry=%{y}<br>Service=%{z}<extra></extra>\", \"legendgroup\": \"Dominican Republic \", \"marker\": {\"color\": \"#19d3f3\", \"symbol\": \"circle\"}, \"mode\": \"markers\", \"name\": \"Dominican Republic \", \"scene\": \"scene\", \"showlegend\": true, \"type\": \"scatter3d\", \"x\": [0.112], \"y\": [0.306], \"z\": [0.582]}, {\"hovertemplate\": \"Country=East Timor <br>Agriculture=%{x}<br>Industry=%{y}<br>Service=%{z}<extra></extra>\", \"legendgroup\": \"East Timor \", \"marker\": {\"color\": \"#FF6692\", \"symbol\": \"circle\"}, \"mode\": \"markers\", \"name\": \"East Timor \", \"scene\": \"scene\", \"showlegend\": true, \"type\": \"scatter3d\", \"x\": [0.085], \"y\": [0.231], \"z\": [0.684]}, {\"hovertemplate\": \"Country=Ecuador <br>Agriculture=%{x}<br>Industry=%{y}<br>Service=%{z}<extra></extra>\", \"legendgroup\": \"Ecuador \", \"marker\": {\"color\": \"#B6E880\", \"symbol\": \"circle\"}, \"mode\": \"markers\", \"name\": \"Ecuador \", \"scene\": \"scene\", \"showlegend\": true, \"type\": \"scatter3d\", \"x\": [0.07], \"y\": [0.312], \"z\": [0.618]}, {\"hovertemplate\": \"Country=Egypt <br>Agriculture=%{x}<br>Industry=%{y}<br>Service=%{z}<extra></extra>\", \"legendgroup\": \"Egypt \", \"marker\": {\"color\": \"#FF97FF\", \"symbol\": \"circle\"}, \"mode\": \"markers\", \"name\": \"Egypt \", \"scene\": \"scene\", \"showlegend\": true, \"type\": \"scatter3d\", \"x\": [0.149], \"y\": [0.357], \"z\": [0.493]}, {\"hovertemplate\": \"Country=El Salvador <br>Agriculture=%{x}<br>Industry=%{y}<br>Service=%{z}<extra></extra>\", \"legendgroup\": \"El Salvador \", \"marker\": {\"color\": \"#FECB52\", \"symbol\": \"circle\"}, \"mode\": \"markers\", \"name\": \"El Salvador \", \"scene\": \"scene\", \"showlegend\": true, \"type\": \"scatter3d\", \"x\": [0.099], \"y\": [0.302], \"z\": [0.599]}, {\"hovertemplate\": \"Country=Equatorial Guinea <br>Agriculture=%{x}<br>Industry=%{y}<br>Service=%{z}<extra></extra>\", \"legendgroup\": \"Equatorial Guinea \", \"marker\": {\"color\": \"#636efa\", \"symbol\": \"circle\"}, \"mode\": \"markers\", \"name\": \"Equatorial Guinea \", \"scene\": \"scene\", \"showlegend\": true, \"type\": \"scatter3d\", \"x\": [0.03], \"y\": [0.906], \"z\": [0.062]}, {\"hovertemplate\": \"Country=Eritrea <br>Agriculture=%{x}<br>Industry=%{y}<br>Service=%{z}<extra></extra>\", \"legendgroup\": \"Eritrea \", \"marker\": {\"color\": \"#EF553B\", \"symbol\": \"circle\"}, \"mode\": \"markers\", \"name\": \"Eritrea \", \"scene\": \"scene\", \"showlegend\": true, \"type\": \"scatter3d\", \"x\": [0.102], \"y\": [0.254], \"z\": [0.643]}, {\"hovertemplate\": \"Country=Estonia <br>Agriculture=%{x}<br>Industry=%{y}<br>Service=%{z}<extra></extra>\", \"legendgroup\": \"Estonia \", \"marker\": {\"color\": \"#00cc96\", \"symbol\": \"circle\"}, \"mode\": \"markers\", \"name\": \"Estonia \", \"scene\": \"scene\", \"showlegend\": true, \"type\": \"scatter3d\", \"x\": [0.04], \"y\": [0.294], \"z\": [0.666]}, {\"hovertemplate\": \"Country=Ethiopia <br>Agriculture=%{x}<br>Industry=%{y}<br>Service=%{z}<extra></extra>\", \"legendgroup\": \"Ethiopia \", \"marker\": {\"color\": \"#ab63fa\", \"symbol\": \"circle\"}, \"mode\": \"markers\", \"name\": \"Ethiopia \", \"scene\": \"scene\", \"showlegend\": true, \"type\": \"scatter3d\", \"x\": [0.475], \"y\": [0.099], \"z\": [0.426]}, {\"hovertemplate\": \"Country=Faroe Islands <br>Agriculture=%{x}<br>Industry=%{y}<br>Service=%{z}<extra></extra>\", \"legendgroup\": \"Faroe Islands \", \"marker\": {\"color\": \"#FFA15A\", \"symbol\": \"circle\"}, \"mode\": \"markers\", \"name\": \"Faroe Islands \", \"scene\": \"scene\", \"showlegend\": true, \"type\": \"scatter3d\", \"x\": [0.27], \"y\": [0.11], \"z\": [0.62]}, {\"hovertemplate\": \"Country=Fiji <br>Agriculture=%{x}<br>Industry=%{y}<br>Service=%{z}<extra></extra>\", \"legendgroup\": \"Fiji \", \"marker\": {\"color\": \"#19d3f3\", \"symbol\": \"circle\"}, \"mode\": \"markers\", \"name\": \"Fiji \", \"scene\": \"scene\", \"showlegend\": true, \"type\": \"scatter3d\", \"x\": [0.089], \"y\": [0.135], \"z\": [0.776]}, {\"hovertemplate\": \"Country=Finland <br>Agriculture=%{x}<br>Industry=%{y}<br>Service=%{z}<extra></extra>\", \"legendgroup\": \"Finland \", \"marker\": {\"color\": \"#FF6692\", \"symbol\": \"circle\"}, \"mode\": \"markers\", \"name\": \"Finland \", \"scene\": \"scene\", \"showlegend\": true, \"type\": \"scatter3d\", \"x\": [0.028], \"y\": [0.295], \"z\": [0.676]}, {\"hovertemplate\": \"Country=France <br>Agriculture=%{x}<br>Industry=%{y}<br>Service=%{z}<extra></extra>\", \"legendgroup\": \"France \", \"marker\": {\"color\": \"#B6E880\", \"symbol\": \"circle\"}, \"mode\": \"markers\", \"name\": \"France \", \"scene\": \"scene\", \"showlegend\": true, \"type\": \"scatter3d\", \"x\": [0.022], \"y\": [0.214], \"z\": [0.764]}, {\"hovertemplate\": \"Country=French Guiana <br>Agriculture=%{x}<br>Industry=%{y}<br>Service=%{z}<extra></extra>\", \"legendgroup\": \"French Guiana \", \"marker\": {\"color\": \"#FF97FF\", \"symbol\": \"circle\"}, \"mode\": \"markers\", \"name\": \"French Guiana \", \"scene\": \"scene\", \"showlegend\": true, \"type\": \"scatter3d\", \"x\": [0.066], \"y\": [0.156], \"z\": [0.778]}, {\"hovertemplate\": \"Country=French Polynesia <br>Agriculture=%{x}<br>Industry=%{y}<br>Service=%{z}<extra></extra>\", \"legendgroup\": \"French Polynesia \", \"marker\": {\"color\": \"#FECB52\", \"symbol\": \"circle\"}, \"mode\": \"markers\", \"name\": \"French Polynesia \", \"scene\": \"scene\", \"showlegend\": true, \"type\": \"scatter3d\", \"x\": [0.031], \"y\": [0.19], \"z\": [0.769]}, {\"hovertemplate\": \"Country=Gabon <br>Agriculture=%{x}<br>Industry=%{y}<br>Service=%{z}<extra></extra>\", \"legendgroup\": \"Gabon \", \"marker\": {\"color\": \"#636efa\", \"symbol\": \"circle\"}, \"mode\": \"markers\", \"name\": \"Gabon \", \"scene\": \"scene\", \"showlegend\": true, \"type\": \"scatter3d\", \"x\": [0.061], \"y\": [0.592], \"z\": [0.348]}, {\"hovertemplate\": \"Country=Gambia, The <br>Agriculture=%{x}<br>Industry=%{y}<br>Service=%{z}<extra></extra>\", \"legendgroup\": \"Gambia, The \", \"marker\": {\"color\": \"#EF553B\", \"symbol\": \"circle\"}, \"mode\": \"markers\", \"name\": \"Gambia, The \", \"scene\": \"scene\", \"showlegend\": true, \"type\": \"scatter3d\", \"x\": [0.308], \"y\": [0.142], \"z\": [0.549]}, {\"hovertemplate\": \"Country=Gaza Strip <br>Agriculture=%{x}<br>Industry=%{y}<br>Service=%{z}<extra></extra>\", \"legendgroup\": \"Gaza Strip \", \"marker\": {\"color\": \"#00cc96\", \"symbol\": \"circle\"}, \"mode\": \"markers\", \"name\": \"Gaza Strip \", \"scene\": \"scene\", \"showlegend\": true, \"type\": \"scatter3d\", \"x\": [0.03], \"y\": [0.283], \"z\": [0.687]}, {\"hovertemplate\": \"Country=Georgia <br>Agriculture=%{x}<br>Industry=%{y}<br>Service=%{z}<extra></extra>\", \"legendgroup\": \"Georgia \", \"marker\": {\"color\": \"#ab63fa\", \"symbol\": \"circle\"}, \"mode\": \"markers\", \"name\": \"Georgia \", \"scene\": \"scene\", \"showlegend\": true, \"type\": \"scatter3d\", \"x\": [0.172], \"y\": [0.275], \"z\": [0.553]}, {\"hovertemplate\": \"Country=Germany <br>Agriculture=%{x}<br>Industry=%{y}<br>Service=%{z}<extra></extra>\", \"legendgroup\": \"Germany \", \"marker\": {\"color\": \"#FFA15A\", \"symbol\": \"circle\"}, \"mode\": \"markers\", \"name\": \"Germany \", \"scene\": \"scene\", \"showlegend\": true, \"type\": \"scatter3d\", \"x\": [0.009], \"y\": [0.296], \"z\": [0.695]}, {\"hovertemplate\": \"Country=Ghana <br>Agriculture=%{x}<br>Industry=%{y}<br>Service=%{z}<extra></extra>\", \"legendgroup\": \"Ghana \", \"marker\": {\"color\": \"#19d3f3\", \"symbol\": \"circle\"}, \"mode\": \"markers\", \"name\": \"Ghana \", \"scene\": \"scene\", \"showlegend\": true, \"type\": \"scatter3d\", \"x\": [0.366], \"y\": [0.246], \"z\": [0.387]}, {\"hovertemplate\": \"Country=Greece <br>Agriculture=%{x}<br>Industry=%{y}<br>Service=%{z}<extra></extra>\", \"legendgroup\": \"Greece \", \"marker\": {\"color\": \"#FF6692\", \"symbol\": \"circle\"}, \"mode\": \"markers\", \"name\": \"Greece \", \"scene\": \"scene\", \"showlegend\": true, \"type\": \"scatter3d\", \"x\": [0.054], \"y\": [0.213], \"z\": [0.733]}, {\"hovertemplate\": \"Country=Grenada <br>Agriculture=%{x}<br>Industry=%{y}<br>Service=%{z}<extra></extra>\", \"legendgroup\": \"Grenada \", \"marker\": {\"color\": \"#B6E880\", \"symbol\": \"circle\"}, \"mode\": \"markers\", \"name\": \"Grenada \", \"scene\": \"scene\", \"showlegend\": true, \"type\": \"scatter3d\", \"x\": [0.054], \"y\": [0.18], \"z\": [0.766]}, {\"hovertemplate\": \"Country=Guadeloupe <br>Agriculture=%{x}<br>Industry=%{y}<br>Service=%{z}<extra></extra>\", \"legendgroup\": \"Guadeloupe \", \"marker\": {\"color\": \"#FF97FF\", \"symbol\": \"circle\"}, \"mode\": \"markers\", \"name\": \"Guadeloupe \", \"scene\": \"scene\", \"showlegend\": true, \"type\": \"scatter3d\", \"x\": [0.15], \"y\": [0.17], \"z\": [0.68]}, {\"hovertemplate\": \"Country=Guatemala <br>Agriculture=%{x}<br>Industry=%{y}<br>Service=%{z}<extra></extra>\", \"legendgroup\": \"Guatemala \", \"marker\": {\"color\": \"#FECB52\", \"symbol\": \"circle\"}, \"mode\": \"markers\", \"name\": \"Guatemala \", \"scene\": \"scene\", \"showlegend\": true, \"type\": \"scatter3d\", \"x\": [0.227], \"y\": [0.188], \"z\": [0.585]}, {\"hovertemplate\": \"Country=Guernsey <br>Agriculture=%{x}<br>Industry=%{y}<br>Service=%{z}<extra></extra>\", \"legendgroup\": \"Guernsey \", \"marker\": {\"color\": \"#636efa\", \"symbol\": \"circle\"}, \"mode\": \"markers\", \"name\": \"Guernsey \", \"scene\": \"scene\", \"showlegend\": true, \"type\": \"scatter3d\", \"x\": [0.03], \"y\": [0.1], \"z\": [0.87]}, {\"hovertemplate\": \"Country=Guinea <br>Agriculture=%{x}<br>Industry=%{y}<br>Service=%{z}<extra></extra>\", \"legendgroup\": \"Guinea \", \"marker\": {\"color\": \"#EF553B\", \"symbol\": \"circle\"}, \"mode\": \"markers\", \"name\": \"Guinea \", \"scene\": \"scene\", \"showlegend\": true, \"type\": \"scatter3d\", \"x\": [0.237], \"y\": [0.362], \"z\": [0.401]}, {\"hovertemplate\": \"Country=Guinea-Bissau <br>Agriculture=%{x}<br>Industry=%{y}<br>Service=%{z}<extra></extra>\", \"legendgroup\": \"Guinea-Bissau \", \"marker\": {\"color\": \"#00cc96\", \"symbol\": \"circle\"}, \"mode\": \"markers\", \"name\": \"Guinea-Bissau \", \"scene\": \"scene\", \"showlegend\": true, \"type\": \"scatter3d\", \"x\": [0.62], \"y\": [0.12], \"z\": [0.26]}, {\"hovertemplate\": \"Country=Guyana <br>Agriculture=%{x}<br>Industry=%{y}<br>Service=%{z}<extra></extra>\", \"legendgroup\": \"Guyana \", \"marker\": {\"color\": \"#ab63fa\", \"symbol\": \"circle\"}, \"mode\": \"markers\", \"name\": \"Guyana \", \"scene\": \"scene\", \"showlegend\": true, \"type\": \"scatter3d\", \"x\": [0.37], \"y\": [0.203], \"z\": [0.427]}, {\"hovertemplate\": \"Country=Haiti <br>Agriculture=%{x}<br>Industry=%{y}<br>Service=%{z}<extra></extra>\", \"legendgroup\": \"Haiti \", \"marker\": {\"color\": \"#FFA15A\", \"symbol\": \"circle\"}, \"mode\": \"markers\", \"name\": \"Haiti \", \"scene\": \"scene\", \"showlegend\": true, \"type\": \"scatter3d\", \"x\": [0.28], \"y\": [0.2], \"z\": [0.52]}, {\"hovertemplate\": \"Country=Honduras <br>Agriculture=%{x}<br>Industry=%{y}<br>Service=%{z}<extra></extra>\", \"legendgroup\": \"Honduras \", \"marker\": {\"color\": \"#19d3f3\", \"symbol\": \"circle\"}, \"mode\": \"markers\", \"name\": \"Honduras \", \"scene\": \"scene\", \"showlegend\": true, \"type\": \"scatter3d\", \"x\": [0.139], \"y\": [0.312], \"z\": [0.549]}, {\"hovertemplate\": \"Country=Hong Kong <br>Agriculture=%{x}<br>Industry=%{y}<br>Service=%{z}<extra></extra>\", \"legendgroup\": \"Hong Kong \", \"marker\": {\"color\": \"#FF6692\", \"symbol\": \"circle\"}, \"mode\": \"markers\", \"name\": \"Hong Kong \", \"scene\": \"scene\", \"showlegend\": true, \"type\": \"scatter3d\", \"x\": [0.001], \"y\": [0.092], \"z\": [0.906]}, {\"hovertemplate\": \"Country=Hungary <br>Agriculture=%{x}<br>Industry=%{y}<br>Service=%{z}<extra></extra>\", \"legendgroup\": \"Hungary \", \"marker\": {\"color\": \"#B6E880\", \"symbol\": \"circle\"}, \"mode\": \"markers\", \"name\": \"Hungary \", \"scene\": \"scene\", \"showlegend\": true, \"type\": \"scatter3d\", \"x\": [0.037], \"y\": [0.312], \"z\": [0.651]}, {\"hovertemplate\": \"Country=Iceland <br>Agriculture=%{x}<br>Industry=%{y}<br>Service=%{z}<extra></extra>\", \"legendgroup\": \"Iceland \", \"marker\": {\"color\": \"#FF97FF\", \"symbol\": \"circle\"}, \"mode\": \"markers\", \"name\": \"Iceland \", \"scene\": \"scene\", \"showlegend\": true, \"type\": \"scatter3d\", \"x\": [0.086], \"y\": [0.15], \"z\": [0.765]}, {\"hovertemplate\": \"Country=India <br>Agriculture=%{x}<br>Industry=%{y}<br>Service=%{z}<extra></extra>\", \"legendgroup\": \"India \", \"marker\": {\"color\": \"#FECB52\", \"symbol\": \"circle\"}, \"mode\": \"markers\", \"name\": \"India \", \"scene\": \"scene\", \"showlegend\": true, \"type\": \"scatter3d\", \"x\": [0.186], \"y\": [0.276], \"z\": [0.538]}, {\"hovertemplate\": \"Country=Indonesia <br>Agriculture=%{x}<br>Industry=%{y}<br>Service=%{z}<extra></extra>\", \"legendgroup\": \"Indonesia \", \"marker\": {\"color\": \"#636efa\", \"symbol\": \"circle\"}, \"mode\": \"markers\", \"name\": \"Indonesia \", \"scene\": \"scene\", \"showlegend\": true, \"type\": \"scatter3d\", \"x\": [0.134], \"y\": [0.458], \"z\": [0.408]}, {\"hovertemplate\": \"Country=Iran <br>Agriculture=%{x}<br>Industry=%{y}<br>Service=%{z}<extra></extra>\", \"legendgroup\": \"Iran \", \"marker\": {\"color\": \"#EF553B\", \"symbol\": \"circle\"}, \"mode\": \"markers\", \"name\": \"Iran \", \"scene\": \"scene\", \"showlegend\": true, \"type\": \"scatter3d\", \"x\": [0.116], \"y\": [0.424], \"z\": [0.46]}, {\"hovertemplate\": \"Country=Iraq <br>Agriculture=%{x}<br>Industry=%{y}<br>Service=%{z}<extra></extra>\", \"legendgroup\": \"Iraq \", \"marker\": {\"color\": \"#00cc96\", \"symbol\": \"circle\"}, \"mode\": \"markers\", \"name\": \"Iraq \", \"scene\": \"scene\", \"showlegend\": true, \"type\": \"scatter3d\", \"x\": [0.073], \"y\": [0.666], \"z\": [0.261]}, {\"hovertemplate\": \"Country=Ireland <br>Agriculture=%{x}<br>Industry=%{y}<br>Service=%{z}<extra></extra>\", \"legendgroup\": \"Ireland \", \"marker\": {\"color\": \"#ab63fa\", \"symbol\": \"circle\"}, \"mode\": \"markers\", \"name\": \"Ireland \", \"scene\": \"scene\", \"showlegend\": true, \"type\": \"scatter3d\", \"x\": [0.05], \"y\": [0.46], \"z\": [0.49]}, {\"hovertemplate\": \"Country=Isle of Man <br>Agriculture=%{x}<br>Industry=%{y}<br>Service=%{z}<extra></extra>\", \"legendgroup\": \"Isle of Man \", \"marker\": {\"color\": \"#FFA15A\", \"symbol\": \"circle\"}, \"mode\": \"markers\", \"name\": \"Isle of Man \", \"scene\": \"scene\", \"showlegend\": true, \"type\": \"scatter3d\", \"x\": [0.01], \"y\": [0.13], \"z\": [0.86]}, {\"hovertemplate\": \"Country=Israel <br>Agriculture=%{x}<br>Industry=%{y}<br>Service=%{z}<extra></extra>\", \"legendgroup\": \"Israel \", \"marker\": {\"color\": \"#19d3f3\", \"symbol\": \"circle\"}, \"mode\": \"markers\", \"name\": \"Israel \", \"scene\": \"scene\", \"showlegend\": true, \"type\": \"scatter3d\", \"x\": [0.026], \"y\": [0.317], \"z\": [0.657]}, {\"hovertemplate\": \"Country=Italy <br>Agriculture=%{x}<br>Industry=%{y}<br>Service=%{z}<extra></extra>\", \"legendgroup\": \"Italy \", \"marker\": {\"color\": \"#FF6692\", \"symbol\": \"circle\"}, \"mode\": \"markers\", \"name\": \"Italy \", \"scene\": \"scene\", \"showlegend\": true, \"type\": \"scatter3d\", \"x\": [0.021], \"y\": [0.291], \"z\": [0.688]}, {\"hovertemplate\": \"Country=Jamaica <br>Agriculture=%{x}<br>Industry=%{y}<br>Service=%{z}<extra></extra>\", \"legendgroup\": \"Jamaica \", \"marker\": {\"color\": \"#B6E880\", \"symbol\": \"circle\"}, \"mode\": \"markers\", \"name\": \"Jamaica \", \"scene\": \"scene\", \"showlegend\": true, \"type\": \"scatter3d\", \"x\": [0.049], \"y\": [0.337], \"z\": [0.615]}, {\"hovertemplate\": \"Country=Japan <br>Agriculture=%{x}<br>Industry=%{y}<br>Service=%{z}<extra></extra>\", \"legendgroup\": \"Japan \", \"marker\": {\"color\": \"#FF97FF\", \"symbol\": \"circle\"}, \"mode\": \"markers\", \"name\": \"Japan \", \"scene\": \"scene\", \"showlegend\": true, \"type\": \"scatter3d\", \"x\": [0.017], \"y\": [0.258], \"z\": [0.725]}, {\"hovertemplate\": \"Country=Jersey <br>Agriculture=%{x}<br>Industry=%{y}<br>Service=%{z}<extra></extra>\", \"legendgroup\": \"Jersey \", \"marker\": {\"color\": \"#FECB52\", \"symbol\": \"circle\"}, \"mode\": \"markers\", \"name\": \"Jersey \", \"scene\": \"scene\", \"showlegend\": true, \"type\": \"scatter3d\", \"x\": [0.05], \"y\": [0.02], \"z\": [0.93]}, {\"hovertemplate\": \"Country=Jordan <br>Agriculture=%{x}<br>Industry=%{y}<br>Service=%{z}<extra></extra>\", \"legendgroup\": \"Jordan \", \"marker\": {\"color\": \"#636efa\", \"symbol\": \"circle\"}, \"mode\": \"markers\", \"name\": \"Jordan \", \"scene\": \"scene\", \"showlegend\": true, \"type\": \"scatter3d\", \"x\": [0.033], \"y\": [0.287], \"z\": [0.68]}, {\"hovertemplate\": \"Country=Kazakhstan <br>Agriculture=%{x}<br>Industry=%{y}<br>Service=%{z}<extra></extra>\", \"legendgroup\": \"Kazakhstan \", \"marker\": {\"color\": \"#EF553B\", \"symbol\": \"circle\"}, \"mode\": \"markers\", \"name\": \"Kazakhstan \", \"scene\": \"scene\", \"showlegend\": true, \"type\": \"scatter3d\", \"x\": [0.067], \"y\": [0.386], \"z\": [0.547]}, {\"hovertemplate\": \"Country=Kenya <br>Agriculture=%{x}<br>Industry=%{y}<br>Service=%{z}<extra></extra>\", \"legendgroup\": \"Kenya \", \"marker\": {\"color\": \"#00cc96\", \"symbol\": \"circle\"}, \"mode\": \"markers\", \"name\": \"Kenya \", \"scene\": \"scene\", \"showlegend\": true, \"type\": \"scatter3d\", \"x\": [0.163], \"y\": [0.188], \"z\": [0.651]}, {\"hovertemplate\": \"Country=Kiribati <br>Agriculture=%{x}<br>Industry=%{y}<br>Service=%{z}<extra></extra>\", \"legendgroup\": \"Kiribati \", \"marker\": {\"color\": \"#ab63fa\", \"symbol\": \"circle\"}, \"mode\": \"markers\", \"name\": \"Kiribati \", \"scene\": \"scene\", \"showlegend\": true, \"type\": \"scatter3d\", \"x\": [0.089], \"y\": [0.242], \"z\": [0.668]}, {\"hovertemplate\": \"Country=Korea, North <br>Agriculture=%{x}<br>Industry=%{y}<br>Service=%{z}<extra></extra>\", \"legendgroup\": \"Korea, North \", \"marker\": {\"color\": \"#FFA15A\", \"symbol\": \"circle\"}, \"mode\": \"markers\", \"name\": \"Korea, North \", \"scene\": \"scene\", \"showlegend\": true, \"type\": \"scatter3d\", \"x\": [0.3], \"y\": [0.34], \"z\": [0.36]}, {\"hovertemplate\": \"Country=Korea, South <br>Agriculture=%{x}<br>Industry=%{y}<br>Service=%{z}<extra></extra>\", \"legendgroup\": \"Korea, South \", \"marker\": {\"color\": \"#19d3f3\", \"symbol\": \"circle\"}, \"mode\": \"markers\", \"name\": \"Korea, South \", \"scene\": \"scene\", \"showlegend\": true, \"type\": \"scatter3d\", \"x\": [0.033], \"y\": [0.403], \"z\": [0.563]}, {\"hovertemplate\": \"Country=Kuwait <br>Agriculture=%{x}<br>Industry=%{y}<br>Service=%{z}<extra></extra>\", \"legendgroup\": \"Kuwait \", \"marker\": {\"color\": \"#FF6692\", \"symbol\": \"circle\"}, \"mode\": \"markers\", \"name\": \"Kuwait \", \"scene\": \"scene\", \"showlegend\": true, \"type\": \"scatter3d\", \"x\": [0.004], \"y\": [0.479], \"z\": [0.516]}, {\"hovertemplate\": \"Country=Kyrgyzstan <br>Agriculture=%{x}<br>Industry=%{y}<br>Service=%{z}<extra></extra>\", \"legendgroup\": \"Kyrgyzstan \", \"marker\": {\"color\": \"#B6E880\", \"symbol\": \"circle\"}, \"mode\": \"markers\", \"name\": \"Kyrgyzstan \", \"scene\": \"scene\", \"showlegend\": true, \"type\": \"scatter3d\", \"x\": [0.353], \"y\": [0.208], \"z\": [0.439]}, {\"hovertemplate\": \"Country=Laos <br>Agriculture=%{x}<br>Industry=%{y}<br>Service=%{z}<extra></extra>\", \"legendgroup\": \"Laos \", \"marker\": {\"color\": \"#FF97FF\", \"symbol\": \"circle\"}, \"mode\": \"markers\", \"name\": \"Laos \", \"scene\": \"scene\", \"showlegend\": true, \"type\": \"scatter3d\", \"x\": [0.455], \"y\": [0.287], \"z\": [0.258]}, {\"hovertemplate\": \"Country=Latvia <br>Agriculture=%{x}<br>Industry=%{y}<br>Service=%{z}<extra></extra>\", \"legendgroup\": \"Latvia \", \"marker\": {\"color\": \"#FECB52\", \"symbol\": \"circle\"}, \"mode\": \"markers\", \"name\": \"Latvia \", \"scene\": \"scene\", \"showlegend\": true, \"type\": \"scatter3d\", \"x\": [0.04], \"y\": [0.261], \"z\": [0.699]}, {\"hovertemplate\": \"Country=Lebanon <br>Agriculture=%{x}<br>Industry=%{y}<br>Service=%{z}<extra></extra>\", \"legendgroup\": \"Lebanon \", \"marker\": {\"color\": \"#636efa\", \"symbol\": \"circle\"}, \"mode\": \"markers\", \"name\": \"Lebanon \", \"scene\": \"scene\", \"showlegend\": true, \"type\": \"scatter3d\", \"x\": [0.12], \"y\": [0.21], \"z\": [0.67]}, {\"hovertemplate\": \"Country=Lesotho <br>Agriculture=%{x}<br>Industry=%{y}<br>Service=%{z}<extra></extra>\", \"legendgroup\": \"Lesotho \", \"marker\": {\"color\": \"#EF553B\", \"symbol\": \"circle\"}, \"mode\": \"markers\", \"name\": \"Lesotho \", \"scene\": \"scene\", \"showlegend\": true, \"type\": \"scatter3d\", \"x\": [0.163], \"y\": [0.443], \"z\": [0.394]}, {\"hovertemplate\": \"Country=Liberia <br>Agriculture=%{x}<br>Industry=%{y}<br>Service=%{z}<extra></extra>\", \"legendgroup\": \"Liberia \", \"marker\": {\"color\": \"#00cc96\", \"symbol\": \"circle\"}, \"mode\": \"markers\", \"name\": \"Liberia \", \"scene\": \"scene\", \"showlegend\": true, \"type\": \"scatter3d\", \"x\": [0.769], \"y\": [0.054], \"z\": [0.177]}, {\"hovertemplate\": \"Country=Libya <br>Agriculture=%{x}<br>Industry=%{y}<br>Service=%{z}<extra></extra>\", \"legendgroup\": \"Libya \", \"marker\": {\"color\": \"#ab63fa\", \"symbol\": \"circle\"}, \"mode\": \"markers\", \"name\": \"Libya \", \"scene\": \"scene\", \"showlegend\": true, \"type\": \"scatter3d\", \"x\": [0.076], \"y\": [0.499], \"z\": [0.425]}, {\"hovertemplate\": \"Country=Liechtenstein <br>Agriculture=%{x}<br>Industry=%{y}<br>Service=%{z}<extra></extra>\", \"legendgroup\": \"Liechtenstein \", \"marker\": {\"color\": \"#FFA15A\", \"symbol\": \"circle\"}, \"mode\": \"markers\", \"name\": \"Liechtenstein \", \"scene\": \"scene\", \"showlegend\": true, \"type\": \"scatter3d\", \"x\": [0.06], \"y\": [0.39], \"z\": [0.55]}, {\"hovertemplate\": \"Country=Lithuania <br>Agriculture=%{x}<br>Industry=%{y}<br>Service=%{z}<extra></extra>\", \"legendgroup\": \"Lithuania \", \"marker\": {\"color\": \"#19d3f3\", \"symbol\": \"circle\"}, \"mode\": \"markers\", \"name\": \"Lithuania \", \"scene\": \"scene\", \"showlegend\": true, \"type\": \"scatter3d\", \"x\": [0.055], \"y\": [0.325], \"z\": [0.62]}, {\"hovertemplate\": \"Country=Luxembourg <br>Agriculture=%{x}<br>Industry=%{y}<br>Service=%{z}<extra></extra>\", \"legendgroup\": \"Luxembourg \", \"marker\": {\"color\": \"#FF6692\", \"symbol\": \"circle\"}, \"mode\": \"markers\", \"name\": \"Luxembourg \", \"scene\": \"scene\", \"showlegend\": true, \"type\": \"scatter3d\", \"x\": [0.01], \"y\": [0.13], \"z\": [0.86]}, {\"hovertemplate\": \"Country=Macau <br>Agriculture=%{x}<br>Industry=%{y}<br>Service=%{z}<extra></extra>\", \"legendgroup\": \"Macau \", \"marker\": {\"color\": \"#B6E880\", \"symbol\": \"circle\"}, \"mode\": \"markers\", \"name\": \"Macau \", \"scene\": \"scene\", \"showlegend\": true, \"type\": \"scatter3d\", \"x\": [0.001], \"y\": [0.072], \"z\": [0.927]}, {\"hovertemplate\": \"Country=Macedonia <br>Agriculture=%{x}<br>Industry=%{y}<br>Service=%{z}<extra></extra>\", \"legendgroup\": \"Macedonia \", \"marker\": {\"color\": \"#FF97FF\", \"symbol\": \"circle\"}, \"mode\": \"markers\", \"name\": \"Macedonia \", \"scene\": \"scene\", \"showlegend\": true, \"type\": \"scatter3d\", \"x\": [0.118], \"y\": [0.319], \"z\": [0.563]}, {\"hovertemplate\": \"Country=Madagascar <br>Agriculture=%{x}<br>Industry=%{y}<br>Service=%{z}<extra></extra>\", \"legendgroup\": \"Madagascar \", \"marker\": {\"color\": \"#FECB52\", \"symbol\": \"circle\"}, \"mode\": \"markers\", \"name\": \"Madagascar \", \"scene\": \"scene\", \"showlegend\": true, \"type\": \"scatter3d\", \"x\": [0.276], \"y\": [0.165], \"z\": [0.559]}, {\"hovertemplate\": \"Country=Malawi <br>Agriculture=%{x}<br>Industry=%{y}<br>Service=%{z}<extra></extra>\", \"legendgroup\": \"Malawi \", \"marker\": {\"color\": \"#636efa\", \"symbol\": \"circle\"}, \"mode\": \"markers\", \"name\": \"Malawi \", \"scene\": \"scene\", \"showlegend\": true, \"type\": \"scatter3d\", \"x\": [0.342], \"y\": [0.158], \"z\": [0.499]}, {\"hovertemplate\": \"Country=Malaysia <br>Agriculture=%{x}<br>Industry=%{y}<br>Service=%{z}<extra></extra>\", \"legendgroup\": \"Malaysia \", \"marker\": {\"color\": \"#EF553B\", \"symbol\": \"circle\"}, \"mode\": \"markers\", \"name\": \"Malaysia \", \"scene\": \"scene\", \"showlegend\": true, \"type\": \"scatter3d\", \"x\": [0.084], \"y\": [0.48], \"z\": [0.436]}, {\"hovertemplate\": \"Country=Maldives <br>Agriculture=%{x}<br>Industry=%{y}<br>Service=%{z}<extra></extra>\", \"legendgroup\": \"Maldives \", \"marker\": {\"color\": \"#00cc96\", \"symbol\": \"circle\"}, \"mode\": \"markers\", \"name\": \"Maldives \", \"scene\": \"scene\", \"showlegend\": true, \"type\": \"scatter3d\", \"x\": [0.2], \"y\": [0.18], \"z\": [0.62]}, {\"hovertemplate\": \"Country=Mali <br>Agriculture=%{x}<br>Industry=%{y}<br>Service=%{z}<extra></extra>\", \"legendgroup\": \"Mali \", \"marker\": {\"color\": \"#ab63fa\", \"symbol\": \"circle\"}, \"mode\": \"markers\", \"name\": \"Mali \", \"scene\": \"scene\", \"showlegend\": true, \"type\": \"scatter3d\", \"x\": [0.45], \"y\": [0.17], \"z\": [0.38]}, {\"hovertemplate\": \"Country=Malta <br>Agriculture=%{x}<br>Industry=%{y}<br>Service=%{z}<extra></extra>\", \"legendgroup\": \"Malta \", \"marker\": {\"color\": \"#FFA15A\", \"symbol\": \"circle\"}, \"mode\": \"markers\", \"name\": \"Malta \", \"scene\": \"scene\", \"showlegend\": true, \"type\": \"scatter3d\", \"x\": [0.03], \"y\": [0.23], \"z\": [0.74]}, {\"hovertemplate\": \"Country=Marshall Islands <br>Agriculture=%{x}<br>Industry=%{y}<br>Service=%{z}<extra></extra>\", \"legendgroup\": \"Marshall Islands \", \"marker\": {\"color\": \"#19d3f3\", \"symbol\": \"circle\"}, \"mode\": \"markers\", \"name\": \"Marshall Islands \", \"scene\": \"scene\", \"showlegend\": true, \"type\": \"scatter3d\", \"x\": [0.317], \"y\": [0.149], \"z\": [0.534]}, {\"hovertemplate\": \"Country=Martinique <br>Agriculture=%{x}<br>Industry=%{y}<br>Service=%{z}<extra></extra>\", \"legendgroup\": \"Martinique \", \"marker\": {\"color\": \"#FF6692\", \"symbol\": \"circle\"}, \"mode\": \"markers\", \"name\": \"Martinique \", \"scene\": \"scene\", \"showlegend\": true, \"type\": \"scatter3d\", \"x\": [0.06], \"y\": [0.11], \"z\": [0.83]}, {\"hovertemplate\": \"Country=Mauritania <br>Agriculture=%{x}<br>Industry=%{y}<br>Service=%{z}<extra></extra>\", \"legendgroup\": \"Mauritania \", \"marker\": {\"color\": \"#B6E880\", \"symbol\": \"circle\"}, \"mode\": \"markers\", \"name\": \"Mauritania \", \"scene\": \"scene\", \"showlegend\": true, \"type\": \"scatter3d\", \"x\": [0.25], \"y\": [0.29], \"z\": [0.46]}, {\"hovertemplate\": \"Country=Mauritius <br>Agriculture=%{x}<br>Industry=%{y}<br>Service=%{z}<extra></extra>\", \"legendgroup\": \"Mauritius \", \"marker\": {\"color\": \"#FF97FF\", \"symbol\": \"circle\"}, \"mode\": \"markers\", \"name\": \"Mauritius \", \"scene\": \"scene\", \"showlegend\": true, \"type\": \"scatter3d\", \"x\": [0.059], \"y\": [0.298], \"z\": [0.643]}, {\"hovertemplate\": \"Country=Mexico <br>Agriculture=%{x}<br>Industry=%{y}<br>Service=%{z}<extra></extra>\", \"legendgroup\": \"Mexico \", \"marker\": {\"color\": \"#FECB52\", \"symbol\": \"circle\"}, \"mode\": \"markers\", \"name\": \"Mexico \", \"scene\": \"scene\", \"showlegend\": true, \"type\": \"scatter3d\", \"x\": [0.038], \"y\": [0.259], \"z\": [0.702]}, {\"hovertemplate\": \"Country=Micronesia, Fed. St. <br>Agriculture=%{x}<br>Industry=%{y}<br>Service=%{z}<extra></extra>\", \"legendgroup\": \"Micronesia, Fed. St. \", \"marker\": {\"color\": \"#636efa\", \"symbol\": \"circle\"}, \"mode\": \"markers\", \"name\": \"Micronesia, Fed. St. \", \"scene\": \"scene\", \"showlegend\": true, \"type\": \"scatter3d\", \"x\": [0.289], \"y\": [0.152], \"z\": [0.559]}, {\"hovertemplate\": \"Country=Moldova <br>Agriculture=%{x}<br>Industry=%{y}<br>Service=%{z}<extra></extra>\", \"legendgroup\": \"Moldova \", \"marker\": {\"color\": \"#EF553B\", \"symbol\": \"circle\"}, \"mode\": \"markers\", \"name\": \"Moldova \", \"scene\": \"scene\", \"showlegend\": true, \"type\": \"scatter3d\", \"x\": [0.213], \"y\": [0.233], \"z\": [0.555]}, {\"hovertemplate\": \"Country=Mongolia <br>Agriculture=%{x}<br>Industry=%{y}<br>Service=%{z}<extra></extra>\", \"legendgroup\": \"Mongolia \", \"marker\": {\"color\": \"#00cc96\", \"symbol\": \"circle\"}, \"mode\": \"markers\", \"name\": \"Mongolia \", \"scene\": \"scene\", \"showlegend\": true, \"type\": \"scatter3d\", \"x\": [0.206], \"y\": [0.214], \"z\": [0.58]}, {\"hovertemplate\": \"Country=Morocco <br>Agriculture=%{x}<br>Industry=%{y}<br>Service=%{z}<extra></extra>\", \"legendgroup\": \"Morocco \", \"marker\": {\"color\": \"#ab63fa\", \"symbol\": \"circle\"}, \"mode\": \"markers\", \"name\": \"Morocco \", \"scene\": \"scene\", \"showlegend\": true, \"type\": \"scatter3d\", \"x\": [0.217], \"y\": [0.357], \"z\": [0.426]}, {\"hovertemplate\": \"Country=Mozambique <br>Agriculture=%{x}<br>Industry=%{y}<br>Service=%{z}<extra></extra>\", \"legendgroup\": \"Mozambique \", \"marker\": {\"color\": \"#FFA15A\", \"symbol\": \"circle\"}, \"mode\": \"markers\", \"name\": \"Mozambique \", \"scene\": \"scene\", \"showlegend\": true, \"type\": \"scatter3d\", \"x\": [0.262], \"y\": [0.348], \"z\": [0.39]}, {\"hovertemplate\": \"Country=Namibia <br>Agriculture=%{x}<br>Industry=%{y}<br>Service=%{z}<extra></extra>\", \"legendgroup\": \"Namibia \", \"marker\": {\"color\": \"#19d3f3\", \"symbol\": \"circle\"}, \"mode\": \"markers\", \"name\": \"Namibia \", \"scene\": \"scene\", \"showlegend\": true, \"type\": \"scatter3d\", \"x\": [0.097], \"y\": [0.315], \"z\": [0.588]}, {\"hovertemplate\": \"Country=Nepal <br>Agriculture=%{x}<br>Industry=%{y}<br>Service=%{z}<extra></extra>\", \"legendgroup\": \"Nepal \", \"marker\": {\"color\": \"#FF6692\", \"symbol\": \"circle\"}, \"mode\": \"markers\", \"name\": \"Nepal \", \"scene\": \"scene\", \"showlegend\": true, \"type\": \"scatter3d\", \"x\": [0.38], \"y\": [0.21], \"z\": [0.41]}, {\"hovertemplate\": \"Country=Netherlands <br>Agriculture=%{x}<br>Industry=%{y}<br>Service=%{z}<extra></extra>\", \"legendgroup\": \"Netherlands \", \"marker\": {\"color\": \"#B6E880\", \"symbol\": \"circle\"}, \"mode\": \"markers\", \"name\": \"Netherlands \", \"scene\": \"scene\", \"showlegend\": true, \"type\": \"scatter3d\", \"x\": [0.021], \"y\": [0.244], \"z\": [0.736]}, {\"hovertemplate\": \"Country=Netherlands Antilles <br>Agriculture=%{x}<br>Industry=%{y}<br>Service=%{z}<extra></extra>\", \"legendgroup\": \"Netherlands Antilles \", \"marker\": {\"color\": \"#FF97FF\", \"symbol\": \"circle\"}, \"mode\": \"markers\", \"name\": \"Netherlands Antilles \", \"scene\": \"scene\", \"showlegend\": true, \"type\": \"scatter3d\", \"x\": [0.01], \"y\": [0.15], \"z\": [0.84]}, {\"hovertemplate\": \"Country=New Caledonia <br>Agriculture=%{x}<br>Industry=%{y}<br>Service=%{z}<extra></extra>\", \"legendgroup\": \"New Caledonia \", \"marker\": {\"color\": \"#FECB52\", \"symbol\": \"circle\"}, \"mode\": \"markers\", \"name\": \"New Caledonia \", \"scene\": \"scene\", \"showlegend\": true, \"type\": \"scatter3d\", \"x\": [0.15], \"y\": [0.088], \"z\": [0.762]}, {\"hovertemplate\": \"Country=New Zealand <br>Agriculture=%{x}<br>Industry=%{y}<br>Service=%{z}<extra></extra>\", \"legendgroup\": \"New Zealand \", \"marker\": {\"color\": \"#636efa\", \"symbol\": \"circle\"}, \"mode\": \"markers\", \"name\": \"New Zealand \", \"scene\": \"scene\", \"showlegend\": true, \"type\": \"scatter3d\", \"x\": [0.043], \"y\": [0.273], \"z\": [0.684]}, {\"hovertemplate\": \"Country=Nicaragua <br>Agriculture=%{x}<br>Industry=%{y}<br>Service=%{z}<extra></extra>\", \"legendgroup\": \"Nicaragua \", \"marker\": {\"color\": \"#EF553B\", \"symbol\": \"circle\"}, \"mode\": \"markers\", \"name\": \"Nicaragua \", \"scene\": \"scene\", \"showlegend\": true, \"type\": \"scatter3d\", \"x\": [0.165], \"y\": [0.275], \"z\": [0.56]}, {\"hovertemplate\": \"Country=Niger <br>Agriculture=%{x}<br>Industry=%{y}<br>Service=%{z}<extra></extra>\", \"legendgroup\": \"Niger \", \"marker\": {\"color\": \"#00cc96\", \"symbol\": \"circle\"}, \"mode\": \"markers\", \"name\": \"Niger \", \"scene\": \"scene\", \"showlegend\": true, \"type\": \"scatter3d\", \"x\": [0.39], \"y\": [0.17], \"z\": [0.44]}, {\"hovertemplate\": \"Country=Nigeria <br>Agriculture=%{x}<br>Industry=%{y}<br>Service=%{z}<extra></extra>\", \"legendgroup\": \"Nigeria \", \"marker\": {\"color\": \"#ab63fa\", \"symbol\": \"circle\"}, \"mode\": \"markers\", \"name\": \"Nigeria \", \"scene\": \"scene\", \"showlegend\": true, \"type\": \"scatter3d\", \"x\": [0.269], \"y\": [0.487], \"z\": [0.244]}, {\"hovertemplate\": \"Country=Norway <br>Agriculture=%{x}<br>Industry=%{y}<br>Service=%{z}<extra></extra>\", \"legendgroup\": \"Norway \", \"marker\": {\"color\": \"#FFA15A\", \"symbol\": \"circle\"}, \"mode\": \"markers\", \"name\": \"Norway \", \"scene\": \"scene\", \"showlegend\": true, \"type\": \"scatter3d\", \"x\": [0.021], \"y\": [0.415], \"z\": [0.564]}, {\"hovertemplate\": \"Country=Oman <br>Agriculture=%{x}<br>Industry=%{y}<br>Service=%{z}<extra></extra>\", \"legendgroup\": \"Oman \", \"marker\": {\"color\": \"#19d3f3\", \"symbol\": \"circle\"}, \"mode\": \"markers\", \"name\": \"Oman \", \"scene\": \"scene\", \"showlegend\": true, \"type\": \"scatter3d\", \"x\": [0.027], \"y\": [0.39], \"z\": [0.583]}, {\"hovertemplate\": \"Country=Pakistan <br>Agriculture=%{x}<br>Industry=%{y}<br>Service=%{z}<extra></extra>\", \"legendgroup\": \"Pakistan \", \"marker\": {\"color\": \"#FF6692\", \"symbol\": \"circle\"}, \"mode\": \"markers\", \"name\": \"Pakistan \", \"scene\": \"scene\", \"showlegend\": true, \"type\": \"scatter3d\", \"x\": [0.216], \"y\": [0.251], \"z\": [0.533]}, {\"hovertemplate\": \"Country=Palau <br>Agriculture=%{x}<br>Industry=%{y}<br>Service=%{z}<extra></extra>\", \"legendgroup\": \"Palau \", \"marker\": {\"color\": \"#B6E880\", \"symbol\": \"circle\"}, \"mode\": \"markers\", \"name\": \"Palau \", \"scene\": \"scene\", \"showlegend\": true, \"type\": \"scatter3d\", \"x\": [0.062], \"y\": [0.12], \"z\": [0.818]}, {\"hovertemplate\": \"Country=Panama <br>Agriculture=%{x}<br>Industry=%{y}<br>Service=%{z}<extra></extra>\", \"legendgroup\": \"Panama \", \"marker\": {\"color\": \"#FF97FF\", \"symbol\": \"circle\"}, \"mode\": \"markers\", \"name\": \"Panama \", \"scene\": \"scene\", \"showlegend\": true, \"type\": \"scatter3d\", \"x\": [0.068], \"y\": [0.156], \"z\": [0.776]}, {\"hovertemplate\": \"Country=Papua New Guinea <br>Agriculture=%{x}<br>Industry=%{y}<br>Service=%{z}<extra></extra>\", \"legendgroup\": \"Papua New Guinea \", \"marker\": {\"color\": \"#FECB52\", \"symbol\": \"circle\"}, \"mode\": \"markers\", \"name\": \"Papua New Guinea \", \"scene\": \"scene\", \"showlegend\": true, \"type\": \"scatter3d\", \"x\": [0.353], \"y\": [0.381], \"z\": [0.266]}, {\"hovertemplate\": \"Country=Paraguay <br>Agriculture=%{x}<br>Industry=%{y}<br>Service=%{z}<extra></extra>\", \"legendgroup\": \"Paraguay \", \"marker\": {\"color\": \"#636efa\", \"symbol\": \"circle\"}, \"mode\": \"markers\", \"name\": \"Paraguay \", \"scene\": \"scene\", \"showlegend\": true, \"type\": \"scatter3d\", \"x\": [0.224], \"y\": [0.207], \"z\": [0.569]}, {\"hovertemplate\": \"Country=Peru <br>Agriculture=%{x}<br>Industry=%{y}<br>Service=%{z}<extra></extra>\", \"legendgroup\": \"Peru \", \"marker\": {\"color\": \"#EF553B\", \"symbol\": \"circle\"}, \"mode\": \"markers\", \"name\": \"Peru \", \"scene\": \"scene\", \"showlegend\": true, \"type\": \"scatter3d\", \"x\": [0.08], \"y\": [0.27], \"z\": [0.65]}, {\"hovertemplate\": \"Country=Philippines <br>Agriculture=%{x}<br>Industry=%{y}<br>Service=%{z}<extra></extra>\", \"legendgroup\": \"Philippines \", \"marker\": {\"color\": \"#00cc96\", \"symbol\": \"circle\"}, \"mode\": \"markers\", \"name\": \"Philippines \", \"scene\": \"scene\", \"showlegend\": true, \"type\": \"scatter3d\", \"x\": [0.144], \"y\": [0.326], \"z\": [0.53]}, {\"hovertemplate\": \"Country=Poland <br>Agriculture=%{x}<br>Industry=%{y}<br>Service=%{z}<extra></extra>\", \"legendgroup\": \"Poland \", \"marker\": {\"color\": \"#ab63fa\", \"symbol\": \"circle\"}, \"mode\": \"markers\", \"name\": \"Poland \", \"scene\": \"scene\", \"showlegend\": true, \"type\": \"scatter3d\", \"x\": [0.05], \"y\": [0.311], \"z\": [0.64]}, {\"hovertemplate\": \"Country=Portugal <br>Agriculture=%{x}<br>Industry=%{y}<br>Service=%{z}<extra></extra>\", \"legendgroup\": \"Portugal \", \"marker\": {\"color\": \"#FFA15A\", \"symbol\": \"circle\"}, \"mode\": \"markers\", \"name\": \"Portugal \", \"scene\": \"scene\", \"showlegend\": true, \"type\": \"scatter3d\", \"x\": [0.053], \"y\": [0.274], \"z\": [0.673]}, {\"hovertemplate\": \"Country=Puerto Rico <br>Agriculture=%{x}<br>Industry=%{y}<br>Service=%{z}<extra></extra>\", \"legendgroup\": \"Puerto Rico \", \"marker\": {\"color\": \"#19d3f3\", \"symbol\": \"circle\"}, \"mode\": \"markers\", \"name\": \"Puerto Rico \", \"scene\": \"scene\", \"showlegend\": true, \"type\": \"scatter3d\", \"x\": [0.01], \"y\": [0.45], \"z\": [0.54]}, {\"hovertemplate\": \"Country=Qatar <br>Agriculture=%{x}<br>Industry=%{y}<br>Service=%{z}<extra></extra>\", \"legendgroup\": \"Qatar \", \"marker\": {\"color\": \"#FF6692\", \"symbol\": \"circle\"}, \"mode\": \"markers\", \"name\": \"Qatar \", \"scene\": \"scene\", \"showlegend\": true, \"type\": \"scatter3d\", \"x\": [0.002], \"y\": [0.801], \"z\": [0.197]}, {\"hovertemplate\": \"Country=Reunion <br>Agriculture=%{x}<br>Industry=%{y}<br>Service=%{z}<extra></extra>\", \"legendgroup\": \"Reunion \", \"marker\": {\"color\": \"#B6E880\", \"symbol\": \"circle\"}, \"mode\": \"markers\", \"name\": \"Reunion \", \"scene\": \"scene\", \"showlegend\": true, \"type\": \"scatter3d\", \"x\": [0.08], \"y\": [0.19], \"z\": [0.73]}, {\"hovertemplate\": \"Country=Romania <br>Agriculture=%{x}<br>Industry=%{y}<br>Service=%{z}<extra></extra>\", \"legendgroup\": \"Romania \", \"marker\": {\"color\": \"#FF97FF\", \"symbol\": \"circle\"}, \"mode\": \"markers\", \"name\": \"Romania \", \"scene\": \"scene\", \"showlegend\": true, \"type\": \"scatter3d\", \"x\": [0.101], \"y\": [0.35], \"z\": [0.549]}, {\"hovertemplate\": \"Country=Russia <br>Agriculture=%{x}<br>Industry=%{y}<br>Service=%{z}<extra></extra>\", \"legendgroup\": \"Russia \", \"marker\": {\"color\": \"#FECB52\", \"symbol\": \"circle\"}, \"mode\": \"markers\", \"name\": \"Russia \", \"scene\": \"scene\", \"showlegend\": true, \"type\": \"scatter3d\", \"x\": [0.054], \"y\": [0.371], \"z\": [0.575]}, {\"hovertemplate\": \"Country=Rwanda <br>Agriculture=%{x}<br>Industry=%{y}<br>Service=%{z}<extra></extra>\", \"legendgroup\": \"Rwanda \", \"marker\": {\"color\": \"#636efa\", \"symbol\": \"circle\"}, \"mode\": \"markers\", \"name\": \"Rwanda \", \"scene\": \"scene\", \"showlegend\": true, \"type\": \"scatter3d\", \"x\": [0.401], \"y\": [0.229], \"z\": [0.37]}, {\"hovertemplate\": \"Country=Saint Kitts & Nevis <br>Agriculture=%{x}<br>Industry=%{y}<br>Service=%{z}<extra></extra>\", \"legendgroup\": \"Saint Kitts & Nevis \", \"marker\": {\"color\": \"#EF553B\", \"symbol\": \"circle\"}, \"mode\": \"markers\", \"name\": \"Saint Kitts & Nevis \", \"scene\": \"scene\", \"showlegend\": true, \"type\": \"scatter3d\", \"x\": [0.035], \"y\": [0.258], \"z\": [0.707]}, {\"hovertemplate\": \"Country=Saint Lucia <br>Agriculture=%{x}<br>Industry=%{y}<br>Service=%{z}<extra></extra>\", \"legendgroup\": \"Saint Lucia \", \"marker\": {\"color\": \"#00cc96\", \"symbol\": \"circle\"}, \"mode\": \"markers\", \"name\": \"Saint Lucia \", \"scene\": \"scene\", \"showlegend\": true, \"type\": \"scatter3d\", \"x\": [0.07], \"y\": [0.2], \"z\": [0.73]}, {\"hovertemplate\": \"Country=Saint Vincent and the Grenadines <br>Agriculture=%{x}<br>Industry=%{y}<br>Service=%{z}<extra></extra>\", \"legendgroup\": \"Saint Vincent and the Grenadines \", \"marker\": {\"color\": \"#ab63fa\", \"symbol\": \"circle\"}, \"mode\": \"markers\", \"name\": \"Saint Vincent and the Grenadines \", \"scene\": \"scene\", \"showlegend\": true, \"type\": \"scatter3d\", \"x\": [0.1], \"y\": [0.26], \"z\": [0.64]}, {\"hovertemplate\": \"Country=Samoa <br>Agriculture=%{x}<br>Industry=%{y}<br>Service=%{z}<extra></extra>\", \"legendgroup\": \"Samoa \", \"marker\": {\"color\": \"#FFA15A\", \"symbol\": \"circle\"}, \"mode\": \"markers\", \"name\": \"Samoa \", \"scene\": \"scene\", \"showlegend\": true, \"type\": \"scatter3d\", \"x\": [0.114], \"y\": [0.584], \"z\": [0.302]}, {\"hovertemplate\": \"Country=Sao Tome & Principe <br>Agriculture=%{x}<br>Industry=%{y}<br>Service=%{z}<extra></extra>\", \"legendgroup\": \"Sao Tome & Principe \", \"marker\": {\"color\": \"#19d3f3\", \"symbol\": \"circle\"}, \"mode\": \"markers\", \"name\": \"Sao Tome & Principe \", \"scene\": \"scene\", \"showlegend\": true, \"type\": \"scatter3d\", \"x\": [0.167], \"y\": [0.148], \"z\": [0.684]}, {\"hovertemplate\": \"Country=Saudi Arabia <br>Agriculture=%{x}<br>Industry=%{y}<br>Service=%{z}<extra></extra>\", \"legendgroup\": \"Saudi Arabia \", \"marker\": {\"color\": \"#FF6692\", \"symbol\": \"circle\"}, \"mode\": \"markers\", \"name\": \"Saudi Arabia \", \"scene\": \"scene\", \"showlegend\": true, \"type\": \"scatter3d\", \"x\": [0.033], \"y\": [0.613], \"z\": [0.354]}, {\"hovertemplate\": \"Country=Senegal <br>Agriculture=%{x}<br>Industry=%{y}<br>Service=%{z}<extra></extra>\", \"legendgroup\": \"Senegal \", \"marker\": {\"color\": \"#B6E880\", \"symbol\": \"circle\"}, \"mode\": \"markers\", \"name\": \"Senegal \", \"scene\": \"scene\", \"showlegend\": true, \"type\": \"scatter3d\", \"x\": [0.172], \"y\": [0.209], \"z\": [0.619]}, {\"hovertemplate\": \"Country=Serbia <br>Agriculture=%{x}<br>Industry=%{y}<br>Service=%{z}<extra></extra>\", \"legendgroup\": \"Serbia \", \"marker\": {\"color\": \"#FF97FF\", \"symbol\": \"circle\"}, \"mode\": \"markers\", \"name\": \"Serbia \", \"scene\": \"scene\", \"showlegend\": true, \"type\": \"scatter3d\", \"x\": [0.166], \"y\": [0.255], \"z\": [0.579]}, {\"hovertemplate\": \"Country=Seychelles <br>Agriculture=%{x}<br>Industry=%{y}<br>Service=%{z}<extra></extra>\", \"legendgroup\": \"Seychelles \", \"marker\": {\"color\": \"#FECB52\", \"symbol\": \"circle\"}, \"mode\": \"markers\", \"name\": \"Seychelles \", \"scene\": \"scene\", \"showlegend\": true, \"type\": \"scatter3d\", \"x\": [0.032], \"y\": [0.304], \"z\": [0.665]}, {\"hovertemplate\": \"Country=Sierra Leone <br>Agriculture=%{x}<br>Industry=%{y}<br>Service=%{z}<extra></extra>\", \"legendgroup\": \"Sierra Leone \", \"marker\": {\"color\": \"#636efa\", \"symbol\": \"circle\"}, \"mode\": \"markers\", \"name\": \"Sierra Leone \", \"scene\": \"scene\", \"showlegend\": true, \"type\": \"scatter3d\", \"x\": [0.49], \"y\": [0.31], \"z\": [0.21]}, {\"hovertemplate\": \"Country=Singapore <br>Agriculture=%{x}<br>Industry=%{y}<br>Service=%{z}<extra></extra>\", \"legendgroup\": \"Singapore \", \"marker\": {\"color\": \"#EF553B\", \"symbol\": \"circle\"}, \"mode\": \"markers\", \"name\": \"Singapore \", \"scene\": \"scene\", \"showlegend\": true, \"type\": \"scatter3d\", \"x\": [0.0], \"y\": [0.339], \"z\": [0.661]}, {\"hovertemplate\": \"Country=Slovakia <br>Agriculture=%{x}<br>Industry=%{y}<br>Service=%{z}<extra></extra>\", \"legendgroup\": \"Slovakia \", \"marker\": {\"color\": \"#00cc96\", \"symbol\": \"circle\"}, \"mode\": \"markers\", \"name\": \"Slovakia \", \"scene\": \"scene\", \"showlegend\": true, \"type\": \"scatter3d\", \"x\": [0.035], \"y\": [0.294], \"z\": [0.672]}, {\"hovertemplate\": \"Country=Slovenia <br>Agriculture=%{x}<br>Industry=%{y}<br>Service=%{z}<extra></extra>\", \"legendgroup\": \"Slovenia \", \"marker\": {\"color\": \"#ab63fa\", \"symbol\": \"circle\"}, \"mode\": \"markers\", \"name\": \"Slovenia \", \"scene\": \"scene\", \"showlegend\": true, \"type\": \"scatter3d\", \"x\": [0.028], \"y\": [0.369], \"z\": [0.603]}, {\"hovertemplate\": \"Country=Solomon Islands <br>Agriculture=%{x}<br>Industry=%{y}<br>Service=%{z}<extra></extra>\", \"legendgroup\": \"Solomon Islands \", \"marker\": {\"color\": \"#FFA15A\", \"symbol\": \"circle\"}, \"mode\": \"markers\", \"name\": \"Solomon Islands \", \"scene\": \"scene\", \"showlegend\": true, \"type\": \"scatter3d\", \"x\": [0.42], \"y\": [0.11], \"z\": [0.47]}, {\"hovertemplate\": \"Country=Somalia <br>Agriculture=%{x}<br>Industry=%{y}<br>Service=%{z}<extra></extra>\", \"legendgroup\": \"Somalia \", \"marker\": {\"color\": \"#19d3f3\", \"symbol\": \"circle\"}, \"mode\": \"markers\", \"name\": \"Somalia \", \"scene\": \"scene\", \"showlegend\": true, \"type\": \"scatter3d\", \"x\": [0.65], \"y\": [0.1], \"z\": [0.25]}, {\"hovertemplate\": \"Country=South Africa <br>Agriculture=%{x}<br>Industry=%{y}<br>Service=%{z}<extra></extra>\", \"legendgroup\": \"South Africa \", \"marker\": {\"color\": \"#FF6692\", \"symbol\": \"circle\"}, \"mode\": \"markers\", \"name\": \"South Africa \", \"scene\": \"scene\", \"showlegend\": true, \"type\": \"scatter3d\", \"x\": [0.025], \"y\": [0.303], \"z\": [0.671]}, {\"hovertemplate\": \"Country=Spain <br>Agriculture=%{x}<br>Industry=%{y}<br>Service=%{z}<extra></extra>\", \"legendgroup\": \"Spain \", \"marker\": {\"color\": \"#B6E880\", \"symbol\": \"circle\"}, \"mode\": \"markers\", \"name\": \"Spain \", \"scene\": \"scene\", \"showlegend\": true, \"type\": \"scatter3d\", \"x\": [0.04], \"y\": [0.295], \"z\": [0.665]}, {\"hovertemplate\": \"Country=Sri Lanka <br>Agriculture=%{x}<br>Industry=%{y}<br>Service=%{z}<extra></extra>\", \"legendgroup\": \"Sri Lanka \", \"marker\": {\"color\": \"#FF97FF\", \"symbol\": \"circle\"}, \"mode\": \"markers\", \"name\": \"Sri Lanka \", \"scene\": \"scene\", \"showlegend\": true, \"type\": \"scatter3d\", \"x\": [0.178], \"y\": [0.276], \"z\": [0.545]}, {\"hovertemplate\": \"Country=Sudan <br>Agriculture=%{x}<br>Industry=%{y}<br>Service=%{z}<extra></extra>\", \"legendgroup\": \"Sudan \", \"marker\": {\"color\": \"#FECB52\", \"symbol\": \"circle\"}, \"mode\": \"markers\", \"name\": \"Sudan \", \"scene\": \"scene\", \"showlegend\": true, \"type\": \"scatter3d\", \"x\": [0.387], \"y\": [0.203], \"z\": [0.41]}, {\"hovertemplate\": \"Country=Suriname <br>Agriculture=%{x}<br>Industry=%{y}<br>Service=%{z}<extra></extra>\", \"legendgroup\": \"Suriname \", \"marker\": {\"color\": \"#636efa\", \"symbol\": \"circle\"}, \"mode\": \"markers\", \"name\": \"Suriname \", \"scene\": \"scene\", \"showlegend\": true, \"type\": \"scatter3d\", \"x\": [0.13], \"y\": [0.22], \"z\": [0.65]}, {\"hovertemplate\": \"Country=Swaziland <br>Agriculture=%{x}<br>Industry=%{y}<br>Service=%{z}<extra></extra>\", \"legendgroup\": \"Swaziland \", \"marker\": {\"color\": \"#EF553B\", \"symbol\": \"circle\"}, \"mode\": \"markers\", \"name\": \"Swaziland \", \"scene\": \"scene\", \"showlegend\": true, \"type\": \"scatter3d\", \"x\": [0.119], \"y\": [0.515], \"z\": [0.366]}, {\"hovertemplate\": \"Country=Sweden <br>Agriculture=%{x}<br>Industry=%{y}<br>Service=%{z}<extra></extra>\", \"legendgroup\": \"Sweden \", \"marker\": {\"color\": \"#00cc96\", \"symbol\": \"circle\"}, \"mode\": \"markers\", \"name\": \"Sweden \", \"scene\": \"scene\", \"showlegend\": true, \"type\": \"scatter3d\", \"x\": [0.011], \"y\": [0.282], \"z\": [0.707]}, {\"hovertemplate\": \"Country=Switzerland <br>Agriculture=%{x}<br>Industry=%{y}<br>Service=%{z}<extra></extra>\", \"legendgroup\": \"Switzerland \", \"marker\": {\"color\": \"#ab63fa\", \"symbol\": \"circle\"}, \"mode\": \"markers\", \"name\": \"Switzerland \", \"scene\": \"scene\", \"showlegend\": true, \"type\": \"scatter3d\", \"x\": [0.015], \"y\": [0.34], \"z\": [0.645]}, {\"hovertemplate\": \"Country=Syria <br>Agriculture=%{x}<br>Industry=%{y}<br>Service=%{z}<extra></extra>\", \"legendgroup\": \"Syria \", \"marker\": {\"color\": \"#FFA15A\", \"symbol\": \"circle\"}, \"mode\": \"markers\", \"name\": \"Syria \", \"scene\": \"scene\", \"showlegend\": true, \"type\": \"scatter3d\", \"x\": [0.249], \"y\": [0.23], \"z\": [0.519]}, {\"hovertemplate\": \"Country=Taiwan <br>Agriculture=%{x}<br>Industry=%{y}<br>Service=%{z}<extra></extra>\", \"legendgroup\": \"Taiwan \", \"marker\": {\"color\": \"#19d3f3\", \"symbol\": \"circle\"}, \"mode\": \"markers\", \"name\": \"Taiwan \", \"scene\": \"scene\", \"showlegend\": true, \"type\": \"scatter3d\", \"x\": [0.018], \"y\": [0.259], \"z\": [0.723]}, {\"hovertemplate\": \"Country=Tajikistan <br>Agriculture=%{x}<br>Industry=%{y}<br>Service=%{z}<extra></extra>\", \"legendgroup\": \"Tajikistan \", \"marker\": {\"color\": \"#FF6692\", \"symbol\": \"circle\"}, \"mode\": \"markers\", \"name\": \"Tajikistan \", \"scene\": \"scene\", \"showlegend\": true, \"type\": \"scatter3d\", \"x\": [0.234], \"y\": [0.286], \"z\": [0.48]}, {\"hovertemplate\": \"Country=Tanzania <br>Agriculture=%{x}<br>Industry=%{y}<br>Service=%{z}<extra></extra>\", \"legendgroup\": \"Tanzania \", \"marker\": {\"color\": \"#B6E880\", \"symbol\": \"circle\"}, \"mode\": \"markers\", \"name\": \"Tanzania \", \"scene\": \"scene\", \"showlegend\": true, \"type\": \"scatter3d\", \"x\": [0.432], \"y\": [0.172], \"z\": [0.396]}, {\"hovertemplate\": \"Country=Thailand <br>Agriculture=%{x}<br>Industry=%{y}<br>Service=%{z}<extra></extra>\", \"legendgroup\": \"Thailand \", \"marker\": {\"color\": \"#FF97FF\", \"symbol\": \"circle\"}, \"mode\": \"markers\", \"name\": \"Thailand \", \"scene\": \"scene\", \"showlegend\": true, \"type\": \"scatter3d\", \"x\": [0.099], \"y\": [0.441], \"z\": [0.46]}, {\"hovertemplate\": \"Country=Togo <br>Agriculture=%{x}<br>Industry=%{y}<br>Service=%{z}<extra></extra>\", \"legendgroup\": \"Togo \", \"marker\": {\"color\": \"#FECB52\", \"symbol\": \"circle\"}, \"mode\": \"markers\", \"name\": \"Togo \", \"scene\": \"scene\", \"showlegend\": true, \"type\": \"scatter3d\", \"x\": [0.395], \"y\": [0.204], \"z\": [0.401]}, {\"hovertemplate\": \"Country=Tonga <br>Agriculture=%{x}<br>Industry=%{y}<br>Service=%{z}<extra></extra>\", \"legendgroup\": \"Tonga \", \"marker\": {\"color\": \"#636efa\", \"symbol\": \"circle\"}, \"mode\": \"markers\", \"name\": \"Tonga \", \"scene\": \"scene\", \"showlegend\": true, \"type\": \"scatter3d\", \"x\": [0.23], \"y\": [0.27], \"z\": [0.5]}, {\"hovertemplate\": \"Country=Trinidad & Tobago <br>Agriculture=%{x}<br>Industry=%{y}<br>Service=%{z}<extra></extra>\", \"legendgroup\": \"Trinidad & Tobago \", \"marker\": {\"color\": \"#EF553B\", \"symbol\": \"circle\"}, \"mode\": \"markers\", \"name\": \"Trinidad & Tobago \", \"scene\": \"scene\", \"showlegend\": true, \"type\": \"scatter3d\", \"x\": [0.007], \"y\": [0.57], \"z\": [0.423]}, {\"hovertemplate\": \"Country=Tunisia <br>Agriculture=%{x}<br>Industry=%{y}<br>Service=%{z}<extra></extra>\", \"legendgroup\": \"Tunisia \", \"marker\": {\"color\": \"#00cc96\", \"symbol\": \"circle\"}, \"mode\": \"markers\", \"name\": \"Tunisia \", \"scene\": \"scene\", \"showlegend\": true, \"type\": \"scatter3d\", \"x\": [0.132], \"y\": [0.318], \"z\": [0.55]}, {\"hovertemplate\": \"Country=Turkey <br>Agriculture=%{x}<br>Industry=%{y}<br>Service=%{z}<extra></extra>\", \"legendgroup\": \"Turkey \", \"marker\": {\"color\": \"#ab63fa\", \"symbol\": \"circle\"}, \"mode\": \"markers\", \"name\": \"Turkey \", \"scene\": \"scene\", \"showlegend\": true, \"type\": \"scatter3d\", \"x\": [0.117], \"y\": [0.298], \"z\": [0.585]}, {\"hovertemplate\": \"Country=Turkmenistan <br>Agriculture=%{x}<br>Industry=%{y}<br>Service=%{z}<extra></extra>\", \"legendgroup\": \"Turkmenistan \", \"marker\": {\"color\": \"#FFA15A\", \"symbol\": \"circle\"}, \"mode\": \"markers\", \"name\": \"Turkmenistan \", \"scene\": \"scene\", \"showlegend\": true, \"type\": \"scatter3d\", \"x\": [0.209], \"y\": [0.38], \"z\": [0.411]}, {\"hovertemplate\": \"Country=Tuvalu <br>Agriculture=%{x}<br>Industry=%{y}<br>Service=%{z}<extra></extra>\", \"legendgroup\": \"Tuvalu \", \"marker\": {\"color\": \"#19d3f3\", \"symbol\": \"circle\"}, \"mode\": \"markers\", \"name\": \"Tuvalu \", \"scene\": \"scene\", \"showlegend\": true, \"type\": \"scatter3d\", \"x\": [0.166], \"y\": [0.272], \"z\": [0.562]}, {\"hovertemplate\": \"Country=Uganda <br>Agriculture=%{x}<br>Industry=%{y}<br>Service=%{z}<extra></extra>\", \"legendgroup\": \"Uganda \", \"marker\": {\"color\": \"#FF6692\", \"symbol\": \"circle\"}, \"mode\": \"markers\", \"name\": \"Uganda \", \"scene\": \"scene\", \"showlegend\": true, \"type\": \"scatter3d\", \"x\": [0.311], \"y\": [0.222], \"z\": [0.469]}, {\"hovertemplate\": \"Country=Ukraine <br>Agriculture=%{x}<br>Industry=%{y}<br>Service=%{z}<extra></extra>\", \"legendgroup\": \"Ukraine \", \"marker\": {\"color\": \"#B6E880\", \"symbol\": \"circle\"}, \"mode\": \"markers\", \"name\": \"Ukraine \", \"scene\": \"scene\", \"showlegend\": true, \"type\": \"scatter3d\", \"x\": [0.187], \"y\": [0.452], \"z\": [0.361]}, {\"hovertemplate\": \"Country=United Arab Emirates <br>Agriculture=%{x}<br>Industry=%{y}<br>Service=%{z}<extra></extra>\", \"legendgroup\": \"United Arab Emirates \", \"marker\": {\"color\": \"#FF97FF\", \"symbol\": \"circle\"}, \"mode\": \"markers\", \"name\": \"United Arab Emirates \", \"scene\": \"scene\", \"showlegend\": true, \"type\": \"scatter3d\", \"x\": [0.04], \"y\": [0.585], \"z\": [0.375]}, {\"hovertemplate\": \"Country=United Kingdom <br>Agriculture=%{x}<br>Industry=%{y}<br>Service=%{z}<extra></extra>\", \"legendgroup\": \"United Kingdom \", \"marker\": {\"color\": \"#FECB52\", \"symbol\": \"circle\"}, \"mode\": \"markers\", \"name\": \"United Kingdom \", \"scene\": \"scene\", \"showlegend\": true, \"type\": \"scatter3d\", \"x\": [0.005], \"y\": [0.237], \"z\": [0.758]}, {\"hovertemplate\": \"Country=United States <br>Agriculture=%{x}<br>Industry=%{y}<br>Service=%{z}<extra></extra>\", \"legendgroup\": \"United States \", \"marker\": {\"color\": \"#636efa\", \"symbol\": \"circle\"}, \"mode\": \"markers\", \"name\": \"United States \", \"scene\": \"scene\", \"showlegend\": true, \"type\": \"scatter3d\", \"x\": [0.01], \"y\": [0.204], \"z\": [0.787]}, {\"hovertemplate\": \"Country=Uruguay <br>Agriculture=%{x}<br>Industry=%{y}<br>Service=%{z}<extra></extra>\", \"legendgroup\": \"Uruguay \", \"marker\": {\"color\": \"#EF553B\", \"symbol\": \"circle\"}, \"mode\": \"markers\", \"name\": \"Uruguay \", \"scene\": \"scene\", \"showlegend\": true, \"type\": \"scatter3d\", \"x\": [0.093], \"y\": [0.311], \"z\": [0.596]}, {\"hovertemplate\": \"Country=Uzbekistan <br>Agriculture=%{x}<br>Industry=%{y}<br>Service=%{z}<extra></extra>\", \"legendgroup\": \"Uzbekistan \", \"marker\": {\"color\": \"#00cc96\", \"symbol\": \"circle\"}, \"mode\": \"markers\", \"name\": \"Uzbekistan \", \"scene\": \"scene\", \"showlegend\": true, \"type\": \"scatter3d\", \"x\": [0.342], \"y\": [0.229], \"z\": [0.43]}, {\"hovertemplate\": \"Country=Vanuatu <br>Agriculture=%{x}<br>Industry=%{y}<br>Service=%{z}<extra></extra>\", \"legendgroup\": \"Vanuatu \", \"marker\": {\"color\": \"#ab63fa\", \"symbol\": \"circle\"}, \"mode\": \"markers\", \"name\": \"Vanuatu \", \"scene\": \"scene\", \"showlegend\": true, \"type\": \"scatter3d\", \"x\": [0.26], \"y\": [0.12], \"z\": [0.62]}, {\"hovertemplate\": \"Country=Venezuela <br>Agriculture=%{x}<br>Industry=%{y}<br>Service=%{z}<extra></extra>\", \"legendgroup\": \"Venezuela \", \"marker\": {\"color\": \"#FFA15A\", \"symbol\": \"circle\"}, \"mode\": \"markers\", \"name\": \"Venezuela \", \"scene\": \"scene\", \"showlegend\": true, \"type\": \"scatter3d\", \"x\": [0.04], \"y\": [0.419], \"z\": [0.541]}, {\"hovertemplate\": \"Country=Vietnam <br>Agriculture=%{x}<br>Industry=%{y}<br>Service=%{z}<extra></extra>\", \"legendgroup\": \"Vietnam \", \"marker\": {\"color\": \"#19d3f3\", \"symbol\": \"circle\"}, \"mode\": \"markers\", \"name\": \"Vietnam \", \"scene\": \"scene\", \"showlegend\": true, \"type\": \"scatter3d\", \"x\": [0.209], \"y\": [0.41], \"z\": [0.381]}, {\"hovertemplate\": \"Country=Virgin Islands <br>Agriculture=%{x}<br>Industry=%{y}<br>Service=%{z}<extra></extra>\", \"legendgroup\": \"Virgin Islands \", \"marker\": {\"color\": \"#FF6692\", \"symbol\": \"circle\"}, \"mode\": \"markers\", \"name\": \"Virgin Islands \", \"scene\": \"scene\", \"showlegend\": true, \"type\": \"scatter3d\", \"x\": [0.01], \"y\": [0.19], \"z\": [0.8]}, {\"hovertemplate\": \"Country=West Bank <br>Agriculture=%{x}<br>Industry=%{y}<br>Service=%{z}<extra></extra>\", \"legendgroup\": \"West Bank \", \"marker\": {\"color\": \"#B6E880\", \"symbol\": \"circle\"}, \"mode\": \"markers\", \"name\": \"West Bank \", \"scene\": \"scene\", \"showlegend\": true, \"type\": \"scatter3d\", \"x\": [0.09], \"y\": [0.28], \"z\": [0.63]}, {\"hovertemplate\": \"Country=Yemen <br>Agriculture=%{x}<br>Industry=%{y}<br>Service=%{z}<extra></extra>\", \"legendgroup\": \"Yemen \", \"marker\": {\"color\": \"#FF97FF\", \"symbol\": \"circle\"}, \"mode\": \"markers\", \"name\": \"Yemen \", \"scene\": \"scene\", \"showlegend\": true, \"type\": \"scatter3d\", \"x\": [0.135], \"y\": [0.472], \"z\": [0.393]}, {\"hovertemplate\": \"Country=Zambia <br>Agriculture=%{x}<br>Industry=%{y}<br>Service=%{z}<extra></extra>\", \"legendgroup\": \"Zambia \", \"marker\": {\"color\": \"#FECB52\", \"symbol\": \"circle\"}, \"mode\": \"markers\", \"name\": \"Zambia \", \"scene\": \"scene\", \"showlegend\": true, \"type\": \"scatter3d\", \"x\": [0.22], \"y\": [0.29], \"z\": [0.489]}, {\"hovertemplate\": \"Country=Zimbabwe <br>Agriculture=%{x}<br>Industry=%{y}<br>Service=%{z}<extra></extra>\", \"legendgroup\": \"Zimbabwe \", \"marker\": {\"color\": \"#636efa\", \"symbol\": \"circle\"}, \"mode\": \"markers\", \"name\": \"Zimbabwe \", \"scene\": \"scene\", \"showlegend\": true, \"type\": \"scatter3d\", \"x\": [0.179], \"y\": [0.243], \"z\": [0.579]}],\n",
       "                        {\"legend\": {\"title\": {\"text\": \"Country\"}, \"tracegroupgap\": 0}, \"scene\": {\"domain\": {\"x\": [0.0, 1.0], \"y\": [0.0, 1.0]}, \"xaxis\": {\"title\": {\"text\": \"Agriculture\"}}, \"yaxis\": {\"title\": {\"text\": \"Industry\"}}, \"zaxis\": {\"title\": {\"text\": \"Service\"}}}, \"template\": {\"data\": {\"bar\": [{\"error_x\": {\"color\": \"#2a3f5f\"}, \"error_y\": {\"color\": \"#2a3f5f\"}, \"marker\": {\"line\": {\"color\": \"#E5ECF6\", \"width\": 0.5}}, \"type\": \"bar\"}], \"barpolar\": [{\"marker\": {\"line\": {\"color\": \"#E5ECF6\", \"width\": 0.5}}, \"type\": \"barpolar\"}], \"carpet\": [{\"aaxis\": {\"endlinecolor\": \"#2a3f5f\", \"gridcolor\": \"white\", \"linecolor\": \"white\", \"minorgridcolor\": \"white\", \"startlinecolor\": \"#2a3f5f\"}, \"baxis\": {\"endlinecolor\": \"#2a3f5f\", \"gridcolor\": \"white\", \"linecolor\": \"white\", \"minorgridcolor\": \"white\", \"startlinecolor\": \"#2a3f5f\"}, \"type\": \"carpet\"}], \"choropleth\": [{\"colorbar\": {\"outlinewidth\": 0, \"ticks\": \"\"}, \"type\": \"choropleth\"}], \"contour\": [{\"colorbar\": {\"outlinewidth\": 0, \"ticks\": \"\"}, \"colorscale\": [[0.0, \"#0d0887\"], [0.1111111111111111, \"#46039f\"], [0.2222222222222222, \"#7201a8\"], [0.3333333333333333, \"#9c179e\"], [0.4444444444444444, \"#bd3786\"], [0.5555555555555556, \"#d8576b\"], [0.6666666666666666, \"#ed7953\"], [0.7777777777777778, \"#fb9f3a\"], [0.8888888888888888, \"#fdca26\"], [1.0, \"#f0f921\"]], \"type\": \"contour\"}], \"contourcarpet\": [{\"colorbar\": {\"outlinewidth\": 0, \"ticks\": \"\"}, \"type\": \"contourcarpet\"}], \"heatmap\": [{\"colorbar\": {\"outlinewidth\": 0, \"ticks\": \"\"}, \"colorscale\": [[0.0, \"#0d0887\"], [0.1111111111111111, \"#46039f\"], [0.2222222222222222, \"#7201a8\"], [0.3333333333333333, \"#9c179e\"], [0.4444444444444444, \"#bd3786\"], [0.5555555555555556, \"#d8576b\"], [0.6666666666666666, \"#ed7953\"], [0.7777777777777778, \"#fb9f3a\"], [0.8888888888888888, \"#fdca26\"], [1.0, \"#f0f921\"]], \"type\": \"heatmap\"}], \"heatmapgl\": [{\"colorbar\": {\"outlinewidth\": 0, \"ticks\": \"\"}, \"colorscale\": [[0.0, \"#0d0887\"], [0.1111111111111111, \"#46039f\"], [0.2222222222222222, \"#7201a8\"], [0.3333333333333333, \"#9c179e\"], [0.4444444444444444, \"#bd3786\"], [0.5555555555555556, \"#d8576b\"], [0.6666666666666666, \"#ed7953\"], [0.7777777777777778, \"#fb9f3a\"], [0.8888888888888888, \"#fdca26\"], [1.0, \"#f0f921\"]], \"type\": \"heatmapgl\"}], \"histogram\": [{\"marker\": {\"colorbar\": {\"outlinewidth\": 0, \"ticks\": \"\"}}, \"type\": \"histogram\"}], \"histogram2d\": [{\"colorbar\": {\"outlinewidth\": 0, \"ticks\": \"\"}, \"colorscale\": [[0.0, \"#0d0887\"], [0.1111111111111111, \"#46039f\"], [0.2222222222222222, \"#7201a8\"], [0.3333333333333333, \"#9c179e\"], [0.4444444444444444, \"#bd3786\"], [0.5555555555555556, \"#d8576b\"], [0.6666666666666666, \"#ed7953\"], [0.7777777777777778, \"#fb9f3a\"], [0.8888888888888888, \"#fdca26\"], [1.0, \"#f0f921\"]], \"type\": \"histogram2d\"}], \"histogram2dcontour\": [{\"colorbar\": {\"outlinewidth\": 0, \"ticks\": \"\"}, \"colorscale\": [[0.0, \"#0d0887\"], [0.1111111111111111, \"#46039f\"], [0.2222222222222222, \"#7201a8\"], [0.3333333333333333, \"#9c179e\"], [0.4444444444444444, \"#bd3786\"], [0.5555555555555556, \"#d8576b\"], [0.6666666666666666, \"#ed7953\"], [0.7777777777777778, \"#fb9f3a\"], [0.8888888888888888, \"#fdca26\"], [1.0, \"#f0f921\"]], \"type\": \"histogram2dcontour\"}], \"mesh3d\": [{\"colorbar\": {\"outlinewidth\": 0, \"ticks\": \"\"}, \"type\": \"mesh3d\"}], \"parcoords\": [{\"line\": {\"colorbar\": {\"outlinewidth\": 0, \"ticks\": \"\"}}, \"type\": \"parcoords\"}], \"pie\": [{\"automargin\": true, \"type\": \"pie\"}], \"scatter\": [{\"marker\": {\"colorbar\": {\"outlinewidth\": 0, \"ticks\": \"\"}}, \"type\": \"scatter\"}], \"scatter3d\": [{\"line\": {\"colorbar\": {\"outlinewidth\": 0, \"ticks\": \"\"}}, \"marker\": {\"colorbar\": {\"outlinewidth\": 0, \"ticks\": \"\"}}, \"type\": \"scatter3d\"}], \"scattercarpet\": [{\"marker\": {\"colorbar\": {\"outlinewidth\": 0, \"ticks\": \"\"}}, \"type\": \"scattercarpet\"}], \"scattergeo\": [{\"marker\": {\"colorbar\": {\"outlinewidth\": 0, \"ticks\": \"\"}}, \"type\": \"scattergeo\"}], \"scattergl\": [{\"marker\": {\"colorbar\": {\"outlinewidth\": 0, \"ticks\": \"\"}}, \"type\": \"scattergl\"}], \"scattermapbox\": [{\"marker\": {\"colorbar\": {\"outlinewidth\": 0, \"ticks\": \"\"}}, \"type\": \"scattermapbox\"}], \"scatterpolar\": [{\"marker\": {\"colorbar\": {\"outlinewidth\": 0, \"ticks\": \"\"}}, \"type\": \"scatterpolar\"}], \"scatterpolargl\": [{\"marker\": {\"colorbar\": {\"outlinewidth\": 0, \"ticks\": \"\"}}, \"type\": \"scatterpolargl\"}], \"scatterternary\": [{\"marker\": {\"colorbar\": {\"outlinewidth\": 0, \"ticks\": \"\"}}, \"type\": \"scatterternary\"}], \"surface\": [{\"colorbar\": {\"outlinewidth\": 0, \"ticks\": \"\"}, \"colorscale\": [[0.0, \"#0d0887\"], [0.1111111111111111, \"#46039f\"], [0.2222222222222222, \"#7201a8\"], [0.3333333333333333, \"#9c179e\"], [0.4444444444444444, \"#bd3786\"], [0.5555555555555556, \"#d8576b\"], [0.6666666666666666, \"#ed7953\"], [0.7777777777777778, \"#fb9f3a\"], [0.8888888888888888, \"#fdca26\"], [1.0, \"#f0f921\"]], \"type\": \"surface\"}], \"table\": [{\"cells\": {\"fill\": {\"color\": \"#EBF0F8\"}, \"line\": {\"color\": \"white\"}}, \"header\": {\"fill\": {\"color\": \"#C8D4E3\"}, \"line\": {\"color\": \"white\"}}, \"type\": \"table\"}]}, \"layout\": {\"annotationdefaults\": {\"arrowcolor\": \"#2a3f5f\", \"arrowhead\": 0, \"arrowwidth\": 1}, \"coloraxis\": {\"colorbar\": {\"outlinewidth\": 0, \"ticks\": \"\"}}, \"colorscale\": {\"diverging\": [[0, \"#8e0152\"], [0.1, \"#c51b7d\"], [0.2, \"#de77ae\"], [0.3, \"#f1b6da\"], [0.4, \"#fde0ef\"], [0.5, \"#f7f7f7\"], [0.6, \"#e6f5d0\"], [0.7, \"#b8e186\"], [0.8, \"#7fbc41\"], [0.9, \"#4d9221\"], [1, \"#276419\"]], \"sequential\": [[0.0, \"#0d0887\"], [0.1111111111111111, \"#46039f\"], [0.2222222222222222, \"#7201a8\"], [0.3333333333333333, \"#9c179e\"], [0.4444444444444444, \"#bd3786\"], [0.5555555555555556, \"#d8576b\"], [0.6666666666666666, \"#ed7953\"], [0.7777777777777778, \"#fb9f3a\"], [0.8888888888888888, \"#fdca26\"], [1.0, \"#f0f921\"]], \"sequentialminus\": [[0.0, \"#0d0887\"], [0.1111111111111111, \"#46039f\"], [0.2222222222222222, \"#7201a8\"], [0.3333333333333333, \"#9c179e\"], [0.4444444444444444, \"#bd3786\"], [0.5555555555555556, \"#d8576b\"], [0.6666666666666666, \"#ed7953\"], [0.7777777777777778, \"#fb9f3a\"], [0.8888888888888888, \"#fdca26\"], [1.0, \"#f0f921\"]]}, \"colorway\": [\"#636efa\", \"#EF553B\", \"#00cc96\", \"#ab63fa\", \"#FFA15A\", \"#19d3f3\", \"#FF6692\", \"#B6E880\", \"#FF97FF\", \"#FECB52\"], \"font\": {\"color\": \"#2a3f5f\"}, \"geo\": {\"bgcolor\": \"white\", \"lakecolor\": \"white\", \"landcolor\": \"#E5ECF6\", \"showlakes\": true, \"showland\": true, \"subunitcolor\": \"white\"}, \"hoverlabel\": {\"align\": \"left\"}, \"hovermode\": \"closest\", \"mapbox\": {\"style\": \"light\"}, \"paper_bgcolor\": \"white\", \"plot_bgcolor\": \"#E5ECF6\", \"polar\": {\"angularaxis\": {\"gridcolor\": \"white\", \"linecolor\": \"white\", \"ticks\": \"\"}, \"bgcolor\": \"#E5ECF6\", \"radialaxis\": {\"gridcolor\": \"white\", \"linecolor\": \"white\", \"ticks\": \"\"}}, \"scene\": {\"xaxis\": {\"backgroundcolor\": \"#E5ECF6\", \"gridcolor\": \"white\", \"gridwidth\": 2, \"linecolor\": \"white\", \"showbackground\": true, \"ticks\": \"\", \"zerolinecolor\": \"white\"}, \"yaxis\": {\"backgroundcolor\": \"#E5ECF6\", \"gridcolor\": \"white\", \"gridwidth\": 2, \"linecolor\": \"white\", \"showbackground\": true, \"ticks\": \"\", \"zerolinecolor\": \"white\"}, \"zaxis\": {\"backgroundcolor\": \"#E5ECF6\", \"gridcolor\": \"white\", \"gridwidth\": 2, \"linecolor\": \"white\", \"showbackground\": true, \"ticks\": \"\", \"zerolinecolor\": \"white\"}}, \"shapedefaults\": {\"line\": {\"color\": \"#2a3f5f\"}}, \"ternary\": {\"aaxis\": {\"gridcolor\": \"white\", \"linecolor\": \"white\", \"ticks\": \"\"}, \"baxis\": {\"gridcolor\": \"white\", \"linecolor\": \"white\", \"ticks\": \"\"}, \"bgcolor\": \"#E5ECF6\", \"caxis\": {\"gridcolor\": \"white\", \"linecolor\": \"white\", \"ticks\": \"\"}}, \"title\": {\"x\": 0.05}, \"xaxis\": {\"automargin\": true, \"gridcolor\": \"white\", \"linecolor\": \"white\", \"ticks\": \"\", \"title\": {\"standoff\": 15}, \"zerolinecolor\": \"white\", \"zerolinewidth\": 2}, \"yaxis\": {\"automargin\": true, \"gridcolor\": \"white\", \"linecolor\": \"white\", \"ticks\": \"\", \"title\": {\"standoff\": 15}, \"zerolinecolor\": \"white\", \"zerolinewidth\": 2}}}, \"title\": {\"text\": \"Sectoral Distribution\"}},\n",
       "                        {\"responsive\": true}\n",
       "                    ).then(function(){\n",
       "                            \n",
       "var gd = document.getElementById('64d0da73-0570-444a-8a95-1fbeba065e23');\n",
       "var x = new MutationObserver(function (mutations, observer) {{\n",
       "        var display = window.getComputedStyle(gd).display;\n",
       "        if (!display || display === 'none') {{\n",
       "            console.log([gd, 'removed!']);\n",
       "            Plotly.purge(gd);\n",
       "            observer.disconnect();\n",
       "        }}\n",
       "}});\n",
       "\n",
       "// Listen for the removal of the full notebook cells\n",
       "var notebookContainer = gd.closest('#notebook-container');\n",
       "if (notebookContainer) {{\n",
       "    x.observe(notebookContainer, {childList: true});\n",
       "}}\n",
       "\n",
       "// Listen for the clearing of the current output cell\n",
       "var outputEl = gd.closest('.output');\n",
       "if (outputEl) {{\n",
       "    x.observe(outputEl, {childList: true});\n",
       "}}\n",
       "\n",
       "                        })\n",
       "                };\n",
       "                });\n",
       "            </script>\n",
       "        </div>"
      ]
     },
     "metadata": {},
     "output_type": "display_data"
    }
   ],
   "source": [
    "\n",
    "dataSector=dataCountries.loc[:,['Country','Agriculture','Industry','Service','GDP ($ per capita)']]\n",
    "dataSector.dropna(inplace=True)\n",
    "dataSector.Agriculture=[float(each.replace(',','.')) for each in dataSector.Agriculture]\n",
    "dataSector.Industry=[float(each.replace(',','.')) for each in dataSector.Industry]\n",
    "dataSector.Service=[float(each.replace(',','.')) for each in dataSector.Service]\n",
    "\n",
    "sector_scatter = px.scatter_3d(dataSector, x='Agriculture', y='Industry', z='Service',\n",
    "                    color='Country',\n",
    "                    title='Sectoral Distribution',  \n",
    "                   )\n",
    "sector_scatter.show()"
   ]
  },
  {
   "cell_type": "markdown",
   "metadata": {
    "papermill": {
     "duration": 0.164449,
     "end_time": "2020-12-10T16:16:49.730587",
     "exception": false,
     "start_time": "2020-12-10T16:16:49.566138",
     "status": "completed"
    },
    "tags": []
   },
   "source": [
    "# Countries' GDP Values  (USA dollar per capita) and Leading Sectors\n",
    "\n",
    "\n",
    "(**Gross domestic product (GDP)** is a monetary measure of the market value of all the final goods and services produced in a specific time period)"
   ]
  },
  {
   "cell_type": "code",
   "execution_count": 19,
   "metadata": {
    "execution": {
     "iopub.execute_input": "2020-12-10T16:16:50.085420Z",
     "iopub.status.busy": "2020-12-10T16:16:50.081040Z",
     "iopub.status.idle": "2020-12-10T16:16:50.170985Z",
     "shell.execute_reply": "2020-12-10T16:16:50.171636Z"
    },
    "papermill": {
     "duration": 0.278237,
     "end_time": "2020-12-10T16:16:50.171825",
     "exception": false,
     "start_time": "2020-12-10T16:16:49.893588",
     "status": "completed"
    },
    "tags": []
   },
   "outputs": [
    {
     "data": {
      "application/vnd.plotly.v1+json": {
       "config": {
        "plotlyServerURL": "https://plot.ly"
       },
       "data": [
        {
         "hovertemplate": "LeadingSector=Agriculture<br>Country=%{x}<br>GDP=%{y}<extra></extra>",
         "legendgroup": "Agriculture",
         "marker": {
          "color": "#636efa",
          "symbol": "circle"
         },
         "mode": "markers",
         "name": "Agriculture",
         "orientation": "v",
         "showlegend": true,
         "type": "scatter",
         "x": [
          "Afghanistan ",
          "Burma ",
          "Burundi ",
          "Cambodia ",
          "Cameroon ",
          "Central African Rep. ",
          "Congo, Dem. Rep. ",
          "Ethiopia ",
          "Guinea-Bissau ",
          "Laos ",
          "Liberia ",
          "Mali ",
          "Rwanda ",
          "Sierra Leone ",
          "Somalia ",
          "Tanzania "
         ],
         "xaxis": "x",
         "y": [
          700.0,
          1800.0,
          600.0,
          1900.0,
          1800.0,
          1100.0,
          700.0,
          700.0,
          800.0,
          1700.0,
          1000.0,
          900.0,
          1300.0,
          500.0,
          500.0,
          600.0
         ],
         "yaxis": "y"
        },
        {
         "hovertemplate": "LeadingSector=Service<br>Country=%{x}<br>GDP=%{y}<extra></extra>",
         "legendgroup": "Service",
         "marker": {
          "color": "#EF553B",
          "symbol": "circle"
         },
         "mode": "markers",
         "name": "Service",
         "orientation": "v",
         "showlegend": true,
         "type": "scatter",
         "x": [
          "Albania ",
          "Anguilla ",
          "Antigua & Barbuda ",
          "Argentina ",
          "Armenia ",
          "Aruba ",
          "Australia ",
          "Austria ",
          "Bahamas, The ",
          "Bahrain ",
          "Bangladesh ",
          "Barbados ",
          "Belarus ",
          "Belgium ",
          "Belize ",
          "Benin ",
          "Bermuda ",
          "Bolivia ",
          "Bosnia & Herzegovina ",
          "Botswana ",
          "Brazil ",
          "British Virgin Is. ",
          "Bulgaria ",
          "Burkina Faso ",
          "Canada ",
          "Cape Verde ",
          "Cayman Islands ",
          "Chad ",
          "Colombia ",
          "Comoros ",
          "Cook Islands ",
          "Costa Rica ",
          "Cote d'Ivoire ",
          "Croatia ",
          "Cuba ",
          "Cyprus ",
          "Czech Republic ",
          "Denmark ",
          "Djibouti ",
          "Dominica ",
          "Dominican Republic ",
          "East Timor ",
          "Ecuador ",
          "Egypt ",
          "El Salvador ",
          "Eritrea ",
          "Estonia ",
          "Faroe Islands ",
          "Fiji ",
          "Finland ",
          "France ",
          "French Guiana ",
          "French Polynesia ",
          "Gambia, The ",
          "Gaza Strip ",
          "Georgia ",
          "Germany ",
          "Ghana ",
          "Greece ",
          "Grenada ",
          "Guadeloupe ",
          "Guatemala ",
          "Guernsey ",
          "Guinea ",
          "Guyana ",
          "Haiti ",
          "Honduras ",
          "Hong Kong ",
          "Hungary ",
          "Iceland ",
          "India ",
          "Iran ",
          "Ireland ",
          "Isle of Man ",
          "Israel ",
          "Italy ",
          "Jamaica ",
          "Japan ",
          "Jersey ",
          "Jordan ",
          "Kazakhstan ",
          "Kenya ",
          "Kiribati ",
          "Korea, North ",
          "Korea, South ",
          "Kuwait ",
          "Kyrgyzstan ",
          "Latvia ",
          "Lebanon ",
          "Liechtenstein ",
          "Lithuania ",
          "Luxembourg ",
          "Macau ",
          "Macedonia ",
          "Madagascar ",
          "Malawi ",
          "Maldives ",
          "Malta ",
          "Marshall Islands ",
          "Martinique ",
          "Mauritania ",
          "Mauritius ",
          "Mexico ",
          "Micronesia, Fed. St. ",
          "Moldova ",
          "Mongolia ",
          "Morocco ",
          "Mozambique ",
          "Namibia ",
          "Nepal ",
          "Netherlands ",
          "Netherlands Antilles ",
          "New Caledonia ",
          "New Zealand ",
          "Nicaragua ",
          "Niger ",
          "Norway ",
          "Oman ",
          "Pakistan ",
          "Palau ",
          "Panama ",
          "Paraguay ",
          "Peru ",
          "Philippines ",
          "Poland ",
          "Portugal ",
          "Puerto Rico ",
          "Reunion ",
          "Romania ",
          "Russia ",
          "Saint Kitts & Nevis ",
          "Saint Lucia ",
          "Saint Vincent and the Grenadines ",
          "Sao Tome & Principe ",
          "Senegal ",
          "Serbia ",
          "Seychelles ",
          "Singapore ",
          "Slovakia ",
          "Slovenia ",
          "Solomon Islands ",
          "South Africa ",
          "Spain ",
          "Sri Lanka ",
          "Sudan ",
          "Suriname ",
          "Sweden ",
          "Switzerland ",
          "Syria ",
          "Taiwan ",
          "Tajikistan ",
          "Thailand ",
          "Togo ",
          "Tonga ",
          "Tunisia ",
          "Turkey ",
          "Turkmenistan ",
          "Tuvalu ",
          "Uganda ",
          "United Kingdom ",
          "United States ",
          "Uruguay ",
          "Uzbekistan ",
          "Vanuatu ",
          "Venezuela ",
          "Virgin Islands ",
          "West Bank ",
          "Zambia ",
          "Zimbabwe "
         ],
         "xaxis": "x",
         "y": [
          4500.0,
          8600.0,
          11000.0,
          11200.0,
          3500.0,
          28000.0,
          29000.0,
          30000.0,
          16700.0,
          16900.0,
          1900.0,
          15700.0,
          6100.0,
          29100.0,
          4900.0,
          1100.0,
          36000.0,
          2400.0,
          6100.0,
          9000.0,
          7600.0,
          16000.0,
          7600.0,
          1100.0,
          29800.0,
          1400.0,
          35000.0,
          1200.0,
          6300.0,
          700.0,
          5000.0,
          9100.0,
          1400.0,
          10600.0,
          2900.0,
          19200.0,
          15700.0,
          31100.0,
          1300.0,
          5400.0,
          6000.0,
          500.0,
          3300.0,
          4000.0,
          4800.0,
          700.0,
          12300.0,
          22000.0,
          5800.0,
          27400.0,
          27600.0,
          8300.0,
          17500.0,
          1700.0,
          600.0,
          2500.0,
          27600.0,
          2200.0,
          20000.0,
          5000.0,
          8000.0,
          4100.0,
          20000.0,
          2100.0,
          4000.0,
          1600.0,
          2600.0,
          28800.0,
          13900.0,
          30900.0,
          2900.0,
          7000.0,
          29600.0,
          21000.0,
          19800.0,
          26700.0,
          3900.0,
          28200.0,
          24800.0,
          4300.0,
          6300.0,
          1000.0,
          800.0,
          1300.0,
          17800.0,
          19000.0,
          1600.0,
          10200.0,
          4800.0,
          25000.0,
          11400.0,
          55100.0,
          19400.0,
          6700.0,
          800.0,
          600.0,
          3900.0,
          17700.0,
          1600.0,
          14400.0,
          1800.0,
          11400.0,
          9000.0,
          2000.0,
          1800.0,
          1800.0,
          4000.0,
          1200.0,
          7200.0,
          1400.0,
          28600.0,
          11400.0,
          15000.0,
          21600.0,
          2300.0,
          800.0,
          37800.0,
          13100.0,
          2100.0,
          9000.0,
          6300.0,
          4700.0,
          5100.0,
          4600.0,
          11100.0,
          18000.0,
          16800.0,
          5800.0,
          7000.0,
          8900.0,
          8800.0,
          5400.0,
          2900.0,
          1200.0,
          1600.0,
          2200.0,
          7800.0,
          23700.0,
          13300.0,
          19000.0,
          1700.0,
          10700.0,
          22000.0,
          3700.0,
          1900.0,
          4000.0,
          26800.0,
          32700.0,
          3300.0,
          23400.0,
          1000.0,
          7400.0,
          1500.0,
          2200.0,
          6900.0,
          6700.0,
          5800.0,
          1100.0,
          1400.0,
          27700.0,
          37800.0,
          12800.0,
          1700.0,
          2900.0,
          4800.0,
          17200.0,
          800.0,
          800.0,
          1900.0
         ],
         "yaxis": "y"
        },
        {
         "hovertemplate": "LeadingSector=Industry<br>Country=%{x}<br>GDP=%{y}<extra></extra>",
         "legendgroup": "Industry",
         "marker": {
          "color": "#00cc96",
          "symbol": "circle"
         },
         "mode": "markers",
         "name": "Industry",
         "orientation": "v",
         "showlegend": true,
         "type": "scatter",
         "x": [
          "Algeria ",
          "Angola ",
          "Azerbaijan ",
          "Bhutan ",
          "Brunei ",
          "Chile ",
          "China ",
          "Congo, Repub. of the ",
          "Equatorial Guinea ",
          "Gabon ",
          "Indonesia ",
          "Iraq ",
          "Lesotho ",
          "Libya ",
          "Malaysia ",
          "Nigeria ",
          "Papua New Guinea ",
          "Qatar ",
          "Samoa ",
          "Saudi Arabia ",
          "Swaziland ",
          "Trinidad & Tobago ",
          "Ukraine ",
          "United Arab Emirates ",
          "Vietnam ",
          "Yemen "
         ],
         "xaxis": "x",
         "y": [
          6000.0,
          1900.0,
          3400.0,
          1300.0,
          18600.0,
          9900.0,
          5000.0,
          700.0,
          2700.0,
          5500.0,
          3200.0,
          1500.0,
          3000.0,
          6400.0,
          9000.0,
          900.0,
          2200.0,
          21500.0,
          5600.0,
          11800.0,
          4900.0,
          9500.0,
          5400.0,
          23200.0,
          2500.0,
          800.0
         ],
         "yaxis": "y"
        }
       ],
       "layout": {
        "legend": {
         "title": {
          "text": "LeadingSector"
         },
         "tracegroupgap": 0
        },
        "margin": {
         "t": 60
        },
        "template": {
         "data": {
          "bar": [
           {
            "error_x": {
             "color": "#2a3f5f"
            },
            "error_y": {
             "color": "#2a3f5f"
            },
            "marker": {
             "line": {
              "color": "#E5ECF6",
              "width": 0.5
             }
            },
            "type": "bar"
           }
          ],
          "barpolar": [
           {
            "marker": {
             "line": {
              "color": "#E5ECF6",
              "width": 0.5
             }
            },
            "type": "barpolar"
           }
          ],
          "carpet": [
           {
            "aaxis": {
             "endlinecolor": "#2a3f5f",
             "gridcolor": "white",
             "linecolor": "white",
             "minorgridcolor": "white",
             "startlinecolor": "#2a3f5f"
            },
            "baxis": {
             "endlinecolor": "#2a3f5f",
             "gridcolor": "white",
             "linecolor": "white",
             "minorgridcolor": "white",
             "startlinecolor": "#2a3f5f"
            },
            "type": "carpet"
           }
          ],
          "choropleth": [
           {
            "colorbar": {
             "outlinewidth": 0,
             "ticks": ""
            },
            "type": "choropleth"
           }
          ],
          "contour": [
           {
            "colorbar": {
             "outlinewidth": 0,
             "ticks": ""
            },
            "colorscale": [
             [
              0.0,
              "#0d0887"
             ],
             [
              0.1111111111111111,
              "#46039f"
             ],
             [
              0.2222222222222222,
              "#7201a8"
             ],
             [
              0.3333333333333333,
              "#9c179e"
             ],
             [
              0.4444444444444444,
              "#bd3786"
             ],
             [
              0.5555555555555556,
              "#d8576b"
             ],
             [
              0.6666666666666666,
              "#ed7953"
             ],
             [
              0.7777777777777778,
              "#fb9f3a"
             ],
             [
              0.8888888888888888,
              "#fdca26"
             ],
             [
              1.0,
              "#f0f921"
             ]
            ],
            "type": "contour"
           }
          ],
          "contourcarpet": [
           {
            "colorbar": {
             "outlinewidth": 0,
             "ticks": ""
            },
            "type": "contourcarpet"
           }
          ],
          "heatmap": [
           {
            "colorbar": {
             "outlinewidth": 0,
             "ticks": ""
            },
            "colorscale": [
             [
              0.0,
              "#0d0887"
             ],
             [
              0.1111111111111111,
              "#46039f"
             ],
             [
              0.2222222222222222,
              "#7201a8"
             ],
             [
              0.3333333333333333,
              "#9c179e"
             ],
             [
              0.4444444444444444,
              "#bd3786"
             ],
             [
              0.5555555555555556,
              "#d8576b"
             ],
             [
              0.6666666666666666,
              "#ed7953"
             ],
             [
              0.7777777777777778,
              "#fb9f3a"
             ],
             [
              0.8888888888888888,
              "#fdca26"
             ],
             [
              1.0,
              "#f0f921"
             ]
            ],
            "type": "heatmap"
           }
          ],
          "heatmapgl": [
           {
            "colorbar": {
             "outlinewidth": 0,
             "ticks": ""
            },
            "colorscale": [
             [
              0.0,
              "#0d0887"
             ],
             [
              0.1111111111111111,
              "#46039f"
             ],
             [
              0.2222222222222222,
              "#7201a8"
             ],
             [
              0.3333333333333333,
              "#9c179e"
             ],
             [
              0.4444444444444444,
              "#bd3786"
             ],
             [
              0.5555555555555556,
              "#d8576b"
             ],
             [
              0.6666666666666666,
              "#ed7953"
             ],
             [
              0.7777777777777778,
              "#fb9f3a"
             ],
             [
              0.8888888888888888,
              "#fdca26"
             ],
             [
              1.0,
              "#f0f921"
             ]
            ],
            "type": "heatmapgl"
           }
          ],
          "histogram": [
           {
            "marker": {
             "colorbar": {
              "outlinewidth": 0,
              "ticks": ""
             }
            },
            "type": "histogram"
           }
          ],
          "histogram2d": [
           {
            "colorbar": {
             "outlinewidth": 0,
             "ticks": ""
            },
            "colorscale": [
             [
              0.0,
              "#0d0887"
             ],
             [
              0.1111111111111111,
              "#46039f"
             ],
             [
              0.2222222222222222,
              "#7201a8"
             ],
             [
              0.3333333333333333,
              "#9c179e"
             ],
             [
              0.4444444444444444,
              "#bd3786"
             ],
             [
              0.5555555555555556,
              "#d8576b"
             ],
             [
              0.6666666666666666,
              "#ed7953"
             ],
             [
              0.7777777777777778,
              "#fb9f3a"
             ],
             [
              0.8888888888888888,
              "#fdca26"
             ],
             [
              1.0,
              "#f0f921"
             ]
            ],
            "type": "histogram2d"
           }
          ],
          "histogram2dcontour": [
           {
            "colorbar": {
             "outlinewidth": 0,
             "ticks": ""
            },
            "colorscale": [
             [
              0.0,
              "#0d0887"
             ],
             [
              0.1111111111111111,
              "#46039f"
             ],
             [
              0.2222222222222222,
              "#7201a8"
             ],
             [
              0.3333333333333333,
              "#9c179e"
             ],
             [
              0.4444444444444444,
              "#bd3786"
             ],
             [
              0.5555555555555556,
              "#d8576b"
             ],
             [
              0.6666666666666666,
              "#ed7953"
             ],
             [
              0.7777777777777778,
              "#fb9f3a"
             ],
             [
              0.8888888888888888,
              "#fdca26"
             ],
             [
              1.0,
              "#f0f921"
             ]
            ],
            "type": "histogram2dcontour"
           }
          ],
          "mesh3d": [
           {
            "colorbar": {
             "outlinewidth": 0,
             "ticks": ""
            },
            "type": "mesh3d"
           }
          ],
          "parcoords": [
           {
            "line": {
             "colorbar": {
              "outlinewidth": 0,
              "ticks": ""
             }
            },
            "type": "parcoords"
           }
          ],
          "pie": [
           {
            "automargin": true,
            "type": "pie"
           }
          ],
          "scatter": [
           {
            "marker": {
             "colorbar": {
              "outlinewidth": 0,
              "ticks": ""
             }
            },
            "type": "scatter"
           }
          ],
          "scatter3d": [
           {
            "line": {
             "colorbar": {
              "outlinewidth": 0,
              "ticks": ""
             }
            },
            "marker": {
             "colorbar": {
              "outlinewidth": 0,
              "ticks": ""
             }
            },
            "type": "scatter3d"
           }
          ],
          "scattercarpet": [
           {
            "marker": {
             "colorbar": {
              "outlinewidth": 0,
              "ticks": ""
             }
            },
            "type": "scattercarpet"
           }
          ],
          "scattergeo": [
           {
            "marker": {
             "colorbar": {
              "outlinewidth": 0,
              "ticks": ""
             }
            },
            "type": "scattergeo"
           }
          ],
          "scattergl": [
           {
            "marker": {
             "colorbar": {
              "outlinewidth": 0,
              "ticks": ""
             }
            },
            "type": "scattergl"
           }
          ],
          "scattermapbox": [
           {
            "marker": {
             "colorbar": {
              "outlinewidth": 0,
              "ticks": ""
             }
            },
            "type": "scattermapbox"
           }
          ],
          "scatterpolar": [
           {
            "marker": {
             "colorbar": {
              "outlinewidth": 0,
              "ticks": ""
             }
            },
            "type": "scatterpolar"
           }
          ],
          "scatterpolargl": [
           {
            "marker": {
             "colorbar": {
              "outlinewidth": 0,
              "ticks": ""
             }
            },
            "type": "scatterpolargl"
           }
          ],
          "scatterternary": [
           {
            "marker": {
             "colorbar": {
              "outlinewidth": 0,
              "ticks": ""
             }
            },
            "type": "scatterternary"
           }
          ],
          "surface": [
           {
            "colorbar": {
             "outlinewidth": 0,
             "ticks": ""
            },
            "colorscale": [
             [
              0.0,
              "#0d0887"
             ],
             [
              0.1111111111111111,
              "#46039f"
             ],
             [
              0.2222222222222222,
              "#7201a8"
             ],
             [
              0.3333333333333333,
              "#9c179e"
             ],
             [
              0.4444444444444444,
              "#bd3786"
             ],
             [
              0.5555555555555556,
              "#d8576b"
             ],
             [
              0.6666666666666666,
              "#ed7953"
             ],
             [
              0.7777777777777778,
              "#fb9f3a"
             ],
             [
              0.8888888888888888,
              "#fdca26"
             ],
             [
              1.0,
              "#f0f921"
             ]
            ],
            "type": "surface"
           }
          ],
          "table": [
           {
            "cells": {
             "fill": {
              "color": "#EBF0F8"
             },
             "line": {
              "color": "white"
             }
            },
            "header": {
             "fill": {
              "color": "#C8D4E3"
             },
             "line": {
              "color": "white"
             }
            },
            "type": "table"
           }
          ]
         },
         "layout": {
          "annotationdefaults": {
           "arrowcolor": "#2a3f5f",
           "arrowhead": 0,
           "arrowwidth": 1
          },
          "coloraxis": {
           "colorbar": {
            "outlinewidth": 0,
            "ticks": ""
           }
          },
          "colorscale": {
           "diverging": [
            [
             0,
             "#8e0152"
            ],
            [
             0.1,
             "#c51b7d"
            ],
            [
             0.2,
             "#de77ae"
            ],
            [
             0.3,
             "#f1b6da"
            ],
            [
             0.4,
             "#fde0ef"
            ],
            [
             0.5,
             "#f7f7f7"
            ],
            [
             0.6,
             "#e6f5d0"
            ],
            [
             0.7,
             "#b8e186"
            ],
            [
             0.8,
             "#7fbc41"
            ],
            [
             0.9,
             "#4d9221"
            ],
            [
             1,
             "#276419"
            ]
           ],
           "sequential": [
            [
             0.0,
             "#0d0887"
            ],
            [
             0.1111111111111111,
             "#46039f"
            ],
            [
             0.2222222222222222,
             "#7201a8"
            ],
            [
             0.3333333333333333,
             "#9c179e"
            ],
            [
             0.4444444444444444,
             "#bd3786"
            ],
            [
             0.5555555555555556,
             "#d8576b"
            ],
            [
             0.6666666666666666,
             "#ed7953"
            ],
            [
             0.7777777777777778,
             "#fb9f3a"
            ],
            [
             0.8888888888888888,
             "#fdca26"
            ],
            [
             1.0,
             "#f0f921"
            ]
           ],
           "sequentialminus": [
            [
             0.0,
             "#0d0887"
            ],
            [
             0.1111111111111111,
             "#46039f"
            ],
            [
             0.2222222222222222,
             "#7201a8"
            ],
            [
             0.3333333333333333,
             "#9c179e"
            ],
            [
             0.4444444444444444,
             "#bd3786"
            ],
            [
             0.5555555555555556,
             "#d8576b"
            ],
            [
             0.6666666666666666,
             "#ed7953"
            ],
            [
             0.7777777777777778,
             "#fb9f3a"
            ],
            [
             0.8888888888888888,
             "#fdca26"
            ],
            [
             1.0,
             "#f0f921"
            ]
           ]
          },
          "colorway": [
           "#636efa",
           "#EF553B",
           "#00cc96",
           "#ab63fa",
           "#FFA15A",
           "#19d3f3",
           "#FF6692",
           "#B6E880",
           "#FF97FF",
           "#FECB52"
          ],
          "font": {
           "color": "#2a3f5f"
          },
          "geo": {
           "bgcolor": "white",
           "lakecolor": "white",
           "landcolor": "#E5ECF6",
           "showlakes": true,
           "showland": true,
           "subunitcolor": "white"
          },
          "hoverlabel": {
           "align": "left"
          },
          "hovermode": "closest",
          "mapbox": {
           "style": "light"
          },
          "paper_bgcolor": "white",
          "plot_bgcolor": "#E5ECF6",
          "polar": {
           "angularaxis": {
            "gridcolor": "white",
            "linecolor": "white",
            "ticks": ""
           },
           "bgcolor": "#E5ECF6",
           "radialaxis": {
            "gridcolor": "white",
            "linecolor": "white",
            "ticks": ""
           }
          },
          "scene": {
           "xaxis": {
            "backgroundcolor": "#E5ECF6",
            "gridcolor": "white",
            "gridwidth": 2,
            "linecolor": "white",
            "showbackground": true,
            "ticks": "",
            "zerolinecolor": "white"
           },
           "yaxis": {
            "backgroundcolor": "#E5ECF6",
            "gridcolor": "white",
            "gridwidth": 2,
            "linecolor": "white",
            "showbackground": true,
            "ticks": "",
            "zerolinecolor": "white"
           },
           "zaxis": {
            "backgroundcolor": "#E5ECF6",
            "gridcolor": "white",
            "gridwidth": 2,
            "linecolor": "white",
            "showbackground": true,
            "ticks": "",
            "zerolinecolor": "white"
           }
          },
          "shapedefaults": {
           "line": {
            "color": "#2a3f5f"
           }
          },
          "ternary": {
           "aaxis": {
            "gridcolor": "white",
            "linecolor": "white",
            "ticks": ""
           },
           "baxis": {
            "gridcolor": "white",
            "linecolor": "white",
            "ticks": ""
           },
           "bgcolor": "#E5ECF6",
           "caxis": {
            "gridcolor": "white",
            "linecolor": "white",
            "ticks": ""
           }
          },
          "title": {
           "x": 0.05
          },
          "xaxis": {
           "automargin": true,
           "gridcolor": "white",
           "linecolor": "white",
           "ticks": "",
           "title": {
            "standoff": 15
           },
           "zerolinecolor": "white",
           "zerolinewidth": 2
          },
          "yaxis": {
           "automargin": true,
           "gridcolor": "white",
           "linecolor": "white",
           "ticks": "",
           "title": {
            "standoff": 15
           },
           "zerolinecolor": "white",
           "zerolinewidth": 2
          }
         }
        },
        "xaxis": {
         "anchor": "y",
         "domain": [
          0.0,
          1.0
         ],
         "title": {
          "text": "Country"
         }
        },
        "yaxis": {
         "anchor": "x",
         "domain": [
          0.0,
          1.0
         ],
         "title": {
          "text": "GDP"
         }
        }
       }
      },
      "text/html": [
       "<div>\n",
       "        \n",
       "        \n",
       "            <div id=\"826a78f2-dd07-477d-8a07-6e740e232d8e\" class=\"plotly-graph-div\" style=\"height:525px; width:100%;\"></div>\n",
       "            <script type=\"text/javascript\">\n",
       "                require([\"plotly\"], function(Plotly) {\n",
       "                    window.PLOTLYENV=window.PLOTLYENV || {};\n",
       "                    \n",
       "                if (document.getElementById(\"826a78f2-dd07-477d-8a07-6e740e232d8e\")) {\n",
       "                    Plotly.newPlot(\n",
       "                        '826a78f2-dd07-477d-8a07-6e740e232d8e',\n",
       "                        [{\"hovertemplate\": \"LeadingSector=Agriculture<br>Country=%{x}<br>GDP=%{y}<extra></extra>\", \"legendgroup\": \"Agriculture\", \"marker\": {\"color\": \"#636efa\", \"symbol\": \"circle\"}, \"mode\": \"markers\", \"name\": \"Agriculture\", \"orientation\": \"v\", \"showlegend\": true, \"type\": \"scatter\", \"x\": [\"Afghanistan \", \"Burma \", \"Burundi \", \"Cambodia \", \"Cameroon \", \"Central African Rep. \", \"Congo, Dem. Rep. \", \"Ethiopia \", \"Guinea-Bissau \", \"Laos \", \"Liberia \", \"Mali \", \"Rwanda \", \"Sierra Leone \", \"Somalia \", \"Tanzania \"], \"xaxis\": \"x\", \"y\": [700.0, 1800.0, 600.0, 1900.0, 1800.0, 1100.0, 700.0, 700.0, 800.0, 1700.0, 1000.0, 900.0, 1300.0, 500.0, 500.0, 600.0], \"yaxis\": \"y\"}, {\"hovertemplate\": \"LeadingSector=Service<br>Country=%{x}<br>GDP=%{y}<extra></extra>\", \"legendgroup\": \"Service\", \"marker\": {\"color\": \"#EF553B\", \"symbol\": \"circle\"}, \"mode\": \"markers\", \"name\": \"Service\", \"orientation\": \"v\", \"showlegend\": true, \"type\": \"scatter\", \"x\": [\"Albania \", \"Anguilla \", \"Antigua & Barbuda \", \"Argentina \", \"Armenia \", \"Aruba \", \"Australia \", \"Austria \", \"Bahamas, The \", \"Bahrain \", \"Bangladesh \", \"Barbados \", \"Belarus \", \"Belgium \", \"Belize \", \"Benin \", \"Bermuda \", \"Bolivia \", \"Bosnia & Herzegovina \", \"Botswana \", \"Brazil \", \"British Virgin Is. \", \"Bulgaria \", \"Burkina Faso \", \"Canada \", \"Cape Verde \", \"Cayman Islands \", \"Chad \", \"Colombia \", \"Comoros \", \"Cook Islands \", \"Costa Rica \", \"Cote d'Ivoire \", \"Croatia \", \"Cuba \", \"Cyprus \", \"Czech Republic \", \"Denmark \", \"Djibouti \", \"Dominica \", \"Dominican Republic \", \"East Timor \", \"Ecuador \", \"Egypt \", \"El Salvador \", \"Eritrea \", \"Estonia \", \"Faroe Islands \", \"Fiji \", \"Finland \", \"France \", \"French Guiana \", \"French Polynesia \", \"Gambia, The \", \"Gaza Strip \", \"Georgia \", \"Germany \", \"Ghana \", \"Greece \", \"Grenada \", \"Guadeloupe \", \"Guatemala \", \"Guernsey \", \"Guinea \", \"Guyana \", \"Haiti \", \"Honduras \", \"Hong Kong \", \"Hungary \", \"Iceland \", \"India \", \"Iran \", \"Ireland \", \"Isle of Man \", \"Israel \", \"Italy \", \"Jamaica \", \"Japan \", \"Jersey \", \"Jordan \", \"Kazakhstan \", \"Kenya \", \"Kiribati \", \"Korea, North \", \"Korea, South \", \"Kuwait \", \"Kyrgyzstan \", \"Latvia \", \"Lebanon \", \"Liechtenstein \", \"Lithuania \", \"Luxembourg \", \"Macau \", \"Macedonia \", \"Madagascar \", \"Malawi \", \"Maldives \", \"Malta \", \"Marshall Islands \", \"Martinique \", \"Mauritania \", \"Mauritius \", \"Mexico \", \"Micronesia, Fed. St. \", \"Moldova \", \"Mongolia \", \"Morocco \", \"Mozambique \", \"Namibia \", \"Nepal \", \"Netherlands \", \"Netherlands Antilles \", \"New Caledonia \", \"New Zealand \", \"Nicaragua \", \"Niger \", \"Norway \", \"Oman \", \"Pakistan \", \"Palau \", \"Panama \", \"Paraguay \", \"Peru \", \"Philippines \", \"Poland \", \"Portugal \", \"Puerto Rico \", \"Reunion \", \"Romania \", \"Russia \", \"Saint Kitts & Nevis \", \"Saint Lucia \", \"Saint Vincent and the Grenadines \", \"Sao Tome & Principe \", \"Senegal \", \"Serbia \", \"Seychelles \", \"Singapore \", \"Slovakia \", \"Slovenia \", \"Solomon Islands \", \"South Africa \", \"Spain \", \"Sri Lanka \", \"Sudan \", \"Suriname \", \"Sweden \", \"Switzerland \", \"Syria \", \"Taiwan \", \"Tajikistan \", \"Thailand \", \"Togo \", \"Tonga \", \"Tunisia \", \"Turkey \", \"Turkmenistan \", \"Tuvalu \", \"Uganda \", \"United Kingdom \", \"United States \", \"Uruguay \", \"Uzbekistan \", \"Vanuatu \", \"Venezuela \", \"Virgin Islands \", \"West Bank \", \"Zambia \", \"Zimbabwe \"], \"xaxis\": \"x\", \"y\": [4500.0, 8600.0, 11000.0, 11200.0, 3500.0, 28000.0, 29000.0, 30000.0, 16700.0, 16900.0, 1900.0, 15700.0, 6100.0, 29100.0, 4900.0, 1100.0, 36000.0, 2400.0, 6100.0, 9000.0, 7600.0, 16000.0, 7600.0, 1100.0, 29800.0, 1400.0, 35000.0, 1200.0, 6300.0, 700.0, 5000.0, 9100.0, 1400.0, 10600.0, 2900.0, 19200.0, 15700.0, 31100.0, 1300.0, 5400.0, 6000.0, 500.0, 3300.0, 4000.0, 4800.0, 700.0, 12300.0, 22000.0, 5800.0, 27400.0, 27600.0, 8300.0, 17500.0, 1700.0, 600.0, 2500.0, 27600.0, 2200.0, 20000.0, 5000.0, 8000.0, 4100.0, 20000.0, 2100.0, 4000.0, 1600.0, 2600.0, 28800.0, 13900.0, 30900.0, 2900.0, 7000.0, 29600.0, 21000.0, 19800.0, 26700.0, 3900.0, 28200.0, 24800.0, 4300.0, 6300.0, 1000.0, 800.0, 1300.0, 17800.0, 19000.0, 1600.0, 10200.0, 4800.0, 25000.0, 11400.0, 55100.0, 19400.0, 6700.0, 800.0, 600.0, 3900.0, 17700.0, 1600.0, 14400.0, 1800.0, 11400.0, 9000.0, 2000.0, 1800.0, 1800.0, 4000.0, 1200.0, 7200.0, 1400.0, 28600.0, 11400.0, 15000.0, 21600.0, 2300.0, 800.0, 37800.0, 13100.0, 2100.0, 9000.0, 6300.0, 4700.0, 5100.0, 4600.0, 11100.0, 18000.0, 16800.0, 5800.0, 7000.0, 8900.0, 8800.0, 5400.0, 2900.0, 1200.0, 1600.0, 2200.0, 7800.0, 23700.0, 13300.0, 19000.0, 1700.0, 10700.0, 22000.0, 3700.0, 1900.0, 4000.0, 26800.0, 32700.0, 3300.0, 23400.0, 1000.0, 7400.0, 1500.0, 2200.0, 6900.0, 6700.0, 5800.0, 1100.0, 1400.0, 27700.0, 37800.0, 12800.0, 1700.0, 2900.0, 4800.0, 17200.0, 800.0, 800.0, 1900.0], \"yaxis\": \"y\"}, {\"hovertemplate\": \"LeadingSector=Industry<br>Country=%{x}<br>GDP=%{y}<extra></extra>\", \"legendgroup\": \"Industry\", \"marker\": {\"color\": \"#00cc96\", \"symbol\": \"circle\"}, \"mode\": \"markers\", \"name\": \"Industry\", \"orientation\": \"v\", \"showlegend\": true, \"type\": \"scatter\", \"x\": [\"Algeria \", \"Angola \", \"Azerbaijan \", \"Bhutan \", \"Brunei \", \"Chile \", \"China \", \"Congo, Repub. of the \", \"Equatorial Guinea \", \"Gabon \", \"Indonesia \", \"Iraq \", \"Lesotho \", \"Libya \", \"Malaysia \", \"Nigeria \", \"Papua New Guinea \", \"Qatar \", \"Samoa \", \"Saudi Arabia \", \"Swaziland \", \"Trinidad & Tobago \", \"Ukraine \", \"United Arab Emirates \", \"Vietnam \", \"Yemen \"], \"xaxis\": \"x\", \"y\": [6000.0, 1900.0, 3400.0, 1300.0, 18600.0, 9900.0, 5000.0, 700.0, 2700.0, 5500.0, 3200.0, 1500.0, 3000.0, 6400.0, 9000.0, 900.0, 2200.0, 21500.0, 5600.0, 11800.0, 4900.0, 9500.0, 5400.0, 23200.0, 2500.0, 800.0], \"yaxis\": \"y\"}],\n",
       "                        {\"legend\": {\"title\": {\"text\": \"LeadingSector\"}, \"tracegroupgap\": 0}, \"margin\": {\"t\": 60}, \"template\": {\"data\": {\"bar\": [{\"error_x\": {\"color\": \"#2a3f5f\"}, \"error_y\": {\"color\": \"#2a3f5f\"}, \"marker\": {\"line\": {\"color\": \"#E5ECF6\", \"width\": 0.5}}, \"type\": \"bar\"}], \"barpolar\": [{\"marker\": {\"line\": {\"color\": \"#E5ECF6\", \"width\": 0.5}}, \"type\": \"barpolar\"}], \"carpet\": [{\"aaxis\": {\"endlinecolor\": \"#2a3f5f\", \"gridcolor\": \"white\", \"linecolor\": \"white\", \"minorgridcolor\": \"white\", \"startlinecolor\": \"#2a3f5f\"}, \"baxis\": {\"endlinecolor\": \"#2a3f5f\", \"gridcolor\": \"white\", \"linecolor\": \"white\", \"minorgridcolor\": \"white\", \"startlinecolor\": \"#2a3f5f\"}, \"type\": \"carpet\"}], \"choropleth\": [{\"colorbar\": {\"outlinewidth\": 0, \"ticks\": \"\"}, \"type\": \"choropleth\"}], \"contour\": [{\"colorbar\": {\"outlinewidth\": 0, \"ticks\": \"\"}, \"colorscale\": [[0.0, \"#0d0887\"], [0.1111111111111111, \"#46039f\"], [0.2222222222222222, \"#7201a8\"], [0.3333333333333333, \"#9c179e\"], [0.4444444444444444, \"#bd3786\"], [0.5555555555555556, \"#d8576b\"], [0.6666666666666666, \"#ed7953\"], [0.7777777777777778, \"#fb9f3a\"], [0.8888888888888888, \"#fdca26\"], [1.0, \"#f0f921\"]], \"type\": \"contour\"}], \"contourcarpet\": [{\"colorbar\": {\"outlinewidth\": 0, \"ticks\": \"\"}, \"type\": \"contourcarpet\"}], \"heatmap\": [{\"colorbar\": {\"outlinewidth\": 0, \"ticks\": \"\"}, \"colorscale\": [[0.0, \"#0d0887\"], [0.1111111111111111, \"#46039f\"], [0.2222222222222222, \"#7201a8\"], [0.3333333333333333, \"#9c179e\"], [0.4444444444444444, \"#bd3786\"], [0.5555555555555556, \"#d8576b\"], [0.6666666666666666, \"#ed7953\"], [0.7777777777777778, \"#fb9f3a\"], [0.8888888888888888, \"#fdca26\"], [1.0, \"#f0f921\"]], \"type\": \"heatmap\"}], \"heatmapgl\": [{\"colorbar\": {\"outlinewidth\": 0, \"ticks\": \"\"}, \"colorscale\": [[0.0, \"#0d0887\"], [0.1111111111111111, \"#46039f\"], [0.2222222222222222, \"#7201a8\"], [0.3333333333333333, \"#9c179e\"], [0.4444444444444444, \"#bd3786\"], [0.5555555555555556, \"#d8576b\"], [0.6666666666666666, \"#ed7953\"], [0.7777777777777778, \"#fb9f3a\"], [0.8888888888888888, \"#fdca26\"], [1.0, \"#f0f921\"]], \"type\": \"heatmapgl\"}], \"histogram\": [{\"marker\": {\"colorbar\": {\"outlinewidth\": 0, \"ticks\": \"\"}}, \"type\": \"histogram\"}], \"histogram2d\": [{\"colorbar\": {\"outlinewidth\": 0, \"ticks\": \"\"}, \"colorscale\": [[0.0, \"#0d0887\"], [0.1111111111111111, \"#46039f\"], [0.2222222222222222, \"#7201a8\"], [0.3333333333333333, \"#9c179e\"], [0.4444444444444444, \"#bd3786\"], [0.5555555555555556, \"#d8576b\"], [0.6666666666666666, \"#ed7953\"], [0.7777777777777778, \"#fb9f3a\"], [0.8888888888888888, \"#fdca26\"], [1.0, \"#f0f921\"]], \"type\": \"histogram2d\"}], \"histogram2dcontour\": [{\"colorbar\": {\"outlinewidth\": 0, \"ticks\": \"\"}, \"colorscale\": [[0.0, \"#0d0887\"], [0.1111111111111111, \"#46039f\"], [0.2222222222222222, \"#7201a8\"], [0.3333333333333333, \"#9c179e\"], [0.4444444444444444, \"#bd3786\"], [0.5555555555555556, \"#d8576b\"], [0.6666666666666666, \"#ed7953\"], [0.7777777777777778, \"#fb9f3a\"], [0.8888888888888888, \"#fdca26\"], [1.0, \"#f0f921\"]], \"type\": \"histogram2dcontour\"}], \"mesh3d\": [{\"colorbar\": {\"outlinewidth\": 0, \"ticks\": \"\"}, \"type\": \"mesh3d\"}], \"parcoords\": [{\"line\": {\"colorbar\": {\"outlinewidth\": 0, \"ticks\": \"\"}}, \"type\": \"parcoords\"}], \"pie\": [{\"automargin\": true, \"type\": \"pie\"}], \"scatter\": [{\"marker\": {\"colorbar\": {\"outlinewidth\": 0, \"ticks\": \"\"}}, \"type\": \"scatter\"}], \"scatter3d\": [{\"line\": {\"colorbar\": {\"outlinewidth\": 0, \"ticks\": \"\"}}, \"marker\": {\"colorbar\": {\"outlinewidth\": 0, \"ticks\": \"\"}}, \"type\": \"scatter3d\"}], \"scattercarpet\": [{\"marker\": {\"colorbar\": {\"outlinewidth\": 0, \"ticks\": \"\"}}, \"type\": \"scattercarpet\"}], \"scattergeo\": [{\"marker\": {\"colorbar\": {\"outlinewidth\": 0, \"ticks\": \"\"}}, \"type\": \"scattergeo\"}], \"scattergl\": [{\"marker\": {\"colorbar\": {\"outlinewidth\": 0, \"ticks\": \"\"}}, \"type\": \"scattergl\"}], \"scattermapbox\": [{\"marker\": {\"colorbar\": {\"outlinewidth\": 0, \"ticks\": \"\"}}, \"type\": \"scattermapbox\"}], \"scatterpolar\": [{\"marker\": {\"colorbar\": {\"outlinewidth\": 0, \"ticks\": \"\"}}, \"type\": \"scatterpolar\"}], \"scatterpolargl\": [{\"marker\": {\"colorbar\": {\"outlinewidth\": 0, \"ticks\": \"\"}}, \"type\": \"scatterpolargl\"}], \"scatterternary\": [{\"marker\": {\"colorbar\": {\"outlinewidth\": 0, \"ticks\": \"\"}}, \"type\": \"scatterternary\"}], \"surface\": [{\"colorbar\": {\"outlinewidth\": 0, \"ticks\": \"\"}, \"colorscale\": [[0.0, \"#0d0887\"], [0.1111111111111111, \"#46039f\"], [0.2222222222222222, \"#7201a8\"], [0.3333333333333333, \"#9c179e\"], [0.4444444444444444, \"#bd3786\"], [0.5555555555555556, \"#d8576b\"], [0.6666666666666666, \"#ed7953\"], [0.7777777777777778, \"#fb9f3a\"], [0.8888888888888888, \"#fdca26\"], [1.0, \"#f0f921\"]], \"type\": \"surface\"}], \"table\": [{\"cells\": {\"fill\": {\"color\": \"#EBF0F8\"}, \"line\": {\"color\": \"white\"}}, \"header\": {\"fill\": {\"color\": \"#C8D4E3\"}, \"line\": {\"color\": \"white\"}}, \"type\": \"table\"}]}, \"layout\": {\"annotationdefaults\": {\"arrowcolor\": \"#2a3f5f\", \"arrowhead\": 0, \"arrowwidth\": 1}, \"coloraxis\": {\"colorbar\": {\"outlinewidth\": 0, \"ticks\": \"\"}}, \"colorscale\": {\"diverging\": [[0, \"#8e0152\"], [0.1, \"#c51b7d\"], [0.2, \"#de77ae\"], [0.3, \"#f1b6da\"], [0.4, \"#fde0ef\"], [0.5, \"#f7f7f7\"], [0.6, \"#e6f5d0\"], [0.7, \"#b8e186\"], [0.8, \"#7fbc41\"], [0.9, \"#4d9221\"], [1, \"#276419\"]], \"sequential\": [[0.0, \"#0d0887\"], [0.1111111111111111, \"#46039f\"], [0.2222222222222222, \"#7201a8\"], [0.3333333333333333, \"#9c179e\"], [0.4444444444444444, \"#bd3786\"], [0.5555555555555556, \"#d8576b\"], [0.6666666666666666, \"#ed7953\"], [0.7777777777777778, \"#fb9f3a\"], [0.8888888888888888, \"#fdca26\"], [1.0, \"#f0f921\"]], \"sequentialminus\": [[0.0, \"#0d0887\"], [0.1111111111111111, \"#46039f\"], [0.2222222222222222, \"#7201a8\"], [0.3333333333333333, \"#9c179e\"], [0.4444444444444444, \"#bd3786\"], [0.5555555555555556, \"#d8576b\"], [0.6666666666666666, \"#ed7953\"], [0.7777777777777778, \"#fb9f3a\"], [0.8888888888888888, \"#fdca26\"], [1.0, \"#f0f921\"]]}, \"colorway\": [\"#636efa\", \"#EF553B\", \"#00cc96\", \"#ab63fa\", \"#FFA15A\", \"#19d3f3\", \"#FF6692\", \"#B6E880\", \"#FF97FF\", \"#FECB52\"], \"font\": {\"color\": \"#2a3f5f\"}, \"geo\": {\"bgcolor\": \"white\", \"lakecolor\": \"white\", \"landcolor\": \"#E5ECF6\", \"showlakes\": true, \"showland\": true, \"subunitcolor\": \"white\"}, \"hoverlabel\": {\"align\": \"left\"}, \"hovermode\": \"closest\", \"mapbox\": {\"style\": \"light\"}, \"paper_bgcolor\": \"white\", \"plot_bgcolor\": \"#E5ECF6\", \"polar\": {\"angularaxis\": {\"gridcolor\": \"white\", \"linecolor\": \"white\", \"ticks\": \"\"}, \"bgcolor\": \"#E5ECF6\", \"radialaxis\": {\"gridcolor\": \"white\", \"linecolor\": \"white\", \"ticks\": \"\"}}, \"scene\": {\"xaxis\": {\"backgroundcolor\": \"#E5ECF6\", \"gridcolor\": \"white\", \"gridwidth\": 2, \"linecolor\": \"white\", \"showbackground\": true, \"ticks\": \"\", \"zerolinecolor\": \"white\"}, \"yaxis\": {\"backgroundcolor\": \"#E5ECF6\", \"gridcolor\": \"white\", \"gridwidth\": 2, \"linecolor\": \"white\", \"showbackground\": true, \"ticks\": \"\", \"zerolinecolor\": \"white\"}, \"zaxis\": {\"backgroundcolor\": \"#E5ECF6\", \"gridcolor\": \"white\", \"gridwidth\": 2, \"linecolor\": \"white\", \"showbackground\": true, \"ticks\": \"\", \"zerolinecolor\": \"white\"}}, \"shapedefaults\": {\"line\": {\"color\": \"#2a3f5f\"}}, \"ternary\": {\"aaxis\": {\"gridcolor\": \"white\", \"linecolor\": \"white\", \"ticks\": \"\"}, \"baxis\": {\"gridcolor\": \"white\", \"linecolor\": \"white\", \"ticks\": \"\"}, \"bgcolor\": \"#E5ECF6\", \"caxis\": {\"gridcolor\": \"white\", \"linecolor\": \"white\", \"ticks\": \"\"}}, \"title\": {\"x\": 0.05}, \"xaxis\": {\"automargin\": true, \"gridcolor\": \"white\", \"linecolor\": \"white\", \"ticks\": \"\", \"title\": {\"standoff\": 15}, \"zerolinecolor\": \"white\", \"zerolinewidth\": 2}, \"yaxis\": {\"automargin\": true, \"gridcolor\": \"white\", \"linecolor\": \"white\", \"ticks\": \"\", \"title\": {\"standoff\": 15}, \"zerolinecolor\": \"white\", \"zerolinewidth\": 2}}}, \"xaxis\": {\"anchor\": \"y\", \"domain\": [0.0, 1.0], \"title\": {\"text\": \"Country\"}}, \"yaxis\": {\"anchor\": \"x\", \"domain\": [0.0, 1.0], \"title\": {\"text\": \"GDP\"}}},\n",
       "                        {\"responsive\": true}\n",
       "                    ).then(function(){\n",
       "                            \n",
       "var gd = document.getElementById('826a78f2-dd07-477d-8a07-6e740e232d8e');\n",
       "var x = new MutationObserver(function (mutations, observer) {{\n",
       "        var display = window.getComputedStyle(gd).display;\n",
       "        if (!display || display === 'none') {{\n",
       "            console.log([gd, 'removed!']);\n",
       "            Plotly.purge(gd);\n",
       "            observer.disconnect();\n",
       "        }}\n",
       "}});\n",
       "\n",
       "// Listen for the removal of the full notebook cells\n",
       "var notebookContainer = gd.closest('#notebook-container');\n",
       "if (notebookContainer) {{\n",
       "    x.observe(notebookContainer, {childList: true});\n",
       "}}\n",
       "\n",
       "// Listen for the clearing of the current output cell\n",
       "var outputEl = gd.closest('.output');\n",
       "if (outputEl) {{\n",
       "    x.observe(outputEl, {childList: true});\n",
       "}}\n",
       "\n",
       "                        })\n",
       "                };\n",
       "                });\n",
       "            </script>\n",
       "        </div>"
      ]
     },
     "metadata": {},
     "output_type": "display_data"
    }
   ],
   "source": [
    "#editting data\n",
    "agr=list(dataSector.Agriculture)\n",
    "ind=list(dataSector.Industry)\n",
    "serv=list(dataSector.Service)\n",
    "gdp=list(dataSector['GDP ($ per capita)'])\n",
    "leading_sector=[]\n",
    "for i in range(211):\n",
    "    x=max(agr[i],ind[i],serv[i])\n",
    "    if x== agr[i]:\n",
    "        leading_sector.append('Agriculture')\n",
    "    elif x==ind[i]:\n",
    "        leading_sector.append('Industry')\n",
    "    elif x==serv[i]:\n",
    "        leading_sector.append('Service')\n",
    "dataSector2=pd.DataFrame({\"Country\":dataSector.Country,\n",
    "                         \"Agriculture\":agr,\n",
    "                         \"Industry\":ind,\n",
    "                         \"Service\":serv,\n",
    "                         \"LeadingSector\":leading_sector,\n",
    "                         \"GDP\":gdp})\n",
    "fig = px.scatter(dataSector2, x=\"Country\", y=\"GDP\",color=\"LeadingSector\")\n",
    "fig.show()\n"
   ]
  },
  {
   "cell_type": "markdown",
   "metadata": {
    "papermill": {
     "duration": 0.168808,
     "end_time": "2020-12-10T16:16:50.513482",
     "exception": false,
     "start_time": "2020-12-10T16:16:50.344674",
     "status": "completed"
    },
    "tags": []
   },
   "source": [
    "# Top 10 Most Arable(%) Countries"
   ]
  },
  {
   "cell_type": "code",
   "execution_count": 20,
   "metadata": {
    "execution": {
     "iopub.execute_input": "2020-12-10T16:16:50.914516Z",
     "iopub.status.busy": "2020-12-10T16:16:50.909313Z",
     "iopub.status.idle": "2020-12-10T16:16:50.939973Z",
     "shell.execute_reply": "2020-12-10T16:16:50.939184Z"
    },
    "papermill": {
     "duration": 0.255785,
     "end_time": "2020-12-10T16:16:50.940101",
     "exception": false,
     "start_time": "2020-12-10T16:16:50.684316",
     "status": "completed"
    },
    "tags": []
   },
   "outputs": [
    {
     "data": {
      "application/vnd.plotly.v1+json": {
       "config": {
        "plotlyServerURL": "https://plot.ly"
       },
       "data": [
        {
         "alignmentgroup": "True",
         "hovertemplate": "Country=%{x}<br>Arable (%)=%{y}<extra></extra>",
         "legendgroup": "",
         "marker": {
          "color": "#636efa"
         },
         "name": "",
         "offsetgroup": "",
         "orientation": "v",
         "showlegend": false,
         "textposition": "auto",
         "type": "bar",
         "x": [
          "Bangladesh ",
          "Ukraine ",
          "Moldova ",
          "India ",
          "Denmark ",
          "Hungary ",
          "Mauritius ",
          "Togo ",
          "Poland ",
          "Lithuania "
         ],
         "xaxis": "x",
         "y": [
          62.11,
          56.21,
          55.3,
          54.4,
          54.02,
          50.09,
          49.26,
          46.15,
          45.91,
          45.22
         ],
         "yaxis": "y"
        }
       ],
       "layout": {
        "barmode": "relative",
        "legend": {
         "tracegroupgap": 0
        },
        "margin": {
         "t": 60
        },
        "template": {
         "data": {
          "bar": [
           {
            "error_x": {
             "color": "#2a3f5f"
            },
            "error_y": {
             "color": "#2a3f5f"
            },
            "marker": {
             "line": {
              "color": "#E5ECF6",
              "width": 0.5
             }
            },
            "type": "bar"
           }
          ],
          "barpolar": [
           {
            "marker": {
             "line": {
              "color": "#E5ECF6",
              "width": 0.5
             }
            },
            "type": "barpolar"
           }
          ],
          "carpet": [
           {
            "aaxis": {
             "endlinecolor": "#2a3f5f",
             "gridcolor": "white",
             "linecolor": "white",
             "minorgridcolor": "white",
             "startlinecolor": "#2a3f5f"
            },
            "baxis": {
             "endlinecolor": "#2a3f5f",
             "gridcolor": "white",
             "linecolor": "white",
             "minorgridcolor": "white",
             "startlinecolor": "#2a3f5f"
            },
            "type": "carpet"
           }
          ],
          "choropleth": [
           {
            "colorbar": {
             "outlinewidth": 0,
             "ticks": ""
            },
            "type": "choropleth"
           }
          ],
          "contour": [
           {
            "colorbar": {
             "outlinewidth": 0,
             "ticks": ""
            },
            "colorscale": [
             [
              0.0,
              "#0d0887"
             ],
             [
              0.1111111111111111,
              "#46039f"
             ],
             [
              0.2222222222222222,
              "#7201a8"
             ],
             [
              0.3333333333333333,
              "#9c179e"
             ],
             [
              0.4444444444444444,
              "#bd3786"
             ],
             [
              0.5555555555555556,
              "#d8576b"
             ],
             [
              0.6666666666666666,
              "#ed7953"
             ],
             [
              0.7777777777777778,
              "#fb9f3a"
             ],
             [
              0.8888888888888888,
              "#fdca26"
             ],
             [
              1.0,
              "#f0f921"
             ]
            ],
            "type": "contour"
           }
          ],
          "contourcarpet": [
           {
            "colorbar": {
             "outlinewidth": 0,
             "ticks": ""
            },
            "type": "contourcarpet"
           }
          ],
          "heatmap": [
           {
            "colorbar": {
             "outlinewidth": 0,
             "ticks": ""
            },
            "colorscale": [
             [
              0.0,
              "#0d0887"
             ],
             [
              0.1111111111111111,
              "#46039f"
             ],
             [
              0.2222222222222222,
              "#7201a8"
             ],
             [
              0.3333333333333333,
              "#9c179e"
             ],
             [
              0.4444444444444444,
              "#bd3786"
             ],
             [
              0.5555555555555556,
              "#d8576b"
             ],
             [
              0.6666666666666666,
              "#ed7953"
             ],
             [
              0.7777777777777778,
              "#fb9f3a"
             ],
             [
              0.8888888888888888,
              "#fdca26"
             ],
             [
              1.0,
              "#f0f921"
             ]
            ],
            "type": "heatmap"
           }
          ],
          "heatmapgl": [
           {
            "colorbar": {
             "outlinewidth": 0,
             "ticks": ""
            },
            "colorscale": [
             [
              0.0,
              "#0d0887"
             ],
             [
              0.1111111111111111,
              "#46039f"
             ],
             [
              0.2222222222222222,
              "#7201a8"
             ],
             [
              0.3333333333333333,
              "#9c179e"
             ],
             [
              0.4444444444444444,
              "#bd3786"
             ],
             [
              0.5555555555555556,
              "#d8576b"
             ],
             [
              0.6666666666666666,
              "#ed7953"
             ],
             [
              0.7777777777777778,
              "#fb9f3a"
             ],
             [
              0.8888888888888888,
              "#fdca26"
             ],
             [
              1.0,
              "#f0f921"
             ]
            ],
            "type": "heatmapgl"
           }
          ],
          "histogram": [
           {
            "marker": {
             "colorbar": {
              "outlinewidth": 0,
              "ticks": ""
             }
            },
            "type": "histogram"
           }
          ],
          "histogram2d": [
           {
            "colorbar": {
             "outlinewidth": 0,
             "ticks": ""
            },
            "colorscale": [
             [
              0.0,
              "#0d0887"
             ],
             [
              0.1111111111111111,
              "#46039f"
             ],
             [
              0.2222222222222222,
              "#7201a8"
             ],
             [
              0.3333333333333333,
              "#9c179e"
             ],
             [
              0.4444444444444444,
              "#bd3786"
             ],
             [
              0.5555555555555556,
              "#d8576b"
             ],
             [
              0.6666666666666666,
              "#ed7953"
             ],
             [
              0.7777777777777778,
              "#fb9f3a"
             ],
             [
              0.8888888888888888,
              "#fdca26"
             ],
             [
              1.0,
              "#f0f921"
             ]
            ],
            "type": "histogram2d"
           }
          ],
          "histogram2dcontour": [
           {
            "colorbar": {
             "outlinewidth": 0,
             "ticks": ""
            },
            "colorscale": [
             [
              0.0,
              "#0d0887"
             ],
             [
              0.1111111111111111,
              "#46039f"
             ],
             [
              0.2222222222222222,
              "#7201a8"
             ],
             [
              0.3333333333333333,
              "#9c179e"
             ],
             [
              0.4444444444444444,
              "#bd3786"
             ],
             [
              0.5555555555555556,
              "#d8576b"
             ],
             [
              0.6666666666666666,
              "#ed7953"
             ],
             [
              0.7777777777777778,
              "#fb9f3a"
             ],
             [
              0.8888888888888888,
              "#fdca26"
             ],
             [
              1.0,
              "#f0f921"
             ]
            ],
            "type": "histogram2dcontour"
           }
          ],
          "mesh3d": [
           {
            "colorbar": {
             "outlinewidth": 0,
             "ticks": ""
            },
            "type": "mesh3d"
           }
          ],
          "parcoords": [
           {
            "line": {
             "colorbar": {
              "outlinewidth": 0,
              "ticks": ""
             }
            },
            "type": "parcoords"
           }
          ],
          "pie": [
           {
            "automargin": true,
            "type": "pie"
           }
          ],
          "scatter": [
           {
            "marker": {
             "colorbar": {
              "outlinewidth": 0,
              "ticks": ""
             }
            },
            "type": "scatter"
           }
          ],
          "scatter3d": [
           {
            "line": {
             "colorbar": {
              "outlinewidth": 0,
              "ticks": ""
             }
            },
            "marker": {
             "colorbar": {
              "outlinewidth": 0,
              "ticks": ""
             }
            },
            "type": "scatter3d"
           }
          ],
          "scattercarpet": [
           {
            "marker": {
             "colorbar": {
              "outlinewidth": 0,
              "ticks": ""
             }
            },
            "type": "scattercarpet"
           }
          ],
          "scattergeo": [
           {
            "marker": {
             "colorbar": {
              "outlinewidth": 0,
              "ticks": ""
             }
            },
            "type": "scattergeo"
           }
          ],
          "scattergl": [
           {
            "marker": {
             "colorbar": {
              "outlinewidth": 0,
              "ticks": ""
             }
            },
            "type": "scattergl"
           }
          ],
          "scattermapbox": [
           {
            "marker": {
             "colorbar": {
              "outlinewidth": 0,
              "ticks": ""
             }
            },
            "type": "scattermapbox"
           }
          ],
          "scatterpolar": [
           {
            "marker": {
             "colorbar": {
              "outlinewidth": 0,
              "ticks": ""
             }
            },
            "type": "scatterpolar"
           }
          ],
          "scatterpolargl": [
           {
            "marker": {
             "colorbar": {
              "outlinewidth": 0,
              "ticks": ""
             }
            },
            "type": "scatterpolargl"
           }
          ],
          "scatterternary": [
           {
            "marker": {
             "colorbar": {
              "outlinewidth": 0,
              "ticks": ""
             }
            },
            "type": "scatterternary"
           }
          ],
          "surface": [
           {
            "colorbar": {
             "outlinewidth": 0,
             "ticks": ""
            },
            "colorscale": [
             [
              0.0,
              "#0d0887"
             ],
             [
              0.1111111111111111,
              "#46039f"
             ],
             [
              0.2222222222222222,
              "#7201a8"
             ],
             [
              0.3333333333333333,
              "#9c179e"
             ],
             [
              0.4444444444444444,
              "#bd3786"
             ],
             [
              0.5555555555555556,
              "#d8576b"
             ],
             [
              0.6666666666666666,
              "#ed7953"
             ],
             [
              0.7777777777777778,
              "#fb9f3a"
             ],
             [
              0.8888888888888888,
              "#fdca26"
             ],
             [
              1.0,
              "#f0f921"
             ]
            ],
            "type": "surface"
           }
          ],
          "table": [
           {
            "cells": {
             "fill": {
              "color": "#EBF0F8"
             },
             "line": {
              "color": "white"
             }
            },
            "header": {
             "fill": {
              "color": "#C8D4E3"
             },
             "line": {
              "color": "white"
             }
            },
            "type": "table"
           }
          ]
         },
         "layout": {
          "annotationdefaults": {
           "arrowcolor": "#2a3f5f",
           "arrowhead": 0,
           "arrowwidth": 1
          },
          "coloraxis": {
           "colorbar": {
            "outlinewidth": 0,
            "ticks": ""
           }
          },
          "colorscale": {
           "diverging": [
            [
             0,
             "#8e0152"
            ],
            [
             0.1,
             "#c51b7d"
            ],
            [
             0.2,
             "#de77ae"
            ],
            [
             0.3,
             "#f1b6da"
            ],
            [
             0.4,
             "#fde0ef"
            ],
            [
             0.5,
             "#f7f7f7"
            ],
            [
             0.6,
             "#e6f5d0"
            ],
            [
             0.7,
             "#b8e186"
            ],
            [
             0.8,
             "#7fbc41"
            ],
            [
             0.9,
             "#4d9221"
            ],
            [
             1,
             "#276419"
            ]
           ],
           "sequential": [
            [
             0.0,
             "#0d0887"
            ],
            [
             0.1111111111111111,
             "#46039f"
            ],
            [
             0.2222222222222222,
             "#7201a8"
            ],
            [
             0.3333333333333333,
             "#9c179e"
            ],
            [
             0.4444444444444444,
             "#bd3786"
            ],
            [
             0.5555555555555556,
             "#d8576b"
            ],
            [
             0.6666666666666666,
             "#ed7953"
            ],
            [
             0.7777777777777778,
             "#fb9f3a"
            ],
            [
             0.8888888888888888,
             "#fdca26"
            ],
            [
             1.0,
             "#f0f921"
            ]
           ],
           "sequentialminus": [
            [
             0.0,
             "#0d0887"
            ],
            [
             0.1111111111111111,
             "#46039f"
            ],
            [
             0.2222222222222222,
             "#7201a8"
            ],
            [
             0.3333333333333333,
             "#9c179e"
            ],
            [
             0.4444444444444444,
             "#bd3786"
            ],
            [
             0.5555555555555556,
             "#d8576b"
            ],
            [
             0.6666666666666666,
             "#ed7953"
            ],
            [
             0.7777777777777778,
             "#fb9f3a"
            ],
            [
             0.8888888888888888,
             "#fdca26"
            ],
            [
             1.0,
             "#f0f921"
            ]
           ]
          },
          "colorway": [
           "#636efa",
           "#EF553B",
           "#00cc96",
           "#ab63fa",
           "#FFA15A",
           "#19d3f3",
           "#FF6692",
           "#B6E880",
           "#FF97FF",
           "#FECB52"
          ],
          "font": {
           "color": "#2a3f5f"
          },
          "geo": {
           "bgcolor": "white",
           "lakecolor": "white",
           "landcolor": "#E5ECF6",
           "showlakes": true,
           "showland": true,
           "subunitcolor": "white"
          },
          "hoverlabel": {
           "align": "left"
          },
          "hovermode": "closest",
          "mapbox": {
           "style": "light"
          },
          "paper_bgcolor": "white",
          "plot_bgcolor": "#E5ECF6",
          "polar": {
           "angularaxis": {
            "gridcolor": "white",
            "linecolor": "white",
            "ticks": ""
           },
           "bgcolor": "#E5ECF6",
           "radialaxis": {
            "gridcolor": "white",
            "linecolor": "white",
            "ticks": ""
           }
          },
          "scene": {
           "xaxis": {
            "backgroundcolor": "#E5ECF6",
            "gridcolor": "white",
            "gridwidth": 2,
            "linecolor": "white",
            "showbackground": true,
            "ticks": "",
            "zerolinecolor": "white"
           },
           "yaxis": {
            "backgroundcolor": "#E5ECF6",
            "gridcolor": "white",
            "gridwidth": 2,
            "linecolor": "white",
            "showbackground": true,
            "ticks": "",
            "zerolinecolor": "white"
           },
           "zaxis": {
            "backgroundcolor": "#E5ECF6",
            "gridcolor": "white",
            "gridwidth": 2,
            "linecolor": "white",
            "showbackground": true,
            "ticks": "",
            "zerolinecolor": "white"
           }
          },
          "shapedefaults": {
           "line": {
            "color": "#2a3f5f"
           }
          },
          "ternary": {
           "aaxis": {
            "gridcolor": "white",
            "linecolor": "white",
            "ticks": ""
           },
           "baxis": {
            "gridcolor": "white",
            "linecolor": "white",
            "ticks": ""
           },
           "bgcolor": "#E5ECF6",
           "caxis": {
            "gridcolor": "white",
            "linecolor": "white",
            "ticks": ""
           }
          },
          "title": {
           "x": 0.05
          },
          "xaxis": {
           "automargin": true,
           "gridcolor": "white",
           "linecolor": "white",
           "ticks": "",
           "title": {
            "standoff": 15
           },
           "zerolinecolor": "white",
           "zerolinewidth": 2
          },
          "yaxis": {
           "automargin": true,
           "gridcolor": "white",
           "linecolor": "white",
           "ticks": "",
           "title": {
            "standoff": 15
           },
           "zerolinecolor": "white",
           "zerolinewidth": 2
          }
         }
        },
        "xaxis": {
         "anchor": "y",
         "domain": [
          0.0,
          1.0
         ],
         "title": {
          "text": "Country"
         }
        },
        "yaxis": {
         "anchor": "x",
         "domain": [
          0.0,
          1.0
         ],
         "title": {
          "text": "Arable (%)"
         }
        }
       }
      },
      "text/html": [
       "<div>\n",
       "        \n",
       "        \n",
       "            <div id=\"d11914a2-0181-4b7d-9a51-fffed9ec77d0\" class=\"plotly-graph-div\" style=\"height:525px; width:100%;\"></div>\n",
       "            <script type=\"text/javascript\">\n",
       "                require([\"plotly\"], function(Plotly) {\n",
       "                    window.PLOTLYENV=window.PLOTLYENV || {};\n",
       "                    \n",
       "                if (document.getElementById(\"d11914a2-0181-4b7d-9a51-fffed9ec77d0\")) {\n",
       "                    Plotly.newPlot(\n",
       "                        'd11914a2-0181-4b7d-9a51-fffed9ec77d0',\n",
       "                        [{\"alignmentgroup\": \"True\", \"hovertemplate\": \"Country=%{x}<br>Arable (%)=%{y}<extra></extra>\", \"legendgroup\": \"\", \"marker\": {\"color\": \"#636efa\"}, \"name\": \"\", \"offsetgroup\": \"\", \"orientation\": \"v\", \"showlegend\": false, \"textposition\": \"auto\", \"type\": \"bar\", \"x\": [\"Bangladesh \", \"Ukraine \", \"Moldova \", \"India \", \"Denmark \", \"Hungary \", \"Mauritius \", \"Togo \", \"Poland \", \"Lithuania \"], \"xaxis\": \"x\", \"y\": [62.11, 56.21, 55.3, 54.4, 54.02, 50.09, 49.26, 46.15, 45.91, 45.22], \"yaxis\": \"y\"}],\n",
       "                        {\"barmode\": \"relative\", \"legend\": {\"tracegroupgap\": 0}, \"margin\": {\"t\": 60}, \"template\": {\"data\": {\"bar\": [{\"error_x\": {\"color\": \"#2a3f5f\"}, \"error_y\": {\"color\": \"#2a3f5f\"}, \"marker\": {\"line\": {\"color\": \"#E5ECF6\", \"width\": 0.5}}, \"type\": \"bar\"}], \"barpolar\": [{\"marker\": {\"line\": {\"color\": \"#E5ECF6\", \"width\": 0.5}}, \"type\": \"barpolar\"}], \"carpet\": [{\"aaxis\": {\"endlinecolor\": \"#2a3f5f\", \"gridcolor\": \"white\", \"linecolor\": \"white\", \"minorgridcolor\": \"white\", \"startlinecolor\": \"#2a3f5f\"}, \"baxis\": {\"endlinecolor\": \"#2a3f5f\", \"gridcolor\": \"white\", \"linecolor\": \"white\", \"minorgridcolor\": \"white\", \"startlinecolor\": \"#2a3f5f\"}, \"type\": \"carpet\"}], \"choropleth\": [{\"colorbar\": {\"outlinewidth\": 0, \"ticks\": \"\"}, \"type\": \"choropleth\"}], \"contour\": [{\"colorbar\": {\"outlinewidth\": 0, \"ticks\": \"\"}, \"colorscale\": [[0.0, \"#0d0887\"], [0.1111111111111111, \"#46039f\"], [0.2222222222222222, \"#7201a8\"], [0.3333333333333333, \"#9c179e\"], [0.4444444444444444, \"#bd3786\"], [0.5555555555555556, \"#d8576b\"], [0.6666666666666666, \"#ed7953\"], [0.7777777777777778, \"#fb9f3a\"], [0.8888888888888888, \"#fdca26\"], [1.0, \"#f0f921\"]], \"type\": \"contour\"}], \"contourcarpet\": [{\"colorbar\": {\"outlinewidth\": 0, \"ticks\": \"\"}, \"type\": \"contourcarpet\"}], \"heatmap\": [{\"colorbar\": {\"outlinewidth\": 0, \"ticks\": \"\"}, \"colorscale\": [[0.0, \"#0d0887\"], [0.1111111111111111, \"#46039f\"], [0.2222222222222222, \"#7201a8\"], [0.3333333333333333, \"#9c179e\"], [0.4444444444444444, \"#bd3786\"], [0.5555555555555556, \"#d8576b\"], [0.6666666666666666, \"#ed7953\"], [0.7777777777777778, \"#fb9f3a\"], [0.8888888888888888, \"#fdca26\"], [1.0, \"#f0f921\"]], \"type\": \"heatmap\"}], \"heatmapgl\": [{\"colorbar\": {\"outlinewidth\": 0, \"ticks\": \"\"}, \"colorscale\": [[0.0, \"#0d0887\"], [0.1111111111111111, \"#46039f\"], [0.2222222222222222, \"#7201a8\"], [0.3333333333333333, \"#9c179e\"], [0.4444444444444444, \"#bd3786\"], [0.5555555555555556, \"#d8576b\"], [0.6666666666666666, \"#ed7953\"], [0.7777777777777778, \"#fb9f3a\"], [0.8888888888888888, \"#fdca26\"], [1.0, \"#f0f921\"]], \"type\": \"heatmapgl\"}], \"histogram\": [{\"marker\": {\"colorbar\": {\"outlinewidth\": 0, \"ticks\": \"\"}}, \"type\": \"histogram\"}], \"histogram2d\": [{\"colorbar\": {\"outlinewidth\": 0, \"ticks\": \"\"}, \"colorscale\": [[0.0, \"#0d0887\"], [0.1111111111111111, \"#46039f\"], [0.2222222222222222, \"#7201a8\"], [0.3333333333333333, \"#9c179e\"], [0.4444444444444444, \"#bd3786\"], [0.5555555555555556, \"#d8576b\"], [0.6666666666666666, \"#ed7953\"], [0.7777777777777778, \"#fb9f3a\"], [0.8888888888888888, \"#fdca26\"], [1.0, \"#f0f921\"]], \"type\": \"histogram2d\"}], \"histogram2dcontour\": [{\"colorbar\": {\"outlinewidth\": 0, \"ticks\": \"\"}, \"colorscale\": [[0.0, \"#0d0887\"], [0.1111111111111111, \"#46039f\"], [0.2222222222222222, \"#7201a8\"], [0.3333333333333333, \"#9c179e\"], [0.4444444444444444, \"#bd3786\"], [0.5555555555555556, \"#d8576b\"], [0.6666666666666666, \"#ed7953\"], [0.7777777777777778, \"#fb9f3a\"], [0.8888888888888888, \"#fdca26\"], [1.0, \"#f0f921\"]], \"type\": \"histogram2dcontour\"}], \"mesh3d\": [{\"colorbar\": {\"outlinewidth\": 0, \"ticks\": \"\"}, \"type\": \"mesh3d\"}], \"parcoords\": [{\"line\": {\"colorbar\": {\"outlinewidth\": 0, \"ticks\": \"\"}}, \"type\": \"parcoords\"}], \"pie\": [{\"automargin\": true, \"type\": \"pie\"}], \"scatter\": [{\"marker\": {\"colorbar\": {\"outlinewidth\": 0, \"ticks\": \"\"}}, \"type\": \"scatter\"}], \"scatter3d\": [{\"line\": {\"colorbar\": {\"outlinewidth\": 0, \"ticks\": \"\"}}, \"marker\": {\"colorbar\": {\"outlinewidth\": 0, \"ticks\": \"\"}}, \"type\": \"scatter3d\"}], \"scattercarpet\": [{\"marker\": {\"colorbar\": {\"outlinewidth\": 0, \"ticks\": \"\"}}, \"type\": \"scattercarpet\"}], \"scattergeo\": [{\"marker\": {\"colorbar\": {\"outlinewidth\": 0, \"ticks\": \"\"}}, \"type\": \"scattergeo\"}], \"scattergl\": [{\"marker\": {\"colorbar\": {\"outlinewidth\": 0, \"ticks\": \"\"}}, \"type\": \"scattergl\"}], \"scattermapbox\": [{\"marker\": {\"colorbar\": {\"outlinewidth\": 0, \"ticks\": \"\"}}, \"type\": \"scattermapbox\"}], \"scatterpolar\": [{\"marker\": {\"colorbar\": {\"outlinewidth\": 0, \"ticks\": \"\"}}, \"type\": \"scatterpolar\"}], \"scatterpolargl\": [{\"marker\": {\"colorbar\": {\"outlinewidth\": 0, \"ticks\": \"\"}}, \"type\": \"scatterpolargl\"}], \"scatterternary\": [{\"marker\": {\"colorbar\": {\"outlinewidth\": 0, \"ticks\": \"\"}}, \"type\": \"scatterternary\"}], \"surface\": [{\"colorbar\": {\"outlinewidth\": 0, \"ticks\": \"\"}, \"colorscale\": [[0.0, \"#0d0887\"], [0.1111111111111111, \"#46039f\"], [0.2222222222222222, \"#7201a8\"], [0.3333333333333333, \"#9c179e\"], [0.4444444444444444, \"#bd3786\"], [0.5555555555555556, \"#d8576b\"], [0.6666666666666666, \"#ed7953\"], [0.7777777777777778, \"#fb9f3a\"], [0.8888888888888888, \"#fdca26\"], [1.0, \"#f0f921\"]], \"type\": \"surface\"}], \"table\": [{\"cells\": {\"fill\": {\"color\": \"#EBF0F8\"}, \"line\": {\"color\": \"white\"}}, \"header\": {\"fill\": {\"color\": \"#C8D4E3\"}, \"line\": {\"color\": \"white\"}}, \"type\": \"table\"}]}, \"layout\": {\"annotationdefaults\": {\"arrowcolor\": \"#2a3f5f\", \"arrowhead\": 0, \"arrowwidth\": 1}, \"coloraxis\": {\"colorbar\": {\"outlinewidth\": 0, \"ticks\": \"\"}}, \"colorscale\": {\"diverging\": [[0, \"#8e0152\"], [0.1, \"#c51b7d\"], [0.2, \"#de77ae\"], [0.3, \"#f1b6da\"], [0.4, \"#fde0ef\"], [0.5, \"#f7f7f7\"], [0.6, \"#e6f5d0\"], [0.7, \"#b8e186\"], [0.8, \"#7fbc41\"], [0.9, \"#4d9221\"], [1, \"#276419\"]], \"sequential\": [[0.0, \"#0d0887\"], [0.1111111111111111, \"#46039f\"], [0.2222222222222222, \"#7201a8\"], [0.3333333333333333, \"#9c179e\"], [0.4444444444444444, \"#bd3786\"], [0.5555555555555556, \"#d8576b\"], [0.6666666666666666, \"#ed7953\"], [0.7777777777777778, \"#fb9f3a\"], [0.8888888888888888, \"#fdca26\"], [1.0, \"#f0f921\"]], \"sequentialminus\": [[0.0, \"#0d0887\"], [0.1111111111111111, \"#46039f\"], [0.2222222222222222, \"#7201a8\"], [0.3333333333333333, \"#9c179e\"], [0.4444444444444444, \"#bd3786\"], [0.5555555555555556, \"#d8576b\"], [0.6666666666666666, \"#ed7953\"], [0.7777777777777778, \"#fb9f3a\"], [0.8888888888888888, \"#fdca26\"], [1.0, \"#f0f921\"]]}, \"colorway\": [\"#636efa\", \"#EF553B\", \"#00cc96\", \"#ab63fa\", \"#FFA15A\", \"#19d3f3\", \"#FF6692\", \"#B6E880\", \"#FF97FF\", \"#FECB52\"], \"font\": {\"color\": \"#2a3f5f\"}, \"geo\": {\"bgcolor\": \"white\", \"lakecolor\": \"white\", \"landcolor\": \"#E5ECF6\", \"showlakes\": true, \"showland\": true, \"subunitcolor\": \"white\"}, \"hoverlabel\": {\"align\": \"left\"}, \"hovermode\": \"closest\", \"mapbox\": {\"style\": \"light\"}, \"paper_bgcolor\": \"white\", \"plot_bgcolor\": \"#E5ECF6\", \"polar\": {\"angularaxis\": {\"gridcolor\": \"white\", \"linecolor\": \"white\", \"ticks\": \"\"}, \"bgcolor\": \"#E5ECF6\", \"radialaxis\": {\"gridcolor\": \"white\", \"linecolor\": \"white\", \"ticks\": \"\"}}, \"scene\": {\"xaxis\": {\"backgroundcolor\": \"#E5ECF6\", \"gridcolor\": \"white\", \"gridwidth\": 2, \"linecolor\": \"white\", \"showbackground\": true, \"ticks\": \"\", \"zerolinecolor\": \"white\"}, \"yaxis\": {\"backgroundcolor\": \"#E5ECF6\", \"gridcolor\": \"white\", \"gridwidth\": 2, \"linecolor\": \"white\", \"showbackground\": true, \"ticks\": \"\", \"zerolinecolor\": \"white\"}, \"zaxis\": {\"backgroundcolor\": \"#E5ECF6\", \"gridcolor\": \"white\", \"gridwidth\": 2, \"linecolor\": \"white\", \"showbackground\": true, \"ticks\": \"\", \"zerolinecolor\": \"white\"}}, \"shapedefaults\": {\"line\": {\"color\": \"#2a3f5f\"}}, \"ternary\": {\"aaxis\": {\"gridcolor\": \"white\", \"linecolor\": \"white\", \"ticks\": \"\"}, \"baxis\": {\"gridcolor\": \"white\", \"linecolor\": \"white\", \"ticks\": \"\"}, \"bgcolor\": \"#E5ECF6\", \"caxis\": {\"gridcolor\": \"white\", \"linecolor\": \"white\", \"ticks\": \"\"}}, \"title\": {\"x\": 0.05}, \"xaxis\": {\"automargin\": true, \"gridcolor\": \"white\", \"linecolor\": \"white\", \"ticks\": \"\", \"title\": {\"standoff\": 15}, \"zerolinecolor\": \"white\", \"zerolinewidth\": 2}, \"yaxis\": {\"automargin\": true, \"gridcolor\": \"white\", \"linecolor\": \"white\", \"ticks\": \"\", \"title\": {\"standoff\": 15}, \"zerolinecolor\": \"white\", \"zerolinewidth\": 2}}}, \"xaxis\": {\"anchor\": \"y\", \"domain\": [0.0, 1.0], \"title\": {\"text\": \"Country\"}}, \"yaxis\": {\"anchor\": \"x\", \"domain\": [0.0, 1.0], \"title\": {\"text\": \"Arable (%)\"}}},\n",
       "                        {\"responsive\": true}\n",
       "                    ).then(function(){\n",
       "                            \n",
       "var gd = document.getElementById('d11914a2-0181-4b7d-9a51-fffed9ec77d0');\n",
       "var x = new MutationObserver(function (mutations, observer) {{\n",
       "        var display = window.getComputedStyle(gd).display;\n",
       "        if (!display || display === 'none') {{\n",
       "            console.log([gd, 'removed!']);\n",
       "            Plotly.purge(gd);\n",
       "            observer.disconnect();\n",
       "        }}\n",
       "}});\n",
       "\n",
       "// Listen for the removal of the full notebook cells\n",
       "var notebookContainer = gd.closest('#notebook-container');\n",
       "if (notebookContainer) {{\n",
       "    x.observe(notebookContainer, {childList: true});\n",
       "}}\n",
       "\n",
       "// Listen for the clearing of the current output cell\n",
       "var outputEl = gd.closest('.output');\n",
       "if (outputEl) {{\n",
       "    x.observe(outputEl, {childList: true});\n",
       "}}\n",
       "\n",
       "                        })\n",
       "                };\n",
       "                });\n",
       "            </script>\n",
       "        </div>"
      ]
     },
     "metadata": {},
     "output_type": "display_data"
    }
   ],
   "source": [
    "df_arable=dataCountries.loc[:,['Country','Arable (%)']]\n",
    "df_arable.dropna(inplace=True)\n",
    "df_arable['Arable (%)']=([float(each.replace(',','.')) for each in df_arable['Arable (%)']])\n",
    "df_arable=df_arable.sort_values(by='Arable (%)',ascending=False)\n",
    "\n",
    "arable_bar=px.bar(df_arable[:10],x='Country',y='Arable (%)')\n",
    "arable_bar.show()\n"
   ]
  }
 ],
 "metadata": {
  "kernelspec": {
   "display_name": "Python 3",
   "language": "python",
   "name": "python3"
  },
  "language_info": {
   "codemirror_mode": {
    "name": "ipython",
    "version": 3
   },
   "file_extension": ".py",
   "mimetype": "text/x-python",
   "name": "python",
   "nbconvert_exporter": "python",
   "pygments_lexer": "ipython3",
   "version": "3.7.6"
  },
  "papermill": {
   "duration": 16.132472,
   "end_time": "2020-12-10T16:16:51.283807",
   "environment_variables": {},
   "exception": null,
   "input_path": "__notebook__.ipynb",
   "output_path": "__notebook__.ipynb",
   "parameters": {},
   "start_time": "2020-12-10T16:16:35.151335",
   "version": "2.1.0"
  }
 },
 "nbformat": 4,
 "nbformat_minor": 4
}
